{
 "cells": [
  {
   "cell_type": "code",
   "execution_count": 1,
   "id": "576baf19-6437-4914-9590-be4dcb614fbe",
   "metadata": {},
   "outputs": [
    {
     "name": "stderr",
     "output_type": "stream",
     "text": [
      "2023-11-11 17:46:49.139980: I tensorflow/tsl/cuda/cudart_stub.cc:28] Could not find cuda drivers on your machine, GPU will not be used.\n",
      "2023-11-11 17:46:49.204450: I tensorflow/tsl/cuda/cudart_stub.cc:28] Could not find cuda drivers on your machine, GPU will not be used.\n",
      "2023-11-11 17:46:49.206132: I tensorflow/core/platform/cpu_feature_guard.cc:182] This TensorFlow binary is optimized to use available CPU instructions in performance-critical operations.\n",
      "To enable the following instructions: AVX2 FMA, in other operations, rebuild TensorFlow with the appropriate compiler flags.\n",
      "2023-11-11 17:46:50.272665: W tensorflow/compiler/tf2tensorrt/utils/py_utils.cc:38] TF-TRT Warning: Could not find TensorRT\n"
     ]
    }
   ],
   "source": [
    "import pandas as pd\n",
    "import numpy as np\n",
    "\n",
    "# data preprocessing\n",
    "from sklearn import preprocessing\n",
    "from sklearn.preprocessing import StandardScaler\n",
    "\n",
    "# exploratory analysis\n",
    "import matplotlib.pyplot as plt\n",
    "import mlxtend\n",
    "from mlxtend.plotting import scatterplotmatrix\n",
    "from mlxtend.plotting import heatmap\n",
    "import seaborn as sns\n",
    "from IPython.display import Image\n",
    "\n",
    "# model fit\n",
    "import statsmodels.api as sm\n",
    "import tensorflow as tf\n",
    "\n",
    "# ignore warnings (libraries are rapidly changing)\n",
    "import warnings\n",
    "warnings.filterwarnings('ignore')"
   ]
  },
  {
   "cell_type": "markdown",
   "id": "d75eb22e-1343-486f-b591-96bed325724f",
   "metadata": {},
   "source": [
    "### Split X and Y into two dataframes \n",
    "\n",
    "Split input variables from output variable (temperature)"
   ]
  },
  {
   "cell_type": "code",
   "execution_count": null,
   "id": "87a53c7f-c10a-4d22-8a0c-09702ed936c1",
   "metadata": {},
   "outputs": [],
   "source": [
    "train = pd.read_csv('train_data.csv')\n",
    "val = pd.read_csv('val_data.csv')\n",
    "test = pd.read_csv('test_data.csv')"
   ]
  },
  {
   "cell_type": "code",
   "execution_count": null,
   "id": "46f1f8b0-6e95-41f6-888e-31111dc7cdea",
   "metadata": {},
   "outputs": [],
   "source": [
    "x_train = train.drop(['average_temperature_°c'], axis=1)\n",
    "x_val = val.drop(['average_temperature_°c'], axis=1)\n",
    "x_test = test.drop(['average_temperature_°c'], axis=1)\n",
    "\n",
    "Y_train = pd.DataFrame(train['average_temperature_°c'])\n",
    "Y_val = pd.DataFrame(val['average_temperature_°c'])\n",
    "Y_test = pd.DataFrame(test['average_temperature_°c'])"
   ]
  },
  {
   "cell_type": "code",
   "execution_count": null,
   "id": "8d8d8591-4421-4454-be97-2039da9b5586",
   "metadata": {},
   "outputs": [],
   "source": [
    "print(x_train.shape)\n",
    "print(Y_train.shape)\n",
    "\n",
    "print(x_val.shape)\n",
    "print(Y_val.shape)\n",
    "\n",
    "print(x_test.shape)\n",
    "print(Y_test.shape)"
   ]
  },
  {
   "cell_type": "code",
   "execution_count": null,
   "id": "13e7a194-6a3f-497c-9021-632f506e2ad8",
   "metadata": {},
   "outputs": [],
   "source": [
    "x_train = x_train.drop(['area'], axis=1)"
   ]
  },
  {
   "cell_type": "code",
   "execution_count": null,
   "id": "a1ab4ed4-a96d-41ce-bb53-33d3101d6e59",
   "metadata": {},
   "outputs": [],
   "source": [
    "def show_history(history):\n",
    "  plt.plot(history.history['loss'], color='black', label='train')\n",
    "  plt.plot(history.history['val_loss'], color='red', label='dev')\n",
    "  plt.xlabel('epoch')\n",
    "  plt.ylabel('loss')\n",
    "  plt.legend()\n",
    "  plt.show()\n",
    "  print('final train mae: %.3f' %history.history['loss'][-1])\n",
    "  print('final val mae:   %.3f' %history.history['val_loss'][-1])"
   ]
  },
  {
   "cell_type": "code",
   "execution_count": null,
   "id": "8a307da8-7f6f-47ce-9bfb-0d7c0170da93",
   "metadata": {},
   "outputs": [],
   "source": [
    "def build_model():\n",
    "  # Clear session and remove randomness.\n",
    "  tf.keras.backend.clear_session()\n",
    "  tf.random.set_seed(0)\n",
    "\n",
    "  urban_population = tf.keras.layers.Input(shape=(1,), dtype=tf.float64, name='Urban Population')\n",
    "  \n",
    "  mei = tf.keras.layers.Input(shape=(1,), dtype=tf.float64, name='MEI')\n",
    "\n",
    "  features = tf.keras.layers.Concatenate()([urban_population, mei])\n",
    "\n",
    "  temp = tf.keras.layers.Dense(\n",
    "      units=1, activation=None, name='Temp')(features)\n",
    "\n",
    "  model = tf.keras.Model(inputs=[urban_population, mei],\n",
    "                         outputs=temp,\n",
    "                         name='Baseline')\n",
    "  model.compile(\n",
    "      optimizer=tf.keras.optimizers.Adam(learning_rate=0.001),\n",
    "      loss=tf.keras.losses.MeanAbsoluteError()\n",
    "      )\n",
    "\n",
    "  return model"
   ]
  },
  {
   "cell_type": "code",
   "execution_count": null,
   "id": "a2768be0-e0a1-4bcf-bc4d-e17cab630aba",
   "metadata": {},
   "outputs": [],
   "source": [
    "model = build_model()\n",
    "model.summary()\n",
    "\n",
    "history = model.fit(\n",
    "  x={\n",
    "      'Urban Population': x_train[['urban_population']],\n",
    "      'MEI': x_train[['mei']]\n",
    "    },\n",
    "  y=Y_train[['average_temperature_°c']],\n",
    "  epochs=20,\n",
    "  batch_size=64,\n",
    "  validation_data=(\n",
    "      {\n",
    "      'Urban Population': x_val[['urban_population']],\n",
    "      'MEI': x_val[['mei']]\n",
    "    },\n",
    "      Y_val[['average_temperature_°c']]),\n",
    "  verbose=0)\n",
    "\n",
    "show_history(history)"
   ]
  },
  {
   "cell_type": "code",
   "execution_count": null,
   "id": "a84ab957-5393-458a-9e0d-a4ac56ae30e8",
   "metadata": {},
   "outputs": [],
   "source": []
  },
  {
   "cell_type": "code",
   "execution_count": null,
   "id": "4b698186-de24-48d2-bf5f-7ac80249fc31",
   "metadata": {},
   "outputs": [],
   "source": []
  }
 ],
 "metadata": {
  "kernelspec": {
   "display_name": "Python 3 (ipykernel)",
   "language": "python",
   "name": "python3"
  },
  "language_info": {
   "codemirror_mode": {
    "name": "ipython",
    "version": 3
   },
   "file_extension": ".py",
   "mimetype": "text/x-python",
   "name": "python",
   "nbconvert_exporter": "python",
   "pygments_lexer": "ipython3",
   "version": "3.9.16"
  }
 },
 "nbformat": 4,
 "nbformat_minor": 5
}
