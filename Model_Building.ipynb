{
 "cells": [
  {
   "cell_type": "code",
   "execution_count": 1,
   "id": "576baf19-6437-4914-9590-be4dcb614fbe",
   "metadata": {},
   "outputs": [
    {
     "name": "stderr",
     "output_type": "stream",
     "text": [
      "2023-11-15 15:07:36.491358: I tensorflow/tsl/cuda/cudart_stub.cc:28] Could not find cuda drivers on your machine, GPU will not be used.\n",
      "2023-11-15 15:07:36.557217: I tensorflow/tsl/cuda/cudart_stub.cc:28] Could not find cuda drivers on your machine, GPU will not be used.\n",
      "2023-11-15 15:07:36.559684: I tensorflow/core/platform/cpu_feature_guard.cc:182] This TensorFlow binary is optimized to use available CPU instructions in performance-critical operations.\n",
      "To enable the following instructions: AVX2 FMA, in other operations, rebuild TensorFlow with the appropriate compiler flags.\n",
      "2023-11-15 15:07:37.516610: W tensorflow/compiler/tf2tensorrt/utils/py_utils.cc:38] TF-TRT Warning: Could not find TensorRT\n"
     ]
    }
   ],
   "source": [
    "import pandas as pd\n",
    "import numpy as np\n",
    "\n",
    "# data preprocessing\n",
    "from sklearn import preprocessing\n",
    "from sklearn.preprocessing import StandardScaler\n",
    "\n",
    "# exploratory analysis\n",
    "import matplotlib.pyplot as plt\n",
    "import mlxtend\n",
    "from mlxtend.plotting import scatterplotmatrix\n",
    "from mlxtend.plotting import heatmap\n",
    "import seaborn as sns\n",
    "from IPython.display import Image\n",
    "\n",
    "# model fit\n",
    "import statsmodels.api as sm\n",
    "import tensorflow as tf\n",
    "\n",
    "# ignore warnings (libraries are rapidly changing)\n",
    "import warnings\n",
    "warnings.filterwarnings('ignore')"
   ]
  },
  {
   "cell_type": "markdown",
   "id": "d75eb22e-1343-486f-b591-96bed325724f",
   "metadata": {},
   "source": [
    "### Split X and Y into two dataframes \n",
    "\n",
    "Split input variables from output variable (temperature)"
   ]
  },
  {
   "cell_type": "code",
   "execution_count": 2,
   "id": "87a53c7f-c10a-4d22-8a0c-09702ed936c1",
   "metadata": {},
   "outputs": [],
   "source": [
    "train = pd.read_csv('train_data.csv')\n",
    "val = pd.read_csv('val_data.csv')\n",
    "test = pd.read_csv('test_data.csv')"
   ]
  },
  {
   "cell_type": "code",
   "execution_count": 3,
   "id": "46f1f8b0-6e95-41f6-888e-31111dc7cdea",
   "metadata": {},
   "outputs": [],
   "source": [
    "x_train = train.drop(['average_temperature_°c'], axis=1)\n",
    "x_val = val.drop(['average_temperature_°c'], axis=1)\n",
    "x_test = test.drop(['average_temperature_°c'], axis=1)\n",
    "\n",
    "Y_train = pd.DataFrame(train['average_temperature_°c'])\n",
    "Y_val = pd.DataFrame(val['average_temperature_°c'])\n",
    "Y_test = pd.DataFrame(test['average_temperature_°c'])"
   ]
  },
  {
   "cell_type": "code",
   "execution_count": 4,
   "id": "8d8d8591-4421-4454-be97-2039da9b5586",
   "metadata": {},
   "outputs": [
    {
     "name": "stdout",
     "output_type": "stream",
     "text": [
      "(4409, 60)\n",
      "(4409, 1)\n",
      "(537, 60)\n",
      "(537, 1)\n",
      "(537, 60)\n",
      "(537, 1)\n"
     ]
    }
   ],
   "source": [
    "print(x_train.shape)\n",
    "print(Y_train.shape)\n",
    "\n",
    "print(x_val.shape)\n",
    "print(Y_val.shape)\n",
    "\n",
    "print(x_test.shape)\n",
    "print(Y_test.shape)"
   ]
  },
  {
   "cell_type": "code",
   "execution_count": 5,
   "id": "a1ab4ed4-a96d-41ce-bb53-33d3101d6e59",
   "metadata": {},
   "outputs": [],
   "source": [
    "def show_history(history):\n",
    "  plt.plot(history.history['loss'], color='black', label='train')\n",
    "  plt.plot(history.history['val_loss'], color='red', label='val')\n",
    "  plt.xlabel('epoch')\n",
    "  plt.ylabel('loss')\n",
    "  plt.legend()\n",
    "  plt.show()\n",
    "  print('final train mae: %.3f' %history.history['loss'][-1])\n",
    "  print('final val mae:   %.3f' %history.history['val_loss'][-1])"
   ]
  },
  {
   "cell_type": "markdown",
   "id": "e48de52e-eaa8-45ad-b547-2fbebe28b7db",
   "metadata": {},
   "source": [
    "### Model 1: Baseline Model\n",
    "\n",
    "Linear Regression:\n",
    "</br> Input - Year and Urban Population\n",
    "</br>Output - Avg Temp"
   ]
  },
  {
   "cell_type": "code",
   "execution_count": 6,
   "id": "e69871b3-8208-4def-a25f-de98dd705912",
   "metadata": {},
   "outputs": [],
   "source": [
    "def build_model():\n",
    "  # Clear session and remove randomness.\n",
    "  tf.keras.backend.clear_session()\n",
    "  tf.random.set_seed(0)\n",
    "\n",
    "  year = tf.keras.layers.Input(shape=(1,), dtype=tf.float64, name='Year')\n",
    "  urban_pop = tf.keras.layers.Input(shape=(1,), dtype=tf.float64, name='Urban Population')\n",
    "    \n",
    "  features = tf.keras.layers.Concatenate()([year, urban_pop])\n",
    "\n",
    "  temp = tf.keras.layers.Dense(\n",
    "      units=1, activation=None, name='Temp')(features)\n",
    "\n",
    "  model = tf.keras.Model(inputs=[year, urban_pop],\n",
    "                         outputs=temp,\n",
    "                         name='Baseline')\n",
    "  model.compile(\n",
    "      optimizer=tf.keras.optimizers.Adam(learning_rate=0.001),\n",
    "      loss=tf.keras.losses.MeanAbsoluteError()\n",
    "      )\n",
    "\n",
    "  return model"
   ]
  },
  {
   "cell_type": "code",
   "execution_count": 7,
   "id": "2fbafc0b-1272-4fad-bb65-e896f24ad3ef",
   "metadata": {},
   "outputs": [
    {
     "name": "stdout",
     "output_type": "stream",
     "text": [
      "Model: \"Baseline\"\n",
      "__________________________________________________________________________________________________\n",
      " Layer (type)                Output Shape                 Param #   Connected to                  \n",
      "==================================================================================================\n",
      " Year (InputLayer)           [(None, 1)]                  0         []                            \n",
      "                                                                                                  \n",
      " Urban Population (InputLay  [(None, 1)]                  0         []                            \n",
      " er)                                                                                              \n",
      "                                                                                                  \n",
      " concatenate (Concatenate)   (None, 2)                    0         ['Year[0][0]',                \n",
      "                                                                     'Urban Population[0][0]']    \n",
      "                                                                                                  \n",
      " Temp (Dense)                (None, 1)                    3         ['concatenate[0][0]']         \n",
      "                                                                                                  \n",
      "==================================================================================================\n",
      "Total params: 3 (12.00 Byte)\n",
      "Trainable params: 3 (12.00 Byte)\n",
      "Non-trainable params: 0 (0.00 Byte)\n",
      "__________________________________________________________________________________________________\n"
     ]
    },
    {
     "data": {
      "image/png": "[encoded data removed]",
      "text/plain": [
       "<Figure size 640x480 with 1 Axes>"
      ]
     },
     "metadata": {},
     "output_type": "display_data"
    },
    {
     "name": "stdout",
     "output_type": "stream",
     "text": [
      "final train mae: 0.392\n",
      "final val mae:   0.682\n"
     ]
    }
   ],
   "source": [
    "model = build_model()\n",
    "model.summary()\n",
    "\n",
    "history = model.fit(\n",
    "  x={\n",
    "      'Year': x_train[['year']],\n",
    "      'Urban Population': x_train[['log_urban_population']]\n",
    "    },\n",
    "  y=Y_train[['average_temperature_°c']],\n",
    "  epochs=20,\n",
    "  batch_size=64,\n",
    "  validation_data=(\n",
    "      {\n",
    "      'Year': x_val[['year']],\n",
    "      'Urban Population': x_val[['log_urban_population']]\n",
    "      },\n",
    "      Y_val[['average_temperature_°c']]),\n",
    "  verbose=0)\n",
    "\n",
    "show_history(history)"
   ]
  },
  {
   "cell_type": "code",
   "execution_count": 43,
   "id": "8a307da8-7f6f-47ce-9bfb-0d7c0170da93",
   "metadata": {},
   "outputs": [],
   "source": [
    "def build_model():\n",
    "  # Clear session and remove randomness.\n",
    "  tf.keras.backend.clear_session()\n",
    "  tf.random.set_seed(0)\n",
    "\n",
    "  year = tf.keras.layers.Input(shape=(1,), dtype=tf.float64, name='Year')\n",
    "  urban_pop = tf.keras.layers.Input(shape=(1,), dtype=tf.float64, name='Urban Population')\n",
    "  sub_region = tf.keras.layers.Input(shape=(1,), dtype=tf.string, name='Sub Region')\n",
    "    \n",
    "  sub_region_id = tf.keras.layers.StringLookup(vocabulary=['Southern Asia', 'Southern Europe', \n",
    "                                                           'Northern Africa', 'Polynesia',\n",
    "                                                           'Sub-Saharan Africa', 'Latin America and the Caribbean',\n",
    "                                                           'Australia and New Zealand', 'Western Europe', \n",
    "                                                           'Western Asia','Northern America', 'South-eastern Asia', \n",
    "                                                           'Eastern Europe','Northern Europe', 'Eastern Asia', \n",
    "                                                           'East Asia', 'Melanesia','Micronesia', 'Wstern Europe', \n",
    "                                                           'Central Asia'], \n",
    "                                               output_mode='one_hot')(sub_region)\n",
    "    \n",
    "  features = tf.keras.layers.Concatenate()([year, urban_pop, sub_region_id])\n",
    "\n",
    "  temp = tf.keras.layers.Dense(\n",
    "      units=1, activation=None, name='Temp')(features)\n",
    "\n",
    "  model = tf.keras.Model(inputs=[year, urban_pop, sub_region],\n",
    "                         outputs=temp,\n",
    "                         name='Model_2')\n",
    "  model.compile(\n",
    "      optimizer=tf.keras.optimizers.Adam(learning_rate=0.001),\n",
    "      loss=tf.keras.losses.MeanAbsoluteError()\n",
    "      )\n",
    "\n",
    "  return model"
   ]
  },
  {
   "cell_type": "code",
   "execution_count": 44,
   "id": "a2768be0-e0a1-4bcf-bc4d-e17cab630aba",
   "metadata": {},
   "outputs": [
    {
     "name": "stdout",
     "output_type": "stream",
     "text": [
      "Model: \"Model_2\"\n",
      "__________________________________________________________________________________________________\n",
      " Layer (type)                Output Shape                 Param #   Connected to                  \n",
      "==================================================================================================\n",
      " Sub Region (InputLayer)     [(None, 1)]                  0         []                            \n",
      "                                                                                                  \n",
      " Year (InputLayer)           [(None, 1)]                  0         []                            \n",
      "                                                                                                  \n",
      " Urban Population (InputLay  [(None, 1)]                  0         []                            \n",
      " er)                                                                                              \n",
      "                                                                                                  \n",
      " string_lookup (StringLooku  (None, 20)                   0         ['Sub Region[0][0]']          \n",
      " p)                                                                                               \n",
      "                                                                                                  \n",
      " concatenate (Concatenate)   (None, 22)                   0         ['Year[0][0]',                \n",
      "                                                                     'Urban Population[0][0]',    \n",
      "                                                                     'string_lookup[0][0]']       \n",
      "                                                                                                  \n",
      " Temp (Dense)                (None, 1)                    23        ['concatenate[0][0]']         \n",
      "                                                                                                  \n",
      "==================================================================================================\n",
      "Total params: 23 (92.00 Byte)\n",
      "Trainable params: 23 (92.00 Byte)\n",
      "Non-trainable params: 0 (0.00 Byte)\n",
      "__________________________________________________________________________________________________\n"
     ]
    },
    {
     "data": {
      "image/png": "[encoded data removed]",
      "text/plain": [
       "<Figure size 640x480 with 1 Axes>"
      ]
     },
     "metadata": {},
     "output_type": "display_data"
    },
    {
     "name": "stdout",
     "output_type": "stream",
     "text": [
      "final train mae: 0.422\n",
      "final val mae:   0.605\n"
     ]
    }
   ],
   "source": [
    "model = build_model()\n",
    "model.summary()\n",
    "\n",
    "history = model.fit(\n",
    "  x={\n",
    "      'Year': x_train[['year']],\n",
    "      'Urban Population': x_train[['log_urban_population']],\n",
    "      'Sub Region': x_train[['sub-region']]\n",
    "    },\n",
    "  y=Y_train[['average_temperature_°c']],\n",
    "  epochs=20,\n",
    "  batch_size=64,\n",
    "  validation_data=(\n",
    "      {\n",
    "      'Year': x_val[['year']],\n",
    "      'Urban Population': x_val[['log_urban_population']],\n",
    "      'Sub Region': x_val[['sub-region']]\n",
    "      },\n",
    "      Y_val[['average_temperature_°c']]),\n",
    "  verbose=0)\n",
    "\n",
    "show_history(history)"
   ]
  },
  {
   "cell_type": "code",
   "execution_count": 41,
   "id": "41110ccc-c1f7-4dfe-8a49-4a7a95ac46f5",
   "metadata": {},
   "outputs": [],
   "source": [
    "def build_model():\n",
    "  # Clear session and remove randomness.\n",
    "  tf.keras.backend.clear_session()\n",
    "  tf.random.set_seed(0)\n",
    "\n",
    "  year = tf.keras.layers.Input(shape=(1,), dtype=tf.float64, name='Year')\n",
    "  urban_pop = tf.keras.layers.Input(shape=(1,), dtype=tf.float64, name='Urban Population')\n",
    "  ippu_tot = tf.keras.layers.Input(shape=(1,), dtype=tf.float64, name='10 Yr IPPU Total')\n",
    "  sub_region = tf.keras.layers.Input(shape=(1,), dtype=tf.string, name='Sub Region')\n",
    "    \n",
    "  sub_region_id = tf.keras.layers.StringLookup(vocabulary=['Southern Asia', 'Southern Europe', \n",
    "                                                           'Northern Africa', 'Polynesia',\n",
    "                                                           'Sub-Saharan Africa', 'Latin America and the Caribbean',\n",
    "                                                           'Australia and New Zealand', 'Western Europe', \n",
    "                                                           'Western Asia','Northern America', 'South-eastern Asia', \n",
    "                                                           'Eastern Europe','Northern Europe', 'Eastern Asia', \n",
    "                                                           'East Asia', 'Melanesia','Micronesia', 'Wstern Europe', \n",
    "                                                           'Central Asia'], \n",
    "                                               output_mode='one_hot')(sub_region)\n",
    "    \n",
    "  features = tf.keras.layers.Concatenate()([year, urban_pop, sub_region_id,ippu_tot])\n",
    "\n",
    "  temp = tf.keras.layers.Dense(\n",
    "      units=1, activation=None, name='Temp')(features)\n",
    "\n",
    "  model = tf.keras.Model(inputs=[year, urban_pop, sub_region, ippu_tot],\n",
    "                         outputs=temp,\n",
    "                         name='Model_3')\n",
    "  \n",
    " \n",
    "  model.compile(\n",
    "      optimizer=tf.keras.optimizers.Adam(learning_rate=0.001),\n",
    "      loss=tf.keras.losses.MeanAbsoluteError()\n",
    "      )\n",
    "\n",
    "  return model"
   ]
  },
  {
   "cell_type": "code",
   "execution_count": 42,
   "id": "e53e1656-68ab-4a68-b1a3-392072e44f51",
   "metadata": {},
   "outputs": [
    {
     "name": "stdout",
     "output_type": "stream",
     "text": [
      "Model: \"Model_3\"\n",
      "__________________________________________________________________________________________________\n",
      " Layer (type)                Output Shape                 Param #   Connected to                  \n",
      "==================================================================================================\n",
      " Sub Region (InputLayer)     [(None, 1)]                  0         []                            \n",
      "                                                                                                  \n",
      " Year (InputLayer)           [(None, 1)]                  0         []                            \n",
      "                                                                                                  \n",
      " Urban Population (InputLay  [(None, 1)]                  0         []                            \n",
      " er)                                                                                              \n",
      "                                                                                                  \n",
      " string_lookup (StringLooku  (None, 20)                   0         ['Sub Region[0][0]']          \n",
      " p)                                                                                               \n",
      "                                                                                                  \n",
      " 10 Yr IPPU Total (InputLay  [(None, 1)]                  0         []                            \n",
      " er)                                                                                              \n",
      "                                                                                                  \n",
      " concatenate (Concatenate)   (None, 23)                   0         ['Year[0][0]',                \n",
      "                                                                     'Urban Population[0][0]',    \n",
      "                                                                     'string_lookup[0][0]',       \n",
      "                                                                     '10 Yr IPPU Total[0][0]']    \n",
      "                                                                                                  \n",
      " Temp (Dense)                (None, 1)                    24        ['concatenate[0][0]']         \n",
      "                                                                                                  \n",
      "==================================================================================================\n",
      "Total params: 24 (96.00 Byte)\n",
      "Trainable params: 24 (96.00 Byte)\n",
      "Non-trainable params: 0 (0.00 Byte)\n",
      "__________________________________________________________________________________________________\n"
     ]
    },
    {
     "data": {
      "image/png": "[encoded data removed]",
      "text/plain": [
       "<Figure size 640x480 with 1 Axes>"
      ]
     },
     "metadata": {},
     "output_type": "display_data"
    },
    {
     "name": "stdout",
     "output_type": "stream",
     "text": [
      "final train mae: nan\n",
      "final val mae:   nan\n"
     ]
    }
   ],
   "source": [
    "model = build_model()\n",
    "model.summary()\n",
    "\n",
    "history = model.fit(\n",
    "  x={\n",
    "      'Year': x_train[['year']],\n",
    "      'Urban Population': x_train[['log_urban_population']],\n",
    "      'Sub Region': x_train[['sub-region']],\n",
    "      '10 Yr IPPU Total': x_train[['10yr_log_ippu_tot']]\n",
    "    },\n",
    "  y=Y_train[['average_temperature_°c']],\n",
    "  epochs=20,\n",
    "  batch_size=64,\n",
    "  validation_data=(\n",
    "      {\n",
    "      'Year': x_val[['year']],\n",
    "      'Urban Population': x_val[['log_urban_population']],\n",
    "      'Sub Region': x_val[['sub-region']],\n",
    "      '10 Yr IPPU Total': x_val[['10yr_log_ippu_tot']],\n",
    "      },\n",
    "      Y_val[['average_temperature_°c']]),\n",
    "  verbose=0)\n",
    "\n",
    "show_history(history)"
   ]
  }
 ],
 "metadata": {
  "kernelspec": {
   "display_name": "Python 3 (ipykernel)",
   "language": "python",
   "name": "python3"
  },
  "language_info": {
   "codemirror_mode": {
    "name": "ipython",
    "version": 3
   },
   "file_extension": ".py",
   "mimetype": "text/x-python",
   "name": "python",
   "nbconvert_exporter": "python",
   "pygments_lexer": "ipython3",
   "version": "3.9.16"
  }
 },
 "nbformat": 4,
 "nbformat_minor": 5
}
