{
 "cells": [
  {
   "cell_type": "code",
   "execution_count": 1,
   "id": "576baf19-6437-4914-9590-be4dcb614fbe",
   "metadata": {},
   "outputs": [
    {
     "name": "stderr",
     "output_type": "stream",
     "text": [
      "/home/ftitchenal/anaconda3/lib/python3.9/site-packages/scipy/__init__.py:146: UserWarning: A NumPy version >=1.16.5 and <1.23.0 is required for this version of SciPy (detected version 1.26.2\n",
      "  warnings.warn(f\"A NumPy version >={np_minversion} and <{np_maxversion}\"\n",
      "2023-11-29 05:13:25.072111: I external/local_tsl/tsl/cuda/cudart_stub.cc:31] Could not find cuda drivers on your machine, GPU will not be used.\n",
      "2023-11-29 05:13:25.123082: E external/local_xla/xla/stream_executor/cuda/cuda_dnn.cc:9261] Unable to register cuDNN factory: Attempting to register factory for plugin cuDNN when one has already been registered\n",
      "2023-11-29 05:13:25.123118: E external/local_xla/xla/stream_executor/cuda/cuda_fft.cc:607] Unable to register cuFFT factory: Attempting to register factory for plugin cuFFT when one has already been registered\n",
      "2023-11-29 05:13:25.125091: E external/local_xla/xla/stream_executor/cuda/cuda_blas.cc:1515] Unable to register cuBLAS factory: Attempting to register factory for plugin cuBLAS when one has already been registered\n",
      "2023-11-29 05:13:25.132947: I external/local_tsl/tsl/cuda/cudart_stub.cc:31] Could not find cuda drivers on your machine, GPU will not be used.\n",
      "2023-11-29 05:13:25.134094: I tensorflow/core/platform/cpu_feature_guard.cc:182] This TensorFlow binary is optimized to use available CPU instructions in performance-critical operations.\n",
      "To enable the following instructions: AVX2 FMA, in other operations, rebuild TensorFlow with the appropriate compiler flags.\n",
      "2023-11-29 05:13:26.039098: W tensorflow/compiler/tf2tensorrt/utils/py_utils.cc:38] TF-TRT Warning: Could not find TensorRT\n"
     ]
    }
   ],
   "source": [
    "import pandas as pd\n",
    "import numpy as np\n",
    "\n",
    "# data preprocessing\n",
    "from sklearn import preprocessing\n",
    "from sklearn.preprocessing import StandardScaler\n",
    "\n",
    "# exploratory analysis\n",
    "import matplotlib.pyplot as plt\n",
    "import mlxtend\n",
    "from mlxtend.plotting import scatterplotmatrix\n",
    "from mlxtend.plotting import heatmap\n",
    "import seaborn as sns\n",
    "from IPython.display import Image\n",
    "\n",
    "# model fit\n",
    "import statsmodels.api as sm\n",
    "import tensorflow as tf\n",
    "from tensorflow.keras.layers import Dense, LSTM\n",
    "\n",
    "# ignore warnings (libraries are rapidly changing)\n",
    "import warnings\n",
    "warnings.filterwarnings('ignore')"
   ]
  },
  {
   "cell_type": "markdown",
   "id": "d75eb22e-1343-486f-b591-96bed325724f",
   "metadata": {},
   "source": [
    "### Split X and Y into two dataframes \n",
    "\n",
    "Split input variables from output variable (temperature)"
   ]
  },
  {
   "cell_type": "code",
   "execution_count": 2,
   "id": "87a53c7f-c10a-4d22-8a0c-09702ed936c1",
   "metadata": {},
   "outputs": [],
   "source": [
    "train = pd.read_csv('train_data.csv')\n",
    "val = pd.read_csv('val_data.csv')\n",
    "test = pd.read_csv('test_data.csv')"
   ]
  },
  {
   "cell_type": "code",
   "execution_count": 3,
   "id": "46f1f8b0-6e95-41f6-888e-31111dc7cdea",
   "metadata": {},
   "outputs": [],
   "source": [
    "x_train = train.drop(['average_temperature_°c'], axis=1)\n",
    "x_val = val.drop(['average_temperature_°c'], axis=1)\n",
    "x_test = test.drop(['average_temperature_°c'], axis=1)\n",
    "\n",
    "Y_train = pd.DataFrame(train['average_temperature_°c'])\n",
    "Y_val = pd.DataFrame(val['average_temperature_°c'])\n",
    "Y_test = pd.DataFrame(test['average_temperature_°c'])"
   ]
  },
  {
   "cell_type": "code",
   "execution_count": 4,
   "id": "8d8d8591-4421-4454-be97-2039da9b5586",
   "metadata": {},
   "outputs": [
    {
     "name": "stdout",
     "output_type": "stream",
     "text": [
      "(4681, 47)\n",
      "(4681, 1)\n",
      "(570, 47)\n",
      "(570, 1)\n",
      "(570, 47)\n",
      "(570, 1)\n"
     ]
    }
   ],
   "source": [
    "print(x_train.shape)\n",
    "print(Y_train.shape)\n",
    "\n",
    "print(x_val.shape)\n",
    "print(Y_val.shape)\n",
    "\n",
    "print(x_test.shape)\n",
    "print(Y_test.shape)"
   ]
  },
  {
   "cell_type": "code",
   "execution_count": 5,
   "id": "a1ab4ed4-a96d-41ce-bb53-33d3101d6e59",
   "metadata": {},
   "outputs": [],
   "source": [
    "def show_history(history):\n",
    "  plt.plot(history.history['loss'], color='black', label='train')\n",
    "  plt.plot(history.history['val_loss'], color='red', label='val')\n",
    "  plt.xlabel('epoch')\n",
    "  plt.ylabel('loss')\n",
    "  plt.legend()\n",
    "  plt.show()\n",
    "  print('final train mae: %.3f' %history.history['loss'][-1])\n",
    "  print('final val mae:   %.3f' %history.history['val_loss'][-1])\n",
    "  print('final train rmse: %.3f' %history.history['root_mean_squared_error'][-1])\n",
    "  print('final train rmse: %.3f' %history.history['val_root_mean_squared_error'][-1])"
   ]
  },
  {
   "cell_type": "markdown",
   "id": "e48de52e-eaa8-45ad-b547-2fbebe28b7db",
   "metadata": {},
   "source": [
    "### Model 1: Baseline Model - Linear Regression SGD\n",
    "\n",
    "</br> Input - Total Emissions\n",
    "</br>Output - Avg Temp\n",
    "</br>Loss - Mean Absolute Error\n",
    "</br>Metrics - Root Mean Squared Error"
   ]
  },
  {
   "cell_type": "code",
   "execution_count": 6,
   "id": "8ebe0e37-4395-4295-a05e-18cf569bcb2a",
   "metadata": {},
   "outputs": [],
   "source": [
    "def build_model_1():\n",
    "  # Clear session and remove randomness.\n",
    "  tf.keras.backend.clear_session()\n",
    "  tf.random.set_seed(0)\n",
    "\n",
    "  tot_em = tf.keras.layers.Input(shape=(1,), dtype=tf.float64, name='Total Emissions')\n",
    "\n",
    "  temp = tf.keras.layers.Dense(\n",
    "      units=1, activation=None, name='Temp')(tot_em)\n",
    "\n",
    "  model = tf.keras.Model(inputs=[tot_em],\n",
    "                         outputs=temp,\n",
    "                         name='Model_1')\n",
    "  model.compile(\n",
    "      optimizer=tf.keras.optimizers.SGD(learning_rate=0.001),\n",
    "      loss=tf.keras.losses.MeanAbsoluteError(),\n",
    "      metrics=tf.keras.metrics.RootMeanSquaredError()\n",
    "      )\n",
    "\n",
    "  return model"
   ]
  },
  {
   "cell_type": "code",
   "execution_count": 7,
   "id": "8e2fa9e1-6f62-47df-b758-475b759f9aef",
   "metadata": {},
   "outputs": [
    {
     "name": "stdout",
     "output_type": "stream",
     "text": [
      "Model: \"Model_1\"\n",
      "_________________________________________________________________\n",
      " Layer (type)                Output Shape              Param #   \n",
      "=================================================================\n",
      " Total Emissions (InputLaye  [(None, 1)]               0         \n",
      " r)                                                              \n",
      "                                                                 \n",
      " Temp (Dense)                (None, 1)                 2         \n",
      "                                                                 \n",
      "=================================================================\n",
      "Total params: 2 (8.00 Byte)\n",
      "Trainable params: 2 (8.00 Byte)\n",
      "Non-trainable params: 0 (0.00 Byte)\n",
      "_________________________________________________________________\n"
     ]
    },
    {
     "data": {
      "image/png": "[encoded data removed]",
      "text/plain": [
       "<Figure size 640x480 with 1 Axes>"
      ]
     },
     "metadata": {},
     "output_type": "display_data"
    },
    {
     "name": "stdout",
     "output_type": "stream",
     "text": [
      "final train mae: 0.385\n",
      "final val mae:   0.649\n",
      "final train rmse: 0.506\n",
      "final train rmse: 0.747\n"
     ]
    }
   ],
   "source": [
    "model_1 = build_model_1()\n",
    "model_1.summary()\n",
    "\n",
    "history = model_1.fit(\n",
    "  x=x_train[['total_emission']],\n",
    "  y=Y_train[['average_temperature_°c']],\n",
    "  epochs=100,\n",
    "  batch_size=40,\n",
    "  validation_data=(\n",
    "      x_val[['total_emission']],\n",
    "      Y_val[['average_temperature_°c']]),\n",
    "  verbose=False)\n",
    "\n",
    "show_history(history)"
   ]
  },
  {
   "cell_type": "markdown",
   "id": "89d60891-164f-447f-a85b-07e8eece039c",
   "metadata": {},
   "source": [
    "### Model 2: Linear Regression (Adam)\n",
    "\n",
    "</br> Input - Total Emissions\n",
    "</br>Output - Avg Temp\n",
    "</br> Requires fewer epochs to converge than standard SGD regression"
   ]
  },
  {
   "cell_type": "code",
   "execution_count": 8,
   "id": "e69871b3-8208-4def-a25f-de98dd705912",
   "metadata": {},
   "outputs": [],
   "source": [
    "def build_model_2():\n",
    "  # Clear session and remove randomness.\n",
    "  tf.keras.backend.clear_session()\n",
    "  tf.random.set_seed(0)\n",
    "\n",
    "  tot_em = tf.keras.layers.Input(shape=(1,), dtype=tf.float64, name='Total Emissions')\n",
    "\n",
    "  temp = tf.keras.layers.Dense(\n",
    "      units=1, activation=None, name='Temp')(tot_em)\n",
    "\n",
    "  model = tf.keras.Model(inputs=[tot_em],\n",
    "                         outputs=temp,\n",
    "                         name='Model_2')\n",
    "  model.compile(\n",
    "      optimizer=tf.keras.optimizers.Adam(learning_rate=0.001),\n",
    "      loss=tf.keras.losses.MeanAbsoluteError(),\n",
    "      metrics=tf.keras.metrics.RootMeanSquaredError()\n",
    "      )\n",
    "\n",
    "  return model"
   ]
  },
  {
   "cell_type": "code",
   "execution_count": 9,
   "id": "2fbafc0b-1272-4fad-bb65-e896f24ad3ef",
   "metadata": {},
   "outputs": [
    {
     "name": "stdout",
     "output_type": "stream",
     "text": [
      "Model: \"Model_2\"\n",
      "_________________________________________________________________\n",
      " Layer (type)                Output Shape              Param #   \n",
      "=================================================================\n",
      " Total Emissions (InputLaye  [(None, 1)]               0         \n",
      " r)                                                              \n",
      "                                                                 \n",
      " Temp (Dense)                (None, 1)                 2         \n",
      "                                                                 \n",
      "=================================================================\n",
      "Total params: 2 (8.00 Byte)\n",
      "Trainable params: 2 (8.00 Byte)\n",
      "Non-trainable params: 0 (0.00 Byte)\n",
      "_________________________________________________________________\n"
     ]
    },
    {
     "data": {
      "image/png": "[encoded data removed]",
      "text/plain": [
       "<Figure size 640x480 with 1 Axes>"
      ]
     },
     "metadata": {},
     "output_type": "display_data"
    },
    {
     "name": "stdout",
     "output_type": "stream",
     "text": [
      "final train mae: 0.385\n",
      "final val mae:   0.645\n",
      "final train rmse: 0.506\n",
      "final train rmse: 0.744\n"
     ]
    }
   ],
   "source": [
    "model_2 = build_model_2()\n",
    "model_2.summary()\n",
    "\n",
    "history = model_2.fit(\n",
    "  x=x_train[['total_emission']],\n",
    "  y=Y_train[['average_temperature_°c']],\n",
    "  epochs=80,\n",
    "  batch_size=80,\n",
    "  validation_data=(\n",
    "      x_val[['total_emission']],\n",
    "      Y_val[['average_temperature_°c']]),\n",
    "  verbose=False)\n",
    "\n",
    "show_history(history)"
   ]
  },
  {
   "cell_type": "markdown",
   "id": "9c6892d2-fa29-40b6-b8ef-859e64aa4586",
   "metadata": {},
   "source": [
    "### Model 3: Linear Regression (Adam) using Cumulative Sum of Total Emissions\n",
    "\n",
    "</br> Input - Cumulative Sum of Total Emissions\n",
    "</br>Output - Avg Temp\n",
    "</br> Very little difference to Model 2"
   ]
  },
  {
   "cell_type": "code",
   "execution_count": 10,
   "id": "2ea2a520-9a61-4b6c-98b5-782647847417",
   "metadata": {},
   "outputs": [],
   "source": [
    "def build_model_3():\n",
    "  # Clear session and remove randomness.\n",
    "  tf.keras.backend.clear_session()\n",
    "  tf.random.set_seed(0)\n",
    "\n",
    "  cum_sum_tot_em = tf.keras.layers.Input(shape=(1,), dtype=tf.float64, name='Cum Sum Total Emissions')\n",
    "\n",
    "  temp = tf.keras.layers.Dense(\n",
    "      units=1, activation=None, name='Temp')(cum_sum_tot_em)\n",
    "\n",
    "  model = tf.keras.Model(inputs=[cum_sum_tot_em],\n",
    "                         outputs=temp,\n",
    "                         name='Model_3')\n",
    "  model.compile(\n",
    "      optimizer=tf.keras.optimizers.Adam(learning_rate=0.001),\n",
    "      loss=tf.keras.losses.MeanAbsoluteError(),\n",
    "      metrics=tf.keras.metrics.RootMeanSquaredError()\n",
    "      )\n",
    "\n",
    "  return model"
   ]
  },
  {
   "cell_type": "code",
   "execution_count": 11,
   "id": "f07f4e82-7c05-4207-bccf-42f0739bbb0b",
   "metadata": {},
   "outputs": [
    {
     "name": "stdout",
     "output_type": "stream",
     "text": [
      "Model: \"Model_3\"\n",
      "_________________________________________________________________\n",
      " Layer (type)                Output Shape              Param #   \n",
      "=================================================================\n",
      " Cum Sum Total Emissions (I  [(None, 1)]               0         \n",
      " nputLayer)                                                      \n",
      "                                                                 \n",
      " Temp (Dense)                (None, 1)                 2         \n",
      "                                                                 \n",
      "=================================================================\n",
      "Total params: 2 (8.00 Byte)\n",
      "Trainable params: 2 (8.00 Byte)\n",
      "Non-trainable params: 0 (0.00 Byte)\n",
      "_________________________________________________________________\n"
     ]
    },
    {
     "data": {
      "image/png": "[encoded data removed]",
      "text/plain": [
       "<Figure size 640x480 with 1 Axes>"
      ]
     },
     "metadata": {},
     "output_type": "display_data"
    },
    {
     "name": "stdout",
     "output_type": "stream",
     "text": [
      "final train mae: 0.384\n",
      "final val mae:   0.638\n",
      "final train rmse: 0.505\n",
      "final train rmse: 0.740\n"
     ]
    }
   ],
   "source": [
    "model_3 = build_model_3()\n",
    "model_3.summary()\n",
    "\n",
    "history = model_3.fit(\n",
    "  x=x_train[['cum_sum_total_emission']],\n",
    "  y=Y_train[['average_temperature_°c']],\n",
    "  epochs=80,\n",
    "  batch_size=100,\n",
    "  validation_data=(\n",
    "      x_val[['cum_sum_total_emission']],\n",
    "      Y_val[['average_temperature_°c']]),\n",
    "  verbose=False)\n",
    "\n",
    "show_history(history)"
   ]
  },
  {
   "cell_type": "markdown",
   "id": "8b5b6a6a-7c79-401a-84d4-86b383963757",
   "metadata": {},
   "source": [
    "### Model 4: Linear Regression (Adam) using Cumulative Sum of Total Emissions & Urban Pop\n",
    "\n",
    "</br> Input - Cumulative Sum of Total Emissions & Urban Population\n",
    "</br>Output - Avg Temp\n",
    "</br> Very little difference to model 3"
   ]
  },
  {
   "cell_type": "code",
   "execution_count": 12,
   "id": "689962c6-ddf0-4df1-a56a-8d7dea72306c",
   "metadata": {},
   "outputs": [],
   "source": [
    "def build_model_4():\n",
    "  # Clear session and remove randomness.\n",
    "  tf.keras.backend.clear_session()\n",
    "  tf.random.set_seed(0)\n",
    "\n",
    "  cum_sum_tot_em = tf.keras.layers.Input(shape=(1,), dtype=tf.float64, name='Cum Sum Total Emissions')\n",
    "  urban_pop = tf.keras.layers.Input(shape=(1,), dtype=tf.float64, name='Urban Population')\n",
    "\n",
    "  features = tf.keras.layers.Concatenate()([cum_sum_tot_em, urban_pop])\n",
    "\n",
    "  temp = tf.keras.layers.Dense(\n",
    "      units=1, activation=None, name='Temp')(features)\n",
    "\n",
    "  model = tf.keras.Model(inputs=[cum_sum_tot_em, urban_pop],\n",
    "                         outputs=temp,\n",
    "                         name='Model_4')\n",
    "  model.compile(\n",
    "      optimizer=tf.keras.optimizers.Adam(learning_rate=0.001),\n",
    "      loss=tf.keras.losses.MeanAbsoluteError(),\n",
    "      metrics=tf.keras.metrics.RootMeanSquaredError()\n",
    "      )\n",
    "\n",
    "  return model"
   ]
  },
  {
   "cell_type": "code",
   "execution_count": 13,
   "id": "88f5d83e-bdd9-484e-95e0-f74de435e2ee",
   "metadata": {},
   "outputs": [
    {
     "name": "stdout",
     "output_type": "stream",
     "text": [
      "Model: \"Model_4\"\n",
      "__________________________________________________________________________________________________\n",
      " Layer (type)                Output Shape                 Param #   Connected to                  \n",
      "==================================================================================================\n",
      " Cum Sum Total Emissions (I  [(None, 1)]                  0         []                            \n",
      " nputLayer)                                                                                       \n",
      "                                                                                                  \n",
      " Urban Population (InputLay  [(None, 1)]                  0         []                            \n",
      " er)                                                                                              \n",
      "                                                                                                  \n",
      " concatenate (Concatenate)   (None, 2)                    0         ['Cum Sum Total Emissions[0][0\n",
      "                                                                    ]',                           \n",
      "                                                                     'Urban Population[0][0]']    \n",
      "                                                                                                  \n",
      " Temp (Dense)                (None, 1)                    3         ['concatenate[0][0]']         \n",
      "                                                                                                  \n",
      "==================================================================================================\n",
      "Total params: 3 (12.00 Byte)\n",
      "Trainable params: 3 (12.00 Byte)\n",
      "Non-trainable params: 0 (0.00 Byte)\n",
      "__________________________________________________________________________________________________\n"
     ]
    },
    {
     "data": {
      "image/png": "[encoded data removed]",
      "text/plain": [
       "<Figure size 640x480 with 1 Axes>"
      ]
     },
     "metadata": {},
     "output_type": "display_data"
    },
    {
     "name": "stdout",
     "output_type": "stream",
     "text": [
      "final train mae: 0.380\n",
      "final val mae:   0.628\n",
      "final train rmse: 0.501\n",
      "final train rmse: 0.724\n"
     ]
    }
   ],
   "source": [
    "model_4 = build_model_4()\n",
    "model_4.summary()\n",
    "\n",
    "history = model_4.fit(\n",
    "  x={\n",
    "      'Cum Sum Total Emissions': x_train[['cum_sum_total_emission']],\n",
    "      'Urban Population': x_train[['log_urban_population']]\n",
    "    },\n",
    "  y=Y_train[['average_temperature_°c']],\n",
    "  epochs=80,\n",
    "  batch_size=100,\n",
    "  validation_data=(\n",
    "      {\n",
    "      'Cum Sum Total Emissions': x_val[['cum_sum_total_emission']],\n",
    "      'Urban Population': x_val[['log_urban_population']]\n",
    "    },\n",
    "      Y_val[['average_temperature_°c']]),\n",
    "  verbose=False)\n",
    "\n",
    "show_history(history)"
   ]
  },
  {
   "cell_type": "markdown",
   "id": "cc2c29ee-b369-47bb-b753-6988e1ac3279",
   "metadata": {},
   "source": [
    "### Model 5: Linear Regression (Adam) Kitchen Sink \n",
    "\n",
    "</br> Input - MEI, Urban Pop, All CO2 emission inputs\n",
    "</br>Output - Avg Temp\n",
    "</br>Still some noise in validation loss, but shape of loss curves look good and training loss is less than val loss. Could maybe use a few more epochs for convergence. "
   ]
  },
  {
   "cell_type": "code",
   "execution_count": 14,
   "id": "8a307da8-7f6f-47ce-9bfb-0d7c0170da93",
   "metadata": {},
   "outputs": [],
   "source": [
    "def build_model_5():\n",
    "  # Clear session and remove randomness.\n",
    "  tf.keras.backend.clear_session()\n",
    "  tf.random.set_seed(0)\n",
    "\n",
    "  urban_pop = tf.keras.layers.Input(shape=(1,), dtype=tf.float64, name='Urban Population')\n",
    "  mei = tf.keras.layers.Input(shape=(1,), dtype=tf.float64, name='MEI')\n",
    "  cum_sum_log_crop_residues = tf.keras.layers.Input(shape=(1,), dtype=tf.float64, name='Crop Residues')\n",
    "  cum_sum_log_rice_cultivation = tf.keras.layers.Input(shape=(1,), dtype=tf.float64, name='Rice Cultivation')\n",
    "  cum_sum_log_drained_organic_soils_co2 = tf.keras.layers.Input(shape=(1,), dtype=tf.float64, name='Drained Organic Soils CO2')\n",
    "  cum_sum_log_net_forest_conversion = tf.keras.layers.Input(shape=(1,), dtype=tf.float64, name='Net Forest Conversion')\n",
    "  cum_sum_log_fires = tf.keras.layers.Input(shape=(1,), dtype=tf.float64, name='Fires')\n",
    "  cum_sum_log_manure_mgmt = tf.keras.layers.Input(shape=(1,), dtype=tf.float64, name='Manure Management')\n",
    "  cum_sum_log_food_systems = tf.keras.layers.Input(shape=(1,), dtype=tf.float64, name='Food Systems')\n",
    "  cum_sum_log_ippu_tot = tf.keras.layers.Input(shape=(1,), dtype=tf.float64, name='IPPU Total')\n",
    "  cum_sum_log_on_farm_energy_use = tf.keras.layers.Input(shape=(1,), dtype=tf.float64, name='On Farm Energy Use')\n",
    "  cum_sum_forestland = tf.keras.layers.Input(shape=(1,), dtype=tf.float64, name='Forestland')\n",
    "  sub_region = tf.keras.layers.Input(shape=(1,), dtype=tf.string, name='Sub Region')\n",
    "    \n",
    "  sub_region_id = tf.keras.layers.StringLookup(vocabulary=['Southern Asia', 'Southern Europe', \n",
    "                                                           'Northern Africa', 'Polynesia',\n",
    "                                                           'Sub-Saharan Africa', 'Latin America and the Caribbean',\n",
    "                                                           'Australia and New Zealand', 'Western Europe', \n",
    "                                                           'Western Asia','Northern America', 'South-eastern Asia', \n",
    "                                                           'Eastern Europe','Northern Europe', 'Eastern Asia', \n",
    "                                                           'Melanesia','Micronesia', 'Central Asia'], \n",
    "                                               output_mode='one_hot')(sub_region)\n",
    "    \n",
    "  features = tf.keras.layers.Concatenate()([urban_pop,\n",
    "                                            mei,\n",
    "                                            cum_sum_log_crop_residues,\n",
    "                                            cum_sum_log_rice_cultivation,\n",
    "                                            cum_sum_log_drained_organic_soils_co2,\n",
    "                                            cum_sum_log_net_forest_conversion,\n",
    "                                            cum_sum_log_fires,\n",
    "                                            cum_sum_log_manure_mgmt,\n",
    "                                            cum_sum_log_food_systems,\n",
    "                                            cum_sum_log_ippu_tot,\n",
    "                                            cum_sum_log_on_farm_energy_use,\n",
    "                                            cum_sum_forestland,\n",
    "                                            sub_region_id])\n",
    "    \n",
    "  temp = tf.keras.layers.Dense(\n",
    "      units=1, activation=None, name='Temp')(features)\n",
    "\n",
    "  model = tf.keras.Model(inputs=[urban_pop,\n",
    "                                            mei,\n",
    "                                            cum_sum_log_crop_residues,\n",
    "                                            cum_sum_log_rice_cultivation,\n",
    "                                            cum_sum_log_drained_organic_soils_co2,\n",
    "                                            cum_sum_log_net_forest_conversion,\n",
    "                                            cum_sum_log_fires,\n",
    "                                            cum_sum_log_manure_mgmt,\n",
    "                                            cum_sum_log_food_systems,\n",
    "                                            cum_sum_log_ippu_tot,\n",
    "                                            cum_sum_log_on_farm_energy_use,\n",
    "                                            cum_sum_forestland,\n",
    "                                            sub_region],\n",
    "                         outputs=temp,\n",
    "                         name='Model_5')\n",
    "  model.compile(\n",
    "      optimizer=tf.keras.optimizers.Adam(learning_rate=0.001),\n",
    "      loss=tf.keras.losses.MeanAbsoluteError(),\n",
    "      metrics=tf.keras.metrics.RootMeanSquaredError()\n",
    "      )\n",
    "\n",
    "  return model"
   ]
  },
  {
   "cell_type": "code",
   "execution_count": 15,
   "id": "a2768be0-e0a1-4bcf-bc4d-e17cab630aba",
   "metadata": {},
   "outputs": [
    {
     "name": "stdout",
     "output_type": "stream",
     "text": [
      "Model: \"Model_5\"\n",
      "__________________________________________________________________________________________________\n",
      " Layer (type)                Output Shape                 Param #   Connected to                  \n",
      "==================================================================================================\n",
      " Sub Region (InputLayer)     [(None, 1)]                  0         []                            \n",
      "                                                                                                  \n",
      " Urban Population (InputLay  [(None, 1)]                  0         []                            \n",
      " er)                                                                                              \n",
      "                                                                                                  \n",
      " MEI (InputLayer)            [(None, 1)]                  0         []                            \n",
      "                                                                                                  \n",
      " Crop Residues (InputLayer)  [(None, 1)]                  0         []                            \n",
      "                                                                                                  \n",
      " Rice Cultivation (InputLay  [(None, 1)]                  0         []                            \n",
      " er)                                                                                              \n",
      "                                                                                                  \n",
      " Drained Organic Soils CO2   [(None, 1)]                  0         []                            \n",
      " (InputLayer)                                                                                     \n",
      "                                                                                                  \n",
      " Net Forest Conversion (Inp  [(None, 1)]                  0         []                            \n",
      " utLayer)                                                                                         \n",
      "                                                                                                  \n",
      " Fires (InputLayer)          [(None, 1)]                  0         []                            \n",
      "                                                                                                  \n",
      " Manure Management (InputLa  [(None, 1)]                  0         []                            \n",
      " yer)                                                                                             \n",
      "                                                                                                  \n",
      " Food Systems (InputLayer)   [(None, 1)]                  0         []                            \n",
      "                                                                                                  \n",
      " IPPU Total (InputLayer)     [(None, 1)]                  0         []                            \n",
      "                                                                                                  \n",
      " On Farm Energy Use (InputL  [(None, 1)]                  0         []                            \n",
      " ayer)                                                                                            \n",
      "                                                                                                  \n",
      " Forestland (InputLayer)     [(None, 1)]                  0         []                            \n",
      "                                                                                                  \n",
      " string_lookup (StringLooku  (None, 18)                   0         ['Sub Region[0][0]']          \n",
      " p)                                                                                               \n",
      "                                                                                                  \n",
      " concatenate (Concatenate)   (None, 30)                   0         ['Urban Population[0][0]',    \n",
      "                                                                     'MEI[0][0]',                 \n",
      "                                                                     'Crop Residues[0][0]',       \n",
      "                                                                     'Rice Cultivation[0][0]',    \n",
      "                                                                     'Drained Organic Soils CO2[0]\n",
      "                                                                    [0]',                         \n",
      "                                                                     'Net Forest Conversion[0][0]'\n",
      "                                                                    , 'Fires[0][0]',              \n",
      "                                                                     'Manure Management[0][0]',   \n",
      "                                                                     'Food Systems[0][0]',        \n",
      "                                                                     'IPPU Total[0][0]',          \n",
      "                                                                     'On Farm Energy Use[0][0]',  \n",
      "                                                                     'Forestland[0][0]',          \n",
      "                                                                     'string_lookup[0][0]']       \n",
      "                                                                                                  \n",
      " Temp (Dense)                (None, 1)                    31        ['concatenate[0][0]']         \n",
      "                                                                                                  \n",
      "==================================================================================================\n",
      "Total params: 31 (124.00 Byte)\n",
      "Trainable params: 31 (124.00 Byte)\n",
      "Non-trainable params: 0 (0.00 Byte)\n",
      "__________________________________________________________________________________________________\n"
     ]
    },
    {
     "data": {
      "image/png": "[encoded data removed]",
      "text/plain": [
       "<Figure size 640x480 with 1 Axes>"
      ]
     },
     "metadata": {},
     "output_type": "display_data"
    },
    {
     "name": "stdout",
     "output_type": "stream",
     "text": [
      "final train mae: 0.320\n",
      "final val mae:   0.331\n",
      "final train rmse: 0.435\n",
      "final train rmse: 0.425\n"
     ]
    }
   ],
   "source": [
    "model_5 = build_model_5()\n",
    "model_5.summary()\n",
    "\n",
    "history = model_5.fit(\n",
    "  x={\n",
    "      'Urban Population': x_train[['urban_population']],\n",
    "      'MEI': x_train[['mei']],\n",
    "      'Crop Residues': x_train[['cum_sum_log_crop_residues']],\n",
    "      'Rice Cultivation': x_train[['cum_sum_log_rice_cultivation']],\n",
    "      'Drained Organic Soils CO2': x_train[['cum_sum_log_drained_organic_soils_co2']],\n",
    "      'Net Forest Conversion': x_train[['cum_sum_log_net_forest_conversion']],\n",
    "      'Fires': x_train[['cum_sum_log_fires']],\n",
    "      'Manure Management': x_train[['cum_sum_log_manure_mgmt']],\n",
    "      'Food Systems': x_train[['cum_sum_log_food_systems']],\n",
    "      'IPPU Total': x_train[['cum_sum_log_ippu_tot']],\n",
    "      'On Farm Energy Use': x_train[['cum_sum_log_on_farm_energy_use']],\n",
    "      'Forestland': x_train[['cum_sum_forestland']],\n",
    "      'Sub Region': x_train[['sub-region']]\n",
    "    },\n",
    "  y=Y_train[['average_temperature_°c']],\n",
    "  epochs=80,\n",
    "  batch_size=100,\n",
    "  validation_data=(\n",
    "      {\n",
    "      'Urban Population': x_val[['urban_population']],\n",
    "      'MEI': x_val[['mei']],\n",
    "      'Crop Residues': x_val[['cum_sum_log_crop_residues']],\n",
    "      'Rice Cultivation': x_val[['cum_sum_log_rice_cultivation']],\n",
    "      'Drained Organic Soils CO2': x_val[['cum_sum_log_drained_organic_soils_co2']],\n",
    "      'Net Forest Conversion': x_val[['cum_sum_log_net_forest_conversion']],\n",
    "      'Fires': x_val[['cum_sum_log_fires']],\n",
    "      'Manure Management': x_val[['cum_sum_log_manure_mgmt']],\n",
    "      'Food Systems': x_val[['cum_sum_log_food_systems']],\n",
    "      'IPPU Total': x_val[['cum_sum_log_ippu_tot']],\n",
    "      'On Farm Energy Use': x_val[['cum_sum_log_on_farm_energy_use']],\n",
    "      'Forestland': x_val[['cum_sum_forestland']],\n",
    "      'Sub Region': x_val[['sub-region']]\n",
    "      },\n",
    "      Y_val[['average_temperature_°c']]),\n",
    "  verbose=0)\n",
    "\n",
    "show_history(history)"
   ]
  },
  {
   "cell_type": "markdown",
   "id": "78b8d9a5-63b1-4357-b61d-a550bcb5d70b",
   "metadata": {},
   "source": [
    "#### Model 6 - Linear Regression (Adam) Kitchen Sink (Hyperparameter Tuning)\n",
    "\n",
    "</br> Input - MEI, Urban Pop, All CO2 emission inputs\n",
    "</br>Output - Avg Temp\n",
    "</br>Added exponential decay learning rate scheduler. Increased epochs and batch size to 300 to try to reduce noise. Small amount of overfitting to training data which is prefereable. Less noise in validation loss. "
   ]
  },
  {
   "cell_type": "code",
   "execution_count": 16,
   "id": "adf36e07-4759-46cb-af6d-da89bbf2b26b",
   "metadata": {},
   "outputs": [],
   "source": [
    "def build_model_6():\n",
    "  # Clear session and remove randomness.\n",
    "  tf.keras.backend.clear_session()\n",
    "  tf.random.set_seed(0)\n",
    "\n",
    "  urban_pop = tf.keras.layers.Input(shape=(1,), dtype=tf.float64, name='Urban Population')\n",
    "  mei = tf.keras.layers.Input(shape=(1,), dtype=tf.float64, name='MEI')\n",
    "  cum_sum_log_crop_residues = tf.keras.layers.Input(shape=(1,), dtype=tf.float64, name='Crop Residues')\n",
    "  cum_sum_log_rice_cultivation = tf.keras.layers.Input(shape=(1,), dtype=tf.float64, name='Rice Cultivation')\n",
    "  cum_sum_log_drained_organic_soils_co2 = tf.keras.layers.Input(shape=(1,), dtype=tf.float64, name='Drained Organic Soils CO2')\n",
    "  cum_sum_log_net_forest_conversion = tf.keras.layers.Input(shape=(1,), dtype=tf.float64, name='Net Forest Conversion')\n",
    "  cum_sum_log_fires = tf.keras.layers.Input(shape=(1,), dtype=tf.float64, name='Fires')\n",
    "  cum_sum_log_manure_mgmt = tf.keras.layers.Input(shape=(1,), dtype=tf.float64, name='Manure Management')\n",
    "  cum_sum_log_food_systems = tf.keras.layers.Input(shape=(1,), dtype=tf.float64, name='Food Systems')\n",
    "  cum_sum_log_ippu_tot = tf.keras.layers.Input(shape=(1,), dtype=tf.float64, name='IPPU Total')\n",
    "  cum_sum_log_on_farm_energy_use = tf.keras.layers.Input(shape=(1,), dtype=tf.float64, name='On Farm Energy Use')\n",
    "  cum_sum_forestland = tf.keras.layers.Input(shape=(1,), dtype=tf.float64, name='Forestland')\n",
    "  sub_region = tf.keras.layers.Input(shape=(1,), dtype=tf.string, name='Sub Region')\n",
    "    \n",
    "  sub_region_id = tf.keras.layers.StringLookup(vocabulary=['Southern Asia', 'Southern Europe', \n",
    "                                                           'Northern Africa', 'Polynesia',\n",
    "                                                           'Sub-Saharan Africa', 'Latin America and the Caribbean',\n",
    "                                                           'Australia and New Zealand', 'Western Europe', \n",
    "                                                           'Western Asia','Northern America', 'South-eastern Asia', \n",
    "                                                           'Eastern Europe','Northern Europe', 'Eastern Asia', \n",
    "                                                           'Melanesia','Micronesia','Central Asia'], \n",
    "                                               output_mode='one_hot')(sub_region)\n",
    "    \n",
    "  features = tf.keras.layers.Concatenate()([urban_pop,\n",
    "                                            mei,\n",
    "                                            cum_sum_log_crop_residues,\n",
    "                                            cum_sum_log_rice_cultivation,\n",
    "                                            cum_sum_log_drained_organic_soils_co2,\n",
    "                                            cum_sum_log_net_forest_conversion,\n",
    "                                            cum_sum_log_fires,\n",
    "                                            cum_sum_log_manure_mgmt,\n",
    "                                            cum_sum_log_food_systems,\n",
    "                                            cum_sum_log_ippu_tot,\n",
    "                                            cum_sum_log_on_farm_energy_use,\n",
    "                                            cum_sum_forestland,\n",
    "                                            sub_region_id])\n",
    "    \n",
    "  temp = tf.keras.layers.Dense(\n",
    "      units=1, activation=None, name='Temp')(features)\n",
    "\n",
    "  model = tf.keras.Model(inputs=[urban_pop,\n",
    "                                            mei,\n",
    "                                            cum_sum_log_crop_residues,\n",
    "                                            cum_sum_log_rice_cultivation,\n",
    "                                            cum_sum_log_drained_organic_soils_co2,\n",
    "                                            cum_sum_log_net_forest_conversion,\n",
    "                                            cum_sum_log_fires,\n",
    "                                            cum_sum_log_manure_mgmt,\n",
    "                                            cum_sum_log_food_systems,\n",
    "                                            cum_sum_log_ippu_tot,\n",
    "                                            cum_sum_log_on_farm_energy_use,\n",
    "                                            cum_sum_forestland,\n",
    "                                            sub_region],\n",
    "                         outputs=temp,\n",
    "                         name='Model_6')\n",
    "  \n",
    "  initial_learning_rate = 0.001\n",
    "  lr_schedule = tf.keras.optimizers.schedules.ExponentialDecay(\n",
    "    initial_learning_rate,\n",
    "    decay_steps=100000,\n",
    "    decay_rate=0.96,\n",
    "    staircase=True)\n",
    "\n",
    "  model.compile(\n",
    "      optimizer=tf.keras.optimizers.Adam(learning_rate=lr_schedule),\n",
    "      loss=tf.keras.losses.MeanAbsoluteError(),\n",
    "      metrics=tf.keras.metrics.RootMeanSquaredError()\n",
    "      )\n",
    "\n",
    "  return model"
   ]
  },
  {
   "cell_type": "code",
   "execution_count": 17,
   "id": "3dc4bb68-c12c-40ba-a4ed-1aa737226233",
   "metadata": {},
   "outputs": [
    {
     "name": "stdout",
     "output_type": "stream",
     "text": [
      "Model: \"Model_6\"\n",
      "__________________________________________________________________________________________________\n",
      " Layer (type)                Output Shape                 Param #   Connected to                  \n",
      "==================================================================================================\n",
      " Sub Region (InputLayer)     [(None, 1)]                  0         []                            \n",
      "                                                                                                  \n",
      " Urban Population (InputLay  [(None, 1)]                  0         []                            \n",
      " er)                                                                                              \n",
      "                                                                                                  \n",
      " MEI (InputLayer)            [(None, 1)]                  0         []                            \n",
      "                                                                                                  \n",
      " Crop Residues (InputLayer)  [(None, 1)]                  0         []                            \n",
      "                                                                                                  \n",
      " Rice Cultivation (InputLay  [(None, 1)]                  0         []                            \n",
      " er)                                                                                              \n",
      "                                                                                                  \n",
      " Drained Organic Soils CO2   [(None, 1)]                  0         []                            \n",
      " (InputLayer)                                                                                     \n",
      "                                                                                                  \n",
      " Net Forest Conversion (Inp  [(None, 1)]                  0         []                            \n",
      " utLayer)                                                                                         \n",
      "                                                                                                  \n",
      " Fires (InputLayer)          [(None, 1)]                  0         []                            \n",
      "                                                                                                  \n",
      " Manure Management (InputLa  [(None, 1)]                  0         []                            \n",
      " yer)                                                                                             \n",
      "                                                                                                  \n",
      " Food Systems (InputLayer)   [(None, 1)]                  0         []                            \n",
      "                                                                                                  \n",
      " IPPU Total (InputLayer)     [(None, 1)]                  0         []                            \n",
      "                                                                                                  \n",
      " On Farm Energy Use (InputL  [(None, 1)]                  0         []                            \n",
      " ayer)                                                                                            \n",
      "                                                                                                  \n",
      " Forestland (InputLayer)     [(None, 1)]                  0         []                            \n",
      "                                                                                                  \n",
      " string_lookup (StringLooku  (None, 18)                   0         ['Sub Region[0][0]']          \n",
      " p)                                                                                               \n",
      "                                                                                                  \n",
      " concatenate (Concatenate)   (None, 30)                   0         ['Urban Population[0][0]',    \n",
      "                                                                     'MEI[0][0]',                 \n",
      "                                                                     'Crop Residues[0][0]',       \n",
      "                                                                     'Rice Cultivation[0][0]',    \n",
      "                                                                     'Drained Organic Soils CO2[0]\n",
      "                                                                    [0]',                         \n",
      "                                                                     'Net Forest Conversion[0][0]'\n",
      "                                                                    , 'Fires[0][0]',              \n",
      "                                                                     'Manure Management[0][0]',   \n",
      "                                                                     'Food Systems[0][0]',        \n",
      "                                                                     'IPPU Total[0][0]',          \n",
      "                                                                     'On Farm Energy Use[0][0]',  \n",
      "                                                                     'Forestland[0][0]',          \n",
      "                                                                     'string_lookup[0][0]']       \n",
      "                                                                                                  \n",
      " Temp (Dense)                (None, 1)                    31        ['concatenate[0][0]']         \n",
      "                                                                                                  \n",
      "==================================================================================================\n",
      "Total params: 31 (124.00 Byte)\n",
      "Trainable params: 31 (124.00 Byte)\n",
      "Non-trainable params: 0 (0.00 Byte)\n",
      "__________________________________________________________________________________________________\n"
     ]
    },
    {
     "data": {
      "image/png": "[encoded data removed]",
      "text/plain": [
       "<Figure size 640x480 with 1 Axes>"
      ]
     },
     "metadata": {},
     "output_type": "display_data"
    },
    {
     "name": "stdout",
     "output_type": "stream",
     "text": [
      "final train mae: 0.320\n",
      "final val mae:   0.333\n",
      "final train rmse: 0.435\n",
      "final train rmse: 0.427\n"
     ]
    }
   ],
   "source": [
    "model_6 = build_model_6()\n",
    "model_6.summary()\n",
    "\n",
    "history = model_6.fit(\n",
    "  x={\n",
    "      'Urban Population': x_train[['urban_population']],\n",
    "      'MEI': x_train[['mei']],\n",
    "      'Crop Residues': x_train[['cum_sum_log_crop_residues']],\n",
    "      'Rice Cultivation': x_train[['cum_sum_log_rice_cultivation']],\n",
    "      'Drained Organic Soils CO2': x_train[['cum_sum_log_drained_organic_soils_co2']],\n",
    "      'Net Forest Conversion': x_train[['cum_sum_log_net_forest_conversion']],\n",
    "      'Fires': x_train[['cum_sum_log_fires']],\n",
    "      'Manure Management': x_train[['cum_sum_log_manure_mgmt']],\n",
    "      'Food Systems': x_train[['cum_sum_log_food_systems']],\n",
    "      'IPPU Total': x_train[['cum_sum_log_ippu_tot']],\n",
    "      'On Farm Energy Use': x_train[['cum_sum_log_on_farm_energy_use']],\n",
    "      'Forestland': x_train[['cum_sum_forestland']],\n",
    "      'Sub Region': x_train[['sub-region']]\n",
    "    },\n",
    "  y=Y_train[['average_temperature_°c']],\n",
    "  epochs=200,\n",
    "  batch_size=400,\n",
    "  validation_data=(\n",
    "      {\n",
    "      'Urban Population': x_val[['urban_population']],\n",
    "      'MEI': x_val[['mei']],\n",
    "      'Crop Residues': x_val[['cum_sum_log_crop_residues']],\n",
    "      'Rice Cultivation': x_val[['cum_sum_log_rice_cultivation']],\n",
    "      'Drained Organic Soils CO2': x_val[['cum_sum_log_drained_organic_soils_co2']],\n",
    "      'Net Forest Conversion': x_val[['cum_sum_log_net_forest_conversion']],\n",
    "      'Fires': x_val[['cum_sum_log_fires']],\n",
    "      'Manure Management': x_val[['cum_sum_log_manure_mgmt']],\n",
    "      'Food Systems': x_val[['cum_sum_log_food_systems']],\n",
    "      'IPPU Total': x_val[['cum_sum_log_ippu_tot']],\n",
    "      'On Farm Energy Use': x_val[['cum_sum_log_on_farm_energy_use']],\n",
    "      'Forestland': x_val[['cum_sum_forestland']],\n",
    "      'Sub Region': x_val[['sub-region']]\n",
    "      },\n",
    "      Y_val[['average_temperature_°c']]),\n",
    "  verbose=0)\n",
    "\n",
    "show_history(history)"
   ]
  },
  {
   "cell_type": "markdown",
   "id": "31c6a942-da89-487d-ba6c-663ee6db7fca",
   "metadata": {},
   "source": [
    "### Model 7: FFNN (1 Hidden Layer)\n",
    "\n",
    "</br> Input - MEI, Urban Pop, All CO2 emission inputs\n",
    "</br>Output - Avg Temp\n",
    "</br>1 Hidden Layer Size: 128\n",
    "</br>Includes exponential decay LR scheduler\n",
    "</br> Did not include dropout layer since dropout led to underfitting (val loss was lower than train loss)"
   ]
  },
  {
   "cell_type": "code",
   "execution_count": 18,
   "id": "eaad2c54-338b-41f6-917e-7d98633e827a",
   "metadata": {},
   "outputs": [],
   "source": [
    "def build_model_7():\n",
    "  # Clear session and remove randomness.\n",
    "  tf.keras.backend.clear_session()\n",
    "  tf.random.set_seed(0)\n",
    "\n",
    "  urban_pop = tf.keras.layers.Input(shape=(1,), dtype=tf.float64, name='Urban Population')\n",
    "  mei = tf.keras.layers.Input(shape=(1,), dtype=tf.float64, name='MEI')\n",
    "  cum_sum_log_crop_residues = tf.keras.layers.Input(shape=(1,), dtype=tf.float64, name='Crop Residues')\n",
    "  cum_sum_log_rice_cultivation = tf.keras.layers.Input(shape=(1,), dtype=tf.float64, name='Rice Cultivation')\n",
    "  cum_sum_log_drained_organic_soils_co2 = tf.keras.layers.Input(shape=(1,), dtype=tf.float64, name='Drained Organic Soils CO2')\n",
    "  cum_sum_log_net_forest_conversion = tf.keras.layers.Input(shape=(1,), dtype=tf.float64, name='Net Forest Conversion')\n",
    "  cum_sum_log_fires = tf.keras.layers.Input(shape=(1,), dtype=tf.float64, name='Fires')\n",
    "  cum_sum_log_manure_mgmt = tf.keras.layers.Input(shape=(1,), dtype=tf.float64, name='Manure Management')\n",
    "  cum_sum_log_food_systems = tf.keras.layers.Input(shape=(1,), dtype=tf.float64, name='Food Systems')\n",
    "  cum_sum_log_ippu_tot = tf.keras.layers.Input(shape=(1,), dtype=tf.float64, name='IPPU Total')\n",
    "  cum_sum_log_on_farm_energy_use = tf.keras.layers.Input(shape=(1,), dtype=tf.float64, name='On Farm Energy Use')\n",
    "  cum_sum_forestland = tf.keras.layers.Input(shape=(1,), dtype=tf.float64, name='Forestland')\n",
    "  sub_region = tf.keras.layers.Input(shape=(1,), dtype=tf.string, name='Sub Region')\n",
    "    \n",
    "  sub_region_id = tf.keras.layers.StringLookup(vocabulary=['Southern Asia', 'Southern Europe', \n",
    "                                                           'Northern Africa', 'Polynesia',\n",
    "                                                           'Sub-Saharan Africa', 'Latin America and the Caribbean',\n",
    "                                                           'Australia and New Zealand', 'Western Europe', \n",
    "                                                           'Western Asia','Northern America', 'South-eastern Asia', \n",
    "                                                           'Eastern Europe','Northern Europe', 'Eastern Asia', \n",
    "                                                           'Melanesia','Micronesia', 'Central Asia'], \n",
    "                                               output_mode='one_hot')(sub_region)\n",
    "    \n",
    "  features = tf.keras.layers.Concatenate()([urban_pop,\n",
    "                                            mei,\n",
    "                                            cum_sum_log_crop_residues,\n",
    "                                            cum_sum_log_rice_cultivation,\n",
    "                                            cum_sum_log_drained_organic_soils_co2,\n",
    "                                            cum_sum_log_net_forest_conversion,\n",
    "                                            cum_sum_log_fires,\n",
    "                                            cum_sum_log_manure_mgmt,\n",
    "                                            cum_sum_log_food_systems,\n",
    "                                            cum_sum_log_ippu_tot,\n",
    "                                            cum_sum_log_on_farm_energy_use,\n",
    "                                            cum_sum_forestland,\n",
    "                                            sub_region_id])\n",
    "  \n",
    "  hidden_1 = tf.keras.layers.Dense(\n",
    "      units=128, activation='relu', name='Hidden_Layer_1')(features)\n",
    "  \n",
    "  temp = tf.keras.layers.Dense(\n",
    "      units=1, activation=None, name='Temp')(hidden_1)\n",
    "\n",
    "  model = tf.keras.Model(inputs=[urban_pop,\n",
    "                                            mei,\n",
    "                                            cum_sum_log_crop_residues,\n",
    "                                            cum_sum_log_rice_cultivation,\n",
    "                                            cum_sum_log_drained_organic_soils_co2,\n",
    "                                            cum_sum_log_net_forest_conversion,\n",
    "                                            cum_sum_log_fires,\n",
    "                                            cum_sum_log_manure_mgmt,\n",
    "                                            cum_sum_log_food_systems,\n",
    "                                            cum_sum_log_ippu_tot,\n",
    "                                            cum_sum_log_on_farm_energy_use,\n",
    "                                            cum_sum_forestland,\n",
    "                                            sub_region],\n",
    "                         outputs=temp,\n",
    "                         name='Model_7')\n",
    "  \n",
    "  initial_learning_rate = 0.00001\n",
    "  lr_schedule = tf.keras.optimizers.schedules.ExponentialDecay(\n",
    "    initial_learning_rate,\n",
    "    decay_steps=100000,\n",
    "    decay_rate=0.96,\n",
    "    staircase=True)\n",
    "\n",
    "  model.compile(\n",
    "      optimizer=tf.keras.optimizers.Adam(learning_rate=lr_schedule),\n",
    "      loss=tf.keras.losses.MeanAbsoluteError(),\n",
    "      metrics=tf.keras.metrics.RootMeanSquaredError()\n",
    "      )\n",
    "\n",
    "  return model"
   ]
  },
  {
   "cell_type": "code",
   "execution_count": 19,
   "id": "8848f88d-5c47-4d26-a497-6b7dea031996",
   "metadata": {},
   "outputs": [
    {
     "name": "stdout",
     "output_type": "stream",
     "text": [
      "Model: \"Model_7\"\n",
      "__________________________________________________________________________________________________\n",
      " Layer (type)                Output Shape                 Param #   Connected to                  \n",
      "==================================================================================================\n",
      " Sub Region (InputLayer)     [(None, 1)]                  0         []                            \n",
      "                                                                                                  \n",
      " Urban Population (InputLay  [(None, 1)]                  0         []                            \n",
      " er)                                                                                              \n",
      "                                                                                                  \n",
      " MEI (InputLayer)            [(None, 1)]                  0         []                            \n",
      "                                                                                                  \n",
      " Crop Residues (InputLayer)  [(None, 1)]                  0         []                            \n",
      "                                                                                                  \n",
      " Rice Cultivation (InputLay  [(None, 1)]                  0         []                            \n",
      " er)                                                                                              \n",
      "                                                                                                  \n",
      " Drained Organic Soils CO2   [(None, 1)]                  0         []                            \n",
      " (InputLayer)                                                                                     \n",
      "                                                                                                  \n",
      " Net Forest Conversion (Inp  [(None, 1)]                  0         []                            \n",
      " utLayer)                                                                                         \n",
      "                                                                                                  \n",
      " Fires (InputLayer)          [(None, 1)]                  0         []                            \n",
      "                                                                                                  \n",
      " Manure Management (InputLa  [(None, 1)]                  0         []                            \n",
      " yer)                                                                                             \n",
      "                                                                                                  \n",
      " Food Systems (InputLayer)   [(None, 1)]                  0         []                            \n",
      "                                                                                                  \n",
      " IPPU Total (InputLayer)     [(None, 1)]                  0         []                            \n",
      "                                                                                                  \n",
      " On Farm Energy Use (InputL  [(None, 1)]                  0         []                            \n",
      " ayer)                                                                                            \n",
      "                                                                                                  \n",
      " Forestland (InputLayer)     [(None, 1)]                  0         []                            \n",
      "                                                                                                  \n",
      " string_lookup (StringLooku  (None, 18)                   0         ['Sub Region[0][0]']          \n",
      " p)                                                                                               \n",
      "                                                                                                  \n",
      " concatenate (Concatenate)   (None, 30)                   0         ['Urban Population[0][0]',    \n",
      "                                                                     'MEI[0][0]',                 \n",
      "                                                                     'Crop Residues[0][0]',       \n",
      "                                                                     'Rice Cultivation[0][0]',    \n",
      "                                                                     'Drained Organic Soils CO2[0]\n",
      "                                                                    [0]',                         \n",
      "                                                                     'Net Forest Conversion[0][0]'\n",
      "                                                                    , 'Fires[0][0]',              \n",
      "                                                                     'Manure Management[0][0]',   \n",
      "                                                                     'Food Systems[0][0]',        \n",
      "                                                                     'IPPU Total[0][0]',          \n",
      "                                                                     'On Farm Energy Use[0][0]',  \n",
      "                                                                     'Forestland[0][0]',          \n",
      "                                                                     'string_lookup[0][0]']       \n",
      "                                                                                                  \n",
      " Hidden_Layer_1 (Dense)      (None, 128)                  3968      ['concatenate[0][0]']         \n",
      "                                                                                                  \n",
      " Temp (Dense)                (None, 1)                    129       ['Hidden_Layer_1[0][0]']      \n",
      "                                                                                                  \n",
      "==================================================================================================\n",
      "Total params: 4097 (16.00 KB)\n",
      "Trainable params: 4097 (16.00 KB)\n",
      "Non-trainable params: 0 (0.00 Byte)\n",
      "__________________________________________________________________________________________________\n"
     ]
    },
    {
     "data": {
      "image/png": "[encoded data removed]",
      "text/plain": [
       "<Figure size 640x480 with 1 Axes>"
      ]
     },
     "metadata": {},
     "output_type": "display_data"
    },
    {
     "name": "stdout",
     "output_type": "stream",
     "text": [
      "final train mae: 0.285\n",
      "final val mae:   0.329\n",
      "final train rmse: 0.398\n",
      "final train rmse: 0.414\n"
     ]
    }
   ],
   "source": [
    "model_7 = build_model_7()\n",
    "model_7.summary()\n",
    "\n",
    "history = model_7.fit(\n",
    "  x={\n",
    "      'Urban Population': x_train[['urban_population']],\n",
    "      'MEI': x_train[['mei']],\n",
    "      'Crop Residues': x_train[['cum_sum_log_crop_residues']],\n",
    "      'Rice Cultivation': x_train[['cum_sum_log_rice_cultivation']],\n",
    "      'Drained Organic Soils CO2': x_train[['cum_sum_log_drained_organic_soils_co2']],\n",
    "      'Net Forest Conversion': x_train[['cum_sum_log_net_forest_conversion']],\n",
    "      'Fires': x_train[['cum_sum_log_fires']],\n",
    "      'Manure Management': x_train[['cum_sum_log_manure_mgmt']],\n",
    "      'Food Systems': x_train[['cum_sum_log_food_systems']],\n",
    "      'IPPU Total': x_train[['cum_sum_log_ippu_tot']],\n",
    "      'On Farm Energy Use': x_train[['cum_sum_log_on_farm_energy_use']],\n",
    "      'Forestland': x_train[['cum_sum_forestland']],\n",
    "      'Sub Region': x_train[['sub-region']]\n",
    "    },\n",
    "  y=Y_train[['average_temperature_°c']],\n",
    "  epochs=1600,\n",
    "  batch_size=600,\n",
    "  validation_data=(\n",
    "      {\n",
    "      'Urban Population': x_val[['urban_population']],\n",
    "      'MEI': x_val[['mei']],\n",
    "      'Crop Residues': x_val[['cum_sum_log_crop_residues']],\n",
    "      'Rice Cultivation': x_val[['cum_sum_log_rice_cultivation']],\n",
    "      'Drained Organic Soils CO2': x_val[['cum_sum_log_drained_organic_soils_co2']],\n",
    "      'Net Forest Conversion': x_val[['cum_sum_log_net_forest_conversion']],\n",
    "      'Fires': x_val[['cum_sum_log_fires']],\n",
    "      'Manure Management': x_val[['cum_sum_log_manure_mgmt']],\n",
    "      'Food Systems': x_val[['cum_sum_log_food_systems']],\n",
    "      'IPPU Total': x_val[['cum_sum_log_ippu_tot']],\n",
    "      'On Farm Energy Use': x_val[['cum_sum_log_on_farm_energy_use']],\n",
    "      'Forestland': x_val[['cum_sum_forestland']],\n",
    "      'Sub Region': x_val[['sub-region']]\n",
    "      },\n",
    "      Y_val[['average_temperature_°c']]),\n",
    "  verbose=0)\n",
    "\n",
    "show_history(history)"
   ]
  },
  {
   "cell_type": "markdown",
   "id": "dfbaa729-f040-4741-b13e-815ee5492292",
   "metadata": {},
   "source": [
    "### Model 8: FFNN (2 Hidden Layers)\n",
    "\n",
    "</br> Input - MEI, Urban Pop, All CO2 emission inputs\n",
    "</br>Output - Avg Temp\n",
    "</br>1st Hidden Layer Size: 128\n",
    "</br>2nd Hidden Layer Size: 128\n",
    "</br>Includes exponential decay LR scheduler\n",
    "</br> Did not include dropout layer since dropout led to underfitting (val loss was lower than train loss)"
   ]
  },
  {
   "cell_type": "code",
   "execution_count": 20,
   "id": "385dd097-9f8e-4989-8895-f5cbdc06562a",
   "metadata": {},
   "outputs": [],
   "source": [
    "def build_model_8():\n",
    "  # Clear session and remove randomness.\n",
    "  tf.keras.backend.clear_session()\n",
    "  tf.random.set_seed(0)\n",
    "\n",
    "  urban_pop = tf.keras.layers.Input(shape=(1,), dtype=tf.float64, name='Urban Population')\n",
    "  mei = tf.keras.layers.Input(shape=(1,), dtype=tf.float64, name='MEI')\n",
    "  cum_sum_log_crop_residues = tf.keras.layers.Input(shape=(1,), dtype=tf.float64, name='Crop Residues')\n",
    "  cum_sum_log_rice_cultivation = tf.keras.layers.Input(shape=(1,), dtype=tf.float64, name='Rice Cultivation')\n",
    "  cum_sum_log_drained_organic_soils_co2 = tf.keras.layers.Input(shape=(1,), dtype=tf.float64, name='Drained Organic Soils CO2')\n",
    "  cum_sum_log_net_forest_conversion = tf.keras.layers.Input(shape=(1,), dtype=tf.float64, name='Net Forest Conversion')\n",
    "  cum_sum_log_fires = tf.keras.layers.Input(shape=(1,), dtype=tf.float64, name='Fires')\n",
    "  cum_sum_log_manure_mgmt = tf.keras.layers.Input(shape=(1,), dtype=tf.float64, name='Manure Management')\n",
    "  cum_sum_log_food_systems = tf.keras.layers.Input(shape=(1,), dtype=tf.float64, name='Food Systems')\n",
    "  cum_sum_log_ippu_tot = tf.keras.layers.Input(shape=(1,), dtype=tf.float64, name='IPPU Total')\n",
    "  cum_sum_log_on_farm_energy_use = tf.keras.layers.Input(shape=(1,), dtype=tf.float64, name='On Farm Energy Use')\n",
    "  cum_sum_forestland = tf.keras.layers.Input(shape=(1,), dtype=tf.float64, name='Forestland')\n",
    "  sub_region = tf.keras.layers.Input(shape=(1,), dtype=tf.string, name='Sub Region')\n",
    "  # region = tf.keras.layers.Input(shape=(1,), dtype=tf.string, name='Region')\n",
    "    \n",
    "  sub_region_id = tf.keras.layers.StringLookup(vocabulary=['Southern Asia', 'Southern Europe', \n",
    "                                                           'Northern Africa', 'Polynesia',\n",
    "                                                           'Sub-Saharan Africa', 'Latin America and the Caribbean',\n",
    "                                                           'Australia and New Zealand', 'Western Europe', \n",
    "                                                           'Western Asia','Northern America', 'South-eastern Asia', \n",
    "                                                           'Eastern Europe','Northern Europe', 'Eastern Asia', \n",
    "                                                           'Melanesia','Micronesia','Central Asia'], \n",
    "                                               output_mode='one_hot')(sub_region)\n",
    "\n",
    "  # region_id = tf.keras.layers.StringLookup(vocabulary=['Asia', 'Europe', 'Africa', 'Americas', 'Oceania'], \n",
    "  #                                              output_mode='one_hot')(region)\n",
    "    \n",
    "  features = tf.keras.layers.Concatenate()([urban_pop,\n",
    "                                            mei,\n",
    "                                            cum_sum_log_crop_residues,\n",
    "                                            cum_sum_log_rice_cultivation,\n",
    "                                            cum_sum_log_drained_organic_soils_co2,\n",
    "                                            cum_sum_log_net_forest_conversion,\n",
    "                                            cum_sum_log_fires,\n",
    "                                            cum_sum_log_manure_mgmt,\n",
    "                                            cum_sum_log_food_systems,\n",
    "                                            cum_sum_log_ippu_tot,\n",
    "                                            cum_sum_log_on_farm_energy_use,\n",
    "                                            cum_sum_forestland,\n",
    "                                            sub_region_id\n",
    "                                            # , region_id\n",
    "                                           ])\n",
    "  \n",
    "  hidden_1 = tf.keras.layers.Dense(\n",
    "      units=128, activation='relu', name='Hidden_Layer_1')(features)\n",
    "\n",
    "  hidden_2 = tf.keras.layers.Dense(\n",
    "      units=128, activation='relu', name='Hidden_Layer_2')(hidden_1)\n",
    "\n",
    "  # dropout_1 = tf.keras.layers.Dropout(0.1, name='Dropout_1')(hidden_2)\n",
    "  \n",
    "  temp = tf.keras.layers.Dense(\n",
    "      units=1, activation=None, name='Temp')(hidden_2)\n",
    "\n",
    "  model = tf.keras.Model(inputs=[urban_pop,\n",
    "                                            mei,\n",
    "                                            cum_sum_log_crop_residues,\n",
    "                                            cum_sum_log_rice_cultivation,\n",
    "                                            cum_sum_log_drained_organic_soils_co2,\n",
    "                                            cum_sum_log_net_forest_conversion,\n",
    "                                            cum_sum_log_fires,\n",
    "                                            cum_sum_log_manure_mgmt,\n",
    "                                            cum_sum_log_food_systems,\n",
    "                                            cum_sum_log_ippu_tot,\n",
    "                                            cum_sum_log_on_farm_energy_use,\n",
    "                                            cum_sum_forestland,\n",
    "                                            sub_region\n",
    "                                            # , region\n",
    "                                            ],\n",
    "                         outputs=temp,\n",
    "                         name='Model_8')\n",
    "  \n",
    "  initial_learning_rate = 0.00001\n",
    "  lr_schedule = tf.keras.optimizers.schedules.ExponentialDecay(\n",
    "    initial_learning_rate,\n",
    "    decay_steps=100000,\n",
    "    decay_rate=0.96,\n",
    "    staircase=True)\n",
    "\n",
    "  model.compile(\n",
    "      optimizer=tf.keras.optimizers.Adam(learning_rate=lr_schedule),\n",
    "      loss=tf.keras.losses.MeanAbsoluteError(),\n",
    "      metrics=tf.keras.metrics.RootMeanSquaredError()\n",
    "      )\n",
    "\n",
    "  return model"
   ]
  },
  {
   "cell_type": "code",
   "execution_count": 21,
   "id": "7a6d3630-0588-42fa-83ce-9b9f6b2a64fd",
   "metadata": {},
   "outputs": [
    {
     "name": "stdout",
     "output_type": "stream",
     "text": [
      "Model: \"Model_8\"\n",
      "__________________________________________________________________________________________________\n",
      " Layer (type)                Output Shape                 Param #   Connected to                  \n",
      "==================================================================================================\n",
      " Sub Region (InputLayer)     [(None, 1)]                  0         []                            \n",
      "                                                                                                  \n",
      " Urban Population (InputLay  [(None, 1)]                  0         []                            \n",
      " er)                                                                                              \n",
      "                                                                                                  \n",
      " MEI (InputLayer)            [(None, 1)]                  0         []                            \n",
      "                                                                                                  \n",
      " Crop Residues (InputLayer)  [(None, 1)]                  0         []                            \n",
      "                                                                                                  \n",
      " Rice Cultivation (InputLay  [(None, 1)]                  0         []                            \n",
      " er)                                                                                              \n",
      "                                                                                                  \n",
      " Drained Organic Soils CO2   [(None, 1)]                  0         []                            \n",
      " (InputLayer)                                                                                     \n",
      "                                                                                                  \n",
      " Net Forest Conversion (Inp  [(None, 1)]                  0         []                            \n",
      " utLayer)                                                                                         \n",
      "                                                                                                  \n",
      " Fires (InputLayer)          [(None, 1)]                  0         []                            \n",
      "                                                                                                  \n",
      " Manure Management (InputLa  [(None, 1)]                  0         []                            \n",
      " yer)                                                                                             \n",
      "                                                                                                  \n",
      " Food Systems (InputLayer)   [(None, 1)]                  0         []                            \n",
      "                                                                                                  \n",
      " IPPU Total (InputLayer)     [(None, 1)]                  0         []                            \n",
      "                                                                                                  \n",
      " On Farm Energy Use (InputL  [(None, 1)]                  0         []                            \n",
      " ayer)                                                                                            \n",
      "                                                                                                  \n",
      " Forestland (InputLayer)     [(None, 1)]                  0         []                            \n",
      "                                                                                                  \n",
      " string_lookup (StringLooku  (None, 18)                   0         ['Sub Region[0][0]']          \n",
      " p)                                                                                               \n",
      "                                                                                                  \n",
      " concatenate (Concatenate)   (None, 30)                   0         ['Urban Population[0][0]',    \n",
      "                                                                     'MEI[0][0]',                 \n",
      "                                                                     'Crop Residues[0][0]',       \n",
      "                                                                     'Rice Cultivation[0][0]',    \n",
      "                                                                     'Drained Organic Soils CO2[0]\n",
      "                                                                    [0]',                         \n",
      "                                                                     'Net Forest Conversion[0][0]'\n",
      "                                                                    , 'Fires[0][0]',              \n",
      "                                                                     'Manure Management[0][0]',   \n",
      "                                                                     'Food Systems[0][0]',        \n",
      "                                                                     'IPPU Total[0][0]',          \n",
      "                                                                     'On Farm Energy Use[0][0]',  \n",
      "                                                                     'Forestland[0][0]',          \n",
      "                                                                     'string_lookup[0][0]']       \n",
      "                                                                                                  \n",
      " Hidden_Layer_1 (Dense)      (None, 128)                  3968      ['concatenate[0][0]']         \n",
      "                                                                                                  \n",
      " Hidden_Layer_2 (Dense)      (None, 128)                  16512     ['Hidden_Layer_1[0][0]']      \n",
      "                                                                                                  \n",
      " Temp (Dense)                (None, 1)                    129       ['Hidden_Layer_2[0][0]']      \n",
      "                                                                                                  \n",
      "==================================================================================================\n",
      "Total params: 20609 (80.50 KB)\n",
      "Trainable params: 20609 (80.50 KB)\n",
      "Non-trainable params: 0 (0.00 Byte)\n",
      "__________________________________________________________________________________________________\n"
     ]
    },
    {
     "data": {
      "image/png": "[encoded data removed]",
      "text/plain": [
       "<Figure size 640x480 with 1 Axes>"
      ]
     },
     "metadata": {},
     "output_type": "display_data"
    },
    {
     "name": "stdout",
     "output_type": "stream",
     "text": [
      "final train mae: 0.258\n",
      "final val mae:   0.317\n",
      "final train rmse: 0.372\n",
      "final train rmse: 0.397\n"
     ]
    }
   ],
   "source": [
    "model_8 = build_model_8()\n",
    "model_8.summary()\n",
    "\n",
    "history = model_8.fit(\n",
    "  x={\n",
    "      'Urban Population': x_train[['urban_population']],\n",
    "      'MEI': x_train[['mei']],\n",
    "      'Crop Residues': x_train[['cum_sum_log_crop_residues']],\n",
    "      'Rice Cultivation': x_train[['cum_sum_log_rice_cultivation']],\n",
    "      'Drained Organic Soils CO2': x_train[['cum_sum_log_drained_organic_soils_co2']],\n",
    "      'Net Forest Conversion': x_train[['cum_sum_log_net_forest_conversion']],\n",
    "      'Fires': x_train[['cum_sum_log_fires']],\n",
    "      'Manure Management': x_train[['cum_sum_log_manure_mgmt']],\n",
    "      'Food Systems': x_train[['cum_sum_log_food_systems']],\n",
    "      'IPPU Total': x_train[['cum_sum_log_ippu_tot']],\n",
    "      'On Farm Energy Use': x_train[['cum_sum_log_on_farm_energy_use']],\n",
    "      'Forestland': x_train[['cum_sum_forestland']],\n",
    "      'Sub Region': x_train[['sub-region']]\n",
    "      # ,\n",
    "      # 'Region': x_train[['region']]\n",
    "    },\n",
    "  y=Y_train[['average_temperature_°c']],\n",
    "  epochs=1600,\n",
    "  batch_size=500,\n",
    "  validation_data=(\n",
    "      {\n",
    "      'Urban Population': x_val[['urban_population']],\n",
    "      'MEI': x_val[['mei']],\n",
    "      'Crop Residues': x_val[['cum_sum_log_crop_residues']],\n",
    "      'Rice Cultivation': x_val[['cum_sum_log_rice_cultivation']],\n",
    "      'Drained Organic Soils CO2': x_val[['cum_sum_log_drained_organic_soils_co2']],\n",
    "      'Net Forest Conversion': x_val[['cum_sum_log_net_forest_conversion']],\n",
    "      'Fires': x_val[['cum_sum_log_fires']],\n",
    "      'Manure Management': x_val[['cum_sum_log_manure_mgmt']],\n",
    "      'Food Systems': x_val[['cum_sum_log_food_systems']],\n",
    "      'IPPU Total': x_val[['cum_sum_log_ippu_tot']],\n",
    "      'On Farm Energy Use': x_val[['cum_sum_log_on_farm_energy_use']],\n",
    "      'Forestland': x_val[['cum_sum_forestland']],\n",
    "      'Sub Region': x_val[['sub-region']]\n",
    "      #     ,\n",
    "      # 'Region': x_val[['region']]\n",
    "      },\n",
    "      Y_val[['average_temperature_°c']]),\n",
    "  verbose=0)\n",
    "\n",
    "show_history(history)"
   ]
  },
  {
   "cell_type": "markdown",
   "id": "0e363df0-f397-4d03-87f2-d27c0ebb5168",
   "metadata": {},
   "source": [
    "### Model 9: FFNN (3 Hidden Layers)\n",
    "\n",
    "</br> Input - MEI, Urban Pop, All CO2 emission inputs\n",
    "</br>Output - Avg Temp\n",
    "</br>1st Hidden Layer Size: 128\n",
    "</br>2nd Hidden Layer Size: 128\n",
    "</br>3rd Hidden Layer Size: 128\n",
    "</br>Includes exponential decay LR scheduler\n",
    "</br> Did not include dropout layer since dropout led to underfitting (val loss was lower than train loss)"
   ]
  },
  {
   "cell_type": "code",
   "execution_count": 22,
   "id": "56650026-611d-4d5e-9a9b-983ed290f985",
   "metadata": {},
   "outputs": [],
   "source": [
    "def build_model_9():\n",
    "  # Clear session and remove randomness.\n",
    "  tf.keras.backend.clear_session()\n",
    "  tf.random.set_seed(0)\n",
    "\n",
    "  urban_pop = tf.keras.layers.Input(shape=(1,), dtype=tf.float64, name='Urban Population')\n",
    "  mei = tf.keras.layers.Input(shape=(1,), dtype=tf.float64, name='MEI')\n",
    "  cum_sum_log_crop_residues = tf.keras.layers.Input(shape=(1,), dtype=tf.float64, name='Crop Residues')\n",
    "  cum_sum_log_rice_cultivation = tf.keras.layers.Input(shape=(1,), dtype=tf.float64, name='Rice Cultivation')\n",
    "  cum_sum_log_drained_organic_soils_co2 = tf.keras.layers.Input(shape=(1,), dtype=tf.float64, name='Drained Organic Soils CO2')\n",
    "  cum_sum_log_net_forest_conversion = tf.keras.layers.Input(shape=(1,), dtype=tf.float64, name='Net Forest Conversion')\n",
    "  cum_sum_log_fires = tf.keras.layers.Input(shape=(1,), dtype=tf.float64, name='Fires')\n",
    "  cum_sum_log_manure_mgmt = tf.keras.layers.Input(shape=(1,), dtype=tf.float64, name='Manure Management')\n",
    "  cum_sum_log_food_systems = tf.keras.layers.Input(shape=(1,), dtype=tf.float64, name='Food Systems')\n",
    "  cum_sum_log_ippu_tot = tf.keras.layers.Input(shape=(1,), dtype=tf.float64, name='IPPU Total')\n",
    "  cum_sum_log_on_farm_energy_use = tf.keras.layers.Input(shape=(1,), dtype=tf.float64, name='On Farm Energy Use')\n",
    "  cum_sum_forestland = tf.keras.layers.Input(shape=(1,), dtype=tf.float64, name='Forestland')\n",
    "  sub_region = tf.keras.layers.Input(shape=(1,), dtype=tf.string, name='Sub Region')\n",
    "  # region = tf.keras.layers.Input(shape=(1,), dtype=tf.string, name='Region')\n",
    "    \n",
    "  sub_region_id = tf.keras.layers.StringLookup(vocabulary=['Southern Asia', 'Southern Europe', \n",
    "                                                           'Northern Africa', 'Polynesia',\n",
    "                                                           'Sub-Saharan Africa', 'Latin America and the Caribbean',\n",
    "                                                           'Australia and New Zealand', 'Western Europe', \n",
    "                                                           'Western Asia','Northern America', 'South-eastern Asia', \n",
    "                                                           'Eastern Europe','Northern Europe', 'Eastern Asia', \n",
    "                                                           'Melanesia','Micronesia','Central Asia'], \n",
    "                                               output_mode='one_hot')(sub_region)\n",
    "\n",
    "  # region_id = tf.keras.layers.StringLookup(vocabulary=['Asia', 'Europe', 'Africa', 'Americas', 'Oceania'], \n",
    "  #                                              output_mode='one_hot')(region)\n",
    "    \n",
    "  features = tf.keras.layers.Concatenate()([urban_pop,\n",
    "                                            mei,\n",
    "                                            cum_sum_log_crop_residues,\n",
    "                                            cum_sum_log_rice_cultivation,\n",
    "                                            cum_sum_log_drained_organic_soils_co2,\n",
    "                                            cum_sum_log_net_forest_conversion,\n",
    "                                            cum_sum_log_fires,\n",
    "                                            cum_sum_log_manure_mgmt,\n",
    "                                            cum_sum_log_food_systems,\n",
    "                                            cum_sum_log_ippu_tot,\n",
    "                                            cum_sum_log_on_farm_energy_use,\n",
    "                                            cum_sum_forestland,\n",
    "                                            sub_region_id\n",
    "                                            # , region_id\n",
    "                                           ])\n",
    "  \n",
    "  hidden_1 = tf.keras.layers.Dense(\n",
    "      units=128, activation='relu', name='Hidden_Layer_1')(features)\n",
    "\n",
    "  hidden_2 = tf.keras.layers.Dense(\n",
    "      units=128, activation='relu', name='Hidden_Layer_2')(hidden_1)\n",
    "\n",
    "  hidden_3 = tf.keras.layers.Dense(\n",
    "      units=128, activation='relu', name='Hidden_Layer_3')(hidden_2)\n",
    "\n",
    "  # dropout_1 = tf.keras.layers.Dropout(0.1, name='Dropout_1')(hidden_2)\n",
    "  \n",
    "  temp = tf.keras.layers.Dense(\n",
    "      units=1, activation=None, name='Temp')(hidden_3)\n",
    "\n",
    "  model = tf.keras.Model(inputs=[urban_pop,\n",
    "                                            mei,\n",
    "                                            cum_sum_log_crop_residues,\n",
    "                                            cum_sum_log_rice_cultivation,\n",
    "                                            cum_sum_log_drained_organic_soils_co2,\n",
    "                                            cum_sum_log_net_forest_conversion,\n",
    "                                            cum_sum_log_fires,\n",
    "                                            cum_sum_log_manure_mgmt,\n",
    "                                            cum_sum_log_food_systems,\n",
    "                                            cum_sum_log_ippu_tot,\n",
    "                                            cum_sum_log_on_farm_energy_use,\n",
    "                                            cum_sum_forestland,\n",
    "                                            sub_region\n",
    "                                            # , region\n",
    "                                            ],\n",
    "                         outputs=temp,\n",
    "                         name='Model_9')\n",
    "  \n",
    "  initial_learning_rate = 0.000001\n",
    "  lr_schedule = tf.keras.optimizers.schedules.ExponentialDecay(\n",
    "    initial_learning_rate,\n",
    "    decay_steps=100000,\n",
    "    decay_rate=0.96,\n",
    "    staircase=True)\n",
    "\n",
    "  model.compile(\n",
    "      optimizer=tf.keras.optimizers.Adam(learning_rate=lr_schedule),\n",
    "      loss=tf.keras.losses.MeanAbsoluteError(),\n",
    "      metrics=tf.keras.metrics.RootMeanSquaredError()\n",
    "      )\n",
    "\n",
    "  return model"
   ]
  },
  {
   "cell_type": "code",
   "execution_count": 23,
   "id": "fc30eb4c-3acf-4a67-9c68-93d186099326",
   "metadata": {},
   "outputs": [
    {
     "name": "stdout",
     "output_type": "stream",
     "text": [
      "Model: \"Model_9\"\n",
      "__________________________________________________________________________________________________\n",
      " Layer (type)                Output Shape                 Param #   Connected to                  \n",
      "==================================================================================================\n",
      " Sub Region (InputLayer)     [(None, 1)]                  0         []                            \n",
      "                                                                                                  \n",
      " Urban Population (InputLay  [(None, 1)]                  0         []                            \n",
      " er)                                                                                              \n",
      "                                                                                                  \n",
      " MEI (InputLayer)            [(None, 1)]                  0         []                            \n",
      "                                                                                                  \n",
      " Crop Residues (InputLayer)  [(None, 1)]                  0         []                            \n",
      "                                                                                                  \n",
      " Rice Cultivation (InputLay  [(None, 1)]                  0         []                            \n",
      " er)                                                                                              \n",
      "                                                                                                  \n",
      " Drained Organic Soils CO2   [(None, 1)]                  0         []                            \n",
      " (InputLayer)                                                                                     \n",
      "                                                                                                  \n",
      " Net Forest Conversion (Inp  [(None, 1)]                  0         []                            \n",
      " utLayer)                                                                                         \n",
      "                                                                                                  \n",
      " Fires (InputLayer)          [(None, 1)]                  0         []                            \n",
      "                                                                                                  \n",
      " Manure Management (InputLa  [(None, 1)]                  0         []                            \n",
      " yer)                                                                                             \n",
      "                                                                                                  \n",
      " Food Systems (InputLayer)   [(None, 1)]                  0         []                            \n",
      "                                                                                                  \n",
      " IPPU Total (InputLayer)     [(None, 1)]                  0         []                            \n",
      "                                                                                                  \n",
      " On Farm Energy Use (InputL  [(None, 1)]                  0         []                            \n",
      " ayer)                                                                                            \n",
      "                                                                                                  \n",
      " Forestland (InputLayer)     [(None, 1)]                  0         []                            \n",
      "                                                                                                  \n",
      " string_lookup (StringLooku  (None, 18)                   0         ['Sub Region[0][0]']          \n",
      " p)                                                                                               \n",
      "                                                                                                  \n",
      " concatenate (Concatenate)   (None, 30)                   0         ['Urban Population[0][0]',    \n",
      "                                                                     'MEI[0][0]',                 \n",
      "                                                                     'Crop Residues[0][0]',       \n",
      "                                                                     'Rice Cultivation[0][0]',    \n",
      "                                                                     'Drained Organic Soils CO2[0]\n",
      "                                                                    [0]',                         \n",
      "                                                                     'Net Forest Conversion[0][0]'\n",
      "                                                                    , 'Fires[0][0]',              \n",
      "                                                                     'Manure Management[0][0]',   \n",
      "                                                                     'Food Systems[0][0]',        \n",
      "                                                                     'IPPU Total[0][0]',          \n",
      "                                                                     'On Farm Energy Use[0][0]',  \n",
      "                                                                     'Forestland[0][0]',          \n",
      "                                                                     'string_lookup[0][0]']       \n",
      "                                                                                                  \n",
      " Hidden_Layer_1 (Dense)      (None, 128)                  3968      ['concatenate[0][0]']         \n",
      "                                                                                                  \n",
      " Hidden_Layer_2 (Dense)      (None, 128)                  16512     ['Hidden_Layer_1[0][0]']      \n",
      "                                                                                                  \n",
      " Hidden_Layer_3 (Dense)      (None, 128)                  16512     ['Hidden_Layer_2[0][0]']      \n",
      "                                                                                                  \n",
      " Temp (Dense)                (None, 1)                    129       ['Hidden_Layer_3[0][0]']      \n",
      "                                                                                                  \n",
      "==================================================================================================\n",
      "Total params: 37121 (145.00 KB)\n",
      "Trainable params: 37121 (145.00 KB)\n",
      "Non-trainable params: 0 (0.00 Byte)\n",
      "__________________________________________________________________________________________________\n"
     ]
    },
    {
     "data": {
      "image/png": "[encoded data removed]",
      "text/plain": [
       "<Figure size 640x480 with 1 Axes>"
      ]
     },
     "metadata": {},
     "output_type": "display_data"
    },
    {
     "name": "stdout",
     "output_type": "stream",
     "text": [
      "final train mae: 0.297\n",
      "final val mae:   0.330\n",
      "final train rmse: 0.410\n",
      "final train rmse: 0.417\n"
     ]
    }
   ],
   "source": [
    "model_9 = build_model_9()\n",
    "model_9.summary()\n",
    "\n",
    "history = model_9.fit(\n",
    "  x={\n",
    "      'Urban Population': x_train[['urban_population']],\n",
    "      'MEI': x_train[['mei']],\n",
    "      'Crop Residues': x_train[['cum_sum_log_crop_residues']],\n",
    "      'Rice Cultivation': x_train[['cum_sum_log_rice_cultivation']],\n",
    "      'Drained Organic Soils CO2': x_train[['cum_sum_log_drained_organic_soils_co2']],\n",
    "      'Net Forest Conversion': x_train[['cum_sum_log_net_forest_conversion']],\n",
    "      'Fires': x_train[['cum_sum_log_fires']],\n",
    "      'Manure Management': x_train[['cum_sum_log_manure_mgmt']],\n",
    "      'Food Systems': x_train[['cum_sum_log_food_systems']],\n",
    "      'IPPU Total': x_train[['cum_sum_log_ippu_tot']],\n",
    "      'On Farm Energy Use': x_train[['cum_sum_log_on_farm_energy_use']],\n",
    "      'Forestland': x_train[['cum_sum_forestland']],\n",
    "      'Sub Region': x_train[['sub-region']]\n",
    "      # ,\n",
    "      # 'Region': x_train[['region']]\n",
    "    },\n",
    "  y=Y_train[['average_temperature_°c']],\n",
    "  epochs=2400,\n",
    "  batch_size=400,\n",
    "  validation_data=(\n",
    "      {\n",
    "      'Urban Population': x_val[['urban_population']],\n",
    "      'MEI': x_val[['mei']],\n",
    "      'Crop Residues': x_val[['cum_sum_log_crop_residues']],\n",
    "      'Rice Cultivation': x_val[['cum_sum_log_rice_cultivation']],\n",
    "      'Drained Organic Soils CO2': x_val[['cum_sum_log_drained_organic_soils_co2']],\n",
    "      'Net Forest Conversion': x_val[['cum_sum_log_net_forest_conversion']],\n",
    "      'Fires': x_val[['cum_sum_log_fires']],\n",
    "      'Manure Management': x_val[['cum_sum_log_manure_mgmt']],\n",
    "      'Food Systems': x_val[['cum_sum_log_food_systems']],\n",
    "      'IPPU Total': x_val[['cum_sum_log_ippu_tot']],\n",
    "      'On Farm Energy Use': x_val[['cum_sum_log_on_farm_energy_use']],\n",
    "      'Forestland': x_val[['cum_sum_forestland']],\n",
    "      'Sub Region': x_val[['sub-region']]\n",
    "      #     ,\n",
    "      # 'Region': x_val[['region']]\n",
    "      },\n",
    "      Y_val[['average_temperature_°c']]),\n",
    "  verbose=0)\n",
    "\n",
    "show_history(history)"
   ]
  },
  {
   "cell_type": "markdown",
   "id": "dec480c7-9767-4982-bcfa-8161c7ed074d",
   "metadata": {},
   "source": [
    "# Decision Trees"
   ]
  },
  {
   "cell_type": "code",
   "execution_count": 80,
   "id": "56e21d25-0637-4f2c-a69a-0bb943d61d3c",
   "metadata": {},
   "outputs": [],
   "source": [
    "from sklearn.tree import DecisionTreeRegressor\n",
    "from sklearn.ensemble import RandomForestRegressor\n",
    "from sklearn.ensemble import ExtraTreesRegressor\n",
    "from sklearn.metrics import mean_absolute_error as mae\n",
    "from sklearn.metrics import mean_squared_error as mse"
   ]
  },
  {
   "cell_type": "markdown",
   "id": "2bb80f6d-8d03-4b9c-b3e7-3595028d51fb",
   "metadata": {},
   "source": [
    "### Model 10: Kitchen Sink Approach - All Features tested in regression and FFNN models\n",
    "\n",
    "Max_depth = 4 minimizes MAE"
   ]
  },
  {
   "cell_type": "code",
   "execution_count": 25,
   "id": "476a22cd-4424-43f4-9a28-d7ca66405364",
   "metadata": {},
   "outputs": [],
   "source": [
    "features = ['sub-region', 'urban_population',\n",
    "                                            'mei',\n",
    "                                            'cum_sum_log_crop_residues',\n",
    "                                            'cum_sum_log_rice_cultivation',\n",
    "                                            'cum_sum_log_drained_organic_soils_co2',\n",
    "                                            'cum_sum_log_net_forest_conversion',\n",
    "                                            'cum_sum_log_fires',\n",
    "                                            'cum_sum_log_manure_mgmt',\n",
    "                                            'cum_sum_log_food_systems',\n",
    "                                            'cum_sum_log_ippu_tot',\n",
    "                                            'cum_sum_log_on_farm_energy_use',\n",
    "                                            'cum_sum_forestland']\n",
    "\n",
    "x_train_1 = x_train[features]\n",
    "x_val_1 = x_val[features]\n",
    "\n",
    "sub_region_dummies_train = pd.get_dummies(x_train['sub-region'],\n",
    "                                          drop_first=True)\n",
    "\n",
    "sub_region_dummies_val = pd.get_dummies(x_val['sub-region'],\n",
    "                                          drop_first=True)\n",
    "\n",
    "x_train_1 = pd.concat([x_train_1, sub_region_dummies_train],\n",
    "                    axis=1)\n",
    "\n",
    "x_val_1 = pd.concat([x_val_1, sub_region_dummies_val],\n",
    "                    axis=1)\n",
    "\n",
    "x_train_1 = x_train_1.drop(labels='sub-region',axis=1)\n",
    "x_val_1 = x_val_1.drop(labels='sub-region',axis=1)\n",
    "\n",
    "Y_train_1 = Y_train\n",
    "Y_val_1 = Y_val\n"
   ]
  },
  {
   "cell_type": "code",
   "execution_count": 26,
   "id": "34631d79-b476-4be1-9d10-3b190c5dac1d",
   "metadata": {},
   "outputs": [],
   "source": [
    "dt_model_1 = DecisionTreeRegressor(criterion='absolute_error',random_state=44, max_depth=4)\n",
    "dt_model_1.fit(x_train_1, Y_train_1)\n",
    "predictions = dt_model_1.predict(x_val_1)"
   ]
  },
  {
   "cell_type": "code",
   "execution_count": 27,
   "id": "c44b0d28-cbf5-4ce2-a261-95ba7e4fa6a5",
   "metadata": {},
   "outputs": [],
   "source": [
    "mae_1 = mae(Y_val_1,predictions)\n",
    "rmse_1 = mse(Y_val_1,predictions, squared=False)"
   ]
  },
  {
   "cell_type": "code",
   "execution_count": 28,
   "id": "f9051ed5-cf58-4508-9d8a-f915956a6fac",
   "metadata": {},
   "outputs": [
    {
     "name": "stdout",
     "output_type": "stream",
     "text": [
      "final val mae:   0.487\n",
      "final val rmse:   0.581\n"
     ]
    }
   ],
   "source": [
    "print('final val mae:   %.3f' %mae_1)\n",
    "print('final val rmse:   %.3f' %rmse_1)"
   ]
  },
  {
   "cell_type": "code",
   "execution_count": 29,
   "id": "e197d7fc-c3e9-482c-8fe7-de37653d7706",
   "metadata": {},
   "outputs": [
    {
     "data": {
      "image/png": "[encoded data removed]",
      "text/plain": [
       "<Figure size 1500x1200 with 1 Axes>"
      ]
     },
     "metadata": {},
     "output_type": "display_data"
    }
   ],
   "source": [
    "from sklearn.tree import plot_tree\n",
    "plt.figure(figsize=(10,8), dpi=150)\n",
    "plot_tree(dt_model_1, feature_names=x_train_1.columns);"
   ]
  },
  {
   "cell_type": "markdown",
   "id": "c67eff8c-31b3-4620-997a-760cf292b650",
   "metadata": {},
   "source": [
    "### Model 11: Only CO2 features with correlation about 0.35 with target variable\n",
    "\n",
    "Max_depth = 6 minimizes MAE"
   ]
  },
  {
   "cell_type": "code",
   "execution_count": 30,
   "id": "03d1e075-85f9-4e64-9e04-664803e31aa9",
   "metadata": {},
   "outputs": [],
   "source": [
    "features = [                                'cum_sum_log_manure_mgmt',\n",
    "                                            'cum_sum_log_food_systems',\n",
    "                                            'cum_sum_log_ippu_tot',\n",
    "                                            'cum_sum_log_on_farm_energy_use']\n",
    "\n",
    "x_train_2 = x_train[features]\n",
    "x_val_2 = x_val[features]"
   ]
  },
  {
   "cell_type": "code",
   "execution_count": 31,
   "id": "9090c5fb-c25c-4f92-b773-f22e12c0cbbc",
   "metadata": {},
   "outputs": [],
   "source": [
    "dt_model_2 = DecisionTreeRegressor(criterion='absolute_error',random_state=44, max_depth=6)\n",
    "dt_model_2.fit(x_train_2, Y_train)\n",
    "predictions = dt_model_2.predict(x_val_2)"
   ]
  },
  {
   "cell_type": "code",
   "execution_count": 32,
   "id": "154562dc-e991-470d-865a-e18756f8e20c",
   "metadata": {},
   "outputs": [],
   "source": [
    "mae_2 = mae(Y_val,predictions)\n",
    "rmse_2 = mse(Y_val,predictions, squared=False)"
   ]
  },
  {
   "cell_type": "code",
   "execution_count": 33,
   "id": "ae5f61fc-c420-4f08-8b00-6608386438f1",
   "metadata": {},
   "outputs": [
    {
     "name": "stdout",
     "output_type": "stream",
     "text": [
      "final val mae:   0.471\n",
      "final val rmse:   0.572\n"
     ]
    }
   ],
   "source": [
    "print('final val mae:   %.3f' %mae_2)\n",
    "print('final val rmse:   %.3f' %rmse_2)"
   ]
  },
  {
   "cell_type": "markdown",
   "id": "b360e00f-a3c5-4a83-91aa-2b57ae19fb6a",
   "metadata": {},
   "source": [
    "### Model 12: Add Year\n",
    "\n",
    "Max_depth = 6 minimizes MAE"
   ]
  },
  {
   "cell_type": "code",
   "execution_count": 34,
   "id": "0275985b-1987-4a19-8751-0198c0931dc7",
   "metadata": {},
   "outputs": [],
   "source": [
    "features = [                                'year',\n",
    "                                            'cum_sum_log_manure_mgmt',\n",
    "                                            'cum_sum_log_food_systems',\n",
    "                                            'cum_sum_log_ippu_tot',\n",
    "                                            'cum_sum_log_on_farm_energy_use']\n",
    "\n",
    "x_train_3 = x_train[features]\n",
    "x_val_3 = x_val[features]"
   ]
  },
  {
   "cell_type": "code",
   "execution_count": 35,
   "id": "70781fdb-faad-485d-af40-f9a871c8e1fb",
   "metadata": {},
   "outputs": [],
   "source": [
    "dt_model_3 = DecisionTreeRegressor(criterion='absolute_error',random_state=44, max_depth=6)\n",
    "dt_model_3.fit(x_train_3, Y_train)\n",
    "predictions = dt_model_3.predict(x_val_3)"
   ]
  },
  {
   "cell_type": "code",
   "execution_count": 36,
   "id": "b3c3d955-3429-4c04-a652-7f8989326549",
   "metadata": {},
   "outputs": [],
   "source": [
    "mae_3 = mae(Y_val,predictions)\n",
    "rmse_3 = mse(Y_val,predictions, squared=False)"
   ]
  },
  {
   "cell_type": "code",
   "execution_count": 37,
   "id": "77c77106-689f-4e27-849f-fe57c81e90ea",
   "metadata": {},
   "outputs": [
    {
     "name": "stdout",
     "output_type": "stream",
     "text": [
      "final val mae:   0.408\n",
      "final val rmse:   0.513\n"
     ]
    }
   ],
   "source": [
    "print('final val mae:   %.3f' %mae_3)\n",
    "print('final val rmse:   %.3f' %rmse_3)"
   ]
  },
  {
   "cell_type": "code",
   "execution_count": 79,
   "id": "c776936f-4d61-49e6-9b7a-2fdc95cfe957",
   "metadata": {},
   "outputs": [
    {
     "data": {
      "text/plain": [
       "array([0.63757742, 0.074908  , 0.08276041, 0.07772363, 0.12703054])"
      ]
     },
     "execution_count": 79,
     "metadata": {},
     "output_type": "execute_result"
    }
   ],
   "source": [
    "dt_model_3.feature_importances_"
   ]
  },
  {
   "cell_type": "markdown",
   "id": "d7a1a8aa-f622-4982-bf1f-61c62cade675",
   "metadata": {},
   "source": [
    "### Model 13: Limit to features with correlation >= 0.38 with target variable\n",
    "\n",
    "Max_depth = 6 minimizes MAE"
   ]
  },
  {
   "cell_type": "code",
   "execution_count": 38,
   "id": "7376a122-1c6f-4982-800e-81032e182834",
   "metadata": {},
   "outputs": [],
   "source": [
    "features = [                                'year',\n",
    "                                            'cum_sum_log_food_systems',\n",
    "                                            'cum_sum_log_on_farm_energy_use']\n",
    "\n",
    "x_train_4 = x_train[features]\n",
    "x_val_4 = x_val[features]"
   ]
  },
  {
   "cell_type": "code",
   "execution_count": 39,
   "id": "cd494347-af0b-41c9-a42f-a225b3cc53f5",
   "metadata": {},
   "outputs": [],
   "source": [
    "dt_model_4 = DecisionTreeRegressor(criterion='absolute_error',random_state=44, max_depth=6)\n",
    "dt_model_4.fit(x_train_4, Y_train)\n",
    "predictions = dt_model_4.predict(x_val_4)"
   ]
  },
  {
   "cell_type": "code",
   "execution_count": 40,
   "id": "cb1e304c-d3f3-43ea-a1e6-fa8f627cee64",
   "metadata": {},
   "outputs": [],
   "source": [
    "mae_4 = mae(Y_val,predictions)\n",
    "rmse_4 = mse(Y_val,predictions, squared=False)"
   ]
  },
  {
   "cell_type": "code",
   "execution_count": 41,
   "id": "49441f49-ecef-4aa9-8c4f-a9d00b046b85",
   "metadata": {},
   "outputs": [
    {
     "name": "stdout",
     "output_type": "stream",
     "text": [
      "final val mae:   0.384\n",
      "final val rmse:   0.488\n"
     ]
    }
   ],
   "source": [
    "print('final val mae:   %.3f' %mae_4)\n",
    "print('final val rmse:   %.3f' %rmse_4)"
   ]
  },
  {
   "cell_type": "markdown",
   "id": "2d9d1827-aa75-4fac-9b80-f2df651a54de",
   "metadata": {},
   "source": [
    "## Random Forests"
   ]
  },
  {
   "cell_type": "code",
   "execution_count": 85,
   "id": "6c4254f5-ff5d-4e7c-92e0-48eb71d604bc",
   "metadata": {},
   "outputs": [],
   "source": [
    "rf_model = RandomForestRegressor(criterion='absolute_error',random_state=44, max_depth=5, n_estimators=20, max_features=None, bootstrap=False)\n",
    "rf_model.fit(x_train_4, Y_train)\n",
    "predictions = rf_model.predict(x_val_4)"
   ]
  },
  {
   "cell_type": "code",
   "execution_count": 86,
   "id": "22c19daf-5fc5-4ed4-aeb1-18abc2a9040d",
   "metadata": {},
   "outputs": [],
   "source": [
    "mae_rf = mae(Y_val,predictions)\n",
    "rmse_rf = mse(Y_val,predictions, squared=False)"
   ]
  },
  {
   "cell_type": "code",
   "execution_count": 87,
   "id": "4d9fd747-af33-442a-83ac-d1702b3ce864",
   "metadata": {},
   "outputs": [
    {
     "name": "stdout",
     "output_type": "stream",
     "text": [
      "final val mae:   0.401\n",
      "final val rmse:   0.512\n"
     ]
    }
   ],
   "source": [
    "print('final val mae:   %.3f' %mae_rf)\n",
    "print('final val rmse:   %.3f' %rmse_rf)"
   ]
  },
  {
   "cell_type": "code",
   "execution_count": 88,
   "id": "b53596c1-13ed-4fb9-9eff-15205763906f",
   "metadata": {},
   "outputs": [
    {
     "data": {
      "text/plain": [
       "array([0.76586841, 0.11321084, 0.12092075])"
      ]
     },
     "execution_count": 88,
     "metadata": {},
     "output_type": "execute_result"
    }
   ],
   "source": [
    "rf_model.feature_importances_"
   ]
  },
  {
   "cell_type": "markdown",
   "id": "b531ee40-073e-4b42-a06c-323281ac096f",
   "metadata": {},
   "source": [
    "## Extra Tree Regressor"
   ]
  },
  {
   "cell_type": "code",
   "execution_count": 125,
   "id": "7e475cb8-76ed-4b6c-bbc0-df22d8f83de9",
   "metadata": {},
   "outputs": [],
   "source": [
    "etr_model = ExtraTreesRegressor(criterion='absolute_error',random_state=44, max_depth=6, n_estimators=10, max_features=None) \n",
    "etr_model.fit(x_train_4, Y_train)\n",
    "predictions = etr_model.predict(x_val_4)"
   ]
  },
  {
   "cell_type": "code",
   "execution_count": 126,
   "id": "7b94acfd-49e2-43e8-9af1-d160e9b0a9d7",
   "metadata": {},
   "outputs": [],
   "source": [
    "mae_etr = mae(Y_val,predictions)\n",
    "rmse_etr = mse(Y_val,predictions, squared=False)"
   ]
  },
  {
   "cell_type": "code",
   "execution_count": 127,
   "id": "76d1cf7f-3fbd-4a84-91e6-71403166925a",
   "metadata": {},
   "outputs": [
    {
     "name": "stdout",
     "output_type": "stream",
     "text": [
      "final val mae:   0.392\n",
      "final val rmse:   0.500\n"
     ]
    }
   ],
   "source": [
    "print('final val mae:   %.3f' %mae_etr)\n",
    "print('final val rmse:   %.3f' %rmse_etr)"
   ]
  },
  {
   "cell_type": "code",
   "execution_count": 121,
   "id": "bfb07f9f-69f6-4aa9-b9b8-36137ac93539",
   "metadata": {},
   "outputs": [
    {
     "data": {
      "text/plain": [
       "array([0.76586841, 0.11321084, 0.12092075])"
      ]
     },
     "execution_count": 121,
     "metadata": {},
     "output_type": "execute_result"
    }
   ],
   "source": [
    "rf_model.feature_importances_"
   ]
  },
  {
   "cell_type": "markdown",
   "id": "08e5d526-4840-4bbb-ac96-1cb78ab36f9e",
   "metadata": {},
   "source": [
    "## LSTM"
   ]
  },
  {
   "cell_type": "markdown",
   "id": "3ddc704b-be50-4d08-832f-9630014d2905",
   "metadata": {
    "tags": []
   },
   "source": [
    "### Model 14: LSTM (Long Short Term Memory)\n",
    "\n",
    "</br> Input - MEI, Urban Pop, All CO2 emission inputs\n",
    "</br>Output - Avg Temp\n",
    "</br>Includes exponential decay LR scheduler\n",
    "</br> Did not include dropout layer since dropout led to underfitting (val loss was lower than train loss)"
   ]
  },
  {
   "cell_type": "code",
   "execution_count": 42,
   "id": "02811685-1164-426c-8732-96987e34b0a5",
   "metadata": {},
   "outputs": [],
   "source": [
    "def build_model_10():\n",
    "  # Clear session and remove randomness.\n",
    "  tf.keras.backend.clear_session()\n",
    "  tf.random.set_seed(0)\n",
    "\n",
    "  urban_pop = tf.keras.layers.Input(shape=(1,), dtype=tf.float64, name='Urban Population')\n",
    "  mei = tf.keras.layers.Input(shape=(1,), dtype=tf.float64, name='MEI')\n",
    "  cum_sum_log_crop_residues = tf.keras.layers.Input(shape=(1,), dtype=tf.float64, name='Crop Residues')\n",
    "  cum_sum_log_rice_cultivation = tf.keras.layers.Input(shape=(1,), dtype=tf.float64, name='Rice Cultivation')\n",
    "  cum_sum_log_drained_organic_soils_co2 = tf.keras.layers.Input(shape=(1,), dtype=tf.float64, name='Drained Organic Soils CO2')\n",
    "  cum_sum_log_net_forest_conversion = tf.keras.layers.Input(shape=(1,), dtype=tf.float64, name='Net Forest Conversion')\n",
    "  cum_sum_log_fires = tf.keras.layers.Input(shape=(1,), dtype=tf.float64, name='Fires')\n",
    "  cum_sum_log_manure_mgmt = tf.keras.layers.Input(shape=(1,), dtype=tf.float64, name='Manure Management')\n",
    "  cum_sum_log_food_systems = tf.keras.layers.Input(shape=(1,), dtype=tf.float64, name='Food Systems')\n",
    "  cum_sum_log_ippu_tot = tf.keras.layers.Input(shape=(1,), dtype=tf.float64, name='IPPU Total')\n",
    "  cum_sum_log_on_farm_energy_use = tf.keras.layers.Input(shape=(1,), dtype=tf.float64, name='On Farm Energy Use')\n",
    "  cum_sum_forestland = tf.keras.layers.Input(shape=(1,), dtype=tf.float64, name='Forestland')\n",
    "  sub_region = tf.keras.layers.Input(shape=(1,), dtype=tf.string, name='Sub Region')\n",
    "  # region = tf.keras.layers.Input(shape=(1,), dtype=tf.string, name='Region')\n",
    "    \n",
    "  sub_region_id = tf.keras.layers.StringLookup(vocabulary=['Southern Asia', 'Southern Europe', \n",
    "                                                           'Northern Africa', 'Polynesia',\n",
    "                                                           'Sub-Saharan Africa', 'Latin America and the Caribbean',\n",
    "                                                           'Australia and New Zealand', 'Western Europe', \n",
    "                                                           'Western Asia','Northern America', 'South-eastern Asia', \n",
    "                                                           'Eastern Europe','Northern Europe', 'Eastern Asia', \n",
    "                                                           'Melanesia','Micronesia','Central Asia'], \n",
    "                                               output_mode='one_hot')(sub_region)\n",
    "\n",
    "  # region_id = tf.keras.layers.StringLookup(vocabulary=['Asia', 'Europe', 'Africa', 'Americas', 'Oceania'], \n",
    "  #                                              output_mode='one_hot')(region)\n",
    "    \n",
    "  features = tf.keras.layers.Concatenate()([urban_pop,\n",
    "                                            mei,\n",
    "                                            cum_sum_log_crop_residues,\n",
    "                                            cum_sum_log_rice_cultivation,\n",
    "                                            cum_sum_log_drained_organic_soils_co2,\n",
    "                                            cum_sum_log_net_forest_conversion,\n",
    "                                            cum_sum_log_fires,\n",
    "                                            cum_sum_log_manure_mgmt,\n",
    "                                            cum_sum_log_food_systems,\n",
    "                                            cum_sum_log_ippu_tot,\n",
    "                                            cum_sum_log_on_farm_energy_use,\n",
    "                                            cum_sum_forestland,\n",
    "                                            sub_region_id\n",
    "                                            # , region_id\n",
    "                                           ])\n",
    "  \n",
    "  lstm_layer = tf.keras.layers.LSTM(\n",
    "        units=200,\n",
    "        input_shape=(None,30),\n",
    "        #recurrent_dropout=0.4,\n",
    "        #use_bias=True,\n",
    "        return_sequences=True,\n",
    "        name='LSTM')(features)   \n",
    "\n",
    "  # dropout_1 = tf.keras.layers.Dropout(0.1, name='Dropout_1')(hidden_2)\n",
    "  \n",
    "  temp = tf.keras.layers.Dense(\n",
    "      units=1, activation=None, name='Temp')(lstm_layer)\n",
    "\n",
    "  model = tf.keras.Model(inputs=[urban_pop,\n",
    "                                            mei,\n",
    "                                            cum_sum_log_crop_residues,\n",
    "                                            cum_sum_log_rice_cultivation,\n",
    "                                            cum_sum_log_drained_organic_soils_co2,\n",
    "                                            cum_sum_log_net_forest_conversion,\n",
    "                                            cum_sum_log_fires,\n",
    "                                            cum_sum_log_manure_mgmt,\n",
    "                                            cum_sum_log_food_systems,\n",
    "                                            cum_sum_log_ippu_tot,\n",
    "                                            cum_sum_log_on_farm_energy_use,\n",
    "                                            cum_sum_forestland,\n",
    "                                            sub_region\n",
    "                                            # , region\n",
    "                                            ],\n",
    "                         outputs=temp,\n",
    "                         name='Model_10')\n",
    "  \n",
    "  initial_learning_rate = 0.00001\n",
    "  lr_schedule = tf.keras.optimizers.schedules.ExponentialDecay(\n",
    "    initial_learning_rate,\n",
    "    decay_steps=100000,\n",
    "    decay_rate=0.96,\n",
    "    staircase=True)\n",
    "\n",
    "  model.compile(\n",
    "      optimizer=tf.keras.optimizers.Adam(learning_rate=lr_schedule),\n",
    "      loss=tf.keras.losses.MeanAbsoluteError(),\n",
    "      metrics=tf.keras.metrics.RootMeanSquaredError()\n",
    "      )\n",
    "\n",
    "  return model"
   ]
  },
  {
   "cell_type": "code",
   "execution_count": 43,
   "id": "9af97586-4f7f-42da-9d48-d50d455e58b6",
   "metadata": {},
   "outputs": [
    {
     "ename": "ValueError",
     "evalue": "Input 0 of layer \"LSTM\" is incompatible with the layer: expected ndim=3, found ndim=2. Full shape received: (None, 30)",
     "output_type": "error",
     "traceback": [
      "\u001b[0;31m---------------------------------------------------------------------------\u001b[0m",
      "\u001b[0;31mValueError\u001b[0m                                Traceback (most recent call last)",
      "Cell \u001b[0;32mIn[43], line 1\u001b[0m\n\u001b[0;32m----> 1\u001b[0m model_10 \u001b[38;5;241m=\u001b[39m \u001b[43mbuild_model_10\u001b[49m\u001b[43m(\u001b[49m\u001b[43m)\u001b[49m\n\u001b[1;32m      2\u001b[0m model_10\u001b[38;5;241m.\u001b[39msummary()\n\u001b[1;32m      4\u001b[0m history \u001b[38;5;241m=\u001b[39m model_10\u001b[38;5;241m.\u001b[39mfit(\n\u001b[1;32m      5\u001b[0m   x\u001b[38;5;241m=\u001b[39m{\n\u001b[1;32m      6\u001b[0m       \u001b[38;5;124m'\u001b[39m\u001b[38;5;124mUrban Population\u001b[39m\u001b[38;5;124m'\u001b[39m: x_train[[\u001b[38;5;124m'\u001b[39m\u001b[38;5;124murban_population\u001b[39m\u001b[38;5;124m'\u001b[39m]],\n\u001b[0;32m   (...)\u001b[0m\n\u001b[1;32m     43\u001b[0m       Y_val[[\u001b[38;5;124m'\u001b[39m\u001b[38;5;124maverage_temperature_°c\u001b[39m\u001b[38;5;124m'\u001b[39m]]),\n\u001b[1;32m     44\u001b[0m   verbose\u001b[38;5;241m=\u001b[39m\u001b[38;5;241m0\u001b[39m)\n",
      "Cell \u001b[0;32mIn[42], line 49\u001b[0m, in \u001b[0;36mbuild_model_10\u001b[0;34m()\u001b[0m\n\u001b[1;32m     30\u001b[0m \u001b[38;5;66;03m# region_id = tf.keras.layers.StringLookup(vocabulary=['Asia', 'Europe', 'Africa', 'Americas', 'Oceania'], \u001b[39;00m\n\u001b[1;32m     31\u001b[0m \u001b[38;5;66;03m#                                              output_mode='one_hot')(region)\u001b[39;00m\n\u001b[1;32m     33\u001b[0m features \u001b[38;5;241m=\u001b[39m tf\u001b[38;5;241m.\u001b[39mkeras\u001b[38;5;241m.\u001b[39mlayers\u001b[38;5;241m.\u001b[39mConcatenate()([urban_pop,\n\u001b[1;32m     34\u001b[0m                                           mei,\n\u001b[1;32m     35\u001b[0m                                           cum_sum_log_crop_residues,\n\u001b[0;32m   (...)\u001b[0m\n\u001b[1;32m     46\u001b[0m                                           \u001b[38;5;66;03m# , region_id\u001b[39;00m\n\u001b[1;32m     47\u001b[0m                                          ])\n\u001b[0;32m---> 49\u001b[0m lstm_layer \u001b[38;5;241m=\u001b[39m \u001b[43mtf\u001b[49m\u001b[38;5;241;43m.\u001b[39;49m\u001b[43mkeras\u001b[49m\u001b[38;5;241;43m.\u001b[39;49m\u001b[43mlayers\u001b[49m\u001b[38;5;241;43m.\u001b[39;49m\u001b[43mLSTM\u001b[49m\u001b[43m(\u001b[49m\n\u001b[1;32m     50\u001b[0m \u001b[43m      \u001b[49m\u001b[43munits\u001b[49m\u001b[38;5;241;43m=\u001b[39;49m\u001b[38;5;241;43m200\u001b[39;49m\u001b[43m,\u001b[49m\n\u001b[1;32m     51\u001b[0m \u001b[43m      \u001b[49m\u001b[43minput_shape\u001b[49m\u001b[38;5;241;43m=\u001b[39;49m\u001b[43m(\u001b[49m\u001b[38;5;28;43;01mNone\u001b[39;49;00m\u001b[43m,\u001b[49m\u001b[38;5;241;43m30\u001b[39;49m\u001b[43m)\u001b[49m\u001b[43m,\u001b[49m\n\u001b[1;32m     52\u001b[0m \u001b[43m      \u001b[49m\u001b[38;5;66;43;03m#recurrent_dropout=0.4,\u001b[39;49;00m\n\u001b[1;32m     53\u001b[0m \u001b[43m      \u001b[49m\u001b[38;5;66;43;03m#use_bias=True,\u001b[39;49;00m\n\u001b[1;32m     54\u001b[0m \u001b[43m      \u001b[49m\u001b[43mreturn_sequences\u001b[49m\u001b[38;5;241;43m=\u001b[39;49m\u001b[38;5;28;43;01mTrue\u001b[39;49;00m\u001b[43m,\u001b[49m\n\u001b[1;32m     55\u001b[0m \u001b[43m      \u001b[49m\u001b[43mname\u001b[49m\u001b[38;5;241;43m=\u001b[39;49m\u001b[38;5;124;43m'\u001b[39;49m\u001b[38;5;124;43mLSTM\u001b[39;49m\u001b[38;5;124;43m'\u001b[39;49m\u001b[43m)\u001b[49m\u001b[43m(\u001b[49m\u001b[43mfeatures\u001b[49m\u001b[43m)\u001b[49m   \n\u001b[1;32m     57\u001b[0m \u001b[38;5;66;03m# dropout_1 = tf.keras.layers.Dropout(0.1, name='Dropout_1')(hidden_2)\u001b[39;00m\n\u001b[1;32m     59\u001b[0m temp \u001b[38;5;241m=\u001b[39m tf\u001b[38;5;241m.\u001b[39mkeras\u001b[38;5;241m.\u001b[39mlayers\u001b[38;5;241m.\u001b[39mDense(\n\u001b[1;32m     60\u001b[0m     units\u001b[38;5;241m=\u001b[39m\u001b[38;5;241m1\u001b[39m, activation\u001b[38;5;241m=\u001b[39m\u001b[38;5;28;01mNone\u001b[39;00m, name\u001b[38;5;241m=\u001b[39m\u001b[38;5;124m'\u001b[39m\u001b[38;5;124mTemp\u001b[39m\u001b[38;5;124m'\u001b[39m)(lstm_layer)\n",
      "File \u001b[0;32m~/anaconda3/lib/python3.9/site-packages/keras/src/layers/rnn/base_rnn.py:556\u001b[0m, in \u001b[0;36mRNN.__call__\u001b[0;34m(self, inputs, initial_state, constants, **kwargs)\u001b[0m\n\u001b[1;32m    551\u001b[0m inputs, initial_state, constants \u001b[38;5;241m=\u001b[39m rnn_utils\u001b[38;5;241m.\u001b[39mstandardize_args(\n\u001b[1;32m    552\u001b[0m     inputs, initial_state, constants, \u001b[38;5;28mself\u001b[39m\u001b[38;5;241m.\u001b[39m_num_constants\n\u001b[1;32m    553\u001b[0m )\n\u001b[1;32m    555\u001b[0m \u001b[38;5;28;01mif\u001b[39;00m initial_state \u001b[38;5;129;01mis\u001b[39;00m \u001b[38;5;28;01mNone\u001b[39;00m \u001b[38;5;129;01mand\u001b[39;00m constants \u001b[38;5;129;01mis\u001b[39;00m \u001b[38;5;28;01mNone\u001b[39;00m:\n\u001b[0;32m--> 556\u001b[0m     \u001b[38;5;28;01mreturn\u001b[39;00m \u001b[38;5;28;43msuper\u001b[39;49m\u001b[43m(\u001b[49m\u001b[43m)\u001b[49m\u001b[38;5;241;43m.\u001b[39;49m\u001b[38;5;21;43m__call__\u001b[39;49m\u001b[43m(\u001b[49m\u001b[43minputs\u001b[49m\u001b[43m,\u001b[49m\u001b[43m \u001b[49m\u001b[38;5;241;43m*\u001b[39;49m\u001b[38;5;241;43m*\u001b[39;49m\u001b[43mkwargs\u001b[49m\u001b[43m)\u001b[49m\n\u001b[1;32m    558\u001b[0m \u001b[38;5;66;03m# If any of `initial_state` or `constants` are specified and are Keras\u001b[39;00m\n\u001b[1;32m    559\u001b[0m \u001b[38;5;66;03m# tensors, then add them to the inputs and temporarily modify the\u001b[39;00m\n\u001b[1;32m    560\u001b[0m \u001b[38;5;66;03m# input_spec to include them.\u001b[39;00m\n\u001b[1;32m    562\u001b[0m additional_inputs \u001b[38;5;241m=\u001b[39m []\n",
      "File \u001b[0;32m~/anaconda3/lib/python3.9/site-packages/keras/src/utils/traceback_utils.py:70\u001b[0m, in \u001b[0;36mfilter_traceback.<locals>.error_handler\u001b[0;34m(*args, **kwargs)\u001b[0m\n\u001b[1;32m     67\u001b[0m     filtered_tb \u001b[38;5;241m=\u001b[39m _process_traceback_frames(e\u001b[38;5;241m.\u001b[39m__traceback__)\n\u001b[1;32m     68\u001b[0m     \u001b[38;5;66;03m# To get the full stack trace, call:\u001b[39;00m\n\u001b[1;32m     69\u001b[0m     \u001b[38;5;66;03m# `tf.debugging.disable_traceback_filtering()`\u001b[39;00m\n\u001b[0;32m---> 70\u001b[0m     \u001b[38;5;28;01mraise\u001b[39;00m e\u001b[38;5;241m.\u001b[39mwith_traceback(filtered_tb) \u001b[38;5;28;01mfrom\u001b[39;00m \u001b[38;5;28mNone\u001b[39m\n\u001b[1;32m     71\u001b[0m \u001b[38;5;28;01mfinally\u001b[39;00m:\n\u001b[1;32m     72\u001b[0m     \u001b[38;5;28;01mdel\u001b[39;00m filtered_tb\n",
      "File \u001b[0;32m~/anaconda3/lib/python3.9/site-packages/keras/src/engine/input_spec.py:235\u001b[0m, in \u001b[0;36massert_input_compatibility\u001b[0;34m(input_spec, inputs, layer_name)\u001b[0m\n\u001b[1;32m    233\u001b[0m     ndim \u001b[38;5;241m=\u001b[39m shape\u001b[38;5;241m.\u001b[39mrank\n\u001b[1;32m    234\u001b[0m     \u001b[38;5;28;01mif\u001b[39;00m ndim \u001b[38;5;241m!=\u001b[39m spec\u001b[38;5;241m.\u001b[39mndim:\n\u001b[0;32m--> 235\u001b[0m         \u001b[38;5;28;01mraise\u001b[39;00m \u001b[38;5;167;01mValueError\u001b[39;00m(\n\u001b[1;32m    236\u001b[0m             \u001b[38;5;124mf\u001b[39m\u001b[38;5;124m'\u001b[39m\u001b[38;5;124mInput \u001b[39m\u001b[38;5;132;01m{\u001b[39;00minput_index\u001b[38;5;132;01m}\u001b[39;00m\u001b[38;5;124m of layer \u001b[39m\u001b[38;5;124m\"\u001b[39m\u001b[38;5;132;01m{\u001b[39;00mlayer_name\u001b[38;5;132;01m}\u001b[39;00m\u001b[38;5;124m\"\u001b[39m\u001b[38;5;124m \u001b[39m\u001b[38;5;124m'\u001b[39m\n\u001b[1;32m    237\u001b[0m             \u001b[38;5;124m\"\u001b[39m\u001b[38;5;124mis incompatible with the layer: \u001b[39m\u001b[38;5;124m\"\u001b[39m\n\u001b[1;32m    238\u001b[0m             \u001b[38;5;124mf\u001b[39m\u001b[38;5;124m\"\u001b[39m\u001b[38;5;124mexpected ndim=\u001b[39m\u001b[38;5;132;01m{\u001b[39;00mspec\u001b[38;5;241m.\u001b[39mndim\u001b[38;5;132;01m}\u001b[39;00m\u001b[38;5;124m, found ndim=\u001b[39m\u001b[38;5;132;01m{\u001b[39;00mndim\u001b[38;5;132;01m}\u001b[39;00m\u001b[38;5;124m. \u001b[39m\u001b[38;5;124m\"\u001b[39m\n\u001b[1;32m    239\u001b[0m             \u001b[38;5;124mf\u001b[39m\u001b[38;5;124m\"\u001b[39m\u001b[38;5;124mFull shape received: \u001b[39m\u001b[38;5;132;01m{\u001b[39;00m\u001b[38;5;28mtuple\u001b[39m(shape)\u001b[38;5;132;01m}\u001b[39;00m\u001b[38;5;124m\"\u001b[39m\n\u001b[1;32m    240\u001b[0m         )\n\u001b[1;32m    241\u001b[0m \u001b[38;5;28;01mif\u001b[39;00m spec\u001b[38;5;241m.\u001b[39mmax_ndim \u001b[38;5;129;01mis\u001b[39;00m \u001b[38;5;129;01mnot\u001b[39;00m \u001b[38;5;28;01mNone\u001b[39;00m:\n\u001b[1;32m    242\u001b[0m     ndim \u001b[38;5;241m=\u001b[39m x\u001b[38;5;241m.\u001b[39mshape\u001b[38;5;241m.\u001b[39mrank\n",
      "\u001b[0;31mValueError\u001b[0m: Input 0 of layer \"LSTM\" is incompatible with the layer: expected ndim=3, found ndim=2. Full shape received: (None, 30)"
     ]
    }
   ],
   "source": [
    "model_10 = build_model_10()\n",
    "model_10.summary()\n",
    "\n",
    "history = model_10.fit(\n",
    "  x={\n",
    "      'Urban Population': x_train[['urban_population']],\n",
    "      'MEI': x_train[['mei']],\n",
    "      'Crop Residues': x_train[['cum_sum_log_crop_residues']],\n",
    "      'Rice Cultivation': x_train[['cum_sum_log_rice_cultivation']],\n",
    "      'Drained Organic Soils CO2': x_train[['cum_sum_log_drained_organic_soils_co2']],\n",
    "      'Net Forest Conversion': x_train[['cum_sum_log_net_forest_conversion']],\n",
    "      'Fires': x_train[['cum_sum_log_fires']],\n",
    "      'Manure Management': x_train[['cum_sum_log_manure_mgmt']],\n",
    "      'Food Systems': x_train[['cum_sum_log_food_systems']],\n",
    "      'IPPU Total': x_train[['cum_sum_log_ippu_tot']],\n",
    "      'On Farm Energy Use': x_train[['cum_sum_log_on_farm_energy_use']],\n",
    "      'Forestland': x_train[['cum_sum_forestland']],\n",
    "      'Sub Region': x_train[['sub-region']]\n",
    "      # ,\n",
    "      # 'Region': x_train[['region']]\n",
    "    },\n",
    "  y=Y_train[['average_temperature_°c']],\n",
    "  epochs=2000,\n",
    "  batch_size=400,\n",
    "  validation_data=(\n",
    "      {\n",
    "      'Urban Population': x_val[['urban_population']],\n",
    "      'MEI': x_val[['mei']],\n",
    "      'Crop Residues': x_val[['cum_sum_log_crop_residues']],\n",
    "      'Rice Cultivation': x_val[['cum_sum_log_rice_cultivation']],\n",
    "      'Drained Organic Soils CO2': x_val[['cum_sum_log_drained_organic_soils_co2']],\n",
    "      'Net Forest Conversion': x_val[['cum_sum_log_net_forest_conversion']],\n",
    "      'Fires': x_val[['cum_sum_log_fires']],\n",
    "      'Manure Management': x_val[['cum_sum_log_manure_mgmt']],\n",
    "      'Food Systems': x_val[['cum_sum_log_food_systems']],\n",
    "      'IPPU Total': x_val[['cum_sum_log_ippu_tot']],\n",
    "      'On Farm Energy Use': x_val[['cum_sum_log_on_farm_energy_use']],\n",
    "      'Forestland': x_val[['cum_sum_forestland']],\n",
    "      'Sub Region': x_val[['sub-region']]\n",
    "      #     ,\n",
    "      # 'Region': x_val[['region']]\n",
    "      },\n",
    "      Y_val[['average_temperature_°c']]),\n",
    "  verbose=0)\n",
    "\n",
    "show_history(history)"
   ]
  },
  {
   "cell_type": "code",
   "execution_count": null,
   "id": "007f7bd7-11d9-417d-a37e-60fc554a7063",
   "metadata": {},
   "outputs": [],
   "source": [
    "features = ['urban_population',\n",
    "            'mei',\n",
    "            'cum_sum_log_crop_residues',\n",
    "            'cum_sum_log_rice_cultivation',\n",
    "            'cum_sum_log_drained_organic_soils_co2',\n",
    "            'cum_sum_log_net_forest_conversion',\n",
    "            'cum_sum_log_fires',\n",
    "            'cum_sum_log_manure_mgmt',\n",
    "            'cum_sum_log_food_systems',\n",
    "            'cum_sum_log_ippu_tot',\n",
    "            'cum_sum_log_on_farm_energy_use',\n",
    "            'cum_sum_forestland']\n",
    "# features_len = len(features)\n",
    "model_lstm = build_lstm_model(12)\n",
    "output = model_lstm(x_train[features])"
   ]
  },
  {
   "cell_type": "code",
   "execution_count": null,
   "id": "5c68d8d4-6a05-4b50-9685-7e115cfddd48",
   "metadata": {},
   "outputs": [],
   "source": [
    "x_train_temp = x_train.sort_values(['area','year']).reset_index(drop=True)\n",
    "x_train_temp.shape"
   ]
  },
  {
   "cell_type": "code",
   "execution_count": null,
   "id": "813e88f4-6a48-4cbf-b063-c02cee4d8eb7",
   "metadata": {},
   "outputs": [],
   "source": [
    "agg_x_train = x_train_temp.groupby('area').sum()\n",
    "agg_x_train.head()"
   ]
  },
  {
   "cell_type": "code",
   "execution_count": null,
   "id": "c2235416-bf3c-4ec5-a4ee-ffa200edc586",
   "metadata": {},
   "outputs": [],
   "source": [
    "agg_x_train = agg_x_train[agg_x_train['year'] != 50050]\n",
    "agg_x_train.index\n"
   ]
  },
  {
   "cell_type": "code",
   "execution_count": null,
   "id": "0ba2987d-3a39-434d-92ae-24aad425317f",
   "metadata": {},
   "outputs": [],
   "source": [
    "countries = ['Armenia', 'Azerbaijan', 'Belarus', 'Belgium', 'Bosnia and Herzegovina',\n",
    "       'Croatia', 'Czechia', 'Eritrea', 'Estonia', 'Georgia', 'Kazakhstan',\n",
    "       'Kyrgyzstan', 'Latvia', 'Lithuania', 'Luxembourg', 'Marshall Islands',\n",
    "       'Micronesia (Federated States of)', 'North Macedonia',\n",
    "       'Republic of Moldova', 'Russian Federation', 'Slovakia', 'Slovenia',\n",
    "       'Tajikistan', 'Turkmenistan', 'Ukraine', 'Uzbekistan']\n",
    "\n",
    "for country in countries:\n",
    "    x_train_temp = x_train_temp[x_train_temp['area'] != country]"
   ]
  },
  {
   "cell_type": "code",
   "execution_count": null,
   "id": "534a2641-c764-42cb-82e3-f1062dd03f9f",
   "metadata": {},
   "outputs": [],
   "source": [
    "x_train_temp"
   ]
  },
  {
   "cell_type": "code",
   "execution_count": null,
   "id": "2ffb6fd3-fedb-4111-b51e-dee41f6b66b3",
   "metadata": {},
   "outputs": [],
   "source": [
    "x_train_temp['area'].nunique()"
   ]
  },
  {
   "cell_type": "code",
   "execution_count": null,
   "id": "a73bc1c6-63f3-41c7-aa50-47bf724553a7",
   "metadata": {},
   "outputs": [],
   "source": [
    "x_train_temp = np.array(x_train_temp)\n",
    "# x_train.reshape((164, 25, 38))"
   ]
  },
  {
   "cell_type": "code",
   "execution_count": null,
   "id": "238757d3-7d8f-45fa-961a-fdc25344e1f0",
   "metadata": {},
   "outputs": [],
   "source": [
    "x_train_temp.shape"
   ]
  },
  {
   "cell_type": "code",
   "execution_count": null,
   "id": "22301d3f-2505-4102-924d-e0cb15bdb9d4",
   "metadata": {},
   "outputs": [],
   "source": [
    "x_train_temp = x_train_temp.reshape((164, 25, 38))"
   ]
  },
  {
   "cell_type": "code",
   "execution_count": null,
   "id": "7400d5ef-d27c-48a7-badd-de2eefe2307c",
   "metadata": {},
   "outputs": [],
   "source": [
    "x_train_temp.shape"
   ]
  }
 ],
 "metadata": {
  "kernelspec": {
   "display_name": "Python 3 (ipykernel)",
   "language": "python",
   "name": "python3"
  },
  "language_info": {
   "codemirror_mode": {
    "name": "ipython",
    "version": 3
   },
   "file_extension": ".py",
   "mimetype": "text/x-python",
   "name": "python",
   "nbconvert_exporter": "python",
   "pygments_lexer": "ipython3",
   "version": "3.9.16"
  }
 },
 "nbformat": 4,
 "nbformat_minor": 5
}
