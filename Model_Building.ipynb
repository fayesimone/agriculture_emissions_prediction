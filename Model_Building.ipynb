{
 "cells": [
  {
   "cell_type": "code",
   "execution_count": 70,
   "id": "576baf19-6437-4914-9590-be4dcb614fbe",
   "metadata": {},
   "outputs": [],
   "source": [
    "import pandas as pd\n",
    "import numpy as np\n",
    "\n",
    "# data preprocessing\n",
    "from sklearn import preprocessing\n",
    "from sklearn.preprocessing import StandardScaler\n",
    "\n",
    "# exploratory analysis\n",
    "import matplotlib.pyplot as plt\n",
    "import mlxtend\n",
    "from mlxtend.plotting import scatterplotmatrix\n",
    "from mlxtend.plotting import heatmap\n",
    "import seaborn as sns\n",
    "from IPython.display import Image\n",
    "\n",
    "# model fit\n",
    "import statsmodels.api as sm\n",
    "import tensorflow as tf\n",
    "from tensorflow.keras.layers import Dense, LSTM, Bidirectional, Dropout\n",
    "\n",
    "# ignore warnings (libraries are rapidly changing)\n",
    "import warnings\n",
    "warnings.filterwarnings('ignore')"
   ]
  },
  {
   "cell_type": "markdown",
   "id": "d75eb22e-1343-486f-b591-96bed325724f",
   "metadata": {},
   "source": [
    "### Split X and Y into two dataframes \n",
    "\n",
    "Split input variables from output variable (temperature)"
   ]
  },
  {
   "cell_type": "code",
   "execution_count": 20,
   "id": "87a53c7f-c10a-4d22-8a0c-09702ed936c1",
   "metadata": {},
   "outputs": [],
   "source": [
    "train = pd.read_csv('train_data.csv')\n",
    "val = pd.read_csv('val_data.csv')\n",
    "test = pd.read_csv('test_data.csv')"
   ]
  },
  {
   "cell_type": "code",
   "execution_count": 21,
   "id": "46f1f8b0-6e95-41f6-888e-31111dc7cdea",
   "metadata": {},
   "outputs": [],
   "source": [
    "x_train = train.drop(['average_temperature_°c'], axis=1)\n",
    "x_val = val.drop(['average_temperature_°c'], axis=1)\n",
    "x_test = test.drop(['average_temperature_°c'], axis=1)\n",
    "\n",
    "Y_train = pd.DataFrame(train['average_temperature_°c'])\n",
    "Y_val = pd.DataFrame(val['average_temperature_°c'])\n",
    "Y_test = pd.DataFrame(test['average_temperature_°c'])"
   ]
  },
  {
   "cell_type": "code",
   "execution_count": 22,
   "id": "8d8d8591-4421-4454-be97-2039da9b5586",
   "metadata": {},
   "outputs": [
    {
     "name": "stdout",
     "output_type": "stream",
     "text": [
      "(4681, 47)\n",
      "(4681, 1)\n",
      "(570, 47)\n",
      "(570, 1)\n",
      "(570, 47)\n",
      "(570, 1)\n"
     ]
    }
   ],
   "source": [
    "print(x_train.shape)\n",
    "print(Y_train.shape)\n",
    "\n",
    "print(x_val.shape)\n",
    "print(Y_val.shape)\n",
    "\n",
    "print(x_test.shape)\n",
    "print(Y_test.shape)"
   ]
  },
  {
   "cell_type": "code",
   "execution_count": 5,
   "id": "a1ab4ed4-a96d-41ce-bb53-33d3101d6e59",
   "metadata": {},
   "outputs": [],
   "source": [
    "def show_history(history):\n",
    "  plt.plot(history.history['loss'], color='black', label='train')\n",
    "  plt.plot(history.history['val_loss'], color='red', label='val')\n",
    "  plt.xlabel('epoch')\n",
    "  plt.ylabel('loss')\n",
    "  plt.legend()\n",
    "  plt.show()\n",
    "  print('final train mae: %.3f' %history.history['loss'][-1])\n",
    "  print('final val mae:   %.3f' %history.history['val_loss'][-1])\n",
    "  print('final train rmse: %.3f' %history.history['root_mean_squared_error'][-1])\n",
    "  print('final train rmse: %.3f' %history.history['val_root_mean_squared_error'][-1])"
   ]
  },
  {
   "cell_type": "markdown",
   "id": "e48de52e-eaa8-45ad-b547-2fbebe28b7db",
   "metadata": {},
   "source": [
    "### Model 1: Baseline Model - Linear Regression SGD\n",
    "\n",
    "</br> Input - Total Emissions\n",
    "</br>Output - Avg Temp\n",
    "</br>Loss - Mean Absolute Error\n",
    "</br>Metrics - Root Mean Squared Error"
   ]
  },
  {
   "cell_type": "code",
   "execution_count": 6,
   "id": "8ebe0e37-4395-4295-a05e-18cf569bcb2a",
   "metadata": {},
   "outputs": [],
   "source": [
    "def build_model_1():\n",
    "  # Clear session and remove randomness.\n",
    "  tf.keras.backend.clear_session()\n",
    "  tf.random.set_seed(0)\n",
    "\n",
    "  tot_em = tf.keras.layers.Input(shape=(1,), dtype=tf.float64, name='Total Emissions')\n",
    "\n",
    "  temp = tf.keras.layers.Dense(\n",
    "      units=1, activation=None, name='Temp')(tot_em)\n",
    "\n",
    "  model = tf.keras.Model(inputs=[tot_em],\n",
    "                         outputs=temp,\n",
    "                         name='Model_1')\n",
    "  model.compile(\n",
    "      optimizer=tf.keras.optimizers.SGD(learning_rate=0.001),\n",
    "      loss=tf.keras.losses.MeanAbsoluteError(),\n",
    "      metrics=tf.keras.metrics.RootMeanSquaredError()\n",
    "      )\n",
    "\n",
    "  return model"
   ]
  },
  {
   "cell_type": "code",
   "execution_count": 7,
   "id": "8e2fa9e1-6f62-47df-b758-475b759f9aef",
   "metadata": {},
   "outputs": [
    {
     "name": "stdout",
     "output_type": "stream",
     "text": [
      "Model: \"Model_1\"\n",
      "_________________________________________________________________\n",
      " Layer (type)                Output Shape              Param #   \n",
      "=================================================================\n",
      " Total Emissions (InputLaye  [(None, 1)]               0         \n",
      " r)                                                              \n",
      "                                                                 \n",
      " Temp (Dense)                (None, 1)                 2         \n",
      "                                                                 \n",
      "=================================================================\n",
      "Total params: 2 (8.00 Byte)\n",
      "Trainable params: 2 (8.00 Byte)\n",
      "Non-trainable params: 0 (0.00 Byte)\n",
      "_________________________________________________________________\n"
     ]
    },
    {
     "data": {
      "image/png": "[encoded data removed]",
      "text/plain": [
       "<Figure size 640x480 with 1 Axes>"
      ]
     },
     "metadata": {},
     "output_type": "display_data"
    },
    {
     "name": "stdout",
     "output_type": "stream",
     "text": [
      "final train mae: 0.385\n",
      "final val mae:   0.649\n",
      "final train rmse: 0.506\n",
      "final train rmse: 0.747\n"
     ]
    }
   ],
   "source": [
    "model_1 = build_model_1()\n",
    "model_1.summary()\n",
    "\n",
    "history = model_1.fit(\n",
    "  x=x_train[['total_emission']],\n",
    "  y=Y_train[['average_temperature_°c']],\n",
    "  epochs=100,\n",
    "  batch_size=40,\n",
    "  validation_data=(\n",
    "      x_val[['total_emission']],\n",
    "      Y_val[['average_temperature_°c']]),\n",
    "  verbose=False)\n",
    "\n",
    "show_history(history)"
   ]
  },
  {
   "cell_type": "code",
   "execution_count": 141,
   "id": "b3b51eea-d631-40b0-a097-da69e8d9da7a",
   "metadata": {},
   "outputs": [
    {
     "name": "stdout",
     "output_type": "stream",
     "text": [
      "18/18 [==============================] - 0s 1ms/step\n"
     ]
    }
   ],
   "source": [
    "model_1_preds = model_1.predict(x=x_test[['total_emission']])"
   ]
  },
  {
   "cell_type": "code",
   "execution_count": 146,
   "id": "0b295b78-4df8-4dd7-bf65-913739492a20",
   "metadata": {},
   "outputs": [],
   "source": [
    "mae = tf.keras.losses.MeanAbsoluteError()\n",
    "rmse = tf.keras.metrics.RootMeanSquaredError()\n",
    "model_1_mae = mae(Y_test, model_1_preds).numpy()\n",
    "model_1_rmse = rmse(Y_test, model_1_preds).numpy()"
   ]
  },
  {
   "cell_type": "code",
   "execution_count": 147,
   "id": "ad399e8a-42c6-41ff-b0c0-1173bffa9dfc",
   "metadata": {},
   "outputs": [
    {
     "name": "stdout",
     "output_type": "stream",
     "text": [
      "Test MAE: 0.755\n",
      "Test RMSE: 0.923\n"
     ]
    }
   ],
   "source": [
    "print('Test MAE: %.3f' %model_1_mae)\n",
    "print('Test RMSE: %.3f' %model_1_rmse)"
   ]
  },
  {
   "cell_type": "markdown",
   "id": "89d60891-164f-447f-a85b-07e8eece039c",
   "metadata": {},
   "source": [
    "### Model 2: Linear Regression (Adam)\n",
    "\n",
    "</br> Input - Total Emissions\n",
    "</br>Output - Avg Temp\n",
    "</br> Requires fewer epochs to converge than standard SGD regression"
   ]
  },
  {
   "cell_type": "code",
   "execution_count": 8,
   "id": "e69871b3-8208-4def-a25f-de98dd705912",
   "metadata": {},
   "outputs": [],
   "source": [
    "def build_model_2():\n",
    "  # Clear session and remove randomness.\n",
    "  tf.keras.backend.clear_session()\n",
    "  tf.random.set_seed(0)\n",
    "\n",
    "  tot_em = tf.keras.layers.Input(shape=(1,), dtype=tf.float64, name='Total Emissions')\n",
    "\n",
    "  temp = tf.keras.layers.Dense(\n",
    "      units=1, activation=None, name='Temp')(tot_em)\n",
    "\n",
    "  model = tf.keras.Model(inputs=[tot_em],\n",
    "                         outputs=temp,\n",
    "                         name='Model_2')\n",
    "  model.compile(\n",
    "      optimizer=tf.keras.optimizers.Adam(learning_rate=0.001),\n",
    "      loss=tf.keras.losses.MeanAbsoluteError(),\n",
    "      metrics=tf.keras.metrics.RootMeanSquaredError()\n",
    "      )\n",
    "\n",
    "  return model"
   ]
  },
  {
   "cell_type": "code",
   "execution_count": 9,
   "id": "2fbafc0b-1272-4fad-bb65-e896f24ad3ef",
   "metadata": {},
   "outputs": [
    {
     "name": "stdout",
     "output_type": "stream",
     "text": [
      "Model: \"Model_2\"\n",
      "_________________________________________________________________\n",
      " Layer (type)                Output Shape              Param #   \n",
      "=================================================================\n",
      " Total Emissions (InputLaye  [(None, 1)]               0         \n",
      " r)                                                              \n",
      "                                                                 \n",
      " Temp (Dense)                (None, 1)                 2         \n",
      "                                                                 \n",
      "=================================================================\n",
      "Total params: 2 (8.00 Byte)\n",
      "Trainable params: 2 (8.00 Byte)\n",
      "Non-trainable params: 0 (0.00 Byte)\n",
      "_________________________________________________________________\n"
     ]
    },
    {
     "data": {
      "image/png": "[encoded data removed]",
      "text/plain": [
       "<Figure size 640x480 with 1 Axes>"
      ]
     },
     "metadata": {},
     "output_type": "display_data"
    },
    {
     "name": "stdout",
     "output_type": "stream",
     "text": [
      "final train mae: 0.385\n",
      "final val mae:   0.645\n",
      "final train rmse: 0.506\n",
      "final train rmse: 0.744\n"
     ]
    }
   ],
   "source": [
    "model_2 = build_model_2()\n",
    "model_2.summary()\n",
    "\n",
    "history = model_2.fit(\n",
    "  x=x_train[['total_emission']],\n",
    "  y=Y_train[['average_temperature_°c']],\n",
    "  epochs=80,\n",
    "  batch_size=80,\n",
    "  validation_data=(\n",
    "      x_val[['total_emission']],\n",
    "      Y_val[['average_temperature_°c']]),\n",
    "  verbose=False)\n",
    "\n",
    "show_history(history)"
   ]
  },
  {
   "cell_type": "code",
   "execution_count": 148,
   "id": "9edfc0cf-afed-4a44-9209-5e3afe20e799",
   "metadata": {},
   "outputs": [
    {
     "name": "stdout",
     "output_type": "stream",
     "text": [
      "18/18 [==============================] - 0s 1ms/step\n"
     ]
    }
   ],
   "source": [
    "model_2_preds = model_2.predict(x=x_test[['total_emission']])"
   ]
  },
  {
   "cell_type": "code",
   "execution_count": 153,
   "id": "99c179ea-f5be-4c6b-ba5d-020c07516fa2",
   "metadata": {},
   "outputs": [],
   "source": [
    "model_2_mae = mae(Y_test, model_2_preds).numpy()\n",
    "model_2_rmse = rmse(Y_test, model_2_preds).numpy()"
   ]
  },
  {
   "cell_type": "code",
   "execution_count": 154,
   "id": "28d8c193-abf3-4344-a59d-f2bb492ddb7a",
   "metadata": {},
   "outputs": [
    {
     "name": "stdout",
     "output_type": "stream",
     "text": [
      "Test MAE: 0.751\n",
      "Test RMSE: 0.922\n"
     ]
    }
   ],
   "source": [
    "print('Test MAE: %.3f' %model_2_mae)\n",
    "print('Test RMSE: %.3f' %model_2_rmse)"
   ]
  },
  {
   "cell_type": "markdown",
   "id": "9c6892d2-fa29-40b6-b8ef-859e64aa4586",
   "metadata": {},
   "source": [
    "### Model 3: Linear Regression (Adam) using Cumulative Sum of Total Emissions\n",
    "\n",
    "</br> Input - Cumulative Sum of Total Emissions\n",
    "</br>Output - Avg Temp\n",
    "</br> Very little difference to Model 2"
   ]
  },
  {
   "cell_type": "code",
   "execution_count": 10,
   "id": "2ea2a520-9a61-4b6c-98b5-782647847417",
   "metadata": {},
   "outputs": [],
   "source": [
    "def build_model_3():\n",
    "  # Clear session and remove randomness.\n",
    "  tf.keras.backend.clear_session()\n",
    "  tf.random.set_seed(0)\n",
    "\n",
    "  cum_sum_tot_em = tf.keras.layers.Input(shape=(1,), dtype=tf.float64, name='Cum Sum Total Emissions')\n",
    "\n",
    "  temp = tf.keras.layers.Dense(\n",
    "      units=1, activation=None, name='Temp')(cum_sum_tot_em)\n",
    "\n",
    "  model = tf.keras.Model(inputs=[cum_sum_tot_em],\n",
    "                         outputs=temp,\n",
    "                         name='Model_3')\n",
    "  model.compile(\n",
    "      optimizer=tf.keras.optimizers.Adam(learning_rate=0.001),\n",
    "      loss=tf.keras.losses.MeanAbsoluteError(),\n",
    "      metrics=tf.keras.metrics.RootMeanSquaredError()\n",
    "      )\n",
    "\n",
    "  return model"
   ]
  },
  {
   "cell_type": "code",
   "execution_count": 11,
   "id": "f07f4e82-7c05-4207-bccf-42f0739bbb0b",
   "metadata": {},
   "outputs": [
    {
     "name": "stdout",
     "output_type": "stream",
     "text": [
      "Model: \"Model_3\"\n",
      "_________________________________________________________________\n",
      " Layer (type)                Output Shape              Param #   \n",
      "=================================================================\n",
      " Cum Sum Total Emissions (I  [(None, 1)]               0         \n",
      " nputLayer)                                                      \n",
      "                                                                 \n",
      " Temp (Dense)                (None, 1)                 2         \n",
      "                                                                 \n",
      "=================================================================\n",
      "Total params: 2 (8.00 Byte)\n",
      "Trainable params: 2 (8.00 Byte)\n",
      "Non-trainable params: 0 (0.00 Byte)\n",
      "_________________________________________________________________\n"
     ]
    },
    {
     "data": {
      "image/png": "[encoded data removed]",
      "text/plain": [
       "<Figure size 640x480 with 1 Axes>"
      ]
     },
     "metadata": {},
     "output_type": "display_data"
    },
    {
     "name": "stdout",
     "output_type": "stream",
     "text": [
      "final train mae: 0.384\n",
      "final val mae:   0.638\n",
      "final train rmse: 0.505\n",
      "final train rmse: 0.740\n"
     ]
    }
   ],
   "source": [
    "model_3 = build_model_3()\n",
    "model_3.summary()\n",
    "\n",
    "history = model_3.fit(\n",
    "  x=x_train[['cum_sum_total_emission']],\n",
    "  y=Y_train[['average_temperature_°c']],\n",
    "  epochs=80,\n",
    "  batch_size=100,\n",
    "  validation_data=(\n",
    "      x_val[['cum_sum_total_emission']],\n",
    "      Y_val[['average_temperature_°c']]),\n",
    "  verbose=False)\n",
    "\n",
    "show_history(history)"
   ]
  },
  {
   "cell_type": "code",
   "execution_count": 155,
   "id": "e88a7845-b3fb-4f01-aca9-1af7b44a5254",
   "metadata": {},
   "outputs": [
    {
     "name": "stdout",
     "output_type": "stream",
     "text": [
      "18/18 [==============================] - 0s 1ms/step\n"
     ]
    }
   ],
   "source": [
    "model_3_preds = model_3.predict(x=x_test[['cum_sum_total_emission']])"
   ]
  },
  {
   "cell_type": "code",
   "execution_count": 156,
   "id": "394426bd-50e1-4ed2-ba5b-c1b9104584f5",
   "metadata": {},
   "outputs": [],
   "source": [
    "model_3_mae = mae(Y_test, model_3_preds).numpy()\n",
    "model_3_rmse = rmse(Y_test, model_3_preds).numpy()"
   ]
  },
  {
   "cell_type": "code",
   "execution_count": 157,
   "id": "9b432703-7d62-4946-acef-8fdcc5ab5436",
   "metadata": {},
   "outputs": [
    {
     "name": "stdout",
     "output_type": "stream",
     "text": [
      "Test MAE: 0.743\n",
      "Test RMSE: 0.921\n"
     ]
    }
   ],
   "source": [
    "print('Test MAE: %.3f' %model_3_mae)\n",
    "print('Test RMSE: %.3f' %model_3_rmse)"
   ]
  },
  {
   "cell_type": "markdown",
   "id": "8b5b6a6a-7c79-401a-84d4-86b383963757",
   "metadata": {},
   "source": [
    "### Model 4: Linear Regression (Adam) using Cumulative Sum of Total Emissions & Urban Pop\n",
    "\n",
    "</br> Input - Cumulative Sum of Total Emissions & Urban Population\n",
    "</br>Output - Avg Temp\n",
    "</br> Very little difference to model 3"
   ]
  },
  {
   "cell_type": "code",
   "execution_count": 12,
   "id": "689962c6-ddf0-4df1-a56a-8d7dea72306c",
   "metadata": {},
   "outputs": [],
   "source": [
    "def build_model_4():\n",
    "  # Clear session and remove randomness.\n",
    "  tf.keras.backend.clear_session()\n",
    "  tf.random.set_seed(0)\n",
    "\n",
    "  cum_sum_tot_em = tf.keras.layers.Input(shape=(1,), dtype=tf.float64, name='Cum Sum Total Emissions')\n",
    "  urban_pop = tf.keras.layers.Input(shape=(1,), dtype=tf.float64, name='Urban Population')\n",
    "\n",
    "  features = tf.keras.layers.Concatenate()([cum_sum_tot_em, urban_pop])\n",
    "\n",
    "  temp = tf.keras.layers.Dense(\n",
    "      units=1, activation=None, name='Temp')(features)\n",
    "\n",
    "  model = tf.keras.Model(inputs=[cum_sum_tot_em, urban_pop],\n",
    "                         outputs=temp,\n",
    "                         name='Model_4')\n",
    "  model.compile(\n",
    "      optimizer=tf.keras.optimizers.Adam(learning_rate=0.001),\n",
    "      loss=tf.keras.losses.MeanAbsoluteError(),\n",
    "      metrics=tf.keras.metrics.RootMeanSquaredError()\n",
    "      )\n",
    "\n",
    "  return model"
   ]
  },
  {
   "cell_type": "code",
   "execution_count": 13,
   "id": "88f5d83e-bdd9-484e-95e0-f74de435e2ee",
   "metadata": {},
   "outputs": [
    {
     "name": "stdout",
     "output_type": "stream",
     "text": [
      "Model: \"Model_4\"\n",
      "__________________________________________________________________________________________________\n",
      " Layer (type)                Output Shape                 Param #   Connected to                  \n",
      "==================================================================================================\n",
      " Cum Sum Total Emissions (I  [(None, 1)]                  0         []                            \n",
      " nputLayer)                                                                                       \n",
      "                                                                                                  \n",
      " Urban Population (InputLay  [(None, 1)]                  0         []                            \n",
      " er)                                                                                              \n",
      "                                                                                                  \n",
      " concatenate (Concatenate)   (None, 2)                    0         ['Cum Sum Total Emissions[0][0\n",
      "                                                                    ]',                           \n",
      "                                                                     'Urban Population[0][0]']    \n",
      "                                                                                                  \n",
      " Temp (Dense)                (None, 1)                    3         ['concatenate[0][0]']         \n",
      "                                                                                                  \n",
      "==================================================================================================\n",
      "Total params: 3 (12.00 Byte)\n",
      "Trainable params: 3 (12.00 Byte)\n",
      "Non-trainable params: 0 (0.00 Byte)\n",
      "__________________________________________________________________________________________________\n"
     ]
    },
    {
     "data": {
      "image/png": "[encoded data removed]",
      "text/plain": [
       "<Figure size 640x480 with 1 Axes>"
      ]
     },
     "metadata": {},
     "output_type": "display_data"
    },
    {
     "name": "stdout",
     "output_type": "stream",
     "text": [
      "final train mae: 0.380\n",
      "final val mae:   0.628\n",
      "final train rmse: 0.501\n",
      "final train rmse: 0.724\n"
     ]
    }
   ],
   "source": [
    "model_4 = build_model_4()\n",
    "model_4.summary()\n",
    "\n",
    "history = model_4.fit(\n",
    "  x={\n",
    "      'Cum Sum Total Emissions': x_train[['cum_sum_total_emission']],\n",
    "      'Urban Population': x_train[['log_urban_population']]\n",
    "    },\n",
    "  y=Y_train[['average_temperature_°c']],\n",
    "  epochs=80,\n",
    "  batch_size=100,\n",
    "  validation_data=(\n",
    "      {\n",
    "      'Cum Sum Total Emissions': x_val[['cum_sum_total_emission']],\n",
    "      'Urban Population': x_val[['log_urban_population']]\n",
    "    },\n",
    "      Y_val[['average_temperature_°c']]),\n",
    "  verbose=False)\n",
    "\n",
    "show_history(history)"
   ]
  },
  {
   "cell_type": "code",
   "execution_count": 162,
   "id": "70384d93-c147-407f-bd96-6226fb8d56ab",
   "metadata": {},
   "outputs": [
    {
     "name": "stdout",
     "output_type": "stream",
     "text": [
      "18/18 [==============================] - 0s 2ms/step\n"
     ]
    }
   ],
   "source": [
    "model_4_preds = model_4.predict(x={\n",
    "      'Cum Sum Total Emissions': x_test[['cum_sum_total_emission']],\n",
    "      'Urban Population': x_test[['log_urban_population']]\n",
    "    })"
   ]
  },
  {
   "cell_type": "code",
   "execution_count": 163,
   "id": "b4819982-9129-43ad-b13a-74612f5340a0",
   "metadata": {},
   "outputs": [],
   "source": [
    "model_4_mae = mae(Y_test, model_4_preds).numpy()\n",
    "model_4_rmse = rmse(Y_test, model_4_preds).numpy()"
   ]
  },
  {
   "cell_type": "code",
   "execution_count": 165,
   "id": "003e34b4-3c49-4197-bdcd-fb0ec3515335",
   "metadata": {},
   "outputs": [
    {
     "name": "stdout",
     "output_type": "stream",
     "text": [
      "Test MAE: 0.734\n",
      "Test RMSE: 0.917\n"
     ]
    }
   ],
   "source": [
    "print('Test MAE: %.3f' %model_4_mae)\n",
    "print('Test RMSE: %.3f' %model_4_rmse)"
   ]
  },
  {
   "cell_type": "markdown",
   "id": "cc2c29ee-b369-47bb-b753-6988e1ac3279",
   "metadata": {},
   "source": [
    "### Model 5: Linear Regression (Adam) Kitchen Sink \n",
    "\n",
    "</br> Input - MEI, Urban Pop, All CO2 emission inputs\n",
    "</br>Output - Avg Temp\n",
    "</br>Still some noise in validation loss, but shape of loss curves look good and training loss is less than val loss. Could maybe use a few more epochs for convergence. "
   ]
  },
  {
   "cell_type": "code",
   "execution_count": 130,
   "id": "8a307da8-7f6f-47ce-9bfb-0d7c0170da93",
   "metadata": {},
   "outputs": [],
   "source": [
    "def build_model_5():\n",
    "  # Clear session and remove randomness.\n",
    "  tf.keras.backend.clear_session()\n",
    "  tf.random.set_seed(0)\n",
    "\n",
    "  urban_pop = tf.keras.layers.Input(shape=(1,), dtype=tf.float64, name='Urban Population')\n",
    "  mei = tf.keras.layers.Input(shape=(1,), dtype=tf.float64, name='MEI')\n",
    "  cum_sum_log_crop_residues = tf.keras.layers.Input(shape=(1,), dtype=tf.float64, name='Crop Residues')\n",
    "  cum_sum_log_rice_cultivation = tf.keras.layers.Input(shape=(1,), dtype=tf.float64, name='Rice Cultivation')\n",
    "  cum_sum_log_drained_organic_soils_co2 = tf.keras.layers.Input(shape=(1,), dtype=tf.float64, name='Drained Organic Soils CO2')\n",
    "  cum_sum_log_net_forest_conversion = tf.keras.layers.Input(shape=(1,), dtype=tf.float64, name='Net Forest Conversion')\n",
    "  cum_sum_log_fires = tf.keras.layers.Input(shape=(1,), dtype=tf.float64, name='Fires')\n",
    "  cum_sum_log_manure_mgmt = tf.keras.layers.Input(shape=(1,), dtype=tf.float64, name='Manure Management')\n",
    "  cum_sum_log_food_systems = tf.keras.layers.Input(shape=(1,), dtype=tf.float64, name='Food Systems')\n",
    "  cum_sum_log_ippu_tot = tf.keras.layers.Input(shape=(1,), dtype=tf.float64, name='IPPU Total')\n",
    "  cum_sum_log_on_farm_energy_use = tf.keras.layers.Input(shape=(1,), dtype=tf.float64, name='On Farm Energy Use')\n",
    "  cum_sum_forestland = tf.keras.layers.Input(shape=(1,), dtype=tf.float64, name='Forestland')\n",
    "  sub_region = tf.keras.layers.Input(shape=(1,), dtype=tf.string, name='Sub Region')\n",
    "    \n",
    "  sub_region_id = tf.keras.layers.StringLookup(vocabulary=['Southern Asia', 'Southern Europe', \n",
    "                                                           'Northern Africa', 'Polynesia',\n",
    "                                                           'Sub-Saharan Africa', 'Latin America and the Caribbean',\n",
    "                                                           'Australia and New Zealand', 'Western Europe', \n",
    "                                                           'Western Asia','Northern America', 'South-eastern Asia', \n",
    "                                                           'Eastern Europe','Northern Europe', 'Eastern Asia', \n",
    "                                                           'Melanesia','Micronesia', 'Central Asia'], \n",
    "                                               output_mode='one_hot')(sub_region)\n",
    "    \n",
    "  features = tf.keras.layers.Concatenate()([urban_pop,\n",
    "                                            mei,\n",
    "                                            cum_sum_log_crop_residues,\n",
    "                                            cum_sum_log_rice_cultivation,\n",
    "                                            cum_sum_log_drained_organic_soils_co2,\n",
    "                                            cum_sum_log_net_forest_conversion,\n",
    "                                            cum_sum_log_fires,\n",
    "                                            cum_sum_log_manure_mgmt,\n",
    "                                            cum_sum_log_food_systems,\n",
    "                                            cum_sum_log_ippu_tot,\n",
    "                                            cum_sum_log_on_farm_energy_use,\n",
    "                                            cum_sum_forestland,\n",
    "                                            sub_region_id])\n",
    "    \n",
    "  temp = tf.keras.layers.Dense(\n",
    "      units=1, activation=None, name='Temp')(features)\n",
    "\n",
    "  model = tf.keras.Model(inputs=[urban_pop,\n",
    "                                            mei,\n",
    "                                            cum_sum_log_crop_residues,\n",
    "                                            cum_sum_log_rice_cultivation,\n",
    "                                            cum_sum_log_drained_organic_soils_co2,\n",
    "                                            cum_sum_log_net_forest_conversion,\n",
    "                                            cum_sum_log_fires,\n",
    "                                            cum_sum_log_manure_mgmt,\n",
    "                                            cum_sum_log_food_systems,\n",
    "                                            cum_sum_log_ippu_tot,\n",
    "                                            cum_sum_log_on_farm_energy_use,\n",
    "                                            cum_sum_forestland,\n",
    "                                            sub_region],\n",
    "                         outputs=temp,\n",
    "                         name='Model_5')\n",
    "  model.compile(\n",
    "      optimizer=tf.keras.optimizers.Adam(learning_rate=0.001),\n",
    "      loss=tf.keras.losses.MeanAbsoluteError(),\n",
    "      metrics=tf.keras.metrics.RootMeanSquaredError()\n",
    "      )\n",
    "\n",
    "  return model"
   ]
  },
  {
   "cell_type": "code",
   "execution_count": 131,
   "id": "a2768be0-e0a1-4bcf-bc4d-e17cab630aba",
   "metadata": {},
   "outputs": [
    {
     "name": "stdout",
     "output_type": "stream",
     "text": [
      "Model: \"Model_5\"\n",
      "__________________________________________________________________________________________________\n",
      " Layer (type)                Output Shape                 Param #   Connected to                  \n",
      "==================================================================================================\n",
      " Sub Region (InputLayer)     [(None, 1)]                  0         []                            \n",
      "                                                                                                  \n",
      " Urban Population (InputLay  [(None, 1)]                  0         []                            \n",
      " er)                                                                                              \n",
      "                                                                                                  \n",
      " MEI (InputLayer)            [(None, 1)]                  0         []                            \n",
      "                                                                                                  \n",
      " Crop Residues (InputLayer)  [(None, 1)]                  0         []                            \n",
      "                                                                                                  \n",
      " Rice Cultivation (InputLay  [(None, 1)]                  0         []                            \n",
      " er)                                                                                              \n",
      "                                                                                                  \n",
      " Drained Organic Soils CO2   [(None, 1)]                  0         []                            \n",
      " (InputLayer)                                                                                     \n",
      "                                                                                                  \n",
      " Net Forest Conversion (Inp  [(None, 1)]                  0         []                            \n",
      " utLayer)                                                                                         \n",
      "                                                                                                  \n",
      " Fires (InputLayer)          [(None, 1)]                  0         []                            \n",
      "                                                                                                  \n",
      " Manure Management (InputLa  [(None, 1)]                  0         []                            \n",
      " yer)                                                                                             \n",
      "                                                                                                  \n",
      " Food Systems (InputLayer)   [(None, 1)]                  0         []                            \n",
      "                                                                                                  \n",
      " IPPU Total (InputLayer)     [(None, 1)]                  0         []                            \n",
      "                                                                                                  \n",
      " On Farm Energy Use (InputL  [(None, 1)]                  0         []                            \n",
      " ayer)                                                                                            \n",
      "                                                                                                  \n",
      " Forestland (InputLayer)     [(None, 1)]                  0         []                            \n",
      "                                                                                                  \n",
      " string_lookup (StringLooku  (None, 18)                   0         ['Sub Region[0][0]']          \n",
      " p)                                                                                               \n",
      "                                                                                                  \n",
      " concatenate (Concatenate)   (None, 30)                   0         ['Urban Population[0][0]',    \n",
      "                                                                     'MEI[0][0]',                 \n",
      "                                                                     'Crop Residues[0][0]',       \n",
      "                                                                     'Rice Cultivation[0][0]',    \n",
      "                                                                     'Drained Organic Soils CO2[0]\n",
      "                                                                    [0]',                         \n",
      "                                                                     'Net Forest Conversion[0][0]'\n",
      "                                                                    , 'Fires[0][0]',              \n",
      "                                                                     'Manure Management[0][0]',   \n",
      "                                                                     'Food Systems[0][0]',        \n",
      "                                                                     'IPPU Total[0][0]',          \n",
      "                                                                     'On Farm Energy Use[0][0]',  \n",
      "                                                                     'Forestland[0][0]',          \n",
      "                                                                     'string_lookup[0][0]']       \n",
      "                                                                                                  \n",
      " Temp (Dense)                (None, 1)                    31        ['concatenate[0][0]']         \n",
      "                                                                                                  \n",
      "==================================================================================================\n",
      "Total params: 31 (124.00 Byte)\n",
      "Trainable params: 31 (124.00 Byte)\n",
      "Non-trainable params: 0 (0.00 Byte)\n",
      "__________________________________________________________________________________________________\n"
     ]
    },
    {
     "data": {
      "image/png": "[encoded data removed]",
      "text/plain": [
       "<Figure size 640x480 with 1 Axes>"
      ]
     },
     "metadata": {},
     "output_type": "display_data"
    },
    {
     "name": "stdout",
     "output_type": "stream",
     "text": [
      "final train mae: 0.320\n",
      "final val mae:   0.331\n",
      "final train rmse: 0.435\n",
      "final train rmse: 0.424\n"
     ]
    }
   ],
   "source": [
    "model_5 = build_model_5()\n",
    "model_5.summary()\n",
    "\n",
    "history = model_5.fit(\n",
    "  x={\n",
    "      'Urban Population': x_train[['urban_population']],\n",
    "      'MEI': x_train[['mei']],\n",
    "      'Crop Residues': x_train[['cum_sum_log_crop_residues']],\n",
    "      'Rice Cultivation': x_train[['cum_sum_log_rice_cultivation']],\n",
    "      'Drained Organic Soils CO2': x_train[['cum_sum_log_drained_organic_soils_co2']],\n",
    "      'Net Forest Conversion': x_train[['cum_sum_log_net_forest_conversion']],\n",
    "      'Fires': x_train[['cum_sum_log_fires']],\n",
    "      'Manure Management': x_train[['cum_sum_log_manure_mgmt']],\n",
    "      'Food Systems': x_train[['cum_sum_log_food_systems']],\n",
    "      'IPPU Total': x_train[['cum_sum_log_ippu_tot']],\n",
    "      'On Farm Energy Use': x_train[['cum_sum_log_on_farm_energy_use']],\n",
    "      'Forestland': x_train[['cum_sum_forestland']],\n",
    "      'Sub Region': x_train[['sub-region']]\n",
    "    },\n",
    "  y=Y_train[['average_temperature_°c']],\n",
    "  epochs=80,\n",
    "  batch_size=100,\n",
    "  validation_data=(\n",
    "      {\n",
    "      'Urban Population': x_val[['urban_population']],\n",
    "      'MEI': x_val[['mei']],\n",
    "      'Crop Residues': x_val[['cum_sum_log_crop_residues']],\n",
    "      'Rice Cultivation': x_val[['cum_sum_log_rice_cultivation']],\n",
    "      'Drained Organic Soils CO2': x_val[['cum_sum_log_drained_organic_soils_co2']],\n",
    "      'Net Forest Conversion': x_val[['cum_sum_log_net_forest_conversion']],\n",
    "      'Fires': x_val[['cum_sum_log_fires']],\n",
    "      'Manure Management': x_val[['cum_sum_log_manure_mgmt']],\n",
    "      'Food Systems': x_val[['cum_sum_log_food_systems']],\n",
    "      'IPPU Total': x_val[['cum_sum_log_ippu_tot']],\n",
    "      'On Farm Energy Use': x_val[['cum_sum_log_on_farm_energy_use']],\n",
    "      'Forestland': x_val[['cum_sum_forestland']],\n",
    "      'Sub Region': x_val[['sub-region']]\n",
    "      },\n",
    "      Y_val[['average_temperature_°c']]),\n",
    "  verbose=0)\n",
    "\n",
    "show_history(history)"
   ]
  },
  {
   "cell_type": "code",
   "execution_count": 169,
   "id": "edef0058-5a9c-4666-8b64-2ccb888908b8",
   "metadata": {},
   "outputs": [
    {
     "name": "stdout",
     "output_type": "stream",
     "text": [
      "18/18 [==============================] - 0s 2ms/step\n"
     ]
    }
   ],
   "source": [
    "model_5_preds = model_5.predict(x={\n",
    "      'Urban Population': x_test[['urban_population']],\n",
    "      'MEI': x_test[['mei']],\n",
    "      'Crop Residues': x_test[['cum_sum_log_crop_residues']],\n",
    "      'Rice Cultivation': x_test[['cum_sum_log_rice_cultivation']],\n",
    "      'Drained Organic Soils CO2': x_test[['cum_sum_log_drained_organic_soils_co2']],\n",
    "      'Net Forest Conversion': x_test[['cum_sum_log_net_forest_conversion']],\n",
    "      'Fires': x_test[['cum_sum_log_fires']],\n",
    "      'Manure Management': x_test[['cum_sum_log_manure_mgmt']],\n",
    "      'Food Systems': x_test[['cum_sum_log_food_systems']],\n",
    "      'IPPU Total': x_test[['cum_sum_log_ippu_tot']],\n",
    "      'On Farm Energy Use': x_test[['cum_sum_log_on_farm_energy_use']],\n",
    "      'Forestland': x_test[['cum_sum_forestland']],\n",
    "      'Sub Region': x_test[['sub-region']]\n",
    "    })"
   ]
  },
  {
   "cell_type": "code",
   "execution_count": 170,
   "id": "3bcd7c80-5796-4f4b-9c36-f33a4edf42f3",
   "metadata": {},
   "outputs": [],
   "source": [
    "model_5_mae = mae(Y_test, model_5_preds).numpy()\n",
    "model_5_rmse = rmse(Y_test, model_5_preds).numpy()"
   ]
  },
  {
   "cell_type": "code",
   "execution_count": 171,
   "id": "d9db75a5-233b-44d4-80bd-85e6d80639d8",
   "metadata": {},
   "outputs": [
    {
     "name": "stdout",
     "output_type": "stream",
     "text": [
      "Test MAE: 0.413\n",
      "Test RMSE: 0.874\n"
     ]
    }
   ],
   "source": [
    "print('Test MAE: %.3f' %model_5_mae)\n",
    "print('Test RMSE: %.3f' %model_5_rmse)"
   ]
  },
  {
   "cell_type": "markdown",
   "id": "78b8d9a5-63b1-4357-b61d-a550bcb5d70b",
   "metadata": {},
   "source": [
    "#### Model 6 - Linear Regression (Adam) Kitchen Sink (Hyperparameter Tuning)\n",
    "\n",
    "</br> Input - MEI, Urban Pop, All CO2 emission inputs\n",
    "</br>Output - Avg Temp\n",
    "</br>Added exponential decay learning rate scheduler. Increased epochs and batch size to 300 to try to reduce noise. Small amount of overfitting to training data which is prefereable. Less noise in validation loss. "
   ]
  },
  {
   "cell_type": "code",
   "execution_count": 132,
   "id": "adf36e07-4759-46cb-af6d-da89bbf2b26b",
   "metadata": {},
   "outputs": [],
   "source": [
    "def build_model_6():\n",
    "  # Clear session and remove randomness.\n",
    "  tf.keras.backend.clear_session()\n",
    "  tf.random.set_seed(0)\n",
    "\n",
    "  urban_pop = tf.keras.layers.Input(shape=(1,), dtype=tf.float64, name='Urban Population')\n",
    "  mei = tf.keras.layers.Input(shape=(1,), dtype=tf.float64, name='MEI')\n",
    "  cum_sum_log_crop_residues = tf.keras.layers.Input(shape=(1,), dtype=tf.float64, name='Crop Residues')\n",
    "  cum_sum_log_rice_cultivation = tf.keras.layers.Input(shape=(1,), dtype=tf.float64, name='Rice Cultivation')\n",
    "  cum_sum_log_drained_organic_soils_co2 = tf.keras.layers.Input(shape=(1,), dtype=tf.float64, name='Drained Organic Soils CO2')\n",
    "  cum_sum_log_net_forest_conversion = tf.keras.layers.Input(shape=(1,), dtype=tf.float64, name='Net Forest Conversion')\n",
    "  cum_sum_log_fires = tf.keras.layers.Input(shape=(1,), dtype=tf.float64, name='Fires')\n",
    "  cum_sum_log_manure_mgmt = tf.keras.layers.Input(shape=(1,), dtype=tf.float64, name='Manure Management')\n",
    "  cum_sum_log_food_systems = tf.keras.layers.Input(shape=(1,), dtype=tf.float64, name='Food Systems')\n",
    "  cum_sum_log_ippu_tot = tf.keras.layers.Input(shape=(1,), dtype=tf.float64, name='IPPU Total')\n",
    "  cum_sum_log_on_farm_energy_use = tf.keras.layers.Input(shape=(1,), dtype=tf.float64, name='On Farm Energy Use')\n",
    "  cum_sum_forestland = tf.keras.layers.Input(shape=(1,), dtype=tf.float64, name='Forestland')\n",
    "  sub_region = tf.keras.layers.Input(shape=(1,), dtype=tf.string, name='Sub Region')\n",
    "    \n",
    "  sub_region_id = tf.keras.layers.StringLookup(vocabulary=['Southern Asia', 'Southern Europe', \n",
    "                                                           'Northern Africa', 'Polynesia',\n",
    "                                                           'Sub-Saharan Africa', 'Latin America and the Caribbean',\n",
    "                                                           'Australia and New Zealand', 'Western Europe', \n",
    "                                                           'Western Asia','Northern America', 'South-eastern Asia', \n",
    "                                                           'Eastern Europe','Northern Europe', 'Eastern Asia', \n",
    "                                                           'Melanesia','Micronesia','Central Asia'], \n",
    "                                               output_mode='one_hot')(sub_region)\n",
    "    \n",
    "  features = tf.keras.layers.Concatenate()([urban_pop,\n",
    "                                            mei,\n",
    "                                            cum_sum_log_crop_residues,\n",
    "                                            cum_sum_log_rice_cultivation,\n",
    "                                            cum_sum_log_drained_organic_soils_co2,\n",
    "                                            cum_sum_log_net_forest_conversion,\n",
    "                                            cum_sum_log_fires,\n",
    "                                            cum_sum_log_manure_mgmt,\n",
    "                                            cum_sum_log_food_systems,\n",
    "                                            cum_sum_log_ippu_tot,\n",
    "                                            cum_sum_log_on_farm_energy_use,\n",
    "                                            cum_sum_forestland,\n",
    "                                            sub_region_id])\n",
    "    \n",
    "  temp = tf.keras.layers.Dense(\n",
    "      units=1, activation=None, name='Temp')(features)\n",
    "\n",
    "  model = tf.keras.Model(inputs=[urban_pop,\n",
    "                                            mei,\n",
    "                                            cum_sum_log_crop_residues,\n",
    "                                            cum_sum_log_rice_cultivation,\n",
    "                                            cum_sum_log_drained_organic_soils_co2,\n",
    "                                            cum_sum_log_net_forest_conversion,\n",
    "                                            cum_sum_log_fires,\n",
    "                                            cum_sum_log_manure_mgmt,\n",
    "                                            cum_sum_log_food_systems,\n",
    "                                            cum_sum_log_ippu_tot,\n",
    "                                            cum_sum_log_on_farm_energy_use,\n",
    "                                            cum_sum_forestland,\n",
    "                                            sub_region],\n",
    "                         outputs=temp,\n",
    "                         name='Model_6')\n",
    "  \n",
    "  initial_learning_rate = 0.0001\n",
    "  lr_schedule = tf.keras.optimizers.schedules.ExponentialDecay(\n",
    "    initial_learning_rate,\n",
    "    decay_steps=100000,\n",
    "    decay_rate=0.96,\n",
    "    staircase=True)\n",
    "\n",
    "  model.compile(\n",
    "      optimizer=tf.keras.optimizers.Adam(learning_rate=lr_schedule),\n",
    "      loss=tf.keras.losses.MeanAbsoluteError(),\n",
    "      metrics=tf.keras.metrics.RootMeanSquaredError()\n",
    "      )\n",
    "\n",
    "  return model"
   ]
  },
  {
   "cell_type": "code",
   "execution_count": 136,
   "id": "3dc4bb68-c12c-40ba-a4ed-1aa737226233",
   "metadata": {},
   "outputs": [
    {
     "name": "stdout",
     "output_type": "stream",
     "text": [
      "Model: \"Model_6\"\n",
      "__________________________________________________________________________________________________\n",
      " Layer (type)                Output Shape                 Param #   Connected to                  \n",
      "==================================================================================================\n",
      " Sub Region (InputLayer)     [(None, 1)]                  0         []                            \n",
      "                                                                                                  \n",
      " Urban Population (InputLay  [(None, 1)]                  0         []                            \n",
      " er)                                                                                              \n",
      "                                                                                                  \n",
      " MEI (InputLayer)            [(None, 1)]                  0         []                            \n",
      "                                                                                                  \n",
      " Crop Residues (InputLayer)  [(None, 1)]                  0         []                            \n",
      "                                                                                                  \n",
      " Rice Cultivation (InputLay  [(None, 1)]                  0         []                            \n",
      " er)                                                                                              \n",
      "                                                                                                  \n",
      " Drained Organic Soils CO2   [(None, 1)]                  0         []                            \n",
      " (InputLayer)                                                                                     \n",
      "                                                                                                  \n",
      " Net Forest Conversion (Inp  [(None, 1)]                  0         []                            \n",
      " utLayer)                                                                                         \n",
      "                                                                                                  \n",
      " Fires (InputLayer)          [(None, 1)]                  0         []                            \n",
      "                                                                                                  \n",
      " Manure Management (InputLa  [(None, 1)]                  0         []                            \n",
      " yer)                                                                                             \n",
      "                                                                                                  \n",
      " Food Systems (InputLayer)   [(None, 1)]                  0         []                            \n",
      "                                                                                                  \n",
      " IPPU Total (InputLayer)     [(None, 1)]                  0         []                            \n",
      "                                                                                                  \n",
      " On Farm Energy Use (InputL  [(None, 1)]                  0         []                            \n",
      " ayer)                                                                                            \n",
      "                                                                                                  \n",
      " Forestland (InputLayer)     [(None, 1)]                  0         []                            \n",
      "                                                                                                  \n",
      " string_lookup (StringLooku  (None, 18)                   0         ['Sub Region[0][0]']          \n",
      " p)                                                                                               \n",
      "                                                                                                  \n",
      " concatenate (Concatenate)   (None, 30)                   0         ['Urban Population[0][0]',    \n",
      "                                                                     'MEI[0][0]',                 \n",
      "                                                                     'Crop Residues[0][0]',       \n",
      "                                                                     'Rice Cultivation[0][0]',    \n",
      "                                                                     'Drained Organic Soils CO2[0]\n",
      "                                                                    [0]',                         \n",
      "                                                                     'Net Forest Conversion[0][0]'\n",
      "                                                                    , 'Fires[0][0]',              \n",
      "                                                                     'Manure Management[0][0]',   \n",
      "                                                                     'Food Systems[0][0]',        \n",
      "                                                                     'IPPU Total[0][0]',          \n",
      "                                                                     'On Farm Energy Use[0][0]',  \n",
      "                                                                     'Forestland[0][0]',          \n",
      "                                                                     'string_lookup[0][0]']       \n",
      "                                                                                                  \n",
      " Temp (Dense)                (None, 1)                    31        ['concatenate[0][0]']         \n",
      "                                                                                                  \n",
      "==================================================================================================\n",
      "Total params: 31 (124.00 Byte)\n",
      "Trainable params: 31 (124.00 Byte)\n",
      "Non-trainable params: 0 (0.00 Byte)\n",
      "__________________________________________________________________________________________________\n"
     ]
    },
    {
     "data": {
      "image/png": "[encoded data removed]",
      "text/plain": [
       "<Figure size 640x480 with 1 Axes>"
      ]
     },
     "metadata": {},
     "output_type": "display_data"
    },
    {
     "name": "stdout",
     "output_type": "stream",
     "text": [
      "final train mae: 0.321\n",
      "final val mae:   0.341\n",
      "final train rmse: 0.435\n",
      "final train rmse: 0.436\n"
     ]
    }
   ],
   "source": [
    "model_6 = build_model_6()\n",
    "model_6.summary()\n",
    "\n",
    "history = model_6.fit(\n",
    "  x={\n",
    "      'Urban Population': x_train[['urban_population']],\n",
    "      'MEI': x_train[['mei']],\n",
    "      'Crop Residues': x_train[['cum_sum_log_crop_residues']],\n",
    "      'Rice Cultivation': x_train[['cum_sum_log_rice_cultivation']],\n",
    "      'Drained Organic Soils CO2': x_train[['cum_sum_log_drained_organic_soils_co2']],\n",
    "      'Net Forest Conversion': x_train[['cum_sum_log_net_forest_conversion']],\n",
    "      'Fires': x_train[['cum_sum_log_fires']],\n",
    "      'Manure Management': x_train[['cum_sum_log_manure_mgmt']],\n",
    "      'Food Systems': x_train[['cum_sum_log_food_systems']],\n",
    "      'IPPU Total': x_train[['cum_sum_log_ippu_tot']],\n",
    "      'On Farm Energy Use': x_train[['cum_sum_log_on_farm_energy_use']],\n",
    "      'Forestland': x_train[['cum_sum_forestland']],\n",
    "      'Sub Region': x_train[['sub-region']]\n",
    "    },\n",
    "  y=Y_train[['average_temperature_°c']],\n",
    "  epochs=850,\n",
    "  batch_size=400,\n",
    "  validation_data=(\n",
    "      {\n",
    "      'Urban Population': x_val[['urban_population']],\n",
    "      'MEI': x_val[['mei']],\n",
    "      'Crop Residues': x_val[['cum_sum_log_crop_residues']],\n",
    "      'Rice Cultivation': x_val[['cum_sum_log_rice_cultivation']],\n",
    "      'Drained Organic Soils CO2': x_val[['cum_sum_log_drained_organic_soils_co2']],\n",
    "      'Net Forest Conversion': x_val[['cum_sum_log_net_forest_conversion']],\n",
    "      'Fires': x_val[['cum_sum_log_fires']],\n",
    "      'Manure Management': x_val[['cum_sum_log_manure_mgmt']],\n",
    "      'Food Systems': x_val[['cum_sum_log_food_systems']],\n",
    "      'IPPU Total': x_val[['cum_sum_log_ippu_tot']],\n",
    "      'On Farm Energy Use': x_val[['cum_sum_log_on_farm_energy_use']],\n",
    "      'Forestland': x_val[['cum_sum_forestland']],\n",
    "      'Sub Region': x_val[['sub-region']]\n",
    "      },\n",
    "      Y_val[['average_temperature_°c']]),\n",
    "  verbose=0)\n",
    "\n",
    "show_history(history)"
   ]
  },
  {
   "cell_type": "code",
   "execution_count": 172,
   "id": "4e2e2520-c0a9-453b-a80b-1c4d6bd96271",
   "metadata": {},
   "outputs": [
    {
     "name": "stdout",
     "output_type": "stream",
     "text": [
      "18/18 [==============================] - 0s 2ms/step\n"
     ]
    }
   ],
   "source": [
    "model_6_preds = model_6.predict(x={\n",
    "      'Urban Population': x_test[['urban_population']],\n",
    "      'MEI': x_test[['mei']],\n",
    "      'Crop Residues': x_test[['cum_sum_log_crop_residues']],\n",
    "      'Rice Cultivation': x_test[['cum_sum_log_rice_cultivation']],\n",
    "      'Drained Organic Soils CO2': x_test[['cum_sum_log_drained_organic_soils_co2']],\n",
    "      'Net Forest Conversion': x_test[['cum_sum_log_net_forest_conversion']],\n",
    "      'Fires': x_test[['cum_sum_log_fires']],\n",
    "      'Manure Management': x_test[['cum_sum_log_manure_mgmt']],\n",
    "      'Food Systems': x_test[['cum_sum_log_food_systems']],\n",
    "      'IPPU Total': x_test[['cum_sum_log_ippu_tot']],\n",
    "      'On Farm Energy Use': x_test[['cum_sum_log_on_farm_energy_use']],\n",
    "      'Forestland': x_test[['cum_sum_forestland']],\n",
    "      'Sub Region': x_test[['sub-region']]\n",
    "    })"
   ]
  },
  {
   "cell_type": "code",
   "execution_count": 173,
   "id": "39f07a75-df72-4ee3-b6f0-70147c304fb3",
   "metadata": {},
   "outputs": [],
   "source": [
    "model_6_mae = mae(Y_test, model_6_preds).numpy()\n",
    "model_6_rmse = rmse(Y_test, model_6_preds).numpy()"
   ]
  },
  {
   "cell_type": "code",
   "execution_count": 174,
   "id": "ae84d0b2-513c-4a34-8f49-2a241dd6632e",
   "metadata": {},
   "outputs": [
    {
     "name": "stdout",
     "output_type": "stream",
     "text": [
      "Test MAE: 0.420\n",
      "Test RMSE: 0.840\n"
     ]
    }
   ],
   "source": [
    "print('Test MAE: %.3f' %model_6_mae)\n",
    "print('Test RMSE: %.3f' %model_6_rmse)"
   ]
  },
  {
   "cell_type": "markdown",
   "id": "31c6a942-da89-487d-ba6c-663ee6db7fca",
   "metadata": {},
   "source": [
    "### Model 7: FFNN (1 Hidden Layer)\n",
    "\n",
    "</br> Input - MEI, Urban Pop, All CO2 emission inputs\n",
    "</br>Output - Avg Temp\n",
    "</br>1 Hidden Layer Size: 128\n",
    "</br>Includes exponential decay LR scheduler\n",
    "</br> Did not include dropout layer since dropout led to underfitting (val loss was lower than train loss)"
   ]
  },
  {
   "cell_type": "code",
   "execution_count": 18,
   "id": "eaad2c54-338b-41f6-917e-7d98633e827a",
   "metadata": {},
   "outputs": [],
   "source": [
    "def build_model_7():\n",
    "  # Clear session and remove randomness.\n",
    "  tf.keras.backend.clear_session()\n",
    "  tf.random.set_seed(0)\n",
    "\n",
    "  urban_pop = tf.keras.layers.Input(shape=(1,), dtype=tf.float64, name='Urban Population')\n",
    "  mei = tf.keras.layers.Input(shape=(1,), dtype=tf.float64, name='MEI')\n",
    "  cum_sum_log_crop_residues = tf.keras.layers.Input(shape=(1,), dtype=tf.float64, name='Crop Residues')\n",
    "  cum_sum_log_rice_cultivation = tf.keras.layers.Input(shape=(1,), dtype=tf.float64, name='Rice Cultivation')\n",
    "  cum_sum_log_drained_organic_soils_co2 = tf.keras.layers.Input(shape=(1,), dtype=tf.float64, name='Drained Organic Soils CO2')\n",
    "  cum_sum_log_net_forest_conversion = tf.keras.layers.Input(shape=(1,), dtype=tf.float64, name='Net Forest Conversion')\n",
    "  cum_sum_log_fires = tf.keras.layers.Input(shape=(1,), dtype=tf.float64, name='Fires')\n",
    "  cum_sum_log_manure_mgmt = tf.keras.layers.Input(shape=(1,), dtype=tf.float64, name='Manure Management')\n",
    "  cum_sum_log_food_systems = tf.keras.layers.Input(shape=(1,), dtype=tf.float64, name='Food Systems')\n",
    "  cum_sum_log_ippu_tot = tf.keras.layers.Input(shape=(1,), dtype=tf.float64, name='IPPU Total')\n",
    "  cum_sum_log_on_farm_energy_use = tf.keras.layers.Input(shape=(1,), dtype=tf.float64, name='On Farm Energy Use')\n",
    "  cum_sum_forestland = tf.keras.layers.Input(shape=(1,), dtype=tf.float64, name='Forestland')\n",
    "  sub_region = tf.keras.layers.Input(shape=(1,), dtype=tf.string, name='Sub Region')\n",
    "    \n",
    "  sub_region_id = tf.keras.layers.StringLookup(vocabulary=['Southern Asia', 'Southern Europe', \n",
    "                                                           'Northern Africa', 'Polynesia',\n",
    "                                                           'Sub-Saharan Africa', 'Latin America and the Caribbean',\n",
    "                                                           'Australia and New Zealand', 'Western Europe', \n",
    "                                                           'Western Asia','Northern America', 'South-eastern Asia', \n",
    "                                                           'Eastern Europe','Northern Europe', 'Eastern Asia', \n",
    "                                                           'Melanesia','Micronesia', 'Central Asia'], \n",
    "                                               output_mode='one_hot')(sub_region)\n",
    "    \n",
    "  features = tf.keras.layers.Concatenate()([urban_pop,\n",
    "                                            mei,\n",
    "                                            cum_sum_log_crop_residues,\n",
    "                                            cum_sum_log_rice_cultivation,\n",
    "                                            cum_sum_log_drained_organic_soils_co2,\n",
    "                                            cum_sum_log_net_forest_conversion,\n",
    "                                            cum_sum_log_fires,\n",
    "                                            cum_sum_log_manure_mgmt,\n",
    "                                            cum_sum_log_food_systems,\n",
    "                                            cum_sum_log_ippu_tot,\n",
    "                                            cum_sum_log_on_farm_energy_use,\n",
    "                                            cum_sum_forestland,\n",
    "                                            sub_region_id])\n",
    "  \n",
    "  hidden_1 = tf.keras.layers.Dense(\n",
    "      units=128, activation='relu', name='Hidden_Layer_1')(features)\n",
    "  \n",
    "  temp = tf.keras.layers.Dense(\n",
    "      units=1, activation=None, name='Temp')(hidden_1)\n",
    "\n",
    "  model = tf.keras.Model(inputs=[urban_pop,\n",
    "                                            mei,\n",
    "                                            cum_sum_log_crop_residues,\n",
    "                                            cum_sum_log_rice_cultivation,\n",
    "                                            cum_sum_log_drained_organic_soils_co2,\n",
    "                                            cum_sum_log_net_forest_conversion,\n",
    "                                            cum_sum_log_fires,\n",
    "                                            cum_sum_log_manure_mgmt,\n",
    "                                            cum_sum_log_food_systems,\n",
    "                                            cum_sum_log_ippu_tot,\n",
    "                                            cum_sum_log_on_farm_energy_use,\n",
    "                                            cum_sum_forestland,\n",
    "                                            sub_region],\n",
    "                         outputs=temp,\n",
    "                         name='Model_7')\n",
    "  \n",
    "  initial_learning_rate = 0.00001\n",
    "  lr_schedule = tf.keras.optimizers.schedules.ExponentialDecay(\n",
    "    initial_learning_rate,\n",
    "    decay_steps=100000,\n",
    "    decay_rate=0.96,\n",
    "    staircase=True)\n",
    "\n",
    "  model.compile(\n",
    "      optimizer=tf.keras.optimizers.Adam(learning_rate=lr_schedule),\n",
    "      loss=tf.keras.losses.MeanAbsoluteError(),\n",
    "      metrics=tf.keras.metrics.RootMeanSquaredError()\n",
    "      )\n",
    "\n",
    "  return model"
   ]
  },
  {
   "cell_type": "code",
   "execution_count": 19,
   "id": "8848f88d-5c47-4d26-a497-6b7dea031996",
   "metadata": {},
   "outputs": [
    {
     "name": "stdout",
     "output_type": "stream",
     "text": [
      "Model: \"Model_7\"\n",
      "__________________________________________________________________________________________________\n",
      " Layer (type)                Output Shape                 Param #   Connected to                  \n",
      "==================================================================================================\n",
      " Sub Region (InputLayer)     [(None, 1)]                  0         []                            \n",
      "                                                                                                  \n",
      " Urban Population (InputLay  [(None, 1)]                  0         []                            \n",
      " er)                                                                                              \n",
      "                                                                                                  \n",
      " MEI (InputLayer)            [(None, 1)]                  0         []                            \n",
      "                                                                                                  \n",
      " Crop Residues (InputLayer)  [(None, 1)]                  0         []                            \n",
      "                                                                                                  \n",
      " Rice Cultivation (InputLay  [(None, 1)]                  0         []                            \n",
      " er)                                                                                              \n",
      "                                                                                                  \n",
      " Drained Organic Soils CO2   [(None, 1)]                  0         []                            \n",
      " (InputLayer)                                                                                     \n",
      "                                                                                                  \n",
      " Net Forest Conversion (Inp  [(None, 1)]                  0         []                            \n",
      " utLayer)                                                                                         \n",
      "                                                                                                  \n",
      " Fires (InputLayer)          [(None, 1)]                  0         []                            \n",
      "                                                                                                  \n",
      " Manure Management (InputLa  [(None, 1)]                  0         []                            \n",
      " yer)                                                                                             \n",
      "                                                                                                  \n",
      " Food Systems (InputLayer)   [(None, 1)]                  0         []                            \n",
      "                                                                                                  \n",
      " IPPU Total (InputLayer)     [(None, 1)]                  0         []                            \n",
      "                                                                                                  \n",
      " On Farm Energy Use (InputL  [(None, 1)]                  0         []                            \n",
      " ayer)                                                                                            \n",
      "                                                                                                  \n",
      " Forestland (InputLayer)     [(None, 1)]                  0         []                            \n",
      "                                                                                                  \n",
      " string_lookup (StringLooku  (None, 18)                   0         ['Sub Region[0][0]']          \n",
      " p)                                                                                               \n",
      "                                                                                                  \n",
      " concatenate (Concatenate)   (None, 30)                   0         ['Urban Population[0][0]',    \n",
      "                                                                     'MEI[0][0]',                 \n",
      "                                                                     'Crop Residues[0][0]',       \n",
      "                                                                     'Rice Cultivation[0][0]',    \n",
      "                                                                     'Drained Organic Soils CO2[0]\n",
      "                                                                    [0]',                         \n",
      "                                                                     'Net Forest Conversion[0][0]'\n",
      "                                                                    , 'Fires[0][0]',              \n",
      "                                                                     'Manure Management[0][0]',   \n",
      "                                                                     'Food Systems[0][0]',        \n",
      "                                                                     'IPPU Total[0][0]',          \n",
      "                                                                     'On Farm Energy Use[0][0]',  \n",
      "                                                                     'Forestland[0][0]',          \n",
      "                                                                     'string_lookup[0][0]']       \n",
      "                                                                                                  \n",
      " Hidden_Layer_1 (Dense)      (None, 128)                  3968      ['concatenate[0][0]']         \n",
      "                                                                                                  \n",
      " Temp (Dense)                (None, 1)                    129       ['Hidden_Layer_1[0][0]']      \n",
      "                                                                                                  \n",
      "==================================================================================================\n",
      "Total params: 4097 (16.00 KB)\n",
      "Trainable params: 4097 (16.00 KB)\n",
      "Non-trainable params: 0 (0.00 Byte)\n",
      "__________________________________________________________________________________________________\n"
     ]
    },
    {
     "data": {
      "image/png": "[encoded data removed]",
      "text/plain": [
       "<Figure size 640x480 with 1 Axes>"
      ]
     },
     "metadata": {},
     "output_type": "display_data"
    },
    {
     "name": "stdout",
     "output_type": "stream",
     "text": [
      "final train mae: 0.285\n",
      "final val mae:   0.329\n",
      "final train rmse: 0.398\n",
      "final train rmse: 0.414\n"
     ]
    }
   ],
   "source": [
    "model_7 = build_model_7()\n",
    "model_7.summary()\n",
    "\n",
    "history = model_7.fit(\n",
    "  x={\n",
    "      'Urban Population': x_train[['urban_population']],\n",
    "      'MEI': x_train[['mei']],\n",
    "      'Crop Residues': x_train[['cum_sum_log_crop_residues']],\n",
    "      'Rice Cultivation': x_train[['cum_sum_log_rice_cultivation']],\n",
    "      'Drained Organic Soils CO2': x_train[['cum_sum_log_drained_organic_soils_co2']],\n",
    "      'Net Forest Conversion': x_train[['cum_sum_log_net_forest_conversion']],\n",
    "      'Fires': x_train[['cum_sum_log_fires']],\n",
    "      'Manure Management': x_train[['cum_sum_log_manure_mgmt']],\n",
    "      'Food Systems': x_train[['cum_sum_log_food_systems']],\n",
    "      'IPPU Total': x_train[['cum_sum_log_ippu_tot']],\n",
    "      'On Farm Energy Use': x_train[['cum_sum_log_on_farm_energy_use']],\n",
    "      'Forestland': x_train[['cum_sum_forestland']],\n",
    "      'Sub Region': x_train[['sub-region']]\n",
    "    },\n",
    "  y=Y_train[['average_temperature_°c']],\n",
    "  epochs=1600,\n",
    "  batch_size=600,\n",
    "  validation_data=(\n",
    "      {\n",
    "      'Urban Population': x_val[['urban_population']],\n",
    "      'MEI': x_val[['mei']],\n",
    "      'Crop Residues': x_val[['cum_sum_log_crop_residues']],\n",
    "      'Rice Cultivation': x_val[['cum_sum_log_rice_cultivation']],\n",
    "      'Drained Organic Soils CO2': x_val[['cum_sum_log_drained_organic_soils_co2']],\n",
    "      'Net Forest Conversion': x_val[['cum_sum_log_net_forest_conversion']],\n",
    "      'Fires': x_val[['cum_sum_log_fires']],\n",
    "      'Manure Management': x_val[['cum_sum_log_manure_mgmt']],\n",
    "      'Food Systems': x_val[['cum_sum_log_food_systems']],\n",
    "      'IPPU Total': x_val[['cum_sum_log_ippu_tot']],\n",
    "      'On Farm Energy Use': x_val[['cum_sum_log_on_farm_energy_use']],\n",
    "      'Forestland': x_val[['cum_sum_forestland']],\n",
    "      'Sub Region': x_val[['sub-region']]\n",
    "      },\n",
    "      Y_val[['average_temperature_°c']]),\n",
    "  verbose=0)\n",
    "\n",
    "show_history(history)"
   ]
  },
  {
   "cell_type": "code",
   "execution_count": 175,
   "id": "2e98185c-762b-4b88-b3e2-52a8bafe3ec1",
   "metadata": {},
   "outputs": [
    {
     "name": "stdout",
     "output_type": "stream",
     "text": [
      "18/18 [==============================] - 0s 2ms/step\n"
     ]
    }
   ],
   "source": [
    "model_7_preds = model_7.predict(x={\n",
    "      'Urban Population': x_test[['urban_population']],\n",
    "      'MEI': x_test[['mei']],\n",
    "      'Crop Residues': x_test[['cum_sum_log_crop_residues']],\n",
    "      'Rice Cultivation': x_test[['cum_sum_log_rice_cultivation']],\n",
    "      'Drained Organic Soils CO2': x_test[['cum_sum_log_drained_organic_soils_co2']],\n",
    "      'Net Forest Conversion': x_test[['cum_sum_log_net_forest_conversion']],\n",
    "      'Fires': x_test[['cum_sum_log_fires']],\n",
    "      'Manure Management': x_test[['cum_sum_log_manure_mgmt']],\n",
    "      'Food Systems': x_test[['cum_sum_log_food_systems']],\n",
    "      'IPPU Total': x_test[['cum_sum_log_ippu_tot']],\n",
    "      'On Farm Energy Use': x_test[['cum_sum_log_on_farm_energy_use']],\n",
    "      'Forestland': x_test[['cum_sum_forestland']],\n",
    "      'Sub Region': x_test[['sub-region']]\n",
    "    })"
   ]
  },
  {
   "cell_type": "code",
   "execution_count": 176,
   "id": "17f55cb4-ea4e-4558-a9f0-e4b779b1704c",
   "metadata": {},
   "outputs": [],
   "source": [
    "model_7_mae = mae(Y_test, model_7_preds).numpy()\n",
    "model_7_rmse = rmse(Y_test, model_7_preds).numpy()"
   ]
  },
  {
   "cell_type": "code",
   "execution_count": 177,
   "id": "4a755171-f6ff-4657-8e3d-b309fc859e02",
   "metadata": {},
   "outputs": [
    {
     "name": "stdout",
     "output_type": "stream",
     "text": [
      "Test MAE: 0.440\n",
      "Test RMSE: 0.814\n"
     ]
    }
   ],
   "source": [
    "print('Test MAE: %.3f' %model_7_mae)\n",
    "print('Test RMSE: %.3f' %model_7_rmse)"
   ]
  },
  {
   "cell_type": "markdown",
   "id": "dfbaa729-f040-4741-b13e-815ee5492292",
   "metadata": {
    "tags": []
   },
   "source": [
    "### Model 8: FFNN (2 Hidden Layers)\n",
    "\n",
    "</br> Input - MEI, Urban Pop, All CO2 emission inputs\n",
    "</br>Output - Avg Temp\n",
    "</br>1st Hidden Layer Size: 128\n",
    "</br>2nd Hidden Layer Size: 128\n",
    "</br>Includes exponential decay LR scheduler\n",
    "</br> Did not include dropout layer since dropout led to underfitting (val loss was lower than train loss)"
   ]
  },
  {
   "cell_type": "code",
   "execution_count": 20,
   "id": "385dd097-9f8e-4989-8895-f5cbdc06562a",
   "metadata": {},
   "outputs": [],
   "source": [
    "def build_model_8():\n",
    "  # Clear session and remove randomness.\n",
    "  tf.keras.backend.clear_session()\n",
    "  tf.random.set_seed(0)\n",
    "\n",
    "  urban_pop = tf.keras.layers.Input(shape=(1,), dtype=tf.float64, name='Urban Population')\n",
    "  mei = tf.keras.layers.Input(shape=(1,), dtype=tf.float64, name='MEI')\n",
    "  cum_sum_log_crop_residues = tf.keras.layers.Input(shape=(1,), dtype=tf.float64, name='Crop Residues')\n",
    "  cum_sum_log_rice_cultivation = tf.keras.layers.Input(shape=(1,), dtype=tf.float64, name='Rice Cultivation')\n",
    "  cum_sum_log_drained_organic_soils_co2 = tf.keras.layers.Input(shape=(1,), dtype=tf.float64, name='Drained Organic Soils CO2')\n",
    "  cum_sum_log_net_forest_conversion = tf.keras.layers.Input(shape=(1,), dtype=tf.float64, name='Net Forest Conversion')\n",
    "  cum_sum_log_fires = tf.keras.layers.Input(shape=(1,), dtype=tf.float64, name='Fires')\n",
    "  cum_sum_log_manure_mgmt = tf.keras.layers.Input(shape=(1,), dtype=tf.float64, name='Manure Management')\n",
    "  cum_sum_log_food_systems = tf.keras.layers.Input(shape=(1,), dtype=tf.float64, name='Food Systems')\n",
    "  cum_sum_log_ippu_tot = tf.keras.layers.Input(shape=(1,), dtype=tf.float64, name='IPPU Total')\n",
    "  cum_sum_log_on_farm_energy_use = tf.keras.layers.Input(shape=(1,), dtype=tf.float64, name='On Farm Energy Use')\n",
    "  cum_sum_forestland = tf.keras.layers.Input(shape=(1,), dtype=tf.float64, name='Forestland')\n",
    "  sub_region = tf.keras.layers.Input(shape=(1,), dtype=tf.string, name='Sub Region')\n",
    "  # region = tf.keras.layers.Input(shape=(1,), dtype=tf.string, name='Region')\n",
    "    \n",
    "  sub_region_id = tf.keras.layers.StringLookup(vocabulary=['Southern Asia', 'Southern Europe', \n",
    "                                                           'Northern Africa', 'Polynesia',\n",
    "                                                           'Sub-Saharan Africa', 'Latin America and the Caribbean',\n",
    "                                                           'Australia and New Zealand', 'Western Europe', \n",
    "                                                           'Western Asia','Northern America', 'South-eastern Asia', \n",
    "                                                           'Eastern Europe','Northern Europe', 'Eastern Asia', \n",
    "                                                           'Melanesia','Micronesia','Central Asia'], \n",
    "                                               output_mode='one_hot')(sub_region)\n",
    "\n",
    "  # region_id = tf.keras.layers.StringLookup(vocabulary=['Asia', 'Europe', 'Africa', 'Americas', 'Oceania'], \n",
    "  #                                              output_mode='one_hot')(region)\n",
    "    \n",
    "  features = tf.keras.layers.Concatenate()([urban_pop,\n",
    "                                            mei,\n",
    "                                            cum_sum_log_crop_residues,\n",
    "                                            cum_sum_log_rice_cultivation,\n",
    "                                            cum_sum_log_drained_organic_soils_co2,\n",
    "                                            cum_sum_log_net_forest_conversion,\n",
    "                                            cum_sum_log_fires,\n",
    "                                            cum_sum_log_manure_mgmt,\n",
    "                                            cum_sum_log_food_systems,\n",
    "                                            cum_sum_log_ippu_tot,\n",
    "                                            cum_sum_log_on_farm_energy_use,\n",
    "                                            cum_sum_forestland,\n",
    "                                            sub_region_id\n",
    "                                            # , region_id\n",
    "                                           ])\n",
    "  \n",
    "  hidden_1 = tf.keras.layers.Dense(\n",
    "      units=128, activation='relu', name='Hidden_Layer_1')(features)\n",
    "\n",
    "  hidden_2 = tf.keras.layers.Dense(\n",
    "      units=128, activation='relu', name='Hidden_Layer_2')(hidden_1)\n",
    "\n",
    "  # dropout_1 = tf.keras.layers.Dropout(0.1, name='Dropout_1')(hidden_2)\n",
    "  \n",
    "  temp = tf.keras.layers.Dense(\n",
    "      units=1, activation=None, name='Temp')(hidden_2)\n",
    "\n",
    "  model = tf.keras.Model(inputs=[urban_pop,\n",
    "                                            mei,\n",
    "                                            cum_sum_log_crop_residues,\n",
    "                                            cum_sum_log_rice_cultivation,\n",
    "                                            cum_sum_log_drained_organic_soils_co2,\n",
    "                                            cum_sum_log_net_forest_conversion,\n",
    "                                            cum_sum_log_fires,\n",
    "                                            cum_sum_log_manure_mgmt,\n",
    "                                            cum_sum_log_food_systems,\n",
    "                                            cum_sum_log_ippu_tot,\n",
    "                                            cum_sum_log_on_farm_energy_use,\n",
    "                                            cum_sum_forestland,\n",
    "                                            sub_region\n",
    "                                            # , region\n",
    "                                            ],\n",
    "                         outputs=temp,\n",
    "                         name='Model_8')\n",
    "  \n",
    "  initial_learning_rate = 0.00001\n",
    "  lr_schedule = tf.keras.optimizers.schedules.ExponentialDecay(\n",
    "    initial_learning_rate,\n",
    "    decay_steps=100000,\n",
    "    decay_rate=0.96,\n",
    "    staircase=True)\n",
    "\n",
    "  model.compile(\n",
    "      optimizer=tf.keras.optimizers.Adam(learning_rate=lr_schedule),\n",
    "      loss=tf.keras.losses.MeanAbsoluteError(),\n",
    "      metrics=tf.keras.metrics.RootMeanSquaredError()\n",
    "      )\n",
    "\n",
    "  return model"
   ]
  },
  {
   "cell_type": "code",
   "execution_count": 21,
   "id": "7a6d3630-0588-42fa-83ce-9b9f6b2a64fd",
   "metadata": {},
   "outputs": [
    {
     "name": "stdout",
     "output_type": "stream",
     "text": [
      "Model: \"Model_8\"\n",
      "__________________________________________________________________________________________________\n",
      " Layer (type)                Output Shape                 Param #   Connected to                  \n",
      "==================================================================================================\n",
      " Sub Region (InputLayer)     [(None, 1)]                  0         []                            \n",
      "                                                                                                  \n",
      " Urban Population (InputLay  [(None, 1)]                  0         []                            \n",
      " er)                                                                                              \n",
      "                                                                                                  \n",
      " MEI (InputLayer)            [(None, 1)]                  0         []                            \n",
      "                                                                                                  \n",
      " Crop Residues (InputLayer)  [(None, 1)]                  0         []                            \n",
      "                                                                                                  \n",
      " Rice Cultivation (InputLay  [(None, 1)]                  0         []                            \n",
      " er)                                                                                              \n",
      "                                                                                                  \n",
      " Drained Organic Soils CO2   [(None, 1)]                  0         []                            \n",
      " (InputLayer)                                                                                     \n",
      "                                                                                                  \n",
      " Net Forest Conversion (Inp  [(None, 1)]                  0         []                            \n",
      " utLayer)                                                                                         \n",
      "                                                                                                  \n",
      " Fires (InputLayer)          [(None, 1)]                  0         []                            \n",
      "                                                                                                  \n",
      " Manure Management (InputLa  [(None, 1)]                  0         []                            \n",
      " yer)                                                                                             \n",
      "                                                                                                  \n",
      " Food Systems (InputLayer)   [(None, 1)]                  0         []                            \n",
      "                                                                                                  \n",
      " IPPU Total (InputLayer)     [(None, 1)]                  0         []                            \n",
      "                                                                                                  \n",
      " On Farm Energy Use (InputL  [(None, 1)]                  0         []                            \n",
      " ayer)                                                                                            \n",
      "                                                                                                  \n",
      " Forestland (InputLayer)     [(None, 1)]                  0         []                            \n",
      "                                                                                                  \n",
      " string_lookup (StringLooku  (None, 18)                   0         ['Sub Region[0][0]']          \n",
      " p)                                                                                               \n",
      "                                                                                                  \n",
      " concatenate (Concatenate)   (None, 30)                   0         ['Urban Population[0][0]',    \n",
      "                                                                     'MEI[0][0]',                 \n",
      "                                                                     'Crop Residues[0][0]',       \n",
      "                                                                     'Rice Cultivation[0][0]',    \n",
      "                                                                     'Drained Organic Soils CO2[0]\n",
      "                                                                    [0]',                         \n",
      "                                                                     'Net Forest Conversion[0][0]'\n",
      "                                                                    , 'Fires[0][0]',              \n",
      "                                                                     'Manure Management[0][0]',   \n",
      "                                                                     'Food Systems[0][0]',        \n",
      "                                                                     'IPPU Total[0][0]',          \n",
      "                                                                     'On Farm Energy Use[0][0]',  \n",
      "                                                                     'Forestland[0][0]',          \n",
      "                                                                     'string_lookup[0][0]']       \n",
      "                                                                                                  \n",
      " Hidden_Layer_1 (Dense)      (None, 128)                  3968      ['concatenate[0][0]']         \n",
      "                                                                                                  \n",
      " Hidden_Layer_2 (Dense)      (None, 128)                  16512     ['Hidden_Layer_1[0][0]']      \n",
      "                                                                                                  \n",
      " Temp (Dense)                (None, 1)                    129       ['Hidden_Layer_2[0][0]']      \n",
      "                                                                                                  \n",
      "==================================================================================================\n",
      "Total params: 20609 (80.50 KB)\n",
      "Trainable params: 20609 (80.50 KB)\n",
      "Non-trainable params: 0 (0.00 Byte)\n",
      "__________________________________________________________________________________________________\n"
     ]
    },
    {
     "data": {
      "image/png": "[encoded data removed]",
      "text/plain": [
       "<Figure size 640x480 with 1 Axes>"
      ]
     },
     "metadata": {},
     "output_type": "display_data"
    },
    {
     "name": "stdout",
     "output_type": "stream",
     "text": [
      "final train mae: 0.258\n",
      "final val mae:   0.317\n",
      "final train rmse: 0.372\n",
      "final train rmse: 0.397\n"
     ]
    }
   ],
   "source": [
    "model_8 = build_model_8()\n",
    "model_8.summary()\n",
    "\n",
    "history = model_8.fit(\n",
    "  x={\n",
    "      'Urban Population': x_train[['urban_population']],\n",
    "      'MEI': x_train[['mei']],\n",
    "      'Crop Residues': x_train[['cum_sum_log_crop_residues']],\n",
    "      'Rice Cultivation': x_train[['cum_sum_log_rice_cultivation']],\n",
    "      'Drained Organic Soils CO2': x_train[['cum_sum_log_drained_organic_soils_co2']],\n",
    "      'Net Forest Conversion': x_train[['cum_sum_log_net_forest_conversion']],\n",
    "      'Fires': x_train[['cum_sum_log_fires']],\n",
    "      'Manure Management': x_train[['cum_sum_log_manure_mgmt']],\n",
    "      'Food Systems': x_train[['cum_sum_log_food_systems']],\n",
    "      'IPPU Total': x_train[['cum_sum_log_ippu_tot']],\n",
    "      'On Farm Energy Use': x_train[['cum_sum_log_on_farm_energy_use']],\n",
    "      'Forestland': x_train[['cum_sum_forestland']],\n",
    "      'Sub Region': x_train[['sub-region']]\n",
    "      # ,\n",
    "      # 'Region': x_train[['region']]\n",
    "    },\n",
    "  y=Y_train[['average_temperature_°c']],\n",
    "  epochs=1600,\n",
    "  batch_size=500,\n",
    "  validation_data=(\n",
    "      {\n",
    "      'Urban Population': x_val[['urban_population']],\n",
    "      'MEI': x_val[['mei']],\n",
    "      'Crop Residues': x_val[['cum_sum_log_crop_residues']],\n",
    "      'Rice Cultivation': x_val[['cum_sum_log_rice_cultivation']],\n",
    "      'Drained Organic Soils CO2': x_val[['cum_sum_log_drained_organic_soils_co2']],\n",
    "      'Net Forest Conversion': x_val[['cum_sum_log_net_forest_conversion']],\n",
    "      'Fires': x_val[['cum_sum_log_fires']],\n",
    "      'Manure Management': x_val[['cum_sum_log_manure_mgmt']],\n",
    "      'Food Systems': x_val[['cum_sum_log_food_systems']],\n",
    "      'IPPU Total': x_val[['cum_sum_log_ippu_tot']],\n",
    "      'On Farm Energy Use': x_val[['cum_sum_log_on_farm_energy_use']],\n",
    "      'Forestland': x_val[['cum_sum_forestland']],\n",
    "      'Sub Region': x_val[['sub-region']]\n",
    "      #     ,\n",
    "      # 'Region': x_val[['region']]\n",
    "      },\n",
    "      Y_val[['average_temperature_°c']]),\n",
    "  verbose=0)\n",
    "\n",
    "show_history(history)"
   ]
  },
  {
   "cell_type": "markdown",
   "id": "0e363df0-f397-4d03-87f2-d27c0ebb5168",
   "metadata": {},
   "source": [
    "### Model 9: FFNN (3 Hidden Layers)\n",
    "\n",
    "</br> Input - MEI, Urban Pop, All CO2 emission inputs\n",
    "</br>Output - Avg Temp\n",
    "</br>1st Hidden Layer Size: 128\n",
    "</br>2nd Hidden Layer Size: 128\n",
    "</br>3rd Hidden Layer Size: 128\n",
    "</br>Includes exponential decay LR scheduler\n",
    "</br> Did not include dropout layer since dropout led to underfitting (val loss was lower than train loss)"
   ]
  },
  {
   "cell_type": "code",
   "execution_count": 22,
   "id": "56650026-611d-4d5e-9a9b-983ed290f985",
   "metadata": {},
   "outputs": [],
   "source": [
    "def build_model_9():\n",
    "  # Clear session and remove randomness.\n",
    "  tf.keras.backend.clear_session()\n",
    "  tf.random.set_seed(0)\n",
    "\n",
    "  urban_pop = tf.keras.layers.Input(shape=(1,), dtype=tf.float64, name='Urban Population')\n",
    "  mei = tf.keras.layers.Input(shape=(1,), dtype=tf.float64, name='MEI')\n",
    "  cum_sum_log_crop_residues = tf.keras.layers.Input(shape=(1,), dtype=tf.float64, name='Crop Residues')\n",
    "  cum_sum_log_rice_cultivation = tf.keras.layers.Input(shape=(1,), dtype=tf.float64, name='Rice Cultivation')\n",
    "  cum_sum_log_drained_organic_soils_co2 = tf.keras.layers.Input(shape=(1,), dtype=tf.float64, name='Drained Organic Soils CO2')\n",
    "  cum_sum_log_net_forest_conversion = tf.keras.layers.Input(shape=(1,), dtype=tf.float64, name='Net Forest Conversion')\n",
    "  cum_sum_log_fires = tf.keras.layers.Input(shape=(1,), dtype=tf.float64, name='Fires')\n",
    "  cum_sum_log_manure_mgmt = tf.keras.layers.Input(shape=(1,), dtype=tf.float64, name='Manure Management')\n",
    "  cum_sum_log_food_systems = tf.keras.layers.Input(shape=(1,), dtype=tf.float64, name='Food Systems')\n",
    "  cum_sum_log_ippu_tot = tf.keras.layers.Input(shape=(1,), dtype=tf.float64, name='IPPU Total')\n",
    "  cum_sum_log_on_farm_energy_use = tf.keras.layers.Input(shape=(1,), dtype=tf.float64, name='On Farm Energy Use')\n",
    "  cum_sum_forestland = tf.keras.layers.Input(shape=(1,), dtype=tf.float64, name='Forestland')\n",
    "  sub_region = tf.keras.layers.Input(shape=(1,), dtype=tf.string, name='Sub Region')\n",
    "  # region = tf.keras.layers.Input(shape=(1,), dtype=tf.string, name='Region')\n",
    "    \n",
    "  sub_region_id = tf.keras.layers.StringLookup(vocabulary=['Southern Asia', 'Southern Europe', \n",
    "                                                           'Northern Africa', 'Polynesia',\n",
    "                                                           'Sub-Saharan Africa', 'Latin America and the Caribbean',\n",
    "                                                           'Australia and New Zealand', 'Western Europe', \n",
    "                                                           'Western Asia','Northern America', 'South-eastern Asia', \n",
    "                                                           'Eastern Europe','Northern Europe', 'Eastern Asia', \n",
    "                                                           'Melanesia','Micronesia','Central Asia'], \n",
    "                                               output_mode='one_hot')(sub_region)\n",
    "\n",
    "  # region_id = tf.keras.layers.StringLookup(vocabulary=['Asia', 'Europe', 'Africa', 'Americas', 'Oceania'], \n",
    "  #                                              output_mode='one_hot')(region)\n",
    "    \n",
    "  features = tf.keras.layers.Concatenate()([urban_pop,\n",
    "                                            mei,\n",
    "                                            cum_sum_log_crop_residues,\n",
    "                                            cum_sum_log_rice_cultivation,\n",
    "                                            cum_sum_log_drained_organic_soils_co2,\n",
    "                                            cum_sum_log_net_forest_conversion,\n",
    "                                            cum_sum_log_fires,\n",
    "                                            cum_sum_log_manure_mgmt,\n",
    "                                            cum_sum_log_food_systems,\n",
    "                                            cum_sum_log_ippu_tot,\n",
    "                                            cum_sum_log_on_farm_energy_use,\n",
    "                                            cum_sum_forestland,\n",
    "                                            sub_region_id\n",
    "                                            # , region_id\n",
    "                                           ])\n",
    "  \n",
    "  hidden_1 = tf.keras.layers.Dense(\n",
    "      units=128, activation='relu', name='Hidden_Layer_1')(features)\n",
    "\n",
    "  hidden_2 = tf.keras.layers.Dense(\n",
    "      units=128, activation='relu', name='Hidden_Layer_2')(hidden_1)\n",
    "\n",
    "  hidden_3 = tf.keras.layers.Dense(\n",
    "      units=128, activation='relu', name='Hidden_Layer_3')(hidden_2)\n",
    "\n",
    "  # dropout_1 = tf.keras.layers.Dropout(0.1, name='Dropout_1')(hidden_2)\n",
    "  \n",
    "  temp = tf.keras.layers.Dense(\n",
    "      units=1, activation=None, name='Temp')(hidden_3)\n",
    "\n",
    "  model = tf.keras.Model(inputs=[urban_pop,\n",
    "                                            mei,\n",
    "                                            cum_sum_log_crop_residues,\n",
    "                                            cum_sum_log_rice_cultivation,\n",
    "                                            cum_sum_log_drained_organic_soils_co2,\n",
    "                                            cum_sum_log_net_forest_conversion,\n",
    "                                            cum_sum_log_fires,\n",
    "                                            cum_sum_log_manure_mgmt,\n",
    "                                            cum_sum_log_food_systems,\n",
    "                                            cum_sum_log_ippu_tot,\n",
    "                                            cum_sum_log_on_farm_energy_use,\n",
    "                                            cum_sum_forestland,\n",
    "                                            sub_region\n",
    "                                            # , region\n",
    "                                            ],\n",
    "                         outputs=temp,\n",
    "                         name='Model_9')\n",
    "  \n",
    "  initial_learning_rate = 0.000001\n",
    "  lr_schedule = tf.keras.optimizers.schedules.ExponentialDecay(\n",
    "    initial_learning_rate,\n",
    "    decay_steps=100000,\n",
    "    decay_rate=0.96,\n",
    "    staircase=True)\n",
    "\n",
    "  model.compile(\n",
    "      optimizer=tf.keras.optimizers.Adam(learning_rate=lr_schedule),\n",
    "      loss=tf.keras.losses.MeanAbsoluteError(),\n",
    "      metrics=tf.keras.metrics.RootMeanSquaredError()\n",
    "      )\n",
    "\n",
    "  return model"
   ]
  },
  {
   "cell_type": "code",
   "execution_count": 23,
   "id": "fc30eb4c-3acf-4a67-9c68-93d186099326",
   "metadata": {},
   "outputs": [
    {
     "name": "stdout",
     "output_type": "stream",
     "text": [
      "Model: \"Model_9\"\n",
      "__________________________________________________________________________________________________\n",
      " Layer (type)                Output Shape                 Param #   Connected to                  \n",
      "==================================================================================================\n",
      " Sub Region (InputLayer)     [(None, 1)]                  0         []                            \n",
      "                                                                                                  \n",
      " Urban Population (InputLay  [(None, 1)]                  0         []                            \n",
      " er)                                                                                              \n",
      "                                                                                                  \n",
      " MEI (InputLayer)            [(None, 1)]                  0         []                            \n",
      "                                                                                                  \n",
      " Crop Residues (InputLayer)  [(None, 1)]                  0         []                            \n",
      "                                                                                                  \n",
      " Rice Cultivation (InputLay  [(None, 1)]                  0         []                            \n",
      " er)                                                                                              \n",
      "                                                                                                  \n",
      " Drained Organic Soils CO2   [(None, 1)]                  0         []                            \n",
      " (InputLayer)                                                                                     \n",
      "                                                                                                  \n",
      " Net Forest Conversion (Inp  [(None, 1)]                  0         []                            \n",
      " utLayer)                                                                                         \n",
      "                                                                                                  \n",
      " Fires (InputLayer)          [(None, 1)]                  0         []                            \n",
      "                                                                                                  \n",
      " Manure Management (InputLa  [(None, 1)]                  0         []                            \n",
      " yer)                                                                                             \n",
      "                                                                                                  \n",
      " Food Systems (InputLayer)   [(None, 1)]                  0         []                            \n",
      "                                                                                                  \n",
      " IPPU Total (InputLayer)     [(None, 1)]                  0         []                            \n",
      "                                                                                                  \n",
      " On Farm Energy Use (InputL  [(None, 1)]                  0         []                            \n",
      " ayer)                                                                                            \n",
      "                                                                                                  \n",
      " Forestland (InputLayer)     [(None, 1)]                  0         []                            \n",
      "                                                                                                  \n",
      " string_lookup (StringLooku  (None, 18)                   0         ['Sub Region[0][0]']          \n",
      " p)                                                                                               \n",
      "                                                                                                  \n",
      " concatenate (Concatenate)   (None, 30)                   0         ['Urban Population[0][0]',    \n",
      "                                                                     'MEI[0][0]',                 \n",
      "                                                                     'Crop Residues[0][0]',       \n",
      "                                                                     'Rice Cultivation[0][0]',    \n",
      "                                                                     'Drained Organic Soils CO2[0]\n",
      "                                                                    [0]',                         \n",
      "                                                                     'Net Forest Conversion[0][0]'\n",
      "                                                                    , 'Fires[0][0]',              \n",
      "                                                                     'Manure Management[0][0]',   \n",
      "                                                                     'Food Systems[0][0]',        \n",
      "                                                                     'IPPU Total[0][0]',          \n",
      "                                                                     'On Farm Energy Use[0][0]',  \n",
      "                                                                     'Forestland[0][0]',          \n",
      "                                                                     'string_lookup[0][0]']       \n",
      "                                                                                                  \n",
      " Hidden_Layer_1 (Dense)      (None, 128)                  3968      ['concatenate[0][0]']         \n",
      "                                                                                                  \n",
      " Hidden_Layer_2 (Dense)      (None, 128)                  16512     ['Hidden_Layer_1[0][0]']      \n",
      "                                                                                                  \n",
      " Hidden_Layer_3 (Dense)      (None, 128)                  16512     ['Hidden_Layer_2[0][0]']      \n",
      "                                                                                                  \n",
      " Temp (Dense)                (None, 1)                    129       ['Hidden_Layer_3[0][0]']      \n",
      "                                                                                                  \n",
      "==================================================================================================\n",
      "Total params: 37121 (145.00 KB)\n",
      "Trainable params: 37121 (145.00 KB)\n",
      "Non-trainable params: 0 (0.00 Byte)\n",
      "__________________________________________________________________________________________________\n"
     ]
    },
    {
     "data": {
      "image/png": "[encoded data removed]",
      "text/plain": [
       "<Figure size 640x480 with 1 Axes>"
      ]
     },
     "metadata": {},
     "output_type": "display_data"
    },
    {
     "name": "stdout",
     "output_type": "stream",
     "text": [
      "final train mae: 0.297\n",
      "final val mae:   0.330\n",
      "final train rmse: 0.410\n",
      "final train rmse: 0.417\n"
     ]
    }
   ],
   "source": [
    "model_9 = build_model_9()\n",
    "model_9.summary()\n",
    "\n",
    "history = model_9.fit(\n",
    "  x={\n",
    "      'Urban Population': x_train[['urban_population']],\n",
    "      'MEI': x_train[['mei']],\n",
    "      'Crop Residues': x_train[['cum_sum_log_crop_residues']],\n",
    "      'Rice Cultivation': x_train[['cum_sum_log_rice_cultivation']],\n",
    "      'Drained Organic Soils CO2': x_train[['cum_sum_log_drained_organic_soils_co2']],\n",
    "      'Net Forest Conversion': x_train[['cum_sum_log_net_forest_conversion']],\n",
    "      'Fires': x_train[['cum_sum_log_fires']],\n",
    "      'Manure Management': x_train[['cum_sum_log_manure_mgmt']],\n",
    "      'Food Systems': x_train[['cum_sum_log_food_systems']],\n",
    "      'IPPU Total': x_train[['cum_sum_log_ippu_tot']],\n",
    "      'On Farm Energy Use': x_train[['cum_sum_log_on_farm_energy_use']],\n",
    "      'Forestland': x_train[['cum_sum_forestland']],\n",
    "      'Sub Region': x_train[['sub-region']]\n",
    "      # ,\n",
    "      # 'Region': x_train[['region']]\n",
    "    },\n",
    "  y=Y_train[['average_temperature_°c']],\n",
    "  epochs=2400,\n",
    "  batch_size=400,\n",
    "  validation_data=(\n",
    "      {\n",
    "      'Urban Population': x_val[['urban_population']],\n",
    "      'MEI': x_val[['mei']],\n",
    "      'Crop Residues': x_val[['cum_sum_log_crop_residues']],\n",
    "      'Rice Cultivation': x_val[['cum_sum_log_rice_cultivation']],\n",
    "      'Drained Organic Soils CO2': x_val[['cum_sum_log_drained_organic_soils_co2']],\n",
    "      'Net Forest Conversion': x_val[['cum_sum_log_net_forest_conversion']],\n",
    "      'Fires': x_val[['cum_sum_log_fires']],\n",
    "      'Manure Management': x_val[['cum_sum_log_manure_mgmt']],\n",
    "      'Food Systems': x_val[['cum_sum_log_food_systems']],\n",
    "      'IPPU Total': x_val[['cum_sum_log_ippu_tot']],\n",
    "      'On Farm Energy Use': x_val[['cum_sum_log_on_farm_energy_use']],\n",
    "      'Forestland': x_val[['cum_sum_forestland']],\n",
    "      'Sub Region': x_val[['sub-region']]\n",
    "      #     ,\n",
    "      # 'Region': x_val[['region']]\n",
    "      },\n",
    "      Y_val[['average_temperature_°c']]),\n",
    "  verbose=0)\n",
    "\n",
    "show_history(history)"
   ]
  },
  {
   "cell_type": "markdown",
   "id": "dec480c7-9767-4982-bcfa-8161c7ed074d",
   "metadata": {},
   "source": [
    "# Decision Trees"
   ]
  },
  {
   "cell_type": "code",
   "execution_count": 80,
   "id": "56e21d25-0637-4f2c-a69a-0bb943d61d3c",
   "metadata": {},
   "outputs": [],
   "source": [
    "from sklearn.tree import DecisionTreeRegressor\n",
    "from sklearn.ensemble import RandomForestRegressor\n",
    "from sklearn.ensemble import ExtraTreesRegressor\n",
    "from sklearn.metrics import mean_absolute_error as mae\n",
    "from sklearn.metrics import mean_squared_error as mse"
   ]
  },
  {
   "cell_type": "markdown",
   "id": "2bb80f6d-8d03-4b9c-b3e7-3595028d51fb",
   "metadata": {},
   "source": [
    "### Model 10: Kitchen Sink Approach - All Features tested in regression and FFNN models\n",
    "\n",
    "Max_depth = 4 minimizes MAE"
   ]
  },
  {
   "cell_type": "code",
   "execution_count": 25,
   "id": "476a22cd-4424-43f4-9a28-d7ca66405364",
   "metadata": {},
   "outputs": [],
   "source": [
    "features = ['sub-region', 'urban_population',\n",
    "                                            'mei',\n",
    "                                            'cum_sum_log_crop_residues',\n",
    "                                            'cum_sum_log_rice_cultivation',\n",
    "                                            'cum_sum_log_drained_organic_soils_co2',\n",
    "                                            'cum_sum_log_net_forest_conversion',\n",
    "                                            'cum_sum_log_fires',\n",
    "                                            'cum_sum_log_manure_mgmt',\n",
    "                                            'cum_sum_log_food_systems',\n",
    "                                            'cum_sum_log_ippu_tot',\n",
    "                                            'cum_sum_log_on_farm_energy_use',\n",
    "                                            'cum_sum_forestland']\n",
    "\n",
    "x_train_1 = x_train[features]\n",
    "x_val_1 = x_val[features]\n",
    "\n",
    "sub_region_dummies_train = pd.get_dummies(x_train['sub-region'],\n",
    "                                          drop_first=True)\n",
    "\n",
    "sub_region_dummies_val = pd.get_dummies(x_val['sub-region'],\n",
    "                                          drop_first=True)\n",
    "\n",
    "x_train_1 = pd.concat([x_train_1, sub_region_dummies_train],\n",
    "                    axis=1)\n",
    "\n",
    "x_val_1 = pd.concat([x_val_1, sub_region_dummies_val],\n",
    "                    axis=1)\n",
    "\n",
    "x_train_1 = x_train_1.drop(labels='sub-region',axis=1)\n",
    "x_val_1 = x_val_1.drop(labels='sub-region',axis=1)\n",
    "\n",
    "Y_train_1 = Y_train\n",
    "Y_val_1 = Y_val\n"
   ]
  },
  {
   "cell_type": "code",
   "execution_count": 26,
   "id": "34631d79-b476-4be1-9d10-3b190c5dac1d",
   "metadata": {},
   "outputs": [],
   "source": [
    "dt_model_1 = DecisionTreeRegressor(criterion='absolute_error',random_state=44, max_depth=4)\n",
    "dt_model_1.fit(x_train_1, Y_train_1)\n",
    "predictions = dt_model_1.predict(x_val_1)"
   ]
  },
  {
   "cell_type": "code",
   "execution_count": 27,
   "id": "c44b0d28-cbf5-4ce2-a261-95ba7e4fa6a5",
   "metadata": {},
   "outputs": [],
   "source": [
    "mae_1 = mae(Y_val_1,predictions)\n",
    "rmse_1 = mse(Y_val_1,predictions, squared=False)"
   ]
  },
  {
   "cell_type": "code",
   "execution_count": 28,
   "id": "f9051ed5-cf58-4508-9d8a-f915956a6fac",
   "metadata": {},
   "outputs": [
    {
     "name": "stdout",
     "output_type": "stream",
     "text": [
      "final val mae:   0.487\n",
      "final val rmse:   0.581\n"
     ]
    }
   ],
   "source": [
    "print('final val mae:   %.3f' %mae_1)\n",
    "print('final val rmse:   %.3f' %rmse_1)"
   ]
  },
  {
   "cell_type": "code",
   "execution_count": 29,
   "id": "e197d7fc-c3e9-482c-8fe7-de37653d7706",
   "metadata": {},
   "outputs": [
    {
     "data": {
      "image/png": "[encoded data removed]",
      "text/plain": [
       "<Figure size 1500x1200 with 1 Axes>"
      ]
     },
     "metadata": {},
     "output_type": "display_data"
    }
   ],
   "source": [
    "from sklearn.tree import plot_tree\n",
    "plt.figure(figsize=(10,8), dpi=150)\n",
    "plot_tree(dt_model_1, feature_names=x_train_1.columns);"
   ]
  },
  {
   "cell_type": "markdown",
   "id": "c67eff8c-31b3-4620-997a-760cf292b650",
   "metadata": {},
   "source": [
    "### Model 11: Only CO2 features with correlation about 0.35 with target variable\n",
    "\n",
    "Max_depth = 6 minimizes MAE"
   ]
  },
  {
   "cell_type": "code",
   "execution_count": 30,
   "id": "03d1e075-85f9-4e64-9e04-664803e31aa9",
   "metadata": {},
   "outputs": [],
   "source": [
    "features = [                                'cum_sum_log_manure_mgmt',\n",
    "                                            'cum_sum_log_food_systems',\n",
    "                                            'cum_sum_log_ippu_tot',\n",
    "                                            'cum_sum_log_on_farm_energy_use']\n",
    "\n",
    "x_train_2 = x_train[features]\n",
    "x_val_2 = x_val[features]"
   ]
  },
  {
   "cell_type": "code",
   "execution_count": 31,
   "id": "9090c5fb-c25c-4f92-b773-f22e12c0cbbc",
   "metadata": {},
   "outputs": [],
   "source": [
    "dt_model_2 = DecisionTreeRegressor(criterion='absolute_error',random_state=44, max_depth=6)\n",
    "dt_model_2.fit(x_train_2, Y_train)\n",
    "predictions = dt_model_2.predict(x_val_2)"
   ]
  },
  {
   "cell_type": "code",
   "execution_count": 32,
   "id": "154562dc-e991-470d-865a-e18756f8e20c",
   "metadata": {},
   "outputs": [],
   "source": [
    "mae_2 = mae(Y_val,predictions)\n",
    "rmse_2 = mse(Y_val,predictions, squared=False)"
   ]
  },
  {
   "cell_type": "code",
   "execution_count": 33,
   "id": "ae5f61fc-c420-4f08-8b00-6608386438f1",
   "metadata": {},
   "outputs": [
    {
     "name": "stdout",
     "output_type": "stream",
     "text": [
      "final val mae:   0.471\n",
      "final val rmse:   0.572\n"
     ]
    }
   ],
   "source": [
    "print('final val mae:   %.3f' %mae_2)\n",
    "print('final val rmse:   %.3f' %rmse_2)"
   ]
  },
  {
   "cell_type": "markdown",
   "id": "b360e00f-a3c5-4a83-91aa-2b57ae19fb6a",
   "metadata": {},
   "source": [
    "### Model 12: Add Year\n",
    "\n",
    "Max_depth = 6 minimizes MAE"
   ]
  },
  {
   "cell_type": "code",
   "execution_count": 34,
   "id": "0275985b-1987-4a19-8751-0198c0931dc7",
   "metadata": {},
   "outputs": [],
   "source": [
    "features = [                                'year',\n",
    "                                            'cum_sum_log_manure_mgmt',\n",
    "                                            'cum_sum_log_food_systems',\n",
    "                                            'cum_sum_log_ippu_tot',\n",
    "                                            'cum_sum_log_on_farm_energy_use']\n",
    "\n",
    "x_train_3 = x_train[features]\n",
    "x_val_3 = x_val[features]"
   ]
  },
  {
   "cell_type": "code",
   "execution_count": 35,
   "id": "70781fdb-faad-485d-af40-f9a871c8e1fb",
   "metadata": {},
   "outputs": [],
   "source": [
    "dt_model_3 = DecisionTreeRegressor(criterion='absolute_error',random_state=44, max_depth=6)\n",
    "dt_model_3.fit(x_train_3, Y_train)\n",
    "predictions = dt_model_3.predict(x_val_3)"
   ]
  },
  {
   "cell_type": "code",
   "execution_count": 36,
   "id": "b3c3d955-3429-4c04-a652-7f8989326549",
   "metadata": {},
   "outputs": [],
   "source": [
    "mae_3 = mae(Y_val,predictions)\n",
    "rmse_3 = mse(Y_val,predictions, squared=False)"
   ]
  },
  {
   "cell_type": "code",
   "execution_count": 37,
   "id": "77c77106-689f-4e27-849f-fe57c81e90ea",
   "metadata": {},
   "outputs": [
    {
     "name": "stdout",
     "output_type": "stream",
     "text": [
      "final val mae:   0.408\n",
      "final val rmse:   0.513\n"
     ]
    }
   ],
   "source": [
    "print('final val mae:   %.3f' %mae_3)\n",
    "print('final val rmse:   %.3f' %rmse_3)"
   ]
  },
  {
   "cell_type": "code",
   "execution_count": 79,
   "id": "c776936f-4d61-49e6-9b7a-2fdc95cfe957",
   "metadata": {},
   "outputs": [
    {
     "data": {
      "text/plain": [
       "array([0.63757742, 0.074908  , 0.08276041, 0.07772363, 0.12703054])"
      ]
     },
     "execution_count": 79,
     "metadata": {},
     "output_type": "execute_result"
    }
   ],
   "source": [
    "dt_model_3.feature_importances_"
   ]
  },
  {
   "cell_type": "markdown",
   "id": "d7a1a8aa-f622-4982-bf1f-61c62cade675",
   "metadata": {},
   "source": [
    "### Model 13: Limit to features with correlation >= 0.38 with target variable\n",
    "\n",
    "Max_depth = 6 minimizes MAE"
   ]
  },
  {
   "cell_type": "code",
   "execution_count": 38,
   "id": "7376a122-1c6f-4982-800e-81032e182834",
   "metadata": {},
   "outputs": [],
   "source": [
    "features = [                                'year',\n",
    "                                            'cum_sum_log_food_systems',\n",
    "                                            'cum_sum_log_on_farm_energy_use']\n",
    "\n",
    "x_train_4 = x_train[features]\n",
    "x_val_4 = x_val[features]"
   ]
  },
  {
   "cell_type": "code",
   "execution_count": 39,
   "id": "cd494347-af0b-41c9-a42f-a225b3cc53f5",
   "metadata": {},
   "outputs": [],
   "source": [
    "dt_model_4 = DecisionTreeRegressor(criterion='absolute_error',random_state=44, max_depth=6)\n",
    "dt_model_4.fit(x_train_4, Y_train)\n",
    "predictions = dt_model_4.predict(x_val_4)"
   ]
  },
  {
   "cell_type": "code",
   "execution_count": 40,
   "id": "cb1e304c-d3f3-43ea-a1e6-fa8f627cee64",
   "metadata": {},
   "outputs": [],
   "source": [
    "mae_4 = mae(Y_val,predictions)\n",
    "rmse_4 = mse(Y_val,predictions, squared=False)"
   ]
  },
  {
   "cell_type": "code",
   "execution_count": 41,
   "id": "49441f49-ecef-4aa9-8c4f-a9d00b046b85",
   "metadata": {},
   "outputs": [
    {
     "name": "stdout",
     "output_type": "stream",
     "text": [
      "final val mae:   0.384\n",
      "final val rmse:   0.488\n"
     ]
    }
   ],
   "source": [
    "print('final val mae:   %.3f' %mae_4)\n",
    "print('final val rmse:   %.3f' %rmse_4)"
   ]
  },
  {
   "cell_type": "markdown",
   "id": "2d9d1827-aa75-4fac-9b80-f2df651a54de",
   "metadata": {},
   "source": [
    "## Random Forests"
   ]
  },
  {
   "cell_type": "markdown",
   "id": "30910cf4-09cd-4e42-aac5-a592ec3fc855",
   "metadata": {},
   "source": [
    "### Model 14: RF based on high correlation features found for decision tree model"
   ]
  },
  {
   "cell_type": "code",
   "execution_count": 85,
   "id": "6c4254f5-ff5d-4e7c-92e0-48eb71d604bc",
   "metadata": {},
   "outputs": [],
   "source": [
    "rf_model = RandomForestRegressor(criterion='absolute_error',random_state=44, max_depth=5, n_estimators=20, max_features=None, bootstrap=False)\n",
    "rf_model.fit(x_train_4, Y_train)\n",
    "predictions = rf_model.predict(x_val_4)"
   ]
  },
  {
   "cell_type": "code",
   "execution_count": 86,
   "id": "22c19daf-5fc5-4ed4-aeb1-18abc2a9040d",
   "metadata": {},
   "outputs": [],
   "source": [
    "mae_rf = mae(Y_val,predictions)\n",
    "rmse_rf = mse(Y_val,predictions, squared=False)"
   ]
  },
  {
   "cell_type": "code",
   "execution_count": 87,
   "id": "4d9fd747-af33-442a-83ac-d1702b3ce864",
   "metadata": {},
   "outputs": [
    {
     "name": "stdout",
     "output_type": "stream",
     "text": [
      "final val mae:   0.401\n",
      "final val rmse:   0.512\n"
     ]
    }
   ],
   "source": [
    "print('final val mae:   %.3f' %mae_rf)\n",
    "print('final val rmse:   %.3f' %rmse_rf)"
   ]
  },
  {
   "cell_type": "code",
   "execution_count": 88,
   "id": "b53596c1-13ed-4fb9-9eff-15205763906f",
   "metadata": {},
   "outputs": [
    {
     "data": {
      "text/plain": [
       "array([0.76586841, 0.11321084, 0.12092075])"
      ]
     },
     "execution_count": 88,
     "metadata": {},
     "output_type": "execute_result"
    }
   ],
   "source": [
    "rf_model.feature_importances_"
   ]
  },
  {
   "cell_type": "markdown",
   "id": "b531ee40-073e-4b42-a06c-323281ac096f",
   "metadata": {},
   "source": [
    "## Extra Tree Regressor"
   ]
  },
  {
   "cell_type": "markdown",
   "id": "4920e5b4-97f6-46ea-8207-8c527829304e",
   "metadata": {},
   "source": [
    "### Model 15: Exploring other type of forest regression"
   ]
  },
  {
   "cell_type": "code",
   "execution_count": 125,
   "id": "7e475cb8-76ed-4b6c-bbc0-df22d8f83de9",
   "metadata": {},
   "outputs": [],
   "source": [
    "etr_model = ExtraTreesRegressor(criterion='absolute_error',random_state=44, max_depth=6, n_estimators=10, max_features=None) \n",
    "etr_model.fit(x_train_4, Y_train)\n",
    "predictions = etr_model.predict(x_val_4)"
   ]
  },
  {
   "cell_type": "code",
   "execution_count": 126,
   "id": "7b94acfd-49e2-43e8-9af1-d160e9b0a9d7",
   "metadata": {},
   "outputs": [],
   "source": [
    "mae_etr = mae(Y_val,predictions)\n",
    "rmse_etr = mse(Y_val,predictions, squared=False)"
   ]
  },
  {
   "cell_type": "code",
   "execution_count": 127,
   "id": "76d1cf7f-3fbd-4a84-91e6-71403166925a",
   "metadata": {},
   "outputs": [
    {
     "name": "stdout",
     "output_type": "stream",
     "text": [
      "final val mae:   0.392\n",
      "final val rmse:   0.500\n"
     ]
    }
   ],
   "source": [
    "print('final val mae:   %.3f' %mae_etr)\n",
    "print('final val rmse:   %.3f' %rmse_etr)"
   ]
  },
  {
   "cell_type": "code",
   "execution_count": 121,
   "id": "bfb07f9f-69f6-4aa9-b9b8-36137ac93539",
   "metadata": {},
   "outputs": [
    {
     "data": {
      "text/plain": [
       "array([0.76586841, 0.11321084, 0.12092075])"
      ]
     },
     "execution_count": 121,
     "metadata": {},
     "output_type": "execute_result"
    }
   ],
   "source": [
    "rf_model.feature_importances_"
   ]
  },
  {
   "cell_type": "markdown",
   "id": "08e5d526-4840-4bbb-ac96-1cb78ab36f9e",
   "metadata": {},
   "source": [
    "## LSTM"
   ]
  },
  {
   "cell_type": "markdown",
   "id": "3ddc704b-be50-4d08-832f-9630014d2905",
   "metadata": {
    "tags": []
   },
   "source": [
    "### Model 16: LSTM (Long Short Term Memory)\n",
    "\n",
    "</br> Input - MEI, Urban Pop, All CO2 emission inputs\n",
    "</br>Output - Avg Temp\n",
    "</br>Includes exponential decay LR scheduler"
   ]
  },
  {
   "cell_type": "code",
   "execution_count": 137,
   "id": "5c68d8d4-6a05-4b50-9685-7e115cfddd48",
   "metadata": {},
   "outputs": [
    {
     "data": {
      "text/plain": [
       "(4681, 48)"
      ]
     },
     "execution_count": 137,
     "metadata": {},
     "output_type": "execute_result"
    }
   ],
   "source": [
    "train_lstm = train.sort_values(['area','year']).reset_index(drop=True)\n",
    "train.shape"
   ]
  },
  {
   "cell_type": "code",
   "execution_count": 138,
   "id": "506c42f4-ed02-400e-88d7-86ce620ffde1",
   "metadata": {},
   "outputs": [
    {
     "data": {
      "text/plain": [
       "(570, 48)"
      ]
     },
     "execution_count": 138,
     "metadata": {},
     "output_type": "execute_result"
    }
   ],
   "source": [
    "val_lstm = val.sort_values(['area','year']).reset_index(drop=True)\n",
    "val.shape"
   ]
  },
  {
   "cell_type": "code",
   "execution_count": 139,
   "id": "2b95a004-a03e-4a69-90a8-d0292f64a06f",
   "metadata": {},
   "outputs": [
    {
     "data": {
      "text/plain": [
       "(570, 48)"
      ]
     },
     "execution_count": 139,
     "metadata": {},
     "output_type": "execute_result"
    }
   ],
   "source": [
    "test_lstm = test.sort_values(['area','year']).reset_index(drop=True)\n",
    "test.shape"
   ]
  },
  {
   "cell_type": "code",
   "execution_count": 144,
   "id": "052ef8f6-ce07-4a8f-9eff-14027c871b3b",
   "metadata": {},
   "outputs": [],
   "source": [
    "features = ['year',\n",
    "            'area',\n",
    "            'sub-region',\n",
    "            'urban_population',\n",
    "            'mei',\n",
    "            'cum_sum_log_crop_residues',\n",
    "            'cum_sum_log_rice_cultivation',\n",
    "            'cum_sum_log_drained_organic_soils_co2',\n",
    "            'cum_sum_log_net_forest_conversion',\n",
    "            'cum_sum_log_fires',\n",
    "            'cum_sum_log_manure_mgmt',\n",
    "            'cum_sum_log_food_systems',\n",
    "            'cum_sum_log_ippu_tot',\n",
    "            'cum_sum_log_on_farm_energy_use',\n",
    "            'cum_sum_forestland',\n",
    "            'average_temperature_°c']\n",
    "\n",
    "train_lstm = train_lstm[features]\n",
    "val_lstm = val_lstm[features]\n",
    "test_lstm = test_lstm[features]"
   ]
  },
  {
   "cell_type": "code",
   "execution_count": 148,
   "id": "813e88f4-6a48-4cbf-b063-c02cee4d8eb7",
   "metadata": {},
   "outputs": [
    {
     "data": {
      "text/html": [
       "<div>\n",
       "<style scoped>\n",
       "    .dataframe tbody tr th:only-of-type {\n",
       "        vertical-align: middle;\n",
       "    }\n",
       "\n",
       "    .dataframe tbody tr th {\n",
       "        vertical-align: top;\n",
       "    }\n",
       "\n",
       "    .dataframe thead th {\n",
       "        text-align: right;\n",
       "    }\n",
       "</style>\n",
       "<table border=\"1\" class=\"dataframe\">\n",
       "  <thead>\n",
       "    <tr style=\"text-align: right;\">\n",
       "      <th></th>\n",
       "      <th>year</th>\n",
       "      <th>urban_population</th>\n",
       "      <th>mei</th>\n",
       "      <th>cum_sum_log_crop_residues</th>\n",
       "      <th>cum_sum_log_rice_cultivation</th>\n",
       "      <th>cum_sum_log_drained_organic_soils_co2</th>\n",
       "      <th>cum_sum_log_net_forest_conversion</th>\n",
       "      <th>cum_sum_log_fires</th>\n",
       "      <th>cum_sum_log_manure_mgmt</th>\n",
       "      <th>cum_sum_log_food_systems</th>\n",
       "      <th>cum_sum_log_ippu_tot</th>\n",
       "      <th>cum_sum_log_on_farm_energy_use</th>\n",
       "      <th>cum_sum_forestland</th>\n",
       "      <th>average_temperature_°c</th>\n",
       "    </tr>\n",
       "    <tr>\n",
       "      <th>area</th>\n",
       "      <th></th>\n",
       "      <th></th>\n",
       "      <th></th>\n",
       "      <th></th>\n",
       "      <th></th>\n",
       "      <th></th>\n",
       "      <th></th>\n",
       "      <th></th>\n",
       "      <th></th>\n",
       "      <th></th>\n",
       "      <th></th>\n",
       "      <th></th>\n",
       "      <th></th>\n",
       "      <th></th>\n",
       "    </tr>\n",
       "  </thead>\n",
       "  <tbody>\n",
       "    <tr>\n",
       "      <th>Afghanistan</th>\n",
       "      <td>50050</td>\n",
       "      <td>-5.236087</td>\n",
       "      <td>-2.583333</td>\n",
       "      <td>9.814858</td>\n",
       "      <td>5.205943</td>\n",
       "      <td>-18.166267</td>\n",
       "      <td>-21.581831</td>\n",
       "      <td>-5.627949</td>\n",
       "      <td>6.059289</td>\n",
       "      <td>-2.768944</td>\n",
       "      <td>-13.653029</td>\n",
       "      <td>22.084143</td>\n",
       "      <td>5.311765</td>\n",
       "      <td>18.347000</td>\n",
       "    </tr>\n",
       "    <tr>\n",
       "      <th>Albania</th>\n",
       "      <td>50050</td>\n",
       "      <td>-6.685379</td>\n",
       "      <td>-2.583333</td>\n",
       "      <td>-2.999303</td>\n",
       "      <td>-11.170218</td>\n",
       "      <td>6.509985</td>\n",
       "      <td>-21.581831</td>\n",
       "      <td>-7.855573</td>\n",
       "      <td>1.513338</td>\n",
       "      <td>-6.899834</td>\n",
       "      <td>-4.501250</td>\n",
       "      <td>-3.207665</td>\n",
       "      <td>5.670532</td>\n",
       "      <td>17.995417</td>\n",
       "    </tr>\n",
       "    <tr>\n",
       "      <th>Algeria</th>\n",
       "      <td>50050</td>\n",
       "      <td>0.546039</td>\n",
       "      <td>-2.583333</td>\n",
       "      <td>8.512066</td>\n",
       "      <td>-25.453132</td>\n",
       "      <td>-18.166267</td>\n",
       "      <td>-0.736706</td>\n",
       "      <td>6.451740</td>\n",
       "      <td>6.476133</td>\n",
       "      <td>9.672907</td>\n",
       "      <td>3.962128</td>\n",
       "      <td>-3.250784</td>\n",
       "      <td>5.536773</td>\n",
       "      <td>27.315083</td>\n",
       "    </tr>\n",
       "    <tr>\n",
       "      <th>Andorra</th>\n",
       "      <td>50050</td>\n",
       "      <td>-7.194387</td>\n",
       "      <td>-2.583333</td>\n",
       "      <td>11.463283</td>\n",
       "      <td>7.297943</td>\n",
       "      <td>-18.166267</td>\n",
       "      <td>-21.581831</td>\n",
       "      <td>-21.288424</td>\n",
       "      <td>7.713736</td>\n",
       "      <td>-12.695721</td>\n",
       "      <td>-2.961787</td>\n",
       "      <td>-8.382151</td>\n",
       "      <td>5.768470</td>\n",
       "      <td>27.690500</td>\n",
       "    </tr>\n",
       "    <tr>\n",
       "      <th>Angola</th>\n",
       "      <td>50050</td>\n",
       "      <td>-3.406520</td>\n",
       "      <td>-2.583333</td>\n",
       "      <td>-0.429090</td>\n",
       "      <td>-9.674036</td>\n",
       "      <td>12.412896</td>\n",
       "      <td>22.007167</td>\n",
       "      <td>40.501281</td>\n",
       "      <td>4.427459</td>\n",
       "      <td>-0.986452</td>\n",
       "      <td>-7.731921</td>\n",
       "      <td>-9.891681</td>\n",
       "      <td>5.768470</td>\n",
       "      <td>15.379833</td>\n",
       "    </tr>\n",
       "  </tbody>\n",
       "</table>\n",
       "</div>"
      ],
      "text/plain": [
       "              year  urban_population       mei  cum_sum_log_crop_residues  \\\n",
       "area                                                                        \n",
       "Afghanistan  50050         -5.236087 -2.583333                   9.814858   \n",
       "Albania      50050         -6.685379 -2.583333                  -2.999303   \n",
       "Algeria      50050          0.546039 -2.583333                   8.512066   \n",
       "Andorra      50050         -7.194387 -2.583333                  11.463283   \n",
       "Angola       50050         -3.406520 -2.583333                  -0.429090   \n",
       "\n",
       "             cum_sum_log_rice_cultivation  \\\n",
       "area                                        \n",
       "Afghanistan                      5.205943   \n",
       "Albania                        -11.170218   \n",
       "Algeria                        -25.453132   \n",
       "Andorra                          7.297943   \n",
       "Angola                          -9.674036   \n",
       "\n",
       "             cum_sum_log_drained_organic_soils_co2  \\\n",
       "area                                                 \n",
       "Afghanistan                             -18.166267   \n",
       "Albania                                   6.509985   \n",
       "Algeria                                 -18.166267   \n",
       "Andorra                                 -18.166267   \n",
       "Angola                                   12.412896   \n",
       "\n",
       "             cum_sum_log_net_forest_conversion  cum_sum_log_fires  \\\n",
       "area                                                                \n",
       "Afghanistan                         -21.581831          -5.627949   \n",
       "Albania                             -21.581831          -7.855573   \n",
       "Algeria                              -0.736706           6.451740   \n",
       "Andorra                             -21.581831         -21.288424   \n",
       "Angola                               22.007167          40.501281   \n",
       "\n",
       "             cum_sum_log_manure_mgmt  cum_sum_log_food_systems  \\\n",
       "area                                                             \n",
       "Afghanistan                 6.059289                 -2.768944   \n",
       "Albania                     1.513338                 -6.899834   \n",
       "Algeria                     6.476133                  9.672907   \n",
       "Andorra                     7.713736                -12.695721   \n",
       "Angola                      4.427459                 -0.986452   \n",
       "\n",
       "             cum_sum_log_ippu_tot  cum_sum_log_on_farm_energy_use  \\\n",
       "area                                                                \n",
       "Afghanistan            -13.653029                       22.084143   \n",
       "Albania                 -4.501250                       -3.207665   \n",
       "Algeria                  3.962128                       -3.250784   \n",
       "Andorra                 -2.961787                       -8.382151   \n",
       "Angola                  -7.731921                       -9.891681   \n",
       "\n",
       "             cum_sum_forestland  average_temperature_°c  \n",
       "area                                                     \n",
       "Afghanistan            5.311765               18.347000  \n",
       "Albania                5.670532               17.995417  \n",
       "Algeria                5.536773               27.315083  \n",
       "Andorra                5.768470               27.690500  \n",
       "Angola                 5.768470               15.379833  "
      ]
     },
     "execution_count": 148,
     "metadata": {},
     "output_type": "execute_result"
    }
   ],
   "source": [
    "agg_train = train_lstm.groupby('area').sum()\n",
    "agg_train.head()"
   ]
  },
  {
   "cell_type": "code",
   "execution_count": 149,
   "id": "c2235416-bf3c-4ec5-a4ee-ffa200edc586",
   "metadata": {},
   "outputs": [
    {
     "data": {
      "text/plain": [
       "Index(['Armenia', 'Azerbaijan', 'Belarus', 'Belgium', 'Bosnia and Herzegovina',\n",
       "       'Croatia', 'Czechia', 'Eritrea', 'Estonia', 'Georgia', 'Kazakhstan',\n",
       "       'Kyrgyzstan', 'Latvia', 'Lithuania', 'Luxembourg', 'Marshall Islands',\n",
       "       'Micronesia (Federated States of)', 'North Macedonia',\n",
       "       'Republic of Moldova', 'Russian Federation', 'Slovakia', 'Slovenia',\n",
       "       'Tajikistan', 'Turkmenistan', 'Ukraine', 'Uzbekistan'],\n",
       "      dtype='object', name='area')"
      ]
     },
     "execution_count": 149,
     "metadata": {},
     "output_type": "execute_result"
    }
   ],
   "source": [
    "agg_train = agg_train[agg_train['year'] != 50050]\n",
    "agg_train.index\n"
   ]
  },
  {
   "cell_type": "code",
   "execution_count": 150,
   "id": "0ba2987d-3a39-434d-92ae-24aad425317f",
   "metadata": {},
   "outputs": [],
   "source": [
    "countries = ['Armenia', 'Azerbaijan', 'Belarus', 'Belgium', 'Bosnia and Herzegovina',\n",
    "       'Croatia', 'Czechia', 'Eritrea', 'Estonia', 'Georgia', 'Kazakhstan',\n",
    "       'Kyrgyzstan', 'Latvia', 'Lithuania', 'Luxembourg', 'Marshall Islands',\n",
    "       'Micronesia (Federated States of)', 'North Macedonia',\n",
    "       'Republic of Moldova', 'Russian Federation', 'Slovakia', 'Slovenia',\n",
    "       'Tajikistan', 'Turkmenistan', 'Ukraine', 'Uzbekistan']\n",
    "\n",
    "for country in countries:\n",
    "    train_lstm = train_lstm[train_lstm['area'] != country]"
   ]
  },
  {
   "cell_type": "code",
   "execution_count": 151,
   "id": "e2cd73a9-5b6f-4fbc-aa8c-11a097848e5f",
   "metadata": {},
   "outputs": [
    {
     "data": {
      "text/html": [
       "<div>\n",
       "<style scoped>\n",
       "    .dataframe tbody tr th:only-of-type {\n",
       "        vertical-align: middle;\n",
       "    }\n",
       "\n",
       "    .dataframe tbody tr th {\n",
       "        vertical-align: top;\n",
       "    }\n",
       "\n",
       "    .dataframe thead th {\n",
       "        text-align: right;\n",
       "    }\n",
       "</style>\n",
       "<table border=\"1\" class=\"dataframe\">\n",
       "  <thead>\n",
       "    <tr style=\"text-align: right;\">\n",
       "      <th></th>\n",
       "      <th>year</th>\n",
       "      <th>urban_population</th>\n",
       "      <th>mei</th>\n",
       "      <th>cum_sum_log_crop_residues</th>\n",
       "      <th>cum_sum_log_rice_cultivation</th>\n",
       "      <th>cum_sum_log_drained_organic_soils_co2</th>\n",
       "      <th>cum_sum_log_net_forest_conversion</th>\n",
       "      <th>cum_sum_log_fires</th>\n",
       "      <th>cum_sum_log_manure_mgmt</th>\n",
       "      <th>cum_sum_log_food_systems</th>\n",
       "      <th>cum_sum_log_ippu_tot</th>\n",
       "      <th>cum_sum_log_on_farm_energy_use</th>\n",
       "      <th>cum_sum_forestland</th>\n",
       "      <th>average_temperature_°c</th>\n",
       "    </tr>\n",
       "    <tr>\n",
       "      <th>area</th>\n",
       "      <th></th>\n",
       "      <th></th>\n",
       "      <th></th>\n",
       "      <th></th>\n",
       "      <th></th>\n",
       "      <th></th>\n",
       "      <th></th>\n",
       "      <th></th>\n",
       "      <th></th>\n",
       "      <th></th>\n",
       "      <th></th>\n",
       "      <th></th>\n",
       "      <th></th>\n",
       "      <th></th>\n",
       "    </tr>\n",
       "  </thead>\n",
       "  <tbody>\n",
       "    <tr>\n",
       "      <th>Afghanistan</th>\n",
       "      <td>6048</td>\n",
       "      <td>-0.461637</td>\n",
       "      <td>1.2</td>\n",
       "      <td>6.275596</td>\n",
       "      <td>5.725441</td>\n",
       "      <td>-2.179952</td>\n",
       "      <td>-2.589820</td>\n",
       "      <td>0.753573</td>\n",
       "      <td>6.418419</td>\n",
       "      <td>5.057819</td>\n",
       "      <td>2.132756</td>\n",
       "      <td>10.191574</td>\n",
       "      <td>0.622879</td>\n",
       "      <td>4.233250</td>\n",
       "    </tr>\n",
       "    <tr>\n",
       "      <th>Albania</th>\n",
       "      <td>6048</td>\n",
       "      <td>-0.786565</td>\n",
       "      <td>1.2</td>\n",
       "      <td>2.806095</td>\n",
       "      <td>2.827803</td>\n",
       "      <td>3.966877</td>\n",
       "      <td>-2.589820</td>\n",
       "      <td>0.318894</td>\n",
       "      <td>5.075274</td>\n",
       "      <td>3.803016</td>\n",
       "      <td>4.226404</td>\n",
       "      <td>3.844627</td>\n",
       "      <td>0.647940</td>\n",
       "      <td>4.100667</td>\n",
       "    </tr>\n",
       "    <tr>\n",
       "      <th>Algeria</th>\n",
       "      <td>6048</td>\n",
       "      <td>0.487960</td>\n",
       "      <td>1.2</td>\n",
       "      <td>5.928417</td>\n",
       "      <td>-2.216966</td>\n",
       "      <td>-2.179952</td>\n",
       "      <td>1.867764</td>\n",
       "      <td>4.184596</td>\n",
       "      <td>6.492107</td>\n",
       "      <td>7.907752</td>\n",
       "      <td>6.724818</td>\n",
       "      <td>4.261514</td>\n",
       "      <td>0.612021</td>\n",
       "      <td>4.380083</td>\n",
       "    </tr>\n",
       "    <tr>\n",
       "      <th>Andorra</th>\n",
       "      <td>6048</td>\n",
       "      <td>-0.863181</td>\n",
       "      <td>1.2</td>\n",
       "      <td>6.350188</td>\n",
       "      <td>6.220093</td>\n",
       "      <td>-2.179952</td>\n",
       "      <td>-2.589820</td>\n",
       "      <td>-2.554611</td>\n",
       "      <td>6.615339</td>\n",
       "      <td>1.782643</td>\n",
       "      <td>4.646473</td>\n",
       "      <td>2.287848</td>\n",
       "      <td>0.692216</td>\n",
       "      <td>5.555250</td>\n",
       "    </tr>\n",
       "    <tr>\n",
       "      <th>Angola</th>\n",
       "      <td>6048</td>\n",
       "      <td>-0.003204</td>\n",
       "      <td>1.2</td>\n",
       "      <td>4.012949</td>\n",
       "      <td>2.532666</td>\n",
       "      <td>5.428214</td>\n",
       "      <td>8.661871</td>\n",
       "      <td>12.856525</td>\n",
       "      <td>6.051348</td>\n",
       "      <td>5.290905</td>\n",
       "      <td>3.865672</td>\n",
       "      <td>3.337943</td>\n",
       "      <td>0.692216</td>\n",
       "      <td>3.808000</td>\n",
       "    </tr>\n",
       "  </tbody>\n",
       "</table>\n",
       "</div>"
      ],
      "text/plain": [
       "             year  urban_population  mei  cum_sum_log_crop_residues  \\\n",
       "area                                                                  \n",
       "Afghanistan  6048         -0.461637  1.2                   6.275596   \n",
       "Albania      6048         -0.786565  1.2                   2.806095   \n",
       "Algeria      6048          0.487960  1.2                   5.928417   \n",
       "Andorra      6048         -0.863181  1.2                   6.350188   \n",
       "Angola       6048         -0.003204  1.2                   4.012949   \n",
       "\n",
       "             cum_sum_log_rice_cultivation  \\\n",
       "area                                        \n",
       "Afghanistan                      5.725441   \n",
       "Albania                          2.827803   \n",
       "Algeria                         -2.216966   \n",
       "Andorra                          6.220093   \n",
       "Angola                           2.532666   \n",
       "\n",
       "             cum_sum_log_drained_organic_soils_co2  \\\n",
       "area                                                 \n",
       "Afghanistan                              -2.179952   \n",
       "Albania                                   3.966877   \n",
       "Algeria                                  -2.179952   \n",
       "Andorra                                  -2.179952   \n",
       "Angola                                    5.428214   \n",
       "\n",
       "             cum_sum_log_net_forest_conversion  cum_sum_log_fires  \\\n",
       "area                                                                \n",
       "Afghanistan                          -2.589820           0.753573   \n",
       "Albania                              -2.589820           0.318894   \n",
       "Algeria                               1.867764           4.184596   \n",
       "Andorra                              -2.589820          -2.554611   \n",
       "Angola                                8.661871          12.856525   \n",
       "\n",
       "             cum_sum_log_manure_mgmt  cum_sum_log_food_systems  \\\n",
       "area                                                             \n",
       "Afghanistan                 6.418419                  5.057819   \n",
       "Albania                     5.075274                  3.803016   \n",
       "Algeria                     6.492107                  7.907752   \n",
       "Andorra                     6.615339                  1.782643   \n",
       "Angola                      6.051348                  5.290905   \n",
       "\n",
       "             cum_sum_log_ippu_tot  cum_sum_log_on_farm_energy_use  \\\n",
       "area                                                                \n",
       "Afghanistan              2.132756                       10.191574   \n",
       "Albania                  4.226404                        3.844627   \n",
       "Algeria                  6.724818                        4.261514   \n",
       "Andorra                  4.646473                        2.287848   \n",
       "Angola                   3.865672                        3.337943   \n",
       "\n",
       "             cum_sum_forestland  average_temperature_°c  \n",
       "area                                                     \n",
       "Afghanistan            0.622879                4.233250  \n",
       "Albania                0.647940                4.100667  \n",
       "Algeria                0.612021                4.380083  \n",
       "Andorra                0.692216                5.555250  \n",
       "Angola                 0.692216                3.808000  "
      ]
     },
     "execution_count": 151,
     "metadata": {},
     "output_type": "execute_result"
    }
   ],
   "source": [
    "agg_val = val_lstm.groupby('area').sum()\n",
    "agg_val.head()"
   ]
  },
  {
   "cell_type": "code",
   "execution_count": 152,
   "id": "2e4481bd-1474-40e6-a757-9a53b5979f5d",
   "metadata": {},
   "outputs": [
    {
     "data": {
      "text/plain": [
       "Index([], dtype='object', name='area')"
      ]
     },
     "execution_count": 152,
     "metadata": {},
     "output_type": "execute_result"
    }
   ],
   "source": [
    "agg_val = agg_val[agg_val['year'] != 6048]\n",
    "agg_val.index"
   ]
  },
  {
   "cell_type": "code",
   "execution_count": 153,
   "id": "71ac376d-7889-41dc-b530-17c505a7a6f4",
   "metadata": {},
   "outputs": [],
   "source": [
    "countries = ['Armenia', 'Azerbaijan', 'Belarus', 'Belgium', 'Bosnia and Herzegovina',\n",
    "       'Croatia', 'Czechia', 'Eritrea', 'Estonia', 'Georgia', 'Kazakhstan',\n",
    "       'Kyrgyzstan', 'Latvia', 'Lithuania', 'Luxembourg', 'Marshall Islands',\n",
    "       'Micronesia (Federated States of)', 'North Macedonia',\n",
    "       'Republic of Moldova', 'Russian Federation', 'Slovakia', 'Slovenia',\n",
    "       'Tajikistan', 'Turkmenistan', 'Ukraine', 'Uzbekistan']\n",
    "\n",
    "for country in countries:\n",
    "    val_lstm = val_lstm[val_lstm['area'] != country]"
   ]
  },
  {
   "cell_type": "code",
   "execution_count": 154,
   "id": "b95f7674-3be0-4a0f-a98e-fede01c2c9af",
   "metadata": {},
   "outputs": [
    {
     "data": {
      "text/html": [
       "<div>\n",
       "<style scoped>\n",
       "    .dataframe tbody tr th:only-of-type {\n",
       "        vertical-align: middle;\n",
       "    }\n",
       "\n",
       "    .dataframe tbody tr th {\n",
       "        vertical-align: top;\n",
       "    }\n",
       "\n",
       "    .dataframe thead th {\n",
       "        text-align: right;\n",
       "    }\n",
       "</style>\n",
       "<table border=\"1\" class=\"dataframe\">\n",
       "  <thead>\n",
       "    <tr style=\"text-align: right;\">\n",
       "      <th></th>\n",
       "      <th>year</th>\n",
       "      <th>urban_population</th>\n",
       "      <th>mei</th>\n",
       "      <th>cum_sum_log_crop_residues</th>\n",
       "      <th>cum_sum_log_rice_cultivation</th>\n",
       "      <th>cum_sum_log_drained_organic_soils_co2</th>\n",
       "      <th>cum_sum_log_net_forest_conversion</th>\n",
       "      <th>cum_sum_log_fires</th>\n",
       "      <th>cum_sum_log_manure_mgmt</th>\n",
       "      <th>cum_sum_log_food_systems</th>\n",
       "      <th>cum_sum_log_ippu_tot</th>\n",
       "      <th>cum_sum_log_on_farm_energy_use</th>\n",
       "      <th>cum_sum_forestland</th>\n",
       "      <th>average_temperature_°c</th>\n",
       "    </tr>\n",
       "    <tr>\n",
       "      <th>area</th>\n",
       "      <th></th>\n",
       "      <th></th>\n",
       "      <th></th>\n",
       "      <th></th>\n",
       "      <th></th>\n",
       "      <th></th>\n",
       "      <th></th>\n",
       "      <th></th>\n",
       "      <th></th>\n",
       "      <th></th>\n",
       "      <th></th>\n",
       "      <th></th>\n",
       "      <th></th>\n",
       "      <th></th>\n",
       "    </tr>\n",
       "  </thead>\n",
       "  <tbody>\n",
       "    <tr>\n",
       "      <th>Afghanistan</th>\n",
       "      <td>6057</td>\n",
       "      <td>-0.418841</td>\n",
       "      <td>-0.675</td>\n",
       "      <td>7.371224</td>\n",
       "      <td>6.758619</td>\n",
       "      <td>-2.179952</td>\n",
       "      <td>-2.589820</td>\n",
       "      <td>0.907785</td>\n",
       "      <td>7.654220</td>\n",
       "      <td>6.328294</td>\n",
       "      <td>2.998186</td>\n",
       "      <td>11.857540</td>\n",
       "      <td>0.624110</td>\n",
       "      <td>2.748083</td>\n",
       "    </tr>\n",
       "    <tr>\n",
       "      <th>Albania</th>\n",
       "      <td>6057</td>\n",
       "      <td>-0.782397</td>\n",
       "      <td>-0.675</td>\n",
       "      <td>3.493542</td>\n",
       "      <td>3.752665</td>\n",
       "      <td>4.646126</td>\n",
       "      <td>-2.589820</td>\n",
       "      <td>0.527816</td>\n",
       "      <td>6.105521</td>\n",
       "      <td>4.837180</td>\n",
       "      <td>5.299517</td>\n",
       "      <td>4.791724</td>\n",
       "      <td>0.645138</td>\n",
       "      <td>5.391417</td>\n",
       "    </tr>\n",
       "    <tr>\n",
       "      <th>Algeria</th>\n",
       "      <td>6057</td>\n",
       "      <td>0.591625</td>\n",
       "      <td>-0.675</td>\n",
       "      <td>7.046915</td>\n",
       "      <td>-2.075865</td>\n",
       "      <td>-2.179952</td>\n",
       "      <td>2.679464</td>\n",
       "      <td>4.714474</td>\n",
       "      <td>7.746272</td>\n",
       "      <td>9.414159</td>\n",
       "      <td>8.149323</td>\n",
       "      <td>5.371903</td>\n",
       "      <td>0.608513</td>\n",
       "      <td>4.409333</td>\n",
       "    </tr>\n",
       "    <tr>\n",
       "      <th>Andorra</th>\n",
       "      <td>6057</td>\n",
       "      <td>-0.863205</td>\n",
       "      <td>-0.675</td>\n",
       "      <td>7.407852</td>\n",
       "      <td>7.365309</td>\n",
       "      <td>-2.179952</td>\n",
       "      <td>-2.589820</td>\n",
       "      <td>-2.554611</td>\n",
       "      <td>7.837067</td>\n",
       "      <td>2.664123</td>\n",
       "      <td>5.718558</td>\n",
       "      <td>2.969780</td>\n",
       "      <td>0.692216</td>\n",
       "      <td>6.554250</td>\n",
       "    </tr>\n",
       "    <tr>\n",
       "      <th>Angola</th>\n",
       "      <td>6057</td>\n",
       "      <td>0.116045</td>\n",
       "      <td>-0.675</td>\n",
       "      <td>5.025620</td>\n",
       "      <td>3.259103</td>\n",
       "      <td>6.267730</td>\n",
       "      <td>9.977222</td>\n",
       "      <td>14.562971</td>\n",
       "      <td>7.278902</td>\n",
       "      <td>6.504833</td>\n",
       "      <td>4.965908</td>\n",
       "      <td>4.604377</td>\n",
       "      <td>0.692216</td>\n",
       "      <td>4.320833</td>\n",
       "    </tr>\n",
       "  </tbody>\n",
       "</table>\n",
       "</div>"
      ],
      "text/plain": [
       "             year  urban_population    mei  cum_sum_log_crop_residues  \\\n",
       "area                                                                    \n",
       "Afghanistan  6057         -0.418841 -0.675                   7.371224   \n",
       "Albania      6057         -0.782397 -0.675                   3.493542   \n",
       "Algeria      6057          0.591625 -0.675                   7.046915   \n",
       "Andorra      6057         -0.863205 -0.675                   7.407852   \n",
       "Angola       6057          0.116045 -0.675                   5.025620   \n",
       "\n",
       "             cum_sum_log_rice_cultivation  \\\n",
       "area                                        \n",
       "Afghanistan                      6.758619   \n",
       "Albania                          3.752665   \n",
       "Algeria                         -2.075865   \n",
       "Andorra                          7.365309   \n",
       "Angola                           3.259103   \n",
       "\n",
       "             cum_sum_log_drained_organic_soils_co2  \\\n",
       "area                                                 \n",
       "Afghanistan                              -2.179952   \n",
       "Albania                                   4.646126   \n",
       "Algeria                                  -2.179952   \n",
       "Andorra                                  -2.179952   \n",
       "Angola                                    6.267730   \n",
       "\n",
       "             cum_sum_log_net_forest_conversion  cum_sum_log_fires  \\\n",
       "area                                                                \n",
       "Afghanistan                          -2.589820           0.907785   \n",
       "Albania                              -2.589820           0.527816   \n",
       "Algeria                               2.679464           4.714474   \n",
       "Andorra                              -2.589820          -2.554611   \n",
       "Angola                                9.977222          14.562971   \n",
       "\n",
       "             cum_sum_log_manure_mgmt  cum_sum_log_food_systems  \\\n",
       "area                                                             \n",
       "Afghanistan                 7.654220                  6.328294   \n",
       "Albania                     6.105521                  4.837180   \n",
       "Algeria                     7.746272                  9.414159   \n",
       "Andorra                     7.837067                  2.664123   \n",
       "Angola                      7.278902                  6.504833   \n",
       "\n",
       "             cum_sum_log_ippu_tot  cum_sum_log_on_farm_energy_use  \\\n",
       "area                                                                \n",
       "Afghanistan              2.998186                       11.857540   \n",
       "Albania                  5.299517                        4.791724   \n",
       "Algeria                  8.149323                        5.371903   \n",
       "Andorra                  5.718558                        2.969780   \n",
       "Angola                   4.965908                        4.604377   \n",
       "\n",
       "             cum_sum_forestland  average_temperature_°c  \n",
       "area                                                     \n",
       "Afghanistan            0.624110                2.748083  \n",
       "Albania                0.645138                5.391417  \n",
       "Algeria                0.608513                4.409333  \n",
       "Andorra                0.692216                6.554250  \n",
       "Angola                 0.692216                4.320833  "
      ]
     },
     "execution_count": 154,
     "metadata": {},
     "output_type": "execute_result"
    }
   ],
   "source": [
    "agg_test = test_lstm.groupby('area').sum()\n",
    "agg_test.head()"
   ]
  },
  {
   "cell_type": "code",
   "execution_count": 155,
   "id": "88eee6df-88a5-4e55-904f-41a72d56fe7d",
   "metadata": {},
   "outputs": [
    {
     "data": {
      "text/plain": [
       "Index([], dtype='object', name='area')"
      ]
     },
     "execution_count": 155,
     "metadata": {},
     "output_type": "execute_result"
    }
   ],
   "source": [
    "agg_test = agg_test[agg_test['year'] != 6057]\n",
    "agg_test.index"
   ]
  },
  {
   "cell_type": "code",
   "execution_count": 156,
   "id": "578b36f0-2058-4812-a8e1-261206f2a4c3",
   "metadata": {},
   "outputs": [],
   "source": [
    "countries = ['Armenia', 'Azerbaijan', 'Belarus', 'Belgium', 'Bosnia and Herzegovina',\n",
    "       'Croatia', 'Czechia', 'Eritrea', 'Estonia', 'Georgia', 'Kazakhstan',\n",
    "       'Kyrgyzstan', 'Latvia', 'Lithuania', 'Luxembourg', 'Marshall Islands',\n",
    "       'Micronesia (Federated States of)', 'North Macedonia',\n",
    "       'Republic of Moldova', 'Russian Federation', 'Slovakia', 'Slovenia',\n",
    "       'Tajikistan', 'Turkmenistan', 'Ukraine', 'Uzbekistan']\n",
    "\n",
    "for country in countries:\n",
    "    test_lstm = test_lstm[test_lstm['area'] != country]"
   ]
  },
  {
   "cell_type": "code",
   "execution_count": 157,
   "id": "2ffb6fd3-fedb-4111-b51e-dee41f6b66b3",
   "metadata": {},
   "outputs": [
    {
     "data": {
      "text/plain": [
       "164"
      ]
     },
     "execution_count": 157,
     "metadata": {},
     "output_type": "execute_result"
    }
   ],
   "source": [
    "train_lstm['area'].nunique()"
   ]
  },
  {
   "cell_type": "code",
   "execution_count": 158,
   "id": "3d9799ff-75e4-435c-a4c8-ab4e88903341",
   "metadata": {},
   "outputs": [
    {
     "data": {
      "text/plain": [
       "164"
      ]
     },
     "execution_count": 158,
     "metadata": {},
     "output_type": "execute_result"
    }
   ],
   "source": [
    "val_lstm['area'].nunique()"
   ]
  },
  {
   "cell_type": "code",
   "execution_count": 159,
   "id": "9e65a3be-19e5-4bfb-b4bc-948b323f7b1b",
   "metadata": {},
   "outputs": [
    {
     "data": {
      "text/plain": [
       "164"
      ]
     },
     "execution_count": 159,
     "metadata": {},
     "output_type": "execute_result"
    }
   ],
   "source": [
    "test_lstm['area'].nunique()"
   ]
  },
  {
   "cell_type": "code",
   "execution_count": 160,
   "id": "22301d3f-2505-4102-924d-e0cb15bdb9d4",
   "metadata": {},
   "outputs": [],
   "source": [
    "x_train_lstm = train_lstm.drop(['average_temperature_°c'], axis=1)\n",
    "x_val_lstm = val_lstm.drop(['average_temperature_°c'], axis=1)\n",
    "x_test_lstm = test_lstm.drop(['average_temperature_°c'], axis=1)\n",
    "\n",
    "Y_train_lstm = pd.DataFrame(train_lstm['average_temperature_°c'])\n",
    "Y_val_lstm = pd.DataFrame(val_lstm['average_temperature_°c'])\n",
    "Y_test_lstm = pd.DataFrame(test_lstm['average_temperature_°c'])"
   ]
  },
  {
   "cell_type": "code",
   "execution_count": 161,
   "id": "13caeb13-8c07-46ee-b548-5eca7abfbc86",
   "metadata": {},
   "outputs": [],
   "source": [
    "sub_region_dummies = pd.get_dummies(\n",
    "    x_train_lstm['sub-region'],\n",
    "    drop_first = True)\n",
    "\n",
    "x_train_lstm = pd.concat([x_train_lstm, sub_region_dummies],\n",
    "                         axis=1)\n"
   ]
  },
  {
   "cell_type": "code",
   "execution_count": 162,
   "id": "b41f7119-10aa-44ce-906d-9a74ebe6e699",
   "metadata": {},
   "outputs": [],
   "source": [
    "x_train_lstm = x_train_lstm.drop(['year','area','sub-region'],axis=1)"
   ]
  },
  {
   "cell_type": "code",
   "execution_count": 163,
   "id": "0ed87775-0c85-42ec-8096-0289fcbe018e",
   "metadata": {},
   "outputs": [],
   "source": [
    "sub_region_dummies = pd.get_dummies(\n",
    "    x_val_lstm['sub-region'],\n",
    "    drop_first = True)\n",
    "\n",
    "x_val_lstm = pd.concat([x_val_lstm, sub_region_dummies],\n",
    "                         axis=1)"
   ]
  },
  {
   "cell_type": "code",
   "execution_count": 164,
   "id": "6661ef99-739f-4555-994b-6bf7212259ea",
   "metadata": {},
   "outputs": [],
   "source": [
    "x_val_lstm = x_val_lstm.drop(['year','area','sub-region'],axis=1)"
   ]
  },
  {
   "cell_type": "code",
   "execution_count": 165,
   "id": "c050a2b0-5bbd-4cd1-810b-722dc6fe4f30",
   "metadata": {},
   "outputs": [],
   "source": [
    "sub_region_dummies = pd.get_dummies(\n",
    "    x_test_lstm['sub-region'],\n",
    "    drop_first = True)\n",
    "\n",
    "x_test_lstm = pd.concat([x_test_lstm, sub_region_dummies],\n",
    "                         axis=1)"
   ]
  },
  {
   "cell_type": "code",
   "execution_count": 166,
   "id": "17a4047e-1dc6-4164-980c-50f40a2eb7c5",
   "metadata": {},
   "outputs": [],
   "source": [
    "x_test_lstm = x_test_lstm.drop(['year','area','sub-region'],axis=1)"
   ]
  },
  {
   "cell_type": "code",
   "execution_count": 167,
   "id": "f4bcecf4-50a1-4b78-ad8e-a37f88715705",
   "metadata": {},
   "outputs": [
    {
     "data": {
      "text/plain": [
       "(492, 27)"
      ]
     },
     "execution_count": 167,
     "metadata": {},
     "output_type": "execute_result"
    }
   ],
   "source": [
    "x_train_lstm.shape\n",
    "x_val_lstm.shape\n",
    "x_test_lstm.shape"
   ]
  },
  {
   "cell_type": "code",
   "execution_count": 168,
   "id": "6520924a-3403-4be8-ab5c-92fa7690d5db",
   "metadata": {},
   "outputs": [],
   "source": [
    "x_train_lstm = x_train_lstm.to_numpy()\n",
    "x_val_lstm = x_val_lstm.to_numpy()\n",
    "x_test_lstm = x_test_lstm.to_numpy()"
   ]
  },
  {
   "cell_type": "code",
   "execution_count": 169,
   "id": "f7ffc201-7578-4983-9f25-3bc3787882e9",
   "metadata": {},
   "outputs": [],
   "source": [
    "x_train_lstm = x_train_lstm.reshape((164, 25, 27))\n",
    "x_val_lstm = x_val_lstm.reshape((164, 3, 27))\n",
    "x_test_lstm = x_test_lstm.reshape((164, 3, 27))"
   ]
  },
  {
   "cell_type": "code",
   "execution_count": 170,
   "id": "0164e6ce-40ba-45aa-b5cc-e59458480fd3",
   "metadata": {},
   "outputs": [],
   "source": [
    "Y_train_lstm = Y_train_lstm.to_numpy()\n",
    "Y_val_lstm = Y_val_lstm.to_numpy()\n",
    "Y_test_lstm = Y_test_lstm.to_numpy()"
   ]
  },
  {
   "cell_type": "code",
   "execution_count": 171,
   "id": "a87d9253-34a1-462c-b360-3ff109264507",
   "metadata": {},
   "outputs": [],
   "source": [
    "Y_train_lstm = Y_train_lstm.reshape((164, 25, 1))\n",
    "Y_val_lstm = Y_val_lstm.reshape((164, 3, 1))\n",
    "Y_test_lstm = Y_test_lstm.reshape((164, 3, 1))"
   ]
  },
  {
   "cell_type": "code",
   "execution_count": 264,
   "id": "557333a4-d603-4462-b8fd-1e3ed0bc421d",
   "metadata": {},
   "outputs": [],
   "source": [
    "def build_lstm_model(time_step):\n",
    "    \"\"\"\n",
    "    Return a simple Keras model with a single LSTM layer, dropout later, \n",
    "    and then dense prediction layer.\n",
    "    \n",
    "    Args:\n",
    "    lstm_hidden_units (int): units in the LSTM layer    \n",
    "    \n",
    "    Returns:\n",
    "    model_lstm (tf.keras.Model) LSTM keras model with output dimension (None,1)\n",
    "    \"\"\"\n",
    "    \n",
    "    tf.keras.backend.clear_session()\n",
    "    tf.random.set_seed(1234)\n",
    "    \n",
    "    model_lstm = None\n",
    "    \n",
    "    # instanntiate model\n",
    "    model_lstm = tf.keras.Sequential()\n",
    "    \n",
    "    # add layers\n",
    "    # model_lstm.add(Bidirectional(LSTM(\n",
    "    #     units=200,\n",
    "    #     #recurrent_dropout=0.4,\n",
    "    #     #use_bias=True,\n",
    "    #     return_sequences=True,\n",
    "    #     name='LSTM1'), name='bidir-LSTM1'))    \n",
    "    \n",
    "    model_lstm.add(LSTM(\n",
    "        units=100,\n",
    "        # recurrent_dropout=0.4,\n",
    "        #use_bias=True,\n",
    "        return_sequences=True,\n",
    "        name='LSTM1'))  \n",
    "    \n",
    "    # model_lstm.add(Dropout(\n",
    "    #     rate=0.8,\n",
    "    #     name='Dropout1'\n",
    "    # ))\n",
    "    \n",
    "    # add layers\n",
    "    # model_lstm.add(Dense(\n",
    "    #     units=64,\n",
    "    #     activation='relu',\n",
    "    #     name='Dense1'\n",
    "    # ))\n",
    "    \n",
    "    \n",
    "    model_lstm.add(Dense(\n",
    "        units=1,\n",
    "        activation=None,\n",
    "        name='Dense2'))\n",
    "    \n",
    "    model_lstm.build(input_shape=(164,time_step,27))\n",
    "\n",
    "    \n",
    "    model_lstm.summary()\n",
    "\n",
    "    # END CODE #\n",
    "    return model_lstm"
   ]
  }
 ],
 "metadata": {
  "kernelspec": {
   "display_name": "Python 3 (ipykernel)",
   "language": "python",
   "name": "python3"
  },
  "language_info": {
   "codemirror_mode": {
    "name": "ipython",
    "version": 3
   },
   "file_extension": ".py",
   "mimetype": "text/x-python",
   "name": "python",
   "nbconvert_exporter": "python",
   "pygments_lexer": "ipython3",
   "version": "3.9.16"
  }
 },
 "nbformat": 4,
 "nbformat_minor": 5
}
