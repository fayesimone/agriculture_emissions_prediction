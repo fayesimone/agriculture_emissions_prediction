{
 "cells": [
  {
   "cell_type": "code",
   "execution_count": 64,
   "id": "632b114b-3690-40e0-afdc-6d6d29241be8",
   "metadata": {},
   "outputs": [
    {
     "name": "stderr",
     "output_type": "stream",
     "text": [
      "/var/folders/2q/hvnrfg496ddghgwg8w5s363w0000gn/T/ipykernel_89051/3506967240.py:14: DeprecationWarning: Importing display from IPython.core.display is deprecated since IPython 7.14, please import from IPython display\n",
      "  from IPython.core.display import Image, display\n"
     ]
    }
   ],
   "source": [
    "import numpy as np\n",
    "import pandas as pd\n",
    "import matplotlib.pyplot as plt\n",
    "\n",
    "from sklearn import preprocessing\n",
    "from sklearn.preprocessing import StandardScaler\n",
    "from sklearn.model_selection import train_test_split\n",
    "from sklearn import tree\n",
    "from sklearn.tree import DecisionTreeClassifier\n",
    "from sklearn.tree import DecisionTreeRegressor\n",
    "from sklearn.ensemble import RandomForestClassifier\n",
    "\n",
    "# For producing decision tree diagrams.\n",
    "from IPython.core.display import Image, display\n",
    "import pydot\n",
    "from pydotplus import graph_from_dot_data\n",
    "from sklearn.tree import export_graphviz\n",
    "\n",
    "# This tells matplotlib not to try opening a new window for each plot.\n",
    "%matplotlib inline\n",
    "\n",
    "from sklearn.datasets import load_iris"
   ]
  },
  {
   "cell_type": "markdown",
   "id": "6438e7f0-6413-42a2-b4a3-3865389054a9",
   "metadata": {},
   "source": [
    "# Importing CSV Files Faye Made"
   ]
  },
  {
   "cell_type": "code",
   "execution_count": 35,
   "id": "393d152b-2a12-4b17-93b0-3fcce55f3e12",
   "metadata": {},
   "outputs": [],
   "source": [
    "train = pd.read_csv('~/DATASCI 207/train_data.csv')\n",
    "val = pd.read_csv('~/DATASCI 207/val_data.csv')\n",
    "test = pd.read_csv('~/DATASCI 207/test_data.csv')"
   ]
  },
  {
   "cell_type": "markdown",
   "id": "199d674c-3e9f-4fe9-b791-7e02490df10b",
   "metadata": {},
   "source": [
    "# Decision Tree Modeling\n",
    "I approached this as a classification problem, and thus created classes of temperature changes (see below). I changed hyperparameters for each experiment around frequently to see what the best outcome could be, but ultimately this classification tree did not seem appropriate for our research question."
   ]
  },
  {
   "cell_type": "markdown",
   "id": "9cc1991c-480d-4ed9-ae8c-d48521bf6c46",
   "metadata": {
    "tags": []
   },
   "source": [
    "### Define Functions (pulled all of these functions in from Cornelia's week 7 demo)"
   ]
  },
  {
   "cell_type": "code",
   "execution_count": 65,
   "id": "7b9a9394-2996-4aae-994b-a3937e69d2e4",
   "metadata": {},
   "outputs": [],
   "source": [
    "def entropy(distribution):\n",
    "    ''' Computes the entropy index\n",
    "    # param distribution: list containing distributions\n",
    "    # return entropy index\n",
    "    '''\n",
    "    entropy_index = 0.0\n",
    "    for probability in distribution:\n",
    "        logprob = -100.0  # log(0) = -inf so let's approximate it with -100 to avoid an error\n",
    "        if probability > 0.0: \n",
    "            logprob = np.log2(probability)\n",
    "        entropy_index -= probability * logprob\n",
    "        \n",
    "    return entropy_index"
   ]
  },
  {
   "cell_type": "code",
   "execution_count": 66,
   "id": "55c63670-ce0e-4817-8b34-b2ef03993a74",
   "metadata": {},
   "outputs": [],
   "source": [
    "def get_parent_distribution(labels):\n",
    "    ''' Computes parent distirbution\n",
    "    # param labels: << your turn to comment here >>\n",
    "    # return: <<your turn to comment here >>\n",
    "    '''\n",
    "    # Initialize counters for all labels to zero.\n",
    "    label_probs = np.array([0.0 for i in range(len(np.unique(labels)))])\n",
    "\n",
    "    # Iterate over labels in the training data and update counts.\n",
    "    for label in labels:\n",
    "        label_probs[label] += 1.0\n",
    "    \n",
    "    # Normalize to get a distribution.\n",
    "    label_probs /= label_probs.sum()\n",
    "    \n",
    "    return label_probs"
   ]
  },
  {
   "cell_type": "code",
   "execution_count": 67,
   "id": "92e6b583-ac1b-4a08-b7d5-54043db51c87",
   "metadata": {},
   "outputs": [],
   "source": [
    "def information_gain(data, labels, feature, threshold=0):\n",
    "    ''' Computes information gain\n",
    "    # param data: an array of featurized examples\n",
    "    # param labels: an array of labels corresponding to the the data\n",
    "    # param feature: the feature to use to split the data\n",
    "    # param threshold: the feature value to use to split the data (the default threshold is good for binary features)\n",
    "    '''\n",
    "    # Get the initial entropy of the label distribution.\n",
    "    initial_entropy = entropy(get_parent_distribution(labels))\n",
    "    \n",
    "    # subset0 will contain the labels for which the feature is 0 and\n",
    "    # subset1 will contain the labels for which the feature is 1.\n",
    "    subset0, subset1 = [], []\n",
    "    for datum, label in zip(data, labels):\n",
    "        if datum[feature] > threshold:\n",
    "            subset1.append(label)\n",
    "        else: \n",
    "            subset0.append(label)\n",
    "    \n",
    "    # Compute the entropy of each subset.\n",
    "    subset0_entropy = entropy(get_parent_distribution(subset0))\n",
    "    subset1_entropy = entropy(get_parent_distribution(subset1))\n",
    "    \n",
    "    # Compute the final entropy by weighting each subset's entropy according to its size.\n",
    "    subset0_weight = 1.0 * len(subset0) / len(labels)\n",
    "    subset1_weight = 1.0 * len(subset1) / len(labels)\n",
    "    final_entropy = subset0_weight * subset0_entropy + subset1_weight * subset1_entropy\n",
    "    \n",
    "    # Finally, compute information gain as the difference between the initial and final entropy.\n",
    "    return initial_entropy - final_entropy"
   ]
  },
  {
   "cell_type": "code",
   "execution_count": 68,
   "id": "8bad35aa-59e5-4a6c-ad4a-7eb79451d2ca",
   "metadata": {},
   "outputs": [],
   "source": [
    "def try_features_and_thresholds(data, labels):\n",
    "    ''' Computes thresholds for each features and returns the threshold that optimized information gain\n",
    "    # param labels: << your turn to comment here >>\n",
    "    # return: <<your turn to comment here >>\n",
    "    '''\n",
    "    print('feature', 'best_threshold', 'best_IG', 'feature name')\n",
    "    for feature in range(data.shape[1]):\n",
    "        # Choose a set of thresholds between the min- and max-valued feature, ignoring the min and max themselves.\n",
    "        thresholds = np.linspace(data[:,feature].min(), data[:,feature].max(), 20)[1:-1]\n",
    "\n",
    "        # Try each threshold and keep track of the best one for this feature.\n",
    "        best_threshold = 0\n",
    "        best_IG = 0\n",
    "        for threshold in thresholds:\n",
    "            IG = information_gain(data, labels, feature, threshold)\n",
    "            if IG > best_IG:\n",
    "                best_IG = IG\n",
    "                best_threshold = threshold\n",
    "\n",
    "        # Show the best threshold and information gain for this feature.\n",
    "        \n",
    "        print ('%d %.3f %.3f %s' %(feature, best_threshold, best_IG, features[feature]))"
   ]
  },
  {
   "cell_type": "markdown",
   "id": "1499ccc0-68ba-4590-ae7f-b2c08ab40f72",
   "metadata": {},
   "source": [
    "## Modifying Datasets for Classification Trees"
   ]
  },
  {
   "cell_type": "markdown",
   "id": "d88cfb25-4ed2-4a50-893b-5f317a62044a",
   "metadata": {},
   "source": [
    "### One-hot encoding Regions using pd.get_dummies"
   ]
  },
  {
   "cell_type": "code",
   "execution_count": 41,
   "id": "4eb5ec1e-93a3-4587-89f3-4826892b8795",
   "metadata": {},
   "outputs": [
    {
     "data": {
      "text/plain": [
       "Index(['area', 'sub-region', 'year', 'urban_population', 'mei',\n",
       "       'crop_residues', 'rice_cultivation', 'drained_organic_soils_co2',\n",
       "       'forestland', 'net_forest_conversion', 'fires', 'manure_mgmt',\n",
       "       'food_systems', 'ippu_tot', 'on_farm_energy_use', 'total_emission',\n",
       "       'log_urban_population', 'log_crop_residues', 'log_rice_cultivation',\n",
       "       'log_drained_organic_soils_co2', 'log_net_forest_conversion',\n",
       "       'log_fires', 'log_manure_mgmt', 'log_food_systems', 'log_ippu_tot',\n",
       "       'log_on_farm_energy_use', 'cum_sum_log_crop_residues',\n",
       "       'cum_sum_log_rice_cultivation', 'cum_sum_log_drained_organic_soils_co2',\n",
       "       'cum_sum_log_net_forest_conversion', 'cum_sum_log_fires',\n",
       "       'cum_sum_log_manure_mgmt', 'cum_sum_log_food_systems',\n",
       "       'cum_sum_log_ippu_tot', 'cum_sum_log_on_farm_energy_use',\n",
       "       'cum_sum_forestland', 'cum_sum_total_emission',\n",
       "       'average_temperature_°c', 'region_Africa', 'region_Americas',\n",
       "       'region_Asia', 'region_Europe', 'region_Oceania'],\n",
       "      dtype='object')"
      ]
     },
     "execution_count": 41,
     "metadata": {},
     "output_type": "execute_result"
    }
   ],
   "source": [
    "# read a kaggle article that suggested this method of categorizing for a decision tree\n",
    "train_tree=pd.get_dummies(train, columns=['region'])\n",
    "train_tree.columns"
   ]
  },
  {
   "cell_type": "markdown",
   "id": "6b95e758-6c92-4ee7-9cfe-4ef4e1de2a7f",
   "metadata": {},
   "source": [
    "Repeating for Validation and Test Datasets:"
   ]
  },
  {
   "cell_type": "code",
   "execution_count": 42,
   "id": "30a917ce-f73d-447c-a418-d060af0d4db8",
   "metadata": {},
   "outputs": [],
   "source": [
    "val_tree=pd.get_dummies(val, columns=['region'])"
   ]
  },
  {
   "cell_type": "code",
   "execution_count": 43,
   "id": "7e009a08-dd44-4d5a-b234-f60fef90b53f",
   "metadata": {},
   "outputs": [],
   "source": [
    "test_tree=pd.get_dummies(test, columns=['region'])"
   ]
  },
  {
   "cell_type": "code",
   "execution_count": 44,
   "id": "ac33242e-fbc2-49b6-baa6-97d10bf8442f",
   "metadata": {},
   "outputs": [],
   "source": [
    "# recast bools as 0s and 1s\n",
    "region_cols = ['region_Africa', 'region_Americas',\n",
    "       'region_Asia', 'region_Europe', 'region_Oceania']\n",
    "for region in region_cols:\n",
    "    train_tree[region]=train_tree[region].astype(int)\n",
    "\n",
    "for region in region_cols:\n",
    "    val_tree[region]=val_tree[region].astype(int)\n",
    "    \n",
    "for region in region_cols:\n",
    "    test_tree[region]=test_tree[region].astype(int)"
   ]
  },
  {
   "cell_type": "markdown",
   "id": "03dc94c5-b149-4b8f-ab66-3877428b9233",
   "metadata": {},
   "source": [
    "### Segmenting Outcome Variable to a Classification"
   ]
  },
  {
   "cell_type": "code",
   "execution_count": 45,
   "id": "cf9f0c89-490d-487d-acbe-6d544b43ce6b",
   "metadata": {},
   "outputs": [],
   "source": [
    "# add column to end of each dataset\n",
    "train_tree['average_temperature_°c_cat']=''\n",
    "val_tree['average_temperature_°c_cat']=''\n",
    "test_tree['average_temperature_°c_cat']=''"
   ]
  },
  {
   "cell_type": "code",
   "execution_count": 46,
   "id": "6ccb3fce-f6e8-4f20-a1a7-e21348a31f55",
   "metadata": {},
   "outputs": [
    {
     "data": {
      "image/png": "[encoded data removed]",
      "text/plain": [
       "<Figure size 432x288 with 1 Axes>"
      ]
     },
     "metadata": {
      "needs_background": "light"
     },
     "output_type": "display_data"
    }
   ],
   "source": [
    "# look at distribution of average temperature column in the training dataset\n",
    "hist=train['average_temperature_°c'].hist()"
   ]
  },
  {
   "cell_type": "code",
   "execution_count": 47,
   "id": "c6c3551f-2bf2-4745-a32b-e78677be9cdd",
   "metadata": {},
   "outputs": [
    {
     "data": {
      "text/plain": [
       "count    4409.000000\n",
       "mean        0.760066\n",
       "std         0.508665\n",
       "min        -1.302417\n",
       "25%         0.441750\n",
       "50%         0.733167\n",
       "75%         1.048333\n",
       "max         3.080333\n",
       "Name: average_temperature_°c, dtype: float64"
      ]
     },
     "execution_count": 47,
     "metadata": {},
     "output_type": "execute_result"
    }
   ],
   "source": [
    "# explore quartiles of average temperature column in training set\n",
    "train_tree['average_temperature_°c'].describe()"
   ]
  },
  {
   "cell_type": "markdown",
   "id": "f9ddf3ee-3b85-40b7-9b62-09b031d41ed9",
   "metadata": {},
   "source": [
    "**Elected to recast temp to 4 classes roughly based on quartiles**\n",
    "\n",
    "Validation and Test datasets will be cast with the same distribution as the training set"
   ]
  },
  {
   "cell_type": "code",
   "execution_count": 48,
   "id": "5ba4e27c-6ea6-40cc-884f-57e5430dbb35",
   "metadata": {},
   "outputs": [],
   "source": [
    "train_tree.loc[(train_tree['average_temperature_°c']<=0.44), \n",
    "                 'average_temperature_°c_cat'] = 0\n",
    "train_tree.loc[(train_tree['average_temperature_°c']>0.44) & (train_tree['average_temperature_°c']<=0.72), \n",
    "                 'average_temperature_°c_cat'] = 1\n",
    "train_tree.loc[(train_tree['average_temperature_°c']>0.72) & (train_tree['average_temperature_°c']<=1.04), \n",
    "                 'average_temperature_°c_cat'] = 2\n",
    "train_tree.loc[(train_tree['average_temperature_°c']>1.04), \n",
    "                 'average_temperature_°c_cat'] = 3"
   ]
  },
  {
   "cell_type": "code",
   "execution_count": 49,
   "id": "6a1e3e7e-39c4-4aeb-89c9-6904d73c17ed",
   "metadata": {},
   "outputs": [],
   "source": [
    "val_tree.loc[(val_tree['average_temperature_°c']<=0.44), \n",
    "                 'average_temperature_°c_cat'] = 0\n",
    "val_tree.loc[(val_tree['average_temperature_°c']>0.44) & (val_tree['average_temperature_°c']<=0.72), \n",
    "                 'average_temperature_°c_cat'] = 1\n",
    "val_tree.loc[(val_tree['average_temperature_°c']>0.72) & (val_tree['average_temperature_°c']<=1.04), \n",
    "                 'average_temperature_°c_cat'] = 2\n",
    "val_tree.loc[(val_tree['average_temperature_°c']>1.04), \n",
    "                 'average_temperature_°c_cat'] = 3"
   ]
  },
  {
   "cell_type": "code",
   "execution_count": 50,
   "id": "f9bd1fdb-af0a-4c14-869e-e41c42492c5a",
   "metadata": {},
   "outputs": [],
   "source": [
    "test_tree.loc[(test_tree['average_temperature_°c']<=0.44), \n",
    "                 'average_temperature_°c_cat'] = 0\n",
    "test_tree.loc[(test_tree['average_temperature_°c']>0.44) & (test_tree['average_temperature_°c']<=0.72), \n",
    "                 'average_temperature_°c_cat'] = 1\n",
    "test_tree.loc[(test_tree['average_temperature_°c']>0.72) & (test_tree['average_temperature_°c']<=1.04), \n",
    "                 'average_temperature_°c_cat'] = 2\n",
    "test_tree.loc[(test_tree['average_temperature_°c']>1.04), \n",
    "                 'average_temperature_°c_cat'] = 3"
   ]
  },
  {
   "cell_type": "code",
   "execution_count": 69,
   "id": "21510ec2-8b87-4918-bf23-2fd9bb53d1ed",
   "metadata": {},
   "outputs": [],
   "source": [
    "# make sure the type of these new columns are integers\n",
    "train_tree['average_temperature_°c_cat']=train_tree['average_temperature_°c_cat'].astype(int)\n",
    "val_tree['average_temperature_°c_cat']=val_tree['average_temperature_°c_cat'].astype(int)\n",
    "test_tree['average_temperature_°c_cat']=test_tree['average_temperature_°c_cat'].astype(int)"
   ]
  },
  {
   "cell_type": "code",
   "execution_count": 52,
   "id": "4f0cc89f-58f3-4b3b-bf1a-1f1dbdd45e4e",
   "metadata": {},
   "outputs": [
    {
     "data": {
      "text/html": [
       "<div>\n",
       "<style scoped>\n",
       "    .dataframe tbody tr th:only-of-type {\n",
       "        vertical-align: middle;\n",
       "    }\n",
       "\n",
       "    .dataframe tbody tr th {\n",
       "        vertical-align: top;\n",
       "    }\n",
       "\n",
       "    .dataframe thead th {\n",
       "        text-align: right;\n",
       "    }\n",
       "</style>\n",
       "<table border=\"1\" class=\"dataframe\">\n",
       "  <thead>\n",
       "    <tr style=\"text-align: right;\">\n",
       "      <th></th>\n",
       "      <th>average_temperature_°c_cat</th>\n",
       "    </tr>\n",
       "    <tr>\n",
       "      <th>average_temperature_°c_cat</th>\n",
       "      <th></th>\n",
       "    </tr>\n",
       "  </thead>\n",
       "  <tbody>\n",
       "    <tr>\n",
       "      <th>0</th>\n",
       "      <td>1095</td>\n",
       "    </tr>\n",
       "    <tr>\n",
       "      <th>1</th>\n",
       "      <td>1065</td>\n",
       "    </tr>\n",
       "    <tr>\n",
       "      <th>2</th>\n",
       "      <td>1117</td>\n",
       "    </tr>\n",
       "    <tr>\n",
       "      <th>3</th>\n",
       "      <td>1132</td>\n",
       "    </tr>\n",
       "  </tbody>\n",
       "</table>\n",
       "</div>"
      ],
      "text/plain": [
       "                            average_temperature_°c_cat\n",
       "average_temperature_°c_cat                            \n",
       "0                                                 1095\n",
       "1                                                 1065\n",
       "2                                                 1117\n",
       "3                                                 1132"
      ]
     },
     "execution_count": 52,
     "metadata": {},
     "output_type": "execute_result"
    }
   ],
   "source": [
    "# checking spread of categories (should be pretty even)\n",
    "count=pd.DataFrame(train_tree.groupby('average_temperature_°c_cat')['average_temperature_°c_cat'].count())\n",
    "count"
   ]
  },
  {
   "cell_type": "code",
   "execution_count": 71,
   "id": "53e25d76-d832-49b5-936f-d530d4a48bea",
   "metadata": {},
   "outputs": [
    {
     "data": {
      "text/html": [
       "<div>\n",
       "<style scoped>\n",
       "    .dataframe tbody tr th:only-of-type {\n",
       "        vertical-align: middle;\n",
       "    }\n",
       "\n",
       "    .dataframe tbody tr th {\n",
       "        vertical-align: top;\n",
       "    }\n",
       "\n",
       "    .dataframe thead th {\n",
       "        text-align: right;\n",
       "    }\n",
       "</style>\n",
       "<table border=\"1\" class=\"dataframe\">\n",
       "  <thead>\n",
       "    <tr style=\"text-align: right;\">\n",
       "      <th></th>\n",
       "      <th>average_temperature_°c_cat</th>\n",
       "      <th>prob</th>\n",
       "    </tr>\n",
       "    <tr>\n",
       "      <th>average_temperature_°c_cat</th>\n",
       "      <th></th>\n",
       "      <th></th>\n",
       "    </tr>\n",
       "  </thead>\n",
       "  <tbody>\n",
       "    <tr>\n",
       "      <th>0</th>\n",
       "      <td>1095</td>\n",
       "      <td>0.248356</td>\n",
       "    </tr>\n",
       "    <tr>\n",
       "      <th>1</th>\n",
       "      <td>1065</td>\n",
       "      <td>0.241551</td>\n",
       "    </tr>\n",
       "    <tr>\n",
       "      <th>2</th>\n",
       "      <td>1117</td>\n",
       "      <td>0.253345</td>\n",
       "    </tr>\n",
       "    <tr>\n",
       "      <th>3</th>\n",
       "      <td>1132</td>\n",
       "      <td>0.256748</td>\n",
       "    </tr>\n",
       "  </tbody>\n",
       "</table>\n",
       "</div>"
      ],
      "text/plain": [
       "                            average_temperature_°c_cat      prob\n",
       "average_temperature_°c_cat                                      \n",
       "0                                                 1095  0.248356\n",
       "1                                                 1065  0.241551\n",
       "2                                                 1117  0.253345\n",
       "3                                                 1132  0.256748"
      ]
     },
     "execution_count": 71,
     "metadata": {},
     "output_type": "execute_result"
    }
   ],
   "source": [
    "count['prob']=count['average_temperature_°c_cat']/4409\n",
    "count"
   ]
  },
  {
   "cell_type": "markdown",
   "id": "4a4273d8-7a91-48a6-bce4-c37cc36cfe11",
   "metadata": {},
   "source": [
    "The above is checking probabilities of each are fairly even"
   ]
  },
  {
   "cell_type": "code",
   "execution_count": 74,
   "id": "3e8f0c8f-d61f-4ac9-8d6f-6ad270b551a5",
   "metadata": {},
   "outputs": [
    {
     "name": "stdout",
     "output_type": "stream",
     "text": [
      "{0: 0.2483556361986845, 1: 0.2415513721932411, 2: 0.2533454298026763, 3: 0.25674756180539804}\n"
     ]
    }
   ],
   "source": [
    "# doing the same thing using get_parent_distribution function defined above\n",
    "parent_dist=get_parent_distribution(np.array(train_tree['average_temperature_°c_cat']))\n",
    "dict_parent_dist={i:parent_dist[i] for i in range(4)}\n",
    "print(dict_parent_dist)"
   ]
  },
  {
   "cell_type": "code",
   "execution_count": 75,
   "id": "0121ad36-6de8-44a2-bfd7-bc4812ad6e51",
   "metadata": {},
   "outputs": [
    {
     "data": {
      "text/plain": [
       "1.99962150936443"
      ]
     },
     "execution_count": 75,
     "metadata": {},
     "output_type": "execute_result"
    }
   ],
   "source": [
    "entropy(parent_dist)"
   ]
  },
  {
   "cell_type": "markdown",
   "id": "f627705f-3f1e-4044-a22a-13fc0d18c200",
   "metadata": {
    "tags": []
   },
   "source": [
    "### First Experiment with Feature: total_emissions (baseline)"
   ]
  },
  {
   "cell_type": "code",
   "execution_count": 29,
   "id": "e845b0e5-a951-4485-bb0f-cabc9dec1a18",
   "metadata": {},
   "outputs": [],
   "source": [
    "label=['average_temperature_°c_cat']\n",
    "features=['total_emission']\n",
    "df1_train = train_tree[label+features]\n",
    "df1_val = val_tree[label+features]\n",
    "df1_test = test_tree[label+features]"
   ]
  },
  {
   "cell_type": "code",
   "execution_count": 30,
   "id": "65b65adb-f084-4ce5-a3cd-8665348c00aa",
   "metadata": {},
   "outputs": [
    {
     "name": "stdout",
     "output_type": "stream",
     "text": [
      "Using a decision stump -- a tree with depth 1:\n",
      "Features: ['total_emission']\n",
      "Feature importances: [1.]\n",
      "Accuracy: 0.5716945996275605\n",
      "Accuracy: 0.5623836126629422\n"
     ]
    },
    {
     "name": "stderr",
     "output_type": "stream",
     "text": [
      "/opt/anaconda3/lib/python3.9/site-packages/sklearn/utils/validation.py:623: FutureWarning: is_sparse is deprecated and will be removed in a future version. Check `isinstance(dtype, pd.SparseDtype)` instead.\n",
      "  if not hasattr(array, \"sparse\") and array.dtypes.apply(is_sparse).any():\n",
      "/opt/anaconda3/lib/python3.9/site-packages/sklearn/utils/validation.py:623: FutureWarning: is_sparse is deprecated and will be removed in a future version. Check `isinstance(dtype, pd.SparseDtype)` instead.\n",
      "  if not hasattr(array, \"sparse\") and array.dtypes.apply(is_sparse).any():\n",
      "/opt/anaconda3/lib/python3.9/site-packages/sklearn/utils/validation.py:623: FutureWarning: is_sparse is deprecated and will be removed in a future version. Check `isinstance(dtype, pd.SparseDtype)` instead.\n",
      "  if not hasattr(array, \"sparse\") and array.dtypes.apply(is_sparse).any():\n",
      "/opt/anaconda3/lib/python3.9/site-packages/sklearn/utils/validation.py:623: FutureWarning: is_sparse is deprecated and will be removed in a future version. Check `isinstance(dtype, pd.SparseDtype)` instead.\n",
      "  if not hasattr(array, \"sparse\") and array.dtypes.apply(is_sparse).any():\n"
     ]
    },
    {
     "data": {
      "image/png": "[encoded data removed]",
      "text/plain": [
       "<Figure size 432x288 with 1 Axes>"
      ]
     },
     "metadata": {
      "needs_background": "light"
     },
     "output_type": "display_data"
    }
   ],
   "source": [
    "dt = DecisionTreeClassifier(criterion='entropy', max_depth=2)\n",
    "dt.fit(df1_train[features], df1_train[label])\n",
    "tree.plot_tree(dt)\n",
    "print ('Using a decision stump -- a tree with depth 1:')\n",
    "print('Features:', features)\n",
    "print ('Feature importances:', dt.feature_importances_)\n",
    "print ('Accuracy:', dt.score(df1_val[features], df1_val[label]))\n",
    "print ('Accuracy:', dt.score(df1_test[features], df1_test[label]))"
   ]
  },
  {
   "cell_type": "markdown",
   "id": "9f5099f1-57fa-45a5-9d03-6cfe54ab633e",
   "metadata": {},
   "source": [
    "### Second Experiment, adding in regions"
   ]
  },
  {
   "cell_type": "code",
   "execution_count": 165,
   "id": "1b30ea76-10f2-4e84-b68f-a88704511f4c",
   "metadata": {},
   "outputs": [],
   "source": [
    "label=['average_temperature_°c_cat']\n",
    "features=['total_emission', 'region_Africa', 'region_Americas',\n",
    "       'region_Asia', 'region_Europe', 'region_Oceania']\n",
    "df2_train = train_tree[label+features]\n",
    "df2_val = val_tree[label+features]\n",
    "df2_test = test_tree[label+features]"
   ]
  },
  {
   "cell_type": "code",
   "execution_count": 168,
   "id": "8c4731d0-9daf-4c20-b3d7-1987e3a11349",
   "metadata": {},
   "outputs": [
    {
     "name": "stderr",
     "output_type": "stream",
     "text": [
      "/opt/anaconda3/lib/python3.9/site-packages/sklearn/utils/validation.py:623: FutureWarning: is_sparse is deprecated and will be removed in a future version. Check `isinstance(dtype, pd.SparseDtype)` instead.\n",
      "  if not hasattr(array, \"sparse\") and array.dtypes.apply(is_sparse).any():\n",
      "/opt/anaconda3/lib/python3.9/site-packages/sklearn/utils/validation.py:623: FutureWarning: is_sparse is deprecated and will be removed in a future version. Check `isinstance(dtype, pd.SparseDtype)` instead.\n",
      "  if not hasattr(array, \"sparse\") and array.dtypes.apply(is_sparse).any():\n",
      "/opt/anaconda3/lib/python3.9/site-packages/sklearn/utils/validation.py:623: FutureWarning: is_sparse is deprecated and will be removed in a future version. Check `isinstance(dtype, pd.SparseDtype)` instead.\n",
      "  if not hasattr(array, \"sparse\") and array.dtypes.apply(is_sparse).any():\n",
      "/opt/anaconda3/lib/python3.9/site-packages/sklearn/utils/validation.py:623: FutureWarning: is_sparse is deprecated and will be removed in a future version. Check `isinstance(dtype, pd.SparseDtype)` instead.\n",
      "  if not hasattr(array, \"sparse\") and array.dtypes.apply(is_sparse).any():\n"
     ]
    },
    {
     "name": "stdout",
     "output_type": "stream",
     "text": [
      "Using a decision stump -- a tree with depth 1:\n",
      "Features: ['total_emission', 'region_Africa', 'region_Americas', 'region_Asia', 'region_Europe', 'region_Oceania']\n",
      "Feature importances: [0.12811305 0.         0.14685051 0.         0.59538552 0.12965093]\n",
      "Accuracy: 0.260707635009311\n",
      "Accuracy: 0.29236499068901306\n"
     ]
    },
    {
     "data": {
      "image/png": "[encoded data removed]",
      "text/plain": [
       "<Figure size 432x288 with 1 Axes>"
      ]
     },
     "metadata": {
      "needs_background": "light"
     },
     "output_type": "display_data"
    }
   ],
   "source": [
    "dt = DecisionTreeClassifier(criterion='entropy', max_depth=3)\n",
    "dt.fit(df2_train[features], df2_train[label])\n",
    "tree.plot_tree(dt)\n",
    "print ('Using a decision stump -- a tree with depth 1:')\n",
    "print('Features:', features)\n",
    "print ('Feature importances:', dt.feature_importances_)\n",
    "print ('Accuracy:', dt.score(df2_val[features], df2_val[label]))\n",
    "print ('Accuracy:', dt.score(df2_test[features], df2_test[label]))"
   ]
  },
  {
   "cell_type": "markdown",
   "id": "c3e35223-c4d5-4dc9-802c-7447641d0a79",
   "metadata": {},
   "source": [
    "### Third Experiment, Adding in some original features"
   ]
  },
  {
   "cell_type": "code",
   "execution_count": 199,
   "id": "7865cc2f-61b4-43d4-9b87-0787af9eb0f7",
   "metadata": {},
   "outputs": [
    {
     "data": {
      "text/html": [
       "<div>\n",
       "<style scoped>\n",
       "    .dataframe tbody tr th:only-of-type {\n",
       "        vertical-align: middle;\n",
       "    }\n",
       "\n",
       "    .dataframe tbody tr th {\n",
       "        vertical-align: top;\n",
       "    }\n",
       "\n",
       "    .dataframe thead th {\n",
       "        text-align: right;\n",
       "    }\n",
       "</style>\n",
       "<table border=\"1\" class=\"dataframe\">\n",
       "  <thead>\n",
       "    <tr style=\"text-align: right;\">\n",
       "      <th></th>\n",
       "      <th>average_temperature_°c_cat</th>\n",
       "      <th>total_emission</th>\n",
       "      <th>region_Africa</th>\n",
       "      <th>region_Americas</th>\n",
       "      <th>region_Asia</th>\n",
       "      <th>region_Europe</th>\n",
       "      <th>region_Oceania</th>\n",
       "      <th>crop_residues</th>\n",
       "      <th>rice_cultivation</th>\n",
       "      <th>drained_organic_soils_co2</th>\n",
       "      <th>forestland</th>\n",
       "      <th>net_forest_conversion</th>\n",
       "      <th>fires</th>\n",
       "      <th>manure_mgmt</th>\n",
       "      <th>food_systems</th>\n",
       "      <th>ippu_tot</th>\n",
       "      <th>on_farm_energy_use</th>\n",
       "      <th>mei</th>\n",
       "    </tr>\n",
       "  </thead>\n",
       "  <tbody>\n",
       "    <tr>\n",
       "      <th>0</th>\n",
       "      <td>1</td>\n",
       "      <td>-0.305623</td>\n",
       "      <td>0</td>\n",
       "      <td>0</td>\n",
       "      <td>1</td>\n",
       "      <td>0</td>\n",
       "      <td>0</td>\n",
       "      <td>-0.213514</td>\n",
       "      <td>-0.205388</td>\n",
       "      <td>-0.248996</td>\n",
       "      <td>0.214527</td>\n",
       "      <td>-0.184896</td>\n",
       "      <td>-0.166866</td>\n",
       "      <td>-0.248892</td>\n",
       "      <td>-0.252496</td>\n",
       "      <td>-0.206061</td>\n",
       "      <td>0.191216</td>\n",
       "      <td>0.2</td>\n",
       "    </tr>\n",
       "    <tr>\n",
       "      <th>1</th>\n",
       "      <td>2</td>\n",
       "      <td>-0.300144</td>\n",
       "      <td>0</td>\n",
       "      <td>0</td>\n",
       "      <td>0</td>\n",
       "      <td>1</td>\n",
       "      <td>0</td>\n",
       "      <td>-0.255139</td>\n",
       "      <td>-0.238919</td>\n",
       "      <td>-0.242540</td>\n",
       "      <td>0.242892</td>\n",
       "      <td>-0.184896</td>\n",
       "      <td>-0.166941</td>\n",
       "      <td>-0.304350</td>\n",
       "      <td>-0.259606</td>\n",
       "      <td>-0.197917</td>\n",
       "      <td>-0.241381</td>\n",
       "      <td>0.2</td>\n",
       "    </tr>\n",
       "    <tr>\n",
       "      <th>2</th>\n",
       "      <td>2</td>\n",
       "      <td>-0.219228</td>\n",
       "      <td>1</td>\n",
       "      <td>0</td>\n",
       "      <td>0</td>\n",
       "      <td>0</td>\n",
       "      <td>0</td>\n",
       "      <td>-0.225268</td>\n",
       "      <td>-0.239892</td>\n",
       "      <td>-0.248996</td>\n",
       "      <td>0.240772</td>\n",
       "      <td>-0.179044</td>\n",
       "      <td>-0.162479</td>\n",
       "      <td>-0.219602</td>\n",
       "      <td>-0.113537</td>\n",
       "      <td>-0.159908</td>\n",
       "      <td>-0.252592</td>\n",
       "      <td>0.2</td>\n",
       "    </tr>\n",
       "    <tr>\n",
       "      <th>3</th>\n",
       "      <td>1</td>\n",
       "      <td>-0.015169</td>\n",
       "      <td>1</td>\n",
       "      <td>0</td>\n",
       "      <td>0</td>\n",
       "      <td>0</td>\n",
       "      <td>0</td>\n",
       "      <td>-0.262785</td>\n",
       "      <td>-0.238858</td>\n",
       "      <td>-0.228766</td>\n",
       "      <td>0.242053</td>\n",
       "      <td>-0.100769</td>\n",
       "      <td>1.706541</td>\n",
       "      <td>-0.270488</td>\n",
       "      <td>-0.246282</td>\n",
       "      <td>-0.203060</td>\n",
       "      <td>-0.258101</td>\n",
       "      <td>0.2</td>\n",
       "    </tr>\n",
       "    <tr>\n",
       "      <th>4</th>\n",
       "      <td>0</td>\n",
       "      <td>0.175566</td>\n",
       "      <td>0</td>\n",
       "      <td>1</td>\n",
       "      <td>0</td>\n",
       "      <td>0</td>\n",
       "      <td>0</td>\n",
       "      <td>0.286965</td>\n",
       "      <td>-0.193833</td>\n",
       "      <td>0.050432</td>\n",
       "      <td>-0.220040</td>\n",
       "      <td>0.511570</td>\n",
       "      <td>-0.018155</td>\n",
       "      <td>0.998713</td>\n",
       "      <td>-0.050755</td>\n",
       "      <td>-0.132390</td>\n",
       "      <td>0.051455</td>\n",
       "      <td>0.2</td>\n",
       "    </tr>\n",
       "  </tbody>\n",
       "</table>\n",
       "</div>"
      ],
      "text/plain": [
       "   average_temperature_°c_cat  total_emission  region_Africa  region_Americas  \\\n",
       "0                           1       -0.305623              0                0   \n",
       "1                           2       -0.300144              0                0   \n",
       "2                           2       -0.219228              1                0   \n",
       "3                           1       -0.015169              1                0   \n",
       "4                           0        0.175566              0                1   \n",
       "\n",
       "   region_Asia  region_Europe  region_Oceania  crop_residues  \\\n",
       "0            1              0               0      -0.213514   \n",
       "1            0              1               0      -0.255139   \n",
       "2            0              0               0      -0.225268   \n",
       "3            0              0               0      -0.262785   \n",
       "4            0              0               0       0.286965   \n",
       "\n",
       "   rice_cultivation  drained_organic_soils_co2  forestland  \\\n",
       "0         -0.205388                  -0.248996    0.214527   \n",
       "1         -0.238919                  -0.242540    0.242892   \n",
       "2         -0.239892                  -0.248996    0.240772   \n",
       "3         -0.238858                  -0.228766    0.242053   \n",
       "4         -0.193833                   0.050432   -0.220040   \n",
       "\n",
       "   net_forest_conversion     fires  manure_mgmt  food_systems  ippu_tot  \\\n",
       "0              -0.184896 -0.166866    -0.248892     -0.252496 -0.206061   \n",
       "1              -0.184896 -0.166941    -0.304350     -0.259606 -0.197917   \n",
       "2              -0.179044 -0.162479    -0.219602     -0.113537 -0.159908   \n",
       "3              -0.100769  1.706541    -0.270488     -0.246282 -0.203060   \n",
       "4               0.511570 -0.018155     0.998713     -0.050755 -0.132390   \n",
       "\n",
       "   on_farm_energy_use  mei  \n",
       "0            0.191216  0.2  \n",
       "1           -0.241381  0.2  \n",
       "2           -0.252592  0.2  \n",
       "3           -0.258101  0.2  \n",
       "4            0.051455  0.2  "
      ]
     },
     "execution_count": 199,
     "metadata": {},
     "output_type": "execute_result"
    }
   ],
   "source": [
    "label=['average_temperature_°c_cat']\n",
    "features=['total_emission', 'region_Africa', 'region_Americas',\n",
    "       'region_Asia', 'region_Europe', 'region_Oceania', 'crop_residues', 'rice_cultivation', 'drained_organic_soils_co2',\n",
    "       'forestland', 'net_forest_conversion', 'fires', 'manure_mgmt',\n",
    "       'food_systems', 'ippu_tot', 'on_farm_energy_use', 'mei']\n",
    "df3_train = train_tree[label+features]\n",
    "df3_val = val_tree[label+features]\n",
    "df3_test = test_tree[label+features]\n",
    "df3_train.head()"
   ]
  },
  {
   "cell_type": "code",
   "execution_count": 201,
   "id": "09480628-4b1b-41fe-9503-1ac44ebe8bd9",
   "metadata": {},
   "outputs": [
    {
     "name": "stderr",
     "output_type": "stream",
     "text": [
      "/opt/anaconda3/lib/python3.9/site-packages/sklearn/utils/validation.py:623: FutureWarning: is_sparse is deprecated and will be removed in a future version. Check `isinstance(dtype, pd.SparseDtype)` instead.\n",
      "  if not hasattr(array, \"sparse\") and array.dtypes.apply(is_sparse).any():\n",
      "/opt/anaconda3/lib/python3.9/site-packages/sklearn/utils/validation.py:623: FutureWarning: is_sparse is deprecated and will be removed in a future version. Check `isinstance(dtype, pd.SparseDtype)` instead.\n",
      "  if not hasattr(array, \"sparse\") and array.dtypes.apply(is_sparse).any():\n",
      "/opt/anaconda3/lib/python3.9/site-packages/sklearn/utils/validation.py:623: FutureWarning: is_sparse is deprecated and will be removed in a future version. Check `isinstance(dtype, pd.SparseDtype)` instead.\n",
      "  if not hasattr(array, \"sparse\") and array.dtypes.apply(is_sparse).any():\n",
      "/opt/anaconda3/lib/python3.9/site-packages/sklearn/utils/validation.py:623: FutureWarning: is_sparse is deprecated and will be removed in a future version. Check `isinstance(dtype, pd.SparseDtype)` instead.\n",
      "  if not hasattr(array, \"sparse\") and array.dtypes.apply(is_sparse).any():\n"
     ]
    },
    {
     "name": "stdout",
     "output_type": "stream",
     "text": [
      "Using a decision stump -- a tree with depth 1:\n",
      "Features: ['total_emission', 'region_Africa', 'region_Americas', 'region_Asia', 'region_Europe', 'region_Oceania', 'crop_residues', 'rice_cultivation', 'drained_organic_soils_co2', 'forestland', 'net_forest_conversion', 'fires', 'manure_mgmt', 'food_systems', 'ippu_tot', 'on_farm_energy_use', 'mei']\n",
      "Feature importances: [0.         0.         0.         0.         0.41192878 0.\n",
      " 0.         0.         0.         0.         0.         0.\n",
      " 0.         0.         0.         0.         0.58807122]\n",
      "Accuracy: 0.14152700186219738\n",
      "Accuracy: 0.32774674115456237\n"
     ]
    },
    {
     "data": {
      "image/png": "[encoded data removed]",
      "text/plain": [
       "<Figure size 432x288 with 1 Axes>"
      ]
     },
     "metadata": {
      "needs_background": "light"
     },
     "output_type": "display_data"
    }
   ],
   "source": [
    "dt = DecisionTreeClassifier(criterion='entropy', max_depth=2)\n",
    "dt.fit(df3_train[features], df3_train[label])\n",
    "tree.plot_tree(dt)\n",
    "print ('Using a decision stump -- a tree with depth 1:')\n",
    "print('Features:', features)\n",
    "print ('Feature importances:', dt.feature_importances_)\n",
    "print ('Accuracy:', dt.score(df3_val[features], df3_val[label]))\n",
    "print ('Accuracy:', dt.score(df3_test[features], df3_test[label]))"
   ]
  },
  {
   "cell_type": "markdown",
   "id": "b19c7dc7-3c86-408f-ba14-b74222a67cd7",
   "metadata": {},
   "source": [
    "### Fourth experiment, removed regions"
   ]
  },
  {
   "cell_type": "code",
   "execution_count": 197,
   "id": "5fedae56-6cbb-4d93-a60b-b75d7d94655b",
   "metadata": {},
   "outputs": [
    {
     "data": {
      "text/html": [
       "<div>\n",
       "<style scoped>\n",
       "    .dataframe tbody tr th:only-of-type {\n",
       "        vertical-align: middle;\n",
       "    }\n",
       "\n",
       "    .dataframe tbody tr th {\n",
       "        vertical-align: top;\n",
       "    }\n",
       "\n",
       "    .dataframe thead th {\n",
       "        text-align: right;\n",
       "    }\n",
       "</style>\n",
       "<table border=\"1\" class=\"dataframe\">\n",
       "  <thead>\n",
       "    <tr style=\"text-align: right;\">\n",
       "      <th></th>\n",
       "      <th>average_temperature_°c_cat</th>\n",
       "      <th>total_emission</th>\n",
       "      <th>crop_residues</th>\n",
       "      <th>rice_cultivation</th>\n",
       "      <th>drained_organic_soils_co2</th>\n",
       "      <th>forestland</th>\n",
       "      <th>net_forest_conversion</th>\n",
       "      <th>fires</th>\n",
       "      <th>manure_mgmt</th>\n",
       "      <th>food_systems</th>\n",
       "      <th>ippu_tot</th>\n",
       "      <th>on_farm_energy_use</th>\n",
       "    </tr>\n",
       "  </thead>\n",
       "  <tbody>\n",
       "    <tr>\n",
       "      <th>0</th>\n",
       "      <td>1</td>\n",
       "      <td>-0.305623</td>\n",
       "      <td>-0.213514</td>\n",
       "      <td>-0.205388</td>\n",
       "      <td>-0.248996</td>\n",
       "      <td>0.214527</td>\n",
       "      <td>-0.184896</td>\n",
       "      <td>-0.166866</td>\n",
       "      <td>-0.248892</td>\n",
       "      <td>-0.252496</td>\n",
       "      <td>-0.206061</td>\n",
       "      <td>0.191216</td>\n",
       "    </tr>\n",
       "    <tr>\n",
       "      <th>1</th>\n",
       "      <td>2</td>\n",
       "      <td>-0.300144</td>\n",
       "      <td>-0.255139</td>\n",
       "      <td>-0.238919</td>\n",
       "      <td>-0.242540</td>\n",
       "      <td>0.242892</td>\n",
       "      <td>-0.184896</td>\n",
       "      <td>-0.166941</td>\n",
       "      <td>-0.304350</td>\n",
       "      <td>-0.259606</td>\n",
       "      <td>-0.197917</td>\n",
       "      <td>-0.241381</td>\n",
       "    </tr>\n",
       "    <tr>\n",
       "      <th>2</th>\n",
       "      <td>2</td>\n",
       "      <td>-0.219228</td>\n",
       "      <td>-0.225268</td>\n",
       "      <td>-0.239892</td>\n",
       "      <td>-0.248996</td>\n",
       "      <td>0.240772</td>\n",
       "      <td>-0.179044</td>\n",
       "      <td>-0.162479</td>\n",
       "      <td>-0.219602</td>\n",
       "      <td>-0.113537</td>\n",
       "      <td>-0.159908</td>\n",
       "      <td>-0.252592</td>\n",
       "    </tr>\n",
       "    <tr>\n",
       "      <th>3</th>\n",
       "      <td>1</td>\n",
       "      <td>-0.015169</td>\n",
       "      <td>-0.262785</td>\n",
       "      <td>-0.238858</td>\n",
       "      <td>-0.228766</td>\n",
       "      <td>0.242053</td>\n",
       "      <td>-0.100769</td>\n",
       "      <td>1.706541</td>\n",
       "      <td>-0.270488</td>\n",
       "      <td>-0.246282</td>\n",
       "      <td>-0.203060</td>\n",
       "      <td>-0.258101</td>\n",
       "    </tr>\n",
       "    <tr>\n",
       "      <th>4</th>\n",
       "      <td>0</td>\n",
       "      <td>0.175566</td>\n",
       "      <td>0.286965</td>\n",
       "      <td>-0.193833</td>\n",
       "      <td>0.050432</td>\n",
       "      <td>-0.220040</td>\n",
       "      <td>0.511570</td>\n",
       "      <td>-0.018155</td>\n",
       "      <td>0.998713</td>\n",
       "      <td>-0.050755</td>\n",
       "      <td>-0.132390</td>\n",
       "      <td>0.051455</td>\n",
       "    </tr>\n",
       "  </tbody>\n",
       "</table>\n",
       "</div>"
      ],
      "text/plain": [
       "   average_temperature_°c_cat  total_emission  crop_residues  \\\n",
       "0                           1       -0.305623      -0.213514   \n",
       "1                           2       -0.300144      -0.255139   \n",
       "2                           2       -0.219228      -0.225268   \n",
       "3                           1       -0.015169      -0.262785   \n",
       "4                           0        0.175566       0.286965   \n",
       "\n",
       "   rice_cultivation  drained_organic_soils_co2  forestland  \\\n",
       "0         -0.205388                  -0.248996    0.214527   \n",
       "1         -0.238919                  -0.242540    0.242892   \n",
       "2         -0.239892                  -0.248996    0.240772   \n",
       "3         -0.238858                  -0.228766    0.242053   \n",
       "4         -0.193833                   0.050432   -0.220040   \n",
       "\n",
       "   net_forest_conversion     fires  manure_mgmt  food_systems  ippu_tot  \\\n",
       "0              -0.184896 -0.166866    -0.248892     -0.252496 -0.206061   \n",
       "1              -0.184896 -0.166941    -0.304350     -0.259606 -0.197917   \n",
       "2              -0.179044 -0.162479    -0.219602     -0.113537 -0.159908   \n",
       "3              -0.100769  1.706541    -0.270488     -0.246282 -0.203060   \n",
       "4               0.511570 -0.018155     0.998713     -0.050755 -0.132390   \n",
       "\n",
       "   on_farm_energy_use  \n",
       "0            0.191216  \n",
       "1           -0.241381  \n",
       "2           -0.252592  \n",
       "3           -0.258101  \n",
       "4            0.051455  "
      ]
     },
     "execution_count": 197,
     "metadata": {},
     "output_type": "execute_result"
    }
   ],
   "source": [
    "label=['average_temperature_°c_cat']\n",
    "features=['total_emission', 'crop_residues', 'rice_cultivation', 'drained_organic_soils_co2',\n",
    "       'forestland', 'net_forest_conversion', 'fires', 'manure_mgmt',\n",
    "       'food_systems', 'ippu_tot', 'on_farm_energy_use']\n",
    "df4_train = train_tree[label+features]\n",
    "df4_val = val_tree[label+features]\n",
    "df4_test = test_tree[label+features]\n",
    "df4_train.head()"
   ]
  },
  {
   "cell_type": "code",
   "execution_count": 198,
   "id": "182fe653-90a6-49bb-9865-e55cddd7cf3f",
   "metadata": {},
   "outputs": [
    {
     "name": "stderr",
     "output_type": "stream",
     "text": [
      "/opt/anaconda3/lib/python3.9/site-packages/sklearn/utils/validation.py:623: FutureWarning: is_sparse is deprecated and will be removed in a future version. Check `isinstance(dtype, pd.SparseDtype)` instead.\n",
      "  if not hasattr(array, \"sparse\") and array.dtypes.apply(is_sparse).any():\n",
      "/opt/anaconda3/lib/python3.9/site-packages/sklearn/utils/validation.py:623: FutureWarning: is_sparse is deprecated and will be removed in a future version. Check `isinstance(dtype, pd.SparseDtype)` instead.\n",
      "  if not hasattr(array, \"sparse\") and array.dtypes.apply(is_sparse).any():\n",
      "/opt/anaconda3/lib/python3.9/site-packages/sklearn/utils/validation.py:623: FutureWarning: is_sparse is deprecated and will be removed in a future version. Check `isinstance(dtype, pd.SparseDtype)` instead.\n",
      "  if not hasattr(array, \"sparse\") and array.dtypes.apply(is_sparse).any():\n",
      "/opt/anaconda3/lib/python3.9/site-packages/sklearn/utils/validation.py:623: FutureWarning: is_sparse is deprecated and will be removed in a future version. Check `isinstance(dtype, pd.SparseDtype)` instead.\n",
      "  if not hasattr(array, \"sparse\") and array.dtypes.apply(is_sparse).any():\n"
     ]
    },
    {
     "name": "stdout",
     "output_type": "stream",
     "text": [
      "Using a decision stump -- a tree with depth 1:\n",
      "Features: ['total_emission', 'crop_residues', 'rice_cultivation', 'drained_organic_soils_co2', 'forestland', 'net_forest_conversion', 'fires', 'manure_mgmt', 'food_systems', 'ippu_tot', 'on_farm_energy_use']\n",
      "Feature importances: [0.12033756 0.         0.18647846 0.         0.04002122 0.21694338\n",
      " 0.05176681 0.15732882 0.01937968 0.         0.20774408]\n",
      "Accuracy: 0.5065176908752328\n",
      "Accuracy: 0.5046554934823091\n"
     ]
    },
    {
     "data": {
      "image/png": "[encoded data removed]",
      "text/plain": [
       "<Figure size 432x288 with 1 Axes>"
      ]
     },
     "metadata": {
      "needs_background": "light"
     },
     "output_type": "display_data"
    }
   ],
   "source": [
    "dt = DecisionTreeClassifier(criterion='entropy', max_depth=4)\n",
    "dt.fit(df4_train[features], df4_train[label])\n",
    "tree.plot_tree(dt)\n",
    "print ('Using a decision stump -- a tree with depth 1:')\n",
    "print('Features:', features)\n",
    "print ('Feature importances:', dt.feature_importances_)\n",
    "print ('Accuracy:', dt.score(df4_val[features], df4_val[label]))\n",
    "print ('Accuracy:', dt.score(df4_test[features], df4_test[label]))"
   ]
  },
  {
   "cell_type": "markdown",
   "id": "6cbd3e4d-8896-40b4-a8ba-8f097209f2c4",
   "metadata": {},
   "source": [
    "### Fifth Experiment, used regions and log features"
   ]
  },
  {
   "cell_type": "code",
   "execution_count": 188,
   "id": "4bacb20a-9746-44c4-be13-c4efa82e54e5",
   "metadata": {},
   "outputs": [
    {
     "data": {
      "text/html": [
       "<div>\n",
       "<style scoped>\n",
       "    .dataframe tbody tr th:only-of-type {\n",
       "        vertical-align: middle;\n",
       "    }\n",
       "\n",
       "    .dataframe tbody tr th {\n",
       "        vertical-align: top;\n",
       "    }\n",
       "\n",
       "    .dataframe thead th {\n",
       "        text-align: right;\n",
       "    }\n",
       "</style>\n",
       "<table border=\"1\" class=\"dataframe\">\n",
       "  <thead>\n",
       "    <tr style=\"text-align: right;\">\n",
       "      <th></th>\n",
       "      <th>average_temperature_°c_cat</th>\n",
       "      <th>total_emission</th>\n",
       "      <th>region_Africa</th>\n",
       "      <th>region_Americas</th>\n",
       "      <th>region_Asia</th>\n",
       "      <th>region_Europe</th>\n",
       "      <th>region_Oceania</th>\n",
       "      <th>log_crop_residues</th>\n",
       "      <th>log_rice_cultivation</th>\n",
       "      <th>log_drained_organic_soils_co2</th>\n",
       "      <th>log_net_forest_conversion</th>\n",
       "      <th>log_fires</th>\n",
       "      <th>log_manure_mgmt</th>\n",
       "      <th>log_food_systems</th>\n",
       "      <th>log_ippu_tot</th>\n",
       "      <th>log_on_farm_energy_use</th>\n",
       "      <th>mei</th>\n",
       "    </tr>\n",
       "  </thead>\n",
       "  <tbody>\n",
       "    <tr>\n",
       "      <th>0</th>\n",
       "      <td>1</td>\n",
       "      <td>-0.305623</td>\n",
       "      <td>0</td>\n",
       "      <td>0</td>\n",
       "      <td>1</td>\n",
       "      <td>0</td>\n",
       "      <td>0</td>\n",
       "      <td>0.422144</td>\n",
       "      <td>0.342241</td>\n",
       "      <td>-0.956054</td>\n",
       "      <td>-1.114980</td>\n",
       "      <td>-0.333673</td>\n",
       "      <td>0.297143</td>\n",
       "      <td>-0.605388</td>\n",
       "      <td>-1.707076</td>\n",
       "      <td>1.307739</td>\n",
       "      <td>0.2</td>\n",
       "    </tr>\n",
       "    <tr>\n",
       "      <th>1</th>\n",
       "      <td>2</td>\n",
       "      <td>-0.300144</td>\n",
       "      <td>0</td>\n",
       "      <td>0</td>\n",
       "      <td>0</td>\n",
       "      <td>1</td>\n",
       "      <td>0</td>\n",
       "      <td>-0.061720</td>\n",
       "      <td>-1.058319</td>\n",
       "      <td>0.257582</td>\n",
       "      <td>-1.114980</td>\n",
       "      <td>-0.376785</td>\n",
       "      <td>-0.017793</td>\n",
       "      <td>-0.986067</td>\n",
       "      <td>-0.726567</td>\n",
       "      <td>-0.064009</td>\n",
       "      <td>0.2</td>\n",
       "    </tr>\n",
       "    <tr>\n",
       "      <th>2</th>\n",
       "      <td>2</td>\n",
       "      <td>-0.219228</td>\n",
       "      <td>1</td>\n",
       "      <td>0</td>\n",
       "      <td>0</td>\n",
       "      <td>0</td>\n",
       "      <td>0</td>\n",
       "      <td>0.334521</td>\n",
       "      <td>-1.701069</td>\n",
       "      <td>-0.956054</td>\n",
       "      <td>0.374969</td>\n",
       "      <td>0.305171</td>\n",
       "      <td>0.402005</td>\n",
       "      <td>0.742244</td>\n",
       "      <td>0.240258</td>\n",
       "      <td>-0.468922</td>\n",
       "      <td>0.2</td>\n",
       "    </tr>\n",
       "    <tr>\n",
       "      <th>3</th>\n",
       "      <td>1</td>\n",
       "      <td>-0.015169</td>\n",
       "      <td>1</td>\n",
       "      <td>0</td>\n",
       "      <td>0</td>\n",
       "      <td>0</td>\n",
       "      <td>0</td>\n",
       "      <td>-0.293816</td>\n",
       "      <td>-1.038119</td>\n",
       "      <td>0.550034</td>\n",
       "      <td>0.982801</td>\n",
       "      <td>2.013043</td>\n",
       "      <td>0.199645</td>\n",
       "      <td>-0.402676</td>\n",
       "      <td>-1.159808</td>\n",
       "      <td>-1.104668</td>\n",
       "      <td>0.2</td>\n",
       "    </tr>\n",
       "    <tr>\n",
       "      <th>4</th>\n",
       "      <td>0</td>\n",
       "      <td>0.175566</td>\n",
       "      <td>0</td>\n",
       "      <td>1</td>\n",
       "      <td>0</td>\n",
       "      <td>0</td>\n",
       "      <td>0</td>\n",
       "      <td>1.306719</td>\n",
       "      <td>0.462813</td>\n",
       "      <td>1.243005</td>\n",
       "      <td>1.465005</td>\n",
       "      <td>1.285850</td>\n",
       "      <td>1.402426</td>\n",
       "      <td>0.938794</td>\n",
       "      <td>0.522173</td>\n",
       "      <td>1.148839</td>\n",
       "      <td>0.2</td>\n",
       "    </tr>\n",
       "  </tbody>\n",
       "</table>\n",
       "</div>"
      ],
      "text/plain": [
       "   average_temperature_°c_cat  total_emission  region_Africa  region_Americas  \\\n",
       "0                           1       -0.305623              0                0   \n",
       "1                           2       -0.300144              0                0   \n",
       "2                           2       -0.219228              1                0   \n",
       "3                           1       -0.015169              1                0   \n",
       "4                           0        0.175566              0                1   \n",
       "\n",
       "   region_Asia  region_Europe  region_Oceania  log_crop_residues  \\\n",
       "0            1              0               0           0.422144   \n",
       "1            0              1               0          -0.061720   \n",
       "2            0              0               0           0.334521   \n",
       "3            0              0               0          -0.293816   \n",
       "4            0              0               0           1.306719   \n",
       "\n",
       "   log_rice_cultivation  log_drained_organic_soils_co2  \\\n",
       "0              0.342241                      -0.956054   \n",
       "1             -1.058319                       0.257582   \n",
       "2             -1.701069                      -0.956054   \n",
       "3             -1.038119                       0.550034   \n",
       "4              0.462813                       1.243005   \n",
       "\n",
       "   log_net_forest_conversion  log_fires  log_manure_mgmt  log_food_systems  \\\n",
       "0                  -1.114980  -0.333673         0.297143         -0.605388   \n",
       "1                  -1.114980  -0.376785        -0.017793         -0.986067   \n",
       "2                   0.374969   0.305171         0.402005          0.742244   \n",
       "3                   0.982801   2.013043         0.199645         -0.402676   \n",
       "4                   1.465005   1.285850         1.402426          0.938794   \n",
       "\n",
       "   log_ippu_tot  log_on_farm_energy_use  mei  \n",
       "0     -1.707076                1.307739  0.2  \n",
       "1     -0.726567               -0.064009  0.2  \n",
       "2      0.240258               -0.468922  0.2  \n",
       "3     -1.159808               -1.104668  0.2  \n",
       "4      0.522173                1.148839  0.2  "
      ]
     },
     "execution_count": 188,
     "metadata": {},
     "output_type": "execute_result"
    }
   ],
   "source": [
    "label=['average_temperature_°c_cat']\n",
    "features=['total_emission', 'region_Africa', 'region_Americas',\n",
    "       'region_Asia', 'region_Europe', 'region_Oceania', 'log_crop_residues', 'log_rice_cultivation', \n",
    "       'log_drained_organic_soils_co2', 'log_net_forest_conversion', 'log_fires', 'log_manure_mgmt', \n",
    "       'log_food_systems', 'log_ippu_tot','log_on_farm_energy_use', 'mei']\n",
    "df5_train = train_tree[label+features]\n",
    "df5_val = val_tree[label+features]\n",
    "df5_test = test_tree[label+features]\n",
    "df5_train.head()"
   ]
  },
  {
   "cell_type": "code",
   "execution_count": 195,
   "id": "92498573-7ca6-4b65-a18c-308dafe10c0b",
   "metadata": {
    "tags": []
   },
   "outputs": [
    {
     "name": "stderr",
     "output_type": "stream",
     "text": [
      "/opt/anaconda3/lib/python3.9/site-packages/sklearn/utils/validation.py:623: FutureWarning: is_sparse is deprecated and will be removed in a future version. Check `isinstance(dtype, pd.SparseDtype)` instead.\n",
      "  if not hasattr(array, \"sparse\") and array.dtypes.apply(is_sparse).any():\n",
      "/opt/anaconda3/lib/python3.9/site-packages/sklearn/utils/validation.py:623: FutureWarning: is_sparse is deprecated and will be removed in a future version. Check `isinstance(dtype, pd.SparseDtype)` instead.\n",
      "  if not hasattr(array, \"sparse\") and array.dtypes.apply(is_sparse).any():\n",
      "/opt/anaconda3/lib/python3.9/site-packages/sklearn/utils/validation.py:623: FutureWarning: is_sparse is deprecated and will be removed in a future version. Check `isinstance(dtype, pd.SparseDtype)` instead.\n",
      "  if not hasattr(array, \"sparse\") and array.dtypes.apply(is_sparse).any():\n",
      "/opt/anaconda3/lib/python3.9/site-packages/sklearn/utils/validation.py:623: FutureWarning: is_sparse is deprecated and will be removed in a future version. Check `isinstance(dtype, pd.SparseDtype)` instead.\n",
      "  if not hasattr(array, \"sparse\") and array.dtypes.apply(is_sparse).any():\n"
     ]
    },
    {
     "name": "stdout",
     "output_type": "stream",
     "text": [
      "Using a decision stump -- a tree with depth 1:\n",
      "Features: ['total_emission', 'region_Africa', 'region_Americas', 'region_Asia', 'region_Europe', 'region_Oceania', 'log_crop_residues', 'log_rice_cultivation', 'log_drained_organic_soils_co2', 'log_net_forest_conversion', 'log_fires', 'log_manure_mgmt', 'log_food_systems', 'log_ippu_tot', 'log_on_farm_energy_use', 'mei']\n",
      "Feature importances: [0.00963196 0.         0.05060164 0.         0.20499212 0.\n",
      " 0.         0.02913198 0.00638131 0.082687   0.0487719  0.\n",
      " 0.03419536 0.         0.05509424 0.4785125 ]\n",
      "Accuracy: 0.23649906890130354\n",
      "Accuracy: 0.5325884543761639\n"
     ]
    },
    {
     "data": {
      "image/png": "[encoded data removed]",
      "text/plain": [
       "<Figure size 432x288 with 1 Axes>"
      ]
     },
     "metadata": {
      "needs_background": "light"
     },
     "output_type": "display_data"
    }
   ],
   "source": [
    "dt = DecisionTreeClassifier(criterion='entropy', max_depth=5)\n",
    "dt.fit(df5_train[features], df5_train[label])\n",
    "tree.plot_tree(dt)\n",
    "print ('Using a decision stump -- a tree with depth 1:')\n",
    "print('Features:', features)\n",
    "print ('Feature importances:', dt.feature_importances_)\n",
    "print ('Accuracy:', dt.score(df5_val[features], df5_val[label]))\n",
    "print ('Accuracy:', dt.score(df5_test[features], df5_test[label]))"
   ]
  },
  {
   "cell_type": "markdown",
   "id": "e685f05c-a87a-468f-aadd-92dc7ef984e9",
   "metadata": {},
   "source": [
    "### Sixth experiment, used cummulative log features and regions"
   ]
  },
  {
   "cell_type": "code",
   "execution_count": 208,
   "id": "ded45d31-1377-4fa7-b970-4a21a4833166",
   "metadata": {},
   "outputs": [
    {
     "data": {
      "text/html": [
       "<div>\n",
       "<style scoped>\n",
       "    .dataframe tbody tr th:only-of-type {\n",
       "        vertical-align: middle;\n",
       "    }\n",
       "\n",
       "    .dataframe tbody tr th {\n",
       "        vertical-align: top;\n",
       "    }\n",
       "\n",
       "    .dataframe thead th {\n",
       "        text-align: right;\n",
       "    }\n",
       "</style>\n",
       "<table border=\"1\" class=\"dataframe\">\n",
       "  <thead>\n",
       "    <tr style=\"text-align: right;\">\n",
       "      <th></th>\n",
       "      <th>average_temperature_°c_cat</th>\n",
       "      <th>region_Africa</th>\n",
       "      <th>region_Americas</th>\n",
       "      <th>region_Asia</th>\n",
       "      <th>region_Europe</th>\n",
       "      <th>region_Oceania</th>\n",
       "      <th>cum_sum_log_crop_residues</th>\n",
       "      <th>cum_sum_log_rice_cultivation</th>\n",
       "      <th>cum_sum_log_drained_organic_soils_co2</th>\n",
       "      <th>cum_sum_log_net_forest_conversion</th>\n",
       "      <th>cum_sum_log_fires</th>\n",
       "      <th>cum_sum_log_manure_mgmt</th>\n",
       "      <th>cum_sum_log_food_systems</th>\n",
       "      <th>cum_sum_log_ippu_tot</th>\n",
       "      <th>cum_sum_log_on_farm_energy_use</th>\n",
       "      <th>cum_sum_forestland</th>\n",
       "      <th>cum_sum_total_emission</th>\n",
       "      <th>mei</th>\n",
       "    </tr>\n",
       "  </thead>\n",
       "  <tbody>\n",
       "    <tr>\n",
       "      <th>0</th>\n",
       "      <td>1</td>\n",
       "      <td>0</td>\n",
       "      <td>0</td>\n",
       "      <td>1</td>\n",
       "      <td>0</td>\n",
       "      <td>0</td>\n",
       "      <td>-1.011649</td>\n",
       "      <td>-1.237445</td>\n",
       "      <td>-0.755247</td>\n",
       "      <td>-0.881832</td>\n",
       "      <td>-0.843994</td>\n",
       "      <td>-1.355164</td>\n",
       "      <td>-1.521086</td>\n",
       "      <td>-1.576384</td>\n",
       "      <td>-1.235443</td>\n",
       "      <td>0.227165</td>\n",
       "      <td>-0.289865</td>\n",
       "      <td>0.2</td>\n",
       "    </tr>\n",
       "    <tr>\n",
       "      <th>1</th>\n",
       "      <td>2</td>\n",
       "      <td>0</td>\n",
       "      <td>0</td>\n",
       "      <td>0</td>\n",
       "      <td>1</td>\n",
       "      <td>0</td>\n",
       "      <td>-1.037319</td>\n",
       "      <td>-1.299575</td>\n",
       "      <td>-0.680378</td>\n",
       "      <td>-0.881832</td>\n",
       "      <td>-0.846580</td>\n",
       "      <td>-1.367112</td>\n",
       "      <td>-1.531467</td>\n",
       "      <td>-1.551389</td>\n",
       "      <td>-1.293698</td>\n",
       "      <td>0.229297</td>\n",
       "      <td>-0.289443</td>\n",
       "      <td>0.2</td>\n",
       "    </tr>\n",
       "    <tr>\n",
       "      <th>2</th>\n",
       "      <td>2</td>\n",
       "      <td>1</td>\n",
       "      <td>0</td>\n",
       "      <td>0</td>\n",
       "      <td>0</td>\n",
       "      <td>0</td>\n",
       "      <td>-1.016298</td>\n",
       "      <td>-1.328088</td>\n",
       "      <td>-0.755247</td>\n",
       "      <td>-0.791029</td>\n",
       "      <td>-0.805673</td>\n",
       "      <td>-1.351186</td>\n",
       "      <td>-1.484337</td>\n",
       "      <td>-1.526743</td>\n",
       "      <td>-1.310894</td>\n",
       "      <td>0.229137</td>\n",
       "      <td>-0.283210</td>\n",
       "      <td>0.2</td>\n",
       "    </tr>\n",
       "    <tr>\n",
       "      <th>3</th>\n",
       "      <td>1</td>\n",
       "      <td>1</td>\n",
       "      <td>0</td>\n",
       "      <td>0</td>\n",
       "      <td>0</td>\n",
       "      <td>0</td>\n",
       "      <td>-1.049631</td>\n",
       "      <td>-1.298679</td>\n",
       "      <td>-0.662337</td>\n",
       "      <td>-0.753985</td>\n",
       "      <td>-0.703226</td>\n",
       "      <td>-1.358863</td>\n",
       "      <td>-1.515558</td>\n",
       "      <td>-1.562433</td>\n",
       "      <td>-1.337892</td>\n",
       "      <td>0.229234</td>\n",
       "      <td>-0.267490</td>\n",
       "      <td>0.2</td>\n",
       "    </tr>\n",
       "    <tr>\n",
       "      <th>4</th>\n",
       "      <td>0</td>\n",
       "      <td>0</td>\n",
       "      <td>1</td>\n",
       "      <td>0</td>\n",
       "      <td>0</td>\n",
       "      <td>0</td>\n",
       "      <td>-0.964722</td>\n",
       "      <td>-1.232097</td>\n",
       "      <td>-0.619588</td>\n",
       "      <td>-0.724598</td>\n",
       "      <td>-0.746847</td>\n",
       "      <td>-1.313234</td>\n",
       "      <td>-1.478977</td>\n",
       "      <td>-1.519556</td>\n",
       "      <td>-1.242191</td>\n",
       "      <td>0.194503</td>\n",
       "      <td>-0.252797</td>\n",
       "      <td>0.2</td>\n",
       "    </tr>\n",
       "  </tbody>\n",
       "</table>\n",
       "</div>"
      ],
      "text/plain": [
       "   average_temperature_°c_cat  region_Africa  region_Americas  region_Asia  \\\n",
       "0                           1              0                0            1   \n",
       "1                           2              0                0            0   \n",
       "2                           2              1                0            0   \n",
       "3                           1              1                0            0   \n",
       "4                           0              0                1            0   \n",
       "\n",
       "   region_Europe  region_Oceania  cum_sum_log_crop_residues  \\\n",
       "0              0               0                  -1.011649   \n",
       "1              1               0                  -1.037319   \n",
       "2              0               0                  -1.016298   \n",
       "3              0               0                  -1.049631   \n",
       "4              0               0                  -0.964722   \n",
       "\n",
       "   cum_sum_log_rice_cultivation  cum_sum_log_drained_organic_soils_co2  \\\n",
       "0                     -1.237445                              -0.755247   \n",
       "1                     -1.299575                              -0.680378   \n",
       "2                     -1.328088                              -0.755247   \n",
       "3                     -1.298679                              -0.662337   \n",
       "4                     -1.232097                              -0.619588   \n",
       "\n",
       "   cum_sum_log_net_forest_conversion  cum_sum_log_fires  \\\n",
       "0                          -0.881832          -0.843994   \n",
       "1                          -0.881832          -0.846580   \n",
       "2                          -0.791029          -0.805673   \n",
       "3                          -0.753985          -0.703226   \n",
       "4                          -0.724598          -0.746847   \n",
       "\n",
       "   cum_sum_log_manure_mgmt  cum_sum_log_food_systems  cum_sum_log_ippu_tot  \\\n",
       "0                -1.355164                 -1.521086             -1.576384   \n",
       "1                -1.367112                 -1.531467             -1.551389   \n",
       "2                -1.351186                 -1.484337             -1.526743   \n",
       "3                -1.358863                 -1.515558             -1.562433   \n",
       "4                -1.313234                 -1.478977             -1.519556   \n",
       "\n",
       "   cum_sum_log_on_farm_energy_use  cum_sum_forestland  cum_sum_total_emission  \\\n",
       "0                       -1.235443            0.227165               -0.289865   \n",
       "1                       -1.293698            0.229297               -0.289443   \n",
       "2                       -1.310894            0.229137               -0.283210   \n",
       "3                       -1.337892            0.229234               -0.267490   \n",
       "4                       -1.242191            0.194503               -0.252797   \n",
       "\n",
       "   mei  \n",
       "0  0.2  \n",
       "1  0.2  \n",
       "2  0.2  \n",
       "3  0.2  \n",
       "4  0.2  "
      ]
     },
     "execution_count": 208,
     "metadata": {},
     "output_type": "execute_result"
    }
   ],
   "source": [
    "label=['average_temperature_°c_cat']\n",
    "features=['region_Africa', 'region_Americas',\n",
    "       'region_Asia', 'region_Europe', 'region_Oceania', 'cum_sum_log_crop_residues',\n",
    "       'cum_sum_log_rice_cultivation', 'cum_sum_log_drained_organic_soils_co2',\n",
    "       'cum_sum_log_net_forest_conversion', 'cum_sum_log_fires',\n",
    "       'cum_sum_log_manure_mgmt', 'cum_sum_log_food_systems',\n",
    "       'cum_sum_log_ippu_tot', 'cum_sum_log_on_farm_energy_use',\n",
    "       'cum_sum_forestland', 'cum_sum_total_emission', 'mei']\n",
    "df6_train = train_tree[label+features]\n",
    "df6_val = val_tree[label+features]\n",
    "df6_test = test_tree[label+features]\n",
    "df6_train.head()"
   ]
  },
  {
   "cell_type": "code",
   "execution_count": 211,
   "id": "c574a63c-23b6-46e0-b8aa-7da29ec0e50d",
   "metadata": {},
   "outputs": [
    {
     "name": "stderr",
     "output_type": "stream",
     "text": [
      "/opt/anaconda3/lib/python3.9/site-packages/sklearn/utils/validation.py:623: FutureWarning: is_sparse is deprecated and will be removed in a future version. Check `isinstance(dtype, pd.SparseDtype)` instead.\n",
      "  if not hasattr(array, \"sparse\") and array.dtypes.apply(is_sparse).any():\n",
      "/opt/anaconda3/lib/python3.9/site-packages/sklearn/utils/validation.py:623: FutureWarning: is_sparse is deprecated and will be removed in a future version. Check `isinstance(dtype, pd.SparseDtype)` instead.\n",
      "  if not hasattr(array, \"sparse\") and array.dtypes.apply(is_sparse).any():\n",
      "/opt/anaconda3/lib/python3.9/site-packages/sklearn/utils/validation.py:623: FutureWarning: is_sparse is deprecated and will be removed in a future version. Check `isinstance(dtype, pd.SparseDtype)` instead.\n",
      "  if not hasattr(array, \"sparse\") and array.dtypes.apply(is_sparse).any():\n",
      "/opt/anaconda3/lib/python3.9/site-packages/sklearn/utils/validation.py:623: FutureWarning: is_sparse is deprecated and will be removed in a future version. Check `isinstance(dtype, pd.SparseDtype)` instead.\n",
      "  if not hasattr(array, \"sparse\") and array.dtypes.apply(is_sparse).any():\n"
     ]
    },
    {
     "name": "stdout",
     "output_type": "stream",
     "text": [
      "Using a decision stump -- a tree with depth 1:\n",
      "Features: ['region_Africa', 'region_Americas', 'region_Asia', 'region_Europe', 'region_Oceania', 'cum_sum_log_crop_residues', 'cum_sum_log_rice_cultivation', 'cum_sum_log_drained_organic_soils_co2', 'cum_sum_log_net_forest_conversion', 'cum_sum_log_fires', 'cum_sum_log_manure_mgmt', 'cum_sum_log_food_systems', 'cum_sum_log_ippu_tot', 'cum_sum_log_on_farm_energy_use', 'cum_sum_forestland', 'cum_sum_total_emission', 'mei']\n",
      "Feature importances: [0.         0.         0.         0.22210434 0.         0.04596551\n",
      " 0.01281267 0.         0.06848314 0.         0.01699879 0.509484\n",
      " 0.         0.         0.01715665 0.01439846 0.09259645]\n",
      "Accuracy: 0.4729981378026071\n",
      "Accuracy: 0.4748603351955307\n"
     ]
    },
    {
     "data": {
      "image/png": "[encoded data removed]",
      "text/plain": [
       "<Figure size 432x288 with 1 Axes>"
      ]
     },
     "metadata": {
      "needs_background": "light"
     },
     "output_type": "display_data"
    }
   ],
   "source": [
    "dt = DecisionTreeClassifier(criterion='entropy', max_depth=4)\n",
    "dt.fit(df6_train[features], df6_train[label])\n",
    "tree.plot_tree(dt)\n",
    "print ('Using a decision stump -- a tree with depth 1:')\n",
    "print('Features:', features)\n",
    "print ('Feature importances:', dt.feature_importances_)\n",
    "print ('Accuracy:', dt.score(df6_val[features], df6_val[label]))\n",
    "print ('Accuracy:', dt.score(df6_test[features], df6_test[label]))"
   ]
  },
  {
   "cell_type": "markdown",
   "id": "09b29928-6bed-473f-9a17-9204a8b74ece",
   "metadata": {},
   "source": [
    "### Experiment 7, used cummulative log features and no regions"
   ]
  },
  {
   "cell_type": "code",
   "execution_count": 54,
   "id": "43efaac8-ece8-4f7e-9c81-46064d04a136",
   "metadata": {},
   "outputs": [
    {
     "data": {
      "text/html": [
       "<div>\n",
       "<style scoped>\n",
       "    .dataframe tbody tr th:only-of-type {\n",
       "        vertical-align: middle;\n",
       "    }\n",
       "\n",
       "    .dataframe tbody tr th {\n",
       "        vertical-align: top;\n",
       "    }\n",
       "\n",
       "    .dataframe thead th {\n",
       "        text-align: right;\n",
       "    }\n",
       "</style>\n",
       "<table border=\"1\" class=\"dataframe\">\n",
       "  <thead>\n",
       "    <tr style=\"text-align: right;\">\n",
       "      <th></th>\n",
       "      <th>average_temperature_°c_cat</th>\n",
       "      <th>cum_sum_log_crop_residues</th>\n",
       "      <th>cum_sum_log_rice_cultivation</th>\n",
       "      <th>cum_sum_log_drained_organic_soils_co2</th>\n",
       "      <th>cum_sum_log_net_forest_conversion</th>\n",
       "      <th>cum_sum_log_fires</th>\n",
       "      <th>cum_sum_log_manure_mgmt</th>\n",
       "      <th>cum_sum_log_food_systems</th>\n",
       "      <th>cum_sum_log_ippu_tot</th>\n",
       "      <th>cum_sum_log_on_farm_energy_use</th>\n",
       "      <th>cum_sum_forestland</th>\n",
       "      <th>cum_sum_total_emission</th>\n",
       "      <th>mei</th>\n",
       "    </tr>\n",
       "  </thead>\n",
       "  <tbody>\n",
       "    <tr>\n",
       "      <th>0</th>\n",
       "      <td>1</td>\n",
       "      <td>-1.011649</td>\n",
       "      <td>-1.237445</td>\n",
       "      <td>-0.755247</td>\n",
       "      <td>-0.881832</td>\n",
       "      <td>-0.843994</td>\n",
       "      <td>-1.355164</td>\n",
       "      <td>-1.521086</td>\n",
       "      <td>-1.576384</td>\n",
       "      <td>-1.235443</td>\n",
       "      <td>0.227165</td>\n",
       "      <td>-0.289865</td>\n",
       "      <td>0.2</td>\n",
       "    </tr>\n",
       "    <tr>\n",
       "      <th>1</th>\n",
       "      <td>2</td>\n",
       "      <td>-1.037319</td>\n",
       "      <td>-1.299575</td>\n",
       "      <td>-0.680378</td>\n",
       "      <td>-0.881832</td>\n",
       "      <td>-0.846580</td>\n",
       "      <td>-1.367112</td>\n",
       "      <td>-1.531467</td>\n",
       "      <td>-1.551389</td>\n",
       "      <td>-1.293698</td>\n",
       "      <td>0.229297</td>\n",
       "      <td>-0.289443</td>\n",
       "      <td>0.2</td>\n",
       "    </tr>\n",
       "    <tr>\n",
       "      <th>2</th>\n",
       "      <td>2</td>\n",
       "      <td>-1.016298</td>\n",
       "      <td>-1.328088</td>\n",
       "      <td>-0.755247</td>\n",
       "      <td>-0.791029</td>\n",
       "      <td>-0.805673</td>\n",
       "      <td>-1.351186</td>\n",
       "      <td>-1.484337</td>\n",
       "      <td>-1.526743</td>\n",
       "      <td>-1.310894</td>\n",
       "      <td>0.229137</td>\n",
       "      <td>-0.283210</td>\n",
       "      <td>0.2</td>\n",
       "    </tr>\n",
       "    <tr>\n",
       "      <th>3</th>\n",
       "      <td>1</td>\n",
       "      <td>-1.049631</td>\n",
       "      <td>-1.298679</td>\n",
       "      <td>-0.662337</td>\n",
       "      <td>-0.753985</td>\n",
       "      <td>-0.703226</td>\n",
       "      <td>-1.358863</td>\n",
       "      <td>-1.515558</td>\n",
       "      <td>-1.562433</td>\n",
       "      <td>-1.337892</td>\n",
       "      <td>0.229234</td>\n",
       "      <td>-0.267490</td>\n",
       "      <td>0.2</td>\n",
       "    </tr>\n",
       "    <tr>\n",
       "      <th>4</th>\n",
       "      <td>0</td>\n",
       "      <td>-0.964722</td>\n",
       "      <td>-1.232097</td>\n",
       "      <td>-0.619588</td>\n",
       "      <td>-0.724598</td>\n",
       "      <td>-0.746847</td>\n",
       "      <td>-1.313234</td>\n",
       "      <td>-1.478977</td>\n",
       "      <td>-1.519556</td>\n",
       "      <td>-1.242191</td>\n",
       "      <td>0.194503</td>\n",
       "      <td>-0.252797</td>\n",
       "      <td>0.2</td>\n",
       "    </tr>\n",
       "  </tbody>\n",
       "</table>\n",
       "</div>"
      ],
      "text/plain": [
       "   average_temperature_°c_cat  cum_sum_log_crop_residues  \\\n",
       "0                           1                  -1.011649   \n",
       "1                           2                  -1.037319   \n",
       "2                           2                  -1.016298   \n",
       "3                           1                  -1.049631   \n",
       "4                           0                  -0.964722   \n",
       "\n",
       "   cum_sum_log_rice_cultivation  cum_sum_log_drained_organic_soils_co2  \\\n",
       "0                     -1.237445                              -0.755247   \n",
       "1                     -1.299575                              -0.680378   \n",
       "2                     -1.328088                              -0.755247   \n",
       "3                     -1.298679                              -0.662337   \n",
       "4                     -1.232097                              -0.619588   \n",
       "\n",
       "   cum_sum_log_net_forest_conversion  cum_sum_log_fires  \\\n",
       "0                          -0.881832          -0.843994   \n",
       "1                          -0.881832          -0.846580   \n",
       "2                          -0.791029          -0.805673   \n",
       "3                          -0.753985          -0.703226   \n",
       "4                          -0.724598          -0.746847   \n",
       "\n",
       "   cum_sum_log_manure_mgmt  cum_sum_log_food_systems  cum_sum_log_ippu_tot  \\\n",
       "0                -1.355164                 -1.521086             -1.576384   \n",
       "1                -1.367112                 -1.531467             -1.551389   \n",
       "2                -1.351186                 -1.484337             -1.526743   \n",
       "3                -1.358863                 -1.515558             -1.562433   \n",
       "4                -1.313234                 -1.478977             -1.519556   \n",
       "\n",
       "   cum_sum_log_on_farm_energy_use  cum_sum_forestland  cum_sum_total_emission  \\\n",
       "0                       -1.235443            0.227165               -0.289865   \n",
       "1                       -1.293698            0.229297               -0.289443   \n",
       "2                       -1.310894            0.229137               -0.283210   \n",
       "3                       -1.337892            0.229234               -0.267490   \n",
       "4                       -1.242191            0.194503               -0.252797   \n",
       "\n",
       "   mei  \n",
       "0  0.2  \n",
       "1  0.2  \n",
       "2  0.2  \n",
       "3  0.2  \n",
       "4  0.2  "
      ]
     },
     "execution_count": 54,
     "metadata": {},
     "output_type": "execute_result"
    }
   ],
   "source": [
    "label=['average_temperature_°c_cat']\n",
    "features=['cum_sum_log_crop_residues',\n",
    "       'cum_sum_log_rice_cultivation', 'cum_sum_log_drained_organic_soils_co2',\n",
    "       'cum_sum_log_net_forest_conversion', 'cum_sum_log_fires',\n",
    "       'cum_sum_log_manure_mgmt', 'cum_sum_log_food_systems',\n",
    "       'cum_sum_log_ippu_tot', 'cum_sum_log_on_farm_energy_use',\n",
    "       'cum_sum_forestland', 'cum_sum_total_emission', 'mei']\n",
    "df7_train = train_tree[label+features]\n",
    "df7_val = val_tree[label+features]\n",
    "df7_test = test_tree[label+features]\n",
    "df7_train.head()"
   ]
  },
  {
   "cell_type": "code",
   "execution_count": 33,
   "id": "6a0ba2ff-c309-4a77-951a-a0133753a3e6",
   "metadata": {},
   "outputs": [
    {
     "name": "stderr",
     "output_type": "stream",
     "text": [
      "/opt/anaconda3/lib/python3.9/site-packages/sklearn/utils/validation.py:623: FutureWarning: is_sparse is deprecated and will be removed in a future version. Check `isinstance(dtype, pd.SparseDtype)` instead.\n",
      "  if not hasattr(array, \"sparse\") and array.dtypes.apply(is_sparse).any():\n",
      "/opt/anaconda3/lib/python3.9/site-packages/sklearn/utils/validation.py:623: FutureWarning: is_sparse is deprecated and will be removed in a future version. Check `isinstance(dtype, pd.SparseDtype)` instead.\n",
      "  if not hasattr(array, \"sparse\") and array.dtypes.apply(is_sparse).any():\n",
      "/opt/anaconda3/lib/python3.9/site-packages/sklearn/utils/validation.py:623: FutureWarning: is_sparse is deprecated and will be removed in a future version. Check `isinstance(dtype, pd.SparseDtype)` instead.\n",
      "  if not hasattr(array, \"sparse\") and array.dtypes.apply(is_sparse).any():\n",
      "/opt/anaconda3/lib/python3.9/site-packages/sklearn/utils/validation.py:623: FutureWarning: is_sparse is deprecated and will be removed in a future version. Check `isinstance(dtype, pd.SparseDtype)` instead.\n",
      "  if not hasattr(array, \"sparse\") and array.dtypes.apply(is_sparse).any():\n"
     ]
    },
    {
     "name": "stdout",
     "output_type": "stream",
     "text": [
      "Using a decision stump -- a tree with depth 1:\n",
      "Features: ['cum_sum_log_crop_residues', 'cum_sum_log_rice_cultivation', 'cum_sum_log_drained_organic_soils_co2', 'cum_sum_log_net_forest_conversion', 'cum_sum_log_fires', 'cum_sum_log_manure_mgmt', 'cum_sum_log_food_systems', 'cum_sum_log_ippu_tot', 'cum_sum_log_on_farm_energy_use', 'cum_sum_forestland', 'cum_sum_total_emission', 'mei']\n",
      "Feature importances: [0.04865795 0.02881795 0.         0.03390245 0.1062054  0.01245901\n",
      " 0.47391298 0.01413334 0.05402712 0.06734626 0.05289292 0.10764462]\n",
      "Accuracy: 0.40409683426443205\n",
      "Accuracy: 0.3929236499068901\n"
     ]
    },
    {
     "data": {
      "image/png": "[encoded data removed]",
      "text/plain": [
       "<Figure size 432x288 with 1 Axes>"
      ]
     },
     "metadata": {
      "needs_background": "light"
     },
     "output_type": "display_data"
    }
   ],
   "source": [
    "dt = DecisionTreeClassifier(criterion='entropy', max_depth=5)\n",
    "dt.fit(df7_train[features], df7_train[label])\n",
    "tree.plot_tree(dt)\n",
    "print ('Using a decision stump -- a tree with depth 1:')\n",
    "print('Features:', features)\n",
    "print ('Feature importances:', dt.feature_importances_)\n",
    "print ('Accuracy:', dt.score(df7_val[features], df7_val[label]))\n",
    "print ('Accuracy:', dt.score(df7_test[features], df7_test[label]))"
   ]
  },
  {
   "cell_type": "markdown",
   "id": "211200a5-88f7-471c-8695-7e12f0d78474",
   "metadata": {},
   "source": [
    "## Random Forest Exploration\n",
    "Finally, I did a Random Forest classifier experiment using the seventh df setup. At this point I felt like a classification approach was not appropriate for this problem. Faye was simulatenously trying regression trees, and we decided to use those in our final presentation."
   ]
  },
  {
   "cell_type": "code",
   "execution_count": 63,
   "id": "73b906ac-2214-48de-8262-9da8dc867f4c",
   "metadata": {},
   "outputs": [
    {
     "name": "stderr",
     "output_type": "stream",
     "text": [
      "/opt/anaconda3/lib/python3.9/site-packages/sklearn/utils/validation.py:623: FutureWarning: is_sparse is deprecated and will be removed in a future version. Check `isinstance(dtype, pd.SparseDtype)` instead.\n",
      "  if not hasattr(array, \"sparse\") and array.dtypes.apply(is_sparse).any():\n",
      "/opt/anaconda3/lib/python3.9/site-packages/sklearn/utils/validation.py:623: FutureWarning: is_sparse is deprecated and will be removed in a future version. Check `isinstance(dtype, pd.SparseDtype)` instead.\n",
      "  if not hasattr(array, \"sparse\") and array.dtypes.apply(is_sparse).any():\n",
      "/var/folders/2q/hvnrfg496ddghgwg8w5s363w0000gn/T/ipykernel_89051/4280717829.py:2: DataConversionWarning: A column-vector y was passed when a 1d array was expected. Please change the shape of y to (n_samples,), for example using ravel().\n",
      "  dt.fit(df7_train[features], df7_train[label])\n"
     ]
    },
    {
     "name": "stdout",
     "output_type": "stream",
     "text": [
      "Using a decision stump -- a tree with depth 1:\n",
      "Features: ['cum_sum_log_crop_residues', 'cum_sum_log_rice_cultivation', 'cum_sum_log_drained_organic_soils_co2', 'cum_sum_log_net_forest_conversion', 'cum_sum_log_fires', 'cum_sum_log_manure_mgmt', 'cum_sum_log_food_systems', 'cum_sum_log_ippu_tot', 'cum_sum_log_on_farm_energy_use', 'cum_sum_forestland', 'cum_sum_total_emission', 'mei']\n",
      "Feature importances: [0.08787146 0.0909569  0.05148138 0.07067307 0.0865832  0.09027598\n",
      " 0.10276095 0.09115255 0.09657367 0.07760018 0.08821089 0.06585977]\n",
      "Accuracy: 0.5344506517690876\n",
      "Accuracy: 0.5121042830540037\n"
     ]
    },
    {
     "name": "stderr",
     "output_type": "stream",
     "text": [
      "/opt/anaconda3/lib/python3.9/site-packages/sklearn/utils/validation.py:623: FutureWarning: is_sparse is deprecated and will be removed in a future version. Check `isinstance(dtype, pd.SparseDtype)` instead.\n",
      "  if not hasattr(array, \"sparse\") and array.dtypes.apply(is_sparse).any():\n",
      "/opt/anaconda3/lib/python3.9/site-packages/sklearn/utils/validation.py:623: FutureWarning: is_sparse is deprecated and will be removed in a future version. Check `isinstance(dtype, pd.SparseDtype)` instead.\n",
      "  if not hasattr(array, \"sparse\") and array.dtypes.apply(is_sparse).any():\n"
     ]
    }
   ],
   "source": [
    "dt = RandomForestClassifier(criterion='gini')\n",
    "dt.fit(df7_train[features], df7_train[label])\n",
    "\n",
    "print ('Using a decision stump -- a tree with depth 1:')\n",
    "print('Features:', features)\n",
    "print ('Feature importances:', dt.feature_importances_)\n",
    "print ('Accuracy:', dt.score(df7_val[features], df7_val[label]))\n",
    "print ('Accuracy:', dt.score(df7_test[features], df7_test[label]))"
   ]
  },
  {
   "cell_type": "code",
   "execution_count": null,
   "id": "fa0817e9-49d9-4416-8da9-846b3ef41155",
   "metadata": {},
   "outputs": [],
   "source": []
  }
 ],
 "metadata": {
  "kernelspec": {
   "display_name": "Python 3 (ipykernel)",
   "language": "python",
   "name": "python3"
  },
  "language_info": {
   "codemirror_mode": {
    "name": "ipython",
    "version": 3
   },
   "file_extension": ".py",
   "mimetype": "text/x-python",
   "name": "python",
   "nbconvert_exporter": "python",
   "pygments_lexer": "ipython3",
   "version": "3.9.12"
  }
 },
 "nbformat": 4,
 "nbformat_minor": 5
}
