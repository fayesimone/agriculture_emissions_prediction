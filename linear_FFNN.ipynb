{
 "cells": [
  {
   "cell_type": "code",
   "execution_count": 6,
   "id": "9670f005",
   "metadata": {},
   "outputs": [],
   "source": [
    "## Imports"
   ]
  },
  {
   "cell_type": "code",
   "execution_count": 38,
   "id": "37c80096",
   "metadata": {},
   "outputs": [],
   "source": [
    "import pandas as pd\n",
    "import numpy as np\n",
    "\n",
    "# data preprocessing\n",
    "from sklearn import preprocessing\n",
    "from sklearn.preprocessing import StandardScaler\n",
    "\n",
    "# exploratory analysis\n",
    "import matplotlib.pyplot as plt\n",
    "#import mlxtend\n",
    "#from mlxtend.plotting import scatterplotmatrix\n",
    "#from mlxtend.plotting import heatmap\n",
    "import seaborn as sns\n",
    "from IPython.display import Image\n",
    "\n",
    "# model fit\n",
    "#import statsmodels.api as sm\n",
    "import tensorflow as tf\n",
    "from tensorflow.keras.layers import Dense, LSTM, Bidirectional, Dropout\n",
    "from sklearn.tree import DecisionTreeRegressor\n",
    "from sklearn.ensemble import RandomForestRegressor\n",
    "from sklearn.ensemble import ExtraTreesRegressor\n",
    "from sklearn.metrics import mean_absolute_error as mae\n",
    "from sklearn.metrics import mean_squared_error as mse\n",
    "from sklearn.model_selection import train_test_split\n",
    "from sklearn.preprocessing import StandardScaler, OneHotEncoder\n",
    "from sklearn.compose import ColumnTransformer\n",
    "from sklearn.pipeline import Pipeline\n",
    "from sklearn.impute import SimpleImputer\n",
    "\n",
    "# ignore warnings (libraries are rapidly changing)\n",
    "import warnings\n",
    "warnings.filterwarnings('ignore')"
   ]
  },
  {
   "cell_type": "code",
   "execution_count": 39,
   "id": "070b2014",
   "metadata": {},
   "outputs": [
    {
     "name": "stdout",
     "output_type": "stream",
     "text": [
      "(4681, 47)\n",
      "(4681, 1)\n",
      "(570, 47)\n",
      "(570, 1)\n",
      "(570, 47)\n",
      "(570, 1)\n"
     ]
    }
   ],
   "source": [
    "import pandas as pd\n",
    "from sklearn.model_selection import train_test_split\n",
    "from sklearn.preprocessing import StandardScaler, OneHotEncoder\n",
    "\n",
    "train = pd.read_csv('train_data.csv')\n",
    "val = pd.read_csv('val_data.csv')\n",
    "test = pd.read_csv('test_data.csv')\n",
    "\n",
    "x_train = train.drop(['average_temperature_°c'], axis=1)\n",
    "x_val = val.drop(['average_temperature_°c'], axis=1)\n",
    "x_test = test.drop(['average_temperature_°c'], axis=1)\n",
    "\n",
    "Y_train = pd.DataFrame(train['average_temperature_°c'])\n",
    "Y_val = pd.DataFrame(val['average_temperature_°c'])\n",
    "Y_test = pd.DataFrame(test['average_temperature_°c'])\n",
    "\n",
    "print(x_train.shape)\n",
    "print(Y_train.shape)\n",
    "\n",
    "print(x_val.shape)\n",
    "print(Y_val.shape)\n",
    "\n",
    "print(x_test.shape)\n",
    "print(Y_test.shape)"
   ]
  },
  {
   "cell_type": "markdown",
   "id": "0948cac8",
   "metadata": {},
   "source": [
    "# ________________________________________________________________"
   ]
  },
  {
   "cell_type": "markdown",
   "id": "49681d57",
   "metadata": {},
   "source": [
    "# Baseline linear regression model using Stochastic Gradient Descent (SGD) + Sequential"
   ]
  },
  {
   "cell_type": "code",
   "execution_count": 21,
   "id": "cde3d737",
   "metadata": {},
   "outputs": [],
   "source": [
    "feature = 'total_emission'\n",
    "\n",
    "scaler = StandardScaler()\n",
    "x_train_scaled = scaler.fit_transform(x_train[[feature]])\n",
    "x_val_scaled = scaler.transform(x_val[[feature]])\n",
    "x_test_scaled = scaler.transform(x_test[[feature]])"
   ]
  },
  {
   "cell_type": "code",
   "execution_count": 32,
   "id": "24daf251",
   "metadata": {},
   "outputs": [],
   "source": [
    "def build_linear_regression_model():\n",
    "    tf.keras.backend.clear_session()\n",
    "    tf.random.set_seed(0)\n",
    "    \n",
    "    model = tf.keras.Sequential([\n",
    "        tf.keras.layers.Dense(units=1, \n",
    "                              input_shape=[1])\n",
    "    ])\n",
    "\n",
    "    optimizer = tf.keras.optimizers.SGD(learning_rate=0.01)\n",
    "    model.compile(optimizer=optimizer, \n",
    "                  loss='mean_absolute_error', \n",
    "                  metrics=[tf.keras.metrics.RootMeanSquaredError()])\n",
    "    return model\n",
    "\n",
    "model_linear_regression = build_linear_regression_model()"
   ]
  },
  {
   "cell_type": "code",
   "execution_count": 33,
   "id": "90f3fca1",
   "metadata": {},
   "outputs": [
    {
     "name": "stdout",
     "output_type": "stream",
     "text": [
      "Epoch 1/10\n",
      "147/147 [==============================] - 0s 1ms/step - loss: 0.6695 - root_mean_squared_error: 1.3470 - val_loss: 0.9610 - val_root_mean_squared_error: 1.7254\n",
      "Epoch 2/10\n",
      "147/147 [==============================] - 0s 693us/step - loss: 0.5465 - root_mean_squared_error: 1.0162 - val_loss: 0.8180 - val_root_mean_squared_error: 1.3014\n",
      "Epoch 3/10\n",
      "147/147 [==============================] - 0s 641us/step - loss: 0.4750 - root_mean_squared_error: 0.7632 - val_loss: 0.7311 - val_root_mean_squared_error: 0.9797\n",
      "Epoch 4/10\n",
      "147/147 [==============================] - 0s 661us/step - loss: 0.4204 - root_mean_squared_error: 0.5835 - val_loss: 0.6633 - val_root_mean_squared_error: 0.7826\n",
      "Epoch 5/10\n",
      "147/147 [==============================] - 0s 676us/step - loss: 0.3900 - root_mean_squared_error: 0.5112 - val_loss: 0.6458 - val_root_mean_squared_error: 0.7444\n",
      "Epoch 6/10\n",
      "147/147 [==============================] - 0s 710us/step - loss: 0.3852 - root_mean_squared_error: 0.5057 - val_loss: 0.6452 - val_root_mean_squared_error: 0.7444\n",
      "Epoch 7/10\n",
      "147/147 [==============================] - 0s 660us/step - loss: 0.3851 - root_mean_squared_error: 0.5061 - val_loss: 0.6463 - val_root_mean_squared_error: 0.7449\n",
      "Epoch 8/10\n",
      "147/147 [==============================] - 0s 764us/step - loss: 0.3850 - root_mean_squared_error: 0.5058 - val_loss: 0.6438 - val_root_mean_squared_error: 0.7437\n",
      "Epoch 9/10\n",
      "147/147 [==============================] - 0s 679us/step - loss: 0.3852 - root_mean_squared_error: 0.5059 - val_loss: 0.6468 - val_root_mean_squared_error: 0.7460\n",
      "Epoch 10/10\n",
      "147/147 [==============================] - 0s 689us/step - loss: 0.3851 - root_mean_squared_error: 0.5057 - val_loss: 0.6524 - val_root_mean_squared_error: 0.7511\n"
     ]
    }
   ],
   "source": [
    "history = model_linear_regression.fit(x_train_scaled, Y_train, epochs=10, validation_data=(x_val_scaled, Y_val))"
   ]
  },
  {
   "cell_type": "code",
   "execution_count": 34,
   "id": "45908119",
   "metadata": {},
   "outputs": [
    {
     "name": "stdout",
     "output_type": "stream",
     "text": [
      "18/18 [==============================] - 0s 644us/step - loss: 0.7584 - root_mean_squared_error: 0.9266\n",
      "Test Loss: 0.7583654522895813, Test RMSE: 0.9265739917755127\n"
     ]
    }
   ],
   "source": [
    "test_loss, test_rmse = model_linear_regression.evaluate(x_test_scaled, Y_test)\n",
    "print(f\"Test Loss: {test_loss}, Test RMSE: {test_rmse}\")"
   ]
  },
  {
   "cell_type": "code",
   "execution_count": 35,
   "id": "64b54f5f",
   "metadata": {},
   "outputs": [],
   "source": [
    "def show_history(history):\n",
    "    plt.figure(figsize=(10, 4))\n",
    "\n",
    "    plt.subplot(1, 2, 1)\n",
    "    plt.plot(history.history['loss'], label='Train Loss', color='black')\n",
    "    plt.plot(history.history['val_loss'], label='Validation Loss', color='red')\n",
    "    plt.title('Loss Over Epochs')\n",
    "    plt.xlabel('Epoch')\n",
    "    plt.ylabel('Loss')\n",
    "    plt.legend()\n",
    "\n",
    "    plt.subplot(1, 2, 2)\n",
    "    plt.plot(history.history['root_mean_squared_error'], label='Train RMSE', color='black')\n",
    "    plt.plot(history.history['val_root_mean_squared_error'], label='Validation RMSE', color='red')\n",
    "    plt.title('RMSE Over Epochs')\n",
    "    plt.xlabel('Epoch')\n",
    "    plt.ylabel('RMSE')\n",
    "    plt.legend()\n",
    "\n",
    "    plt.show()\n",
    "\n",
    "    # Printing final values for loss and RMSE\n",
    "    print('final train mae: {:.3f}'.format(history.history['loss'][-1]))\n",
    "    print('final val mae:   {:.3f}'.format(history.history['val_loss'][-1]))\n",
    "    print('final train rmse: {:.3f}'.format(history.history['root_mean_squared_error'][-1]))\n",
    "    print('final val rmse: {:.3f}'.format(history.history['val_root_mean_squared_error'][-1]))"
   ]
  },
  {
   "cell_type": "code",
   "execution_count": 36,
   "id": "f6d89d05",
   "metadata": {},
   "outputs": [
    {
     "data": {
      "image/png": "[encoded data removed]",
      "text/plain": [
       "<Figure size 1000x400 with 2 Axes>"
      ]
     },
     "metadata": {},
     "output_type": "display_data"
    },
    {
     "name": "stdout",
     "output_type": "stream",
     "text": [
      "final train mae: 0.385\n",
      "final val mae:   0.652\n",
      "final train rmse: 0.506\n",
      "final val rmse: 0.751\n",
      "Model: \"sequential\"\n",
      "_________________________________________________________________\n",
      " Layer (type)                Output Shape              Param #   \n",
      "=================================================================\n",
      " dense (Dense)               (None, 1)                 2         \n",
      "                                                                 \n",
      "=================================================================\n",
      "Total params: 2\n",
      "Trainable params: 2\n",
      "Non-trainable params: 0\n",
      "_________________________________________________________________\n"
     ]
    }
   ],
   "source": [
    "show_history(history)\n",
    "model_linear_regression.summary()"
   ]
  },
  {
   "cell_type": "markdown",
   "id": "be505f7e",
   "metadata": {},
   "source": [
    "# Notes on this model: \n",
    "\n",
    "- MAE and RMSE are lower for the training set than for the validation set - model might be overfitting? \n",
    "- performance drops on the validation set/ low generalizibility to new data "
   ]
  },
  {
   "cell_type": "markdown",
   "id": "bd44b325",
   "metadata": {},
   "source": [
    "# ________________________________________________________________"
   ]
  },
  {
   "cell_type": "markdown",
   "id": "05fad9a0",
   "metadata": {},
   "source": [
    "# linear regression model using one-hot encoding, Adam optimizer, two dense layers with 64 neurons each and ReLU activation + output layer with a single neuron\n",
    "\n",
    "- For numerical data- Fills missing values with the mean and scales data \n",
    "- For categorical data-  Fills missing values with the most frequent category and one-hot encoding\n",
    "- column transformer: Combines the two pipelines into a single preprocessing step. Applies the appropriate preprocessing to each column based on whether it's numerical or categorical"
   ]
  },
  {
   "cell_type": "code",
   "execution_count": 40,
   "id": "7208eb06",
   "metadata": {},
   "outputs": [],
   "source": [
    "numerical_features = x_train.select_dtypes(include=['int64', 'float64']).columns\n",
    "categorical_features = x_train.select_dtypes(include=['object']).columns\n",
    "\n",
    "# Preprocessing for numerical data\n",
    "numerical_transformer = Pipeline(steps=[\n",
    "    ('imputer', SimpleImputer(strategy='mean')),\n",
    "    ('scaler', StandardScaler())])\n",
    "\n",
    "# Preprocessing for categorical data\n",
    "categorical_transformer = Pipeline(steps=[\n",
    "    ('imputer', SimpleImputer(strategy='most_frequent')),\n",
    "    ('onehot', OneHotEncoder(handle_unknown='ignore'))])\n",
    "\n",
    "# Bundle preprocessing for numerical and categorical data\n",
    "preprocessor = ColumnTransformer(\n",
    "    transformers=[\n",
    "        ('num', numerical_transformer, numerical_features),\n",
    "        ('cat', categorical_transformer, categorical_features)])\n",
    "\n",
    "# Preprocess the data\n",
    "x_train_prepared = preprocessor.fit_transform(x_train)\n",
    "x_val_prepared = preprocessor.transform(x_val)\n",
    "x_test_prepared = preprocessor.transform(x_test)"
   ]
  },
  {
   "cell_type": "code",
   "execution_count": 46,
   "id": "d3c74283",
   "metadata": {},
   "outputs": [],
   "source": [
    "def build_advanced_model(input_shape):\n",
    "    tf.keras.backend.clear_session()\n",
    "    tf.random.set_seed(0)\n",
    "    model = tf.keras.Sequential([\n",
    "        tf.keras.layers.Dense(64, activation='relu', input_shape=[input_shape]),\n",
    "        tf.keras.layers.Dense(64, activation='relu'),\n",
    "        tf.keras.layers.Dense(1)\n",
    "    ])\n",
    "\n",
    "    model.compile(optimizer='adam',\n",
    "                  loss='mean_absolute_error',\n",
    "                  metrics=[tf.keras.metrics.RootMeanSquaredError()])\n",
    "\n",
    "    return model"
   ]
  },
  {
   "cell_type": "code",
   "execution_count": 47,
   "id": "0ef96704",
   "metadata": {},
   "outputs": [
    {
     "name": "stdout",
     "output_type": "stream",
     "text": [
      "Epoch 1/10\n",
      "147/147 [==============================] - 1s 2ms/step - loss: 0.3613 - root_mean_squared_error: 0.4900 - val_loss: 0.3646 - val_root_mean_squared_error: 0.4985\n",
      "Epoch 2/10\n",
      "147/147 [==============================] - 0s 1ms/step - loss: 0.2903 - root_mean_squared_error: 0.4017 - val_loss: 0.3224 - val_root_mean_squared_error: 0.4100\n",
      "Epoch 3/10\n",
      "147/147 [==============================] - 0s 1ms/step - loss: 0.2769 - root_mean_squared_error: 0.3870 - val_loss: 0.3130 - val_root_mean_squared_error: 0.3974\n",
      "Epoch 4/10\n",
      "147/147 [==============================] - 0s 1ms/step - loss: 0.2648 - root_mean_squared_error: 0.3755 - val_loss: 0.3311 - val_root_mean_squared_error: 0.4126\n",
      "Epoch 5/10\n",
      "147/147 [==============================] - 0s 1ms/step - loss: 0.2597 - root_mean_squared_error: 0.3703 - val_loss: 0.3083 - val_root_mean_squared_error: 0.3867\n",
      "Epoch 6/10\n",
      "147/147 [==============================] - 0s 1ms/step - loss: 0.2536 - root_mean_squared_error: 0.3635 - val_loss: 0.3283 - val_root_mean_squared_error: 0.4047\n",
      "Epoch 7/10\n",
      "147/147 [==============================] - 0s 1ms/step - loss: 0.2522 - root_mean_squared_error: 0.3634 - val_loss: 0.3124 - val_root_mean_squared_error: 0.3918\n",
      "Epoch 8/10\n",
      "147/147 [==============================] - 0s 1ms/step - loss: 0.2483 - root_mean_squared_error: 0.3585 - val_loss: 0.3061 - val_root_mean_squared_error: 0.3840\n",
      "Epoch 9/10\n",
      "147/147 [==============================] - 0s 1ms/step - loss: 0.2455 - root_mean_squared_error: 0.3562 - val_loss: 0.3138 - val_root_mean_squared_error: 0.3957\n",
      "Epoch 10/10\n",
      "147/147 [==============================] - 0s 1ms/step - loss: 0.2425 - root_mean_squared_error: 0.3543 - val_loss: 0.3508 - val_root_mean_squared_error: 0.4294\n",
      "18/18 [==============================] - 0s 814us/step - loss: 0.4837 - root_mean_squared_error: 0.5884\n",
      "Test Loss: 0.4837421476840973, Test RMSE: 0.5883916020393372\n"
     ]
    }
   ],
   "source": [
    "input_shape = x_train_prepared.shape[1]\n",
    "\n",
    "model = build_advanced_model(input_shape)\n",
    "\n",
    "y_train_np = Y_train.to_numpy()\n",
    "y_val_np = Y_val.to_numpy()\n",
    "y_test_np = Y_test.to_numpy()\n",
    "\n",
    "history = model.fit(x_train_prepared, y_train_np, epochs=10, validation_data=(x_val_prepared, y_val_np))\n",
    "\n",
    "# Evaluate the model on the test set\n",
    "test_loss, test_rmse = model.evaluate(x_test_prepared, y_test_np)\n",
    "print(f'Test Loss: {test_loss}, Test RMSE: {test_rmse}')"
   ]
  },
  {
   "cell_type": "markdown",
   "id": "50c682a1",
   "metadata": {},
   "source": [
    "# Notes on the model\n",
    "\n",
    "- more accurate on the training set than on the validation set = better than baseline\n",
    "- still some possible overfitting due to both MAE and RMSE are higher for val set"
   ]
  },
  {
   "cell_type": "markdown",
   "id": "fff274db",
   "metadata": {},
   "source": [
    "# ________________________________________________________________"
   ]
  },
  {
   "cell_type": "markdown",
   "id": "24f99198",
   "metadata": {},
   "source": [
    "# Feed-Forward Neural Network (FFNN) with one hidden layer and embeddings "
   ]
  },
  {
   "cell_type": "code",
   "execution_count": 67,
   "id": "12e042d0",
   "metadata": {},
   "outputs": [],
   "source": [
    "categorical_features = ['sub-region', 'area'] \n",
    "\n",
    "for feature in categorical_features:\n",
    "    x_train[feature], uniques = pd.factorize(x_train[feature])\n",
    "    x_val[feature] = uniques.get_indexer(x_val[feature])\n",
    "    x_test[feature] = uniques.get_indexer(x_test[feature])\n",
    "    \n",
    "for column in x_train.columns:\n",
    "    if x_train[column].dtype == 'object':\n",
    "        x_train[column], _ = pd.factorize(x_train[column])\n",
    "        x_val[column] = uniques.get_indexer(x_val[column])\n",
    "        x_test[column] = uniques.get_indexer(x_test[column])"
   ]
  },
  {
   "cell_type": "code",
   "execution_count": 53,
   "id": "64b8a605",
   "metadata": {},
   "outputs": [],
   "source": [
    "scaler = StandardScaler()\n",
    "x_train_scaled = scaler.fit_transform(x_train)\n",
    "x_val_scaled = scaler.transform(x_val)\n",
    "x_test_scaled = scaler.transform(x_test)"
   ]
  },
  {
   "cell_type": "code",
   "execution_count": 54,
   "id": "b0859c65",
   "metadata": {},
   "outputs": [
    {
     "name": "stdout",
     "output_type": "stream",
     "text": [
      "Model: \"model\"\n",
      "__________________________________________________________________________________________________\n",
      " Layer (type)                   Output Shape         Param #     Connected to                     \n",
      "==================================================================================================\n",
      " input_2 (InputLayer)           [(None, 1)]          0           []                               \n",
      "                                                                                                  \n",
      " input_3 (InputLayer)           [(None, 1)]          0           []                               \n",
      "                                                                                                  \n",
      " embedding (Embedding)          (None, 1, 10)        170         ['input_2[0][0]']                \n",
      "                                                                                                  \n",
      " embedding_1 (Embedding)        (None, 1, 10)        1900        ['input_3[0][0]']                \n",
      "                                                                                                  \n",
      " input_1 (InputLayer)           [(None, 45)]         0           []                               \n",
      "                                                                                                  \n",
      " flatten (Flatten)              (None, 10)           0           ['embedding[0][0]']              \n",
      "                                                                                                  \n",
      " flatten_1 (Flatten)            (None, 10)           0           ['embedding_1[0][0]']            \n",
      "                                                                                                  \n",
      " concatenate (Concatenate)      (None, 65)           0           ['input_1[0][0]',                \n",
      "                                                                  'flatten[0][0]',                \n",
      "                                                                  'flatten_1[0][0]']              \n",
      "                                                                                                  \n",
      " dense_3 (Dense)                (None, 128)          8448        ['concatenate[0][0]']            \n",
      "                                                                                                  \n",
      " dense_4 (Dense)                (None, 1)            129         ['dense_3[0][0]']                \n",
      "                                                                                                  \n",
      "==================================================================================================\n",
      "Total params: 10,647\n",
      "Trainable params: 10,647\n",
      "Non-trainable params: 0\n",
      "__________________________________________________________________________________________________\n"
     ]
    }
   ],
   "source": [
    "import tensorflow as tf\n",
    "from tensorflow.keras.layers import Input, Dense, Embedding, Flatten, concatenate\n",
    "from tensorflow.keras.models import Model\n",
    "\n",
    "# Define input layers\n",
    "numerical_input = Input(shape=(len(numerical_features),))\n",
    "sub_region_input = Input(shape=(1,))\n",
    "area_input = Input(shape=(1,))\n",
    "\n",
    "# Embedding layers\n",
    "sub_region_embedding = Embedding(input_dim=x_train['sub-region'].nunique(), output_dim=10)(sub_region_input)\n",
    "area_embedding = Embedding(input_dim=x_train['area'].nunique(), output_dim=10)(area_input)\n",
    "sub_region_flat = Flatten()(sub_region_embedding)\n",
    "area_flat = Flatten()(area_embedding)\n",
    "\n",
    "# Concatenate all inputs\n",
    "concat_inputs = concatenate([numerical_input, sub_region_flat, area_flat])\n",
    "\n",
    "# Hidden layer\n",
    "hidden = Dense(128, activation='relu')(concat_inputs)\n",
    "\n",
    "# Output layer\n",
    "output = Dense(1)(hidden)\n",
    "\n",
    "# Create and compile model\n",
    "model = Model(inputs=[numerical_input, sub_region_input, area_input], outputs=output)\n",
    "model.compile(optimizer='adam', loss='mean_squared_error')\n",
    "\n",
    "# Model summary\n",
    "model.summary()"
   ]
  },
  {
   "cell_type": "code",
   "execution_count": 55,
   "id": "9f0ab2c3",
   "metadata": {},
   "outputs": [],
   "source": [
    "initial_learning_rate = 0.01\n",
    "lr_schedule = tf.keras.optimizers.schedules.ExponentialDecay(\n",
    "    initial_learning_rate,\n",
    "    decay_steps=10000,\n",
    "    decay_rate=0.9)\n",
    "optimizer = tf.keras.optimizers.Adam(learning_rate=lr_schedule)\n",
    "model.compile(optimizer=optimizer, loss='mean_squared_error')"
   ]
  },
  {
   "cell_type": "code",
   "execution_count": 66,
   "id": "27b5775a",
   "metadata": {},
   "outputs": [
    {
     "name": "stdout",
     "output_type": "stream",
     "text": [
      "Epoch 1/10\n",
      "147/147 [==============================] - 0s 1ms/step - loss: 0.1512 - val_loss: 0.1682\n",
      "Epoch 2/10\n",
      "147/147 [==============================] - 0s 902us/step - loss: 0.1454 - val_loss: 0.1643\n",
      "Epoch 3/10\n",
      "147/147 [==============================] - 0s 908us/step - loss: 0.1477 - val_loss: 0.1272\n",
      "Epoch 4/10\n",
      "147/147 [==============================] - 0s 881us/step - loss: 0.1483 - val_loss: 0.1812\n",
      "Epoch 5/10\n",
      "147/147 [==============================] - 0s 887us/step - loss: 0.1484 - val_loss: 0.1052\n",
      "Epoch 6/10\n",
      "147/147 [==============================] - 0s 854us/step - loss: 0.1509 - val_loss: 0.1701\n",
      "Epoch 7/10\n",
      "147/147 [==============================] - 0s 912us/step - loss: 0.1488 - val_loss: 0.0929\n",
      "Epoch 8/10\n",
      "147/147 [==============================] - 0s 941us/step - loss: 0.1437 - val_loss: 0.1517\n",
      "Epoch 9/10\n",
      "147/147 [==============================] - 0s 927us/step - loss: 0.1470 - val_loss: 0.1332\n",
      "Epoch 10/10\n",
      "147/147 [==============================] - 0s 921us/step - loss: 0.1528 - val_loss: 0.1631\n"
     ]
    }
   ],
   "source": [
    "train_data = [x_train[numerical_features], x_train['sub-region'], x_train['area']]\n",
    "val_data = [x_val[numerical_features], x_val['sub-region'], x_val['area']]\n",
    "\n",
    "history = model.fit(train_data, Y_train, epochs=10, validation_data=(val_data, Y_val))"
   ]
  },
  {
   "cell_type": "code",
   "execution_count": 62,
   "id": "ecf50936",
   "metadata": {},
   "outputs": [
    {
     "name": "stdout",
     "output_type": "stream",
     "text": [
      "18/18 [==============================] - 0s 621us/step - loss: 0.2429\n",
      "Test Loss: 0.24293681979179382\n"
     ]
    }
   ],
   "source": [
    "test_data = [x_test[numerical_features], x_test['sub-region'], x_test['area']]\n",
    "test_loss = model.evaluate(test_data, Y_test)\n",
    "print(f\"Test Loss: {test_loss}\")"
   ]
  },
  {
   "cell_type": "code",
   "execution_count": 65,
   "id": "2ccd9583",
   "metadata": {},
   "outputs": [
    {
     "data": {
      "image/png": "[encoded data removed]",
      "text/plain": [
       "<Figure size 1000x400 with 1 Axes>"
      ]
     },
     "metadata": {},
     "output_type": "display_data"
    },
    {
     "name": "stdout",
     "output_type": "stream",
     "text": [
      "final train MSE: 0.154\n",
      "final val MSE:   0.139\n",
      "Model: \"model\"\n",
      "__________________________________________________________________________________________________\n",
      " Layer (type)                   Output Shape         Param #     Connected to                     \n",
      "==================================================================================================\n",
      " input_2 (InputLayer)           [(None, 1)]          0           []                               \n",
      "                                                                                                  \n",
      " input_3 (InputLayer)           [(None, 1)]          0           []                               \n",
      "                                                                                                  \n",
      " embedding (Embedding)          (None, 1, 10)        170         ['input_2[0][0]']                \n",
      "                                                                                                  \n",
      " embedding_1 (Embedding)        (None, 1, 10)        1900        ['input_3[0][0]']                \n",
      "                                                                                                  \n",
      " input_1 (InputLayer)           [(None, 45)]         0           []                               \n",
      "                                                                                                  \n",
      " flatten (Flatten)              (None, 10)           0           ['embedding[0][0]']              \n",
      "                                                                                                  \n",
      " flatten_1 (Flatten)            (None, 10)           0           ['embedding_1[0][0]']            \n",
      "                                                                                                  \n",
      " concatenate (Concatenate)      (None, 65)           0           ['input_1[0][0]',                \n",
      "                                                                  'flatten[0][0]',                \n",
      "                                                                  'flatten_1[0][0]']              \n",
      "                                                                                                  \n",
      " dense_3 (Dense)                (None, 128)          8448        ['concatenate[0][0]']            \n",
      "                                                                                                  \n",
      " dense_4 (Dense)                (None, 1)            129         ['dense_3[0][0]']                \n",
      "                                                                                                  \n",
      "==================================================================================================\n",
      "Total params: 10,647\n",
      "Trainable params: 10,647\n",
      "Non-trainable params: 0\n",
      "__________________________________________________________________________________________________\n"
     ]
    }
   ],
   "source": [
    "def show_history(history):\n",
    "    plt.figure(figsize=(10, 4))\n",
    "\n",
    "    plt.subplot(1, 2, 1)\n",
    "    plt.plot(history.history['loss'], label='Train Loss', color='black')\n",
    "    plt.plot(history.history['val_loss'], label='Validation Loss', color='red')\n",
    "    plt.title('MSE Loss Over Epochs')\n",
    "    plt.xlabel('Epoch')\n",
    "    plt.ylabel('MSE Loss')\n",
    "    plt.legend()\n",
    "    \n",
    "    plt.show()\n",
    "\n",
    "    print('final train MSE: {:.3f}'.format(history.history['loss'][-1]))\n",
    "    print('final val MSE:   {:.3f}'.format(history.history['val_loss'][-1]))\n",
    "\n",
    "\n",
    "show_history(history)\n",
    "model.summary()"
   ]
  },
  {
   "cell_type": "markdown",
   "id": "1f56830c",
   "metadata": {},
   "source": [
    "# Notes again \n",
    "\n",
    "- model is not overfitting the training data (good!)\n",
    "- Both MSE values are relatively low- model is performing well "
   ]
  },
  {
   "cell_type": "code",
   "execution_count": null,
   "id": "268c026e",
   "metadata": {},
   "outputs": [],
   "source": []
  }
 ],
 "metadata": {
  "kernelspec": {
   "display_name": "myenv",
   "language": "python",
   "name": "myenv"
  },
  "language_info": {
   "codemirror_mode": {
    "name": "ipython",
    "version": 3
   },
   "file_extension": ".py",
   "mimetype": "text/x-python",
   "name": "python",
   "nbconvert_exporter": "python",
   "pygments_lexer": "ipython3",
   "version": "3.8.18"
  }
 },
 "nbformat": 4,
 "nbformat_minor": 5
}
